{
  "nbformat": 4,
  "nbformat_minor": 0,
  "metadata": {
    "colab": {
      "provenance": [],
      "toc_visible": true
    },
    "kernelspec": {
      "name": "python3",
      "display_name": "Python 3"
    },
    "language_info": {
      "name": "python"
    },
    "gpuClass": "standard",
    "accelerator": "GPU"
  },
  "cells": [
    {
      "cell_type": "markdown",
      "source": [
        "Name: Aurellia Vieryn<br>\n",
        "NIM: 2440066626\n",
        "\n",
        "## UAS: Deep Learning - Case 2: Sentiment Analysis\n",
        "\n",
        "Case Number 2 is a case that asks us to do sentiment analysis. Sentiment analysis is one of the techniques of NLP (Natural Language Processing). Here, we want to determine the sentiment (Positive, Negative, and Neutral) based on the text data. <br> <br>\n",
        "\n",
        "**Model that will be used:**<br>\n",
        "For this case of sentiment analysis, the model we will develop is Deep Belief Network. Deep Belief Network (DBN) is a class of Deep Neural Network, but they are not the same model. DBN is a model that consists of several layers of stochastic latent variables. Supervised DBN uses RBM (Restricted Boltzmann Machine) for pre-training, and then ANN (Artificial Neural Network) as FFNN (Feed Forward Neural Network) for fine tuning.\n",
        "\n",
        "### Importing Dataset\n",
        "\n",
        "The dataset is a list of reviews of an app or a website, which has a lot of columns in there. But, since we only want to perform sentiment analysis, we will just take two columns, the X and the Y. The X (independent variable) being the text data, and the Y (target variable) being the sentiment categories. <br><br>\n",
        "\n",
        "First, we will upload the dataset to the Colab files manually. "
      ],
      "metadata": {
        "id": "ZywyiPckg3PT"
      }
    },
    {
      "cell_type": "code",
      "source": [
        "from google.colab import files\n",
        " \n",
        "uploaded = files.upload()"
      ],
      "metadata": {
        "colab": {
          "base_uri": "https://localhost:8080/",
          "height": 72
        },
        "id": "UWdLKVIPR5qX",
        "outputId": "e6a13e97-30ab-4371-bc54-1146136e4c85"
      },
      "execution_count": 1,
      "outputs": [
        {
          "output_type": "display_data",
          "data": {
            "text/plain": [
              "<IPython.core.display.HTML object>"
            ],
            "text/html": [
              "\n",
              "     <input type=\"file\" id=\"files-f703e7ef-be69-4613-820c-dd9052055c07\" name=\"files[]\" multiple disabled\n",
              "        style=\"border:none\" />\n",
              "     <output id=\"result-f703e7ef-be69-4613-820c-dd9052055c07\">\n",
              "      Upload widget is only available when the cell has been executed in the\n",
              "      current browser session. Please rerun this cell to enable.\n",
              "      </output>\n",
              "      <script>// Copyright 2017 Google LLC\n",
              "//\n",
              "// Licensed under the Apache License, Version 2.0 (the \"License\");\n",
              "// you may not use this file except in compliance with the License.\n",
              "// You may obtain a copy of the License at\n",
              "//\n",
              "//      http://www.apache.org/licenses/LICENSE-2.0\n",
              "//\n",
              "// Unless required by applicable law or agreed to in writing, software\n",
              "// distributed under the License is distributed on an \"AS IS\" BASIS,\n",
              "// WITHOUT WARRANTIES OR CONDITIONS OF ANY KIND, either express or implied.\n",
              "// See the License for the specific language governing permissions and\n",
              "// limitations under the License.\n",
              "\n",
              "/**\n",
              " * @fileoverview Helpers for google.colab Python module.\n",
              " */\n",
              "(function(scope) {\n",
              "function span(text, styleAttributes = {}) {\n",
              "  const element = document.createElement('span');\n",
              "  element.textContent = text;\n",
              "  for (const key of Object.keys(styleAttributes)) {\n",
              "    element.style[key] = styleAttributes[key];\n",
              "  }\n",
              "  return element;\n",
              "}\n",
              "\n",
              "// Max number of bytes which will be uploaded at a time.\n",
              "const MAX_PAYLOAD_SIZE = 100 * 1024;\n",
              "\n",
              "function _uploadFiles(inputId, outputId) {\n",
              "  const steps = uploadFilesStep(inputId, outputId);\n",
              "  const outputElement = document.getElementById(outputId);\n",
              "  // Cache steps on the outputElement to make it available for the next call\n",
              "  // to uploadFilesContinue from Python.\n",
              "  outputElement.steps = steps;\n",
              "\n",
              "  return _uploadFilesContinue(outputId);\n",
              "}\n",
              "\n",
              "// This is roughly an async generator (not supported in the browser yet),\n",
              "// where there are multiple asynchronous steps and the Python side is going\n",
              "// to poll for completion of each step.\n",
              "// This uses a Promise to block the python side on completion of each step,\n",
              "// then passes the result of the previous step as the input to the next step.\n",
              "function _uploadFilesContinue(outputId) {\n",
              "  const outputElement = document.getElementById(outputId);\n",
              "  const steps = outputElement.steps;\n",
              "\n",
              "  const next = steps.next(outputElement.lastPromiseValue);\n",
              "  return Promise.resolve(next.value.promise).then((value) => {\n",
              "    // Cache the last promise value to make it available to the next\n",
              "    // step of the generator.\n",
              "    outputElement.lastPromiseValue = value;\n",
              "    return next.value.response;\n",
              "  });\n",
              "}\n",
              "\n",
              "/**\n",
              " * Generator function which is called between each async step of the upload\n",
              " * process.\n",
              " * @param {string} inputId Element ID of the input file picker element.\n",
              " * @param {string} outputId Element ID of the output display.\n",
              " * @return {!Iterable<!Object>} Iterable of next steps.\n",
              " */\n",
              "function* uploadFilesStep(inputId, outputId) {\n",
              "  const inputElement = document.getElementById(inputId);\n",
              "  inputElement.disabled = false;\n",
              "\n",
              "  const outputElement = document.getElementById(outputId);\n",
              "  outputElement.innerHTML = '';\n",
              "\n",
              "  const pickedPromise = new Promise((resolve) => {\n",
              "    inputElement.addEventListener('change', (e) => {\n",
              "      resolve(e.target.files);\n",
              "    });\n",
              "  });\n",
              "\n",
              "  const cancel = document.createElement('button');\n",
              "  inputElement.parentElement.appendChild(cancel);\n",
              "  cancel.textContent = 'Cancel upload';\n",
              "  const cancelPromise = new Promise((resolve) => {\n",
              "    cancel.onclick = () => {\n",
              "      resolve(null);\n",
              "    };\n",
              "  });\n",
              "\n",
              "  // Wait for the user to pick the files.\n",
              "  const files = yield {\n",
              "    promise: Promise.race([pickedPromise, cancelPromise]),\n",
              "    response: {\n",
              "      action: 'starting',\n",
              "    }\n",
              "  };\n",
              "\n",
              "  cancel.remove();\n",
              "\n",
              "  // Disable the input element since further picks are not allowed.\n",
              "  inputElement.disabled = true;\n",
              "\n",
              "  if (!files) {\n",
              "    return {\n",
              "      response: {\n",
              "        action: 'complete',\n",
              "      }\n",
              "    };\n",
              "  }\n",
              "\n",
              "  for (const file of files) {\n",
              "    const li = document.createElement('li');\n",
              "    li.append(span(file.name, {fontWeight: 'bold'}));\n",
              "    li.append(span(\n",
              "        `(${file.type || 'n/a'}) - ${file.size} bytes, ` +\n",
              "        `last modified: ${\n",
              "            file.lastModifiedDate ? file.lastModifiedDate.toLocaleDateString() :\n",
              "                                    'n/a'} - `));\n",
              "    const percent = span('0% done');\n",
              "    li.appendChild(percent);\n",
              "\n",
              "    outputElement.appendChild(li);\n",
              "\n",
              "    const fileDataPromise = new Promise((resolve) => {\n",
              "      const reader = new FileReader();\n",
              "      reader.onload = (e) => {\n",
              "        resolve(e.target.result);\n",
              "      };\n",
              "      reader.readAsArrayBuffer(file);\n",
              "    });\n",
              "    // Wait for the data to be ready.\n",
              "    let fileData = yield {\n",
              "      promise: fileDataPromise,\n",
              "      response: {\n",
              "        action: 'continue',\n",
              "      }\n",
              "    };\n",
              "\n",
              "    // Use a chunked sending to avoid message size limits. See b/62115660.\n",
              "    let position = 0;\n",
              "    do {\n",
              "      const length = Math.min(fileData.byteLength - position, MAX_PAYLOAD_SIZE);\n",
              "      const chunk = new Uint8Array(fileData, position, length);\n",
              "      position += length;\n",
              "\n",
              "      const base64 = btoa(String.fromCharCode.apply(null, chunk));\n",
              "      yield {\n",
              "        response: {\n",
              "          action: 'append',\n",
              "          file: file.name,\n",
              "          data: base64,\n",
              "        },\n",
              "      };\n",
              "\n",
              "      let percentDone = fileData.byteLength === 0 ?\n",
              "          100 :\n",
              "          Math.round((position / fileData.byteLength) * 100);\n",
              "      percent.textContent = `${percentDone}% done`;\n",
              "\n",
              "    } while (position < fileData.byteLength);\n",
              "  }\n",
              "\n",
              "  // All done.\n",
              "  yield {\n",
              "    response: {\n",
              "      action: 'complete',\n",
              "    }\n",
              "  };\n",
              "}\n",
              "\n",
              "scope.google = scope.google || {};\n",
              "scope.google.colab = scope.google.colab || {};\n",
              "scope.google.colab._files = {\n",
              "  _uploadFiles,\n",
              "  _uploadFilesContinue,\n",
              "};\n",
              "})(self);\n",
              "</script> "
            ]
          },
          "metadata": {}
        },
        {
          "output_type": "stream",
          "name": "stdout",
          "text": [
            "Saving dataset.csv to dataset.csv\n"
          ]
        }
      ]
    },
    {
      "cell_type": "markdown",
      "source": [
        "We will also take the Deep Belief Network code from a GitHub repository, so we will clone the link we want to use."
      ],
      "metadata": {
        "id": "JWCVVVG9Ip30"
      }
    },
    {
      "cell_type": "code",
      "source": [
        "! git clone https://github.com/albertbup/deep-belief-network.git"
      ],
      "metadata": {
        "colab": {
          "base_uri": "https://localhost:8080/"
        },
        "id": "5mf9kCujZ1R0",
        "outputId": "4eaf7b48-1947-43b3-b60d-39652ea49d99"
      },
      "execution_count": 2,
      "outputs": [
        {
          "output_type": "stream",
          "name": "stdout",
          "text": [
            "Cloning into 'deep-belief-network'...\n",
            "remote: Enumerating objects: 798, done.\u001b[K\n",
            "remote: Counting objects: 100% (35/35), done.\u001b[K\n",
            "remote: Compressing objects: 100% (26/26), done.\u001b[K\n",
            "remote: Total 798 (delta 13), reused 20 (delta 9), pack-reused 763\u001b[K\n",
            "Receiving objects: 100% (798/798), 183.45 KiB | 10.19 MiB/s, done.\n",
            "Resolving deltas: 100% (459/459), done.\n"
          ]
        }
      ]
    },
    {
      "cell_type": "markdown",
      "source": [
        "Set the default path to `deep-belief-network` path for easier access to the DBN later."
      ],
      "metadata": {
        "id": "iQdyCUWXI2eY"
      }
    },
    {
      "cell_type": "code",
      "source": [
        "%cd deep-belief-network"
      ],
      "metadata": {
        "colab": {
          "base_uri": "https://localhost:8080/"
        },
        "id": "iX4yVdJpcJ--",
        "outputId": "820f6b4d-f91c-4c35-b9aa-c7032e5cdf6f"
      },
      "execution_count": 3,
      "outputs": [
        {
          "output_type": "stream",
          "name": "stdout",
          "text": [
            "/content/deep-belief-network\n"
          ]
        }
      ]
    },
    {
      "cell_type": "markdown",
      "source": [
        "### Importing Libraries\n",
        "\n",
        "Here are the collection of libraries we want to use to preprocess our dataset and just processing our data in general."
      ],
      "metadata": {
        "id": "Zcz0Id6XJGfQ"
      }
    },
    {
      "cell_type": "code",
      "source": [
        "import pandas as pd \n",
        "import numpy as np\n",
        "import re\n",
        "import collections\n",
        "import matplotlib.pyplot as plt\n",
        "from sklearn.model_selection import train_test_split\n",
        "from nltk.corpus import stopwords\n",
        "from keras.preprocessing.text import Tokenizer\n",
        "from keras.utils.np_utils import to_categorical\n",
        "from sklearn.preprocessing import LabelEncoder"
      ],
      "metadata": {
        "id": "cO19kPUih26R"
      },
      "execution_count": 4,
      "outputs": []
    },
    {
      "cell_type": "markdown",
      "source": [
        "### Getting the Data\n",
        "\n",
        "Since our dataset is in csv format, we will use pandas to make the dataset to a numpy array. We will only take the first 15000 rows, because if we decided to use all of it (around 45k rows), the RAM won't be enough and the session can't run anymore. Also, we will only take the columns `content` (text data) and `sentiment` for this sentiment analysis."
      ],
      "metadata": {
        "id": "sXrVMjC7hx5G"
      }
    },
    {
      "cell_type": "code",
      "source": [
        "df = pd.read_csv('/content/dataset.csv', sep=',', nrows=15000)\n",
        "df = df.reindex(np.random.permutation(df.index))  \n",
        "df = df[['content', 'sentiment']]\n",
        "df.head()"
      ],
      "metadata": {
        "colab": {
          "base_uri": "https://localhost:8080/",
          "height": 206
        },
        "id": "tWri7PZlSHKr",
        "outputId": "3bd051af-27c0-40a8-b4eb-17b5859035fe"
      },
      "execution_count": 5,
      "outputs": [
        {
          "output_type": "execute_result",
          "data": {
            "text/plain": [
              "                                                 content sentiment\n",
              "6252   some of the articles are pretty insightful. a ...  POSITIVE\n",
              "3261   i like this app, great work. i like the presen...  POSITIVE\n",
              "12063  wow, it's the best. well described contents, v...  POSITIVE\n",
              "11755                                               good  POSITIVE\n",
              "6454        i can't login to my id.... why ? fix this...  NEGATIVE"
            ],
            "text/html": [
              "\n",
              "  <div id=\"df-6582b728-5169-4c6a-bf18-715480bfd4ac\">\n",
              "    <div class=\"colab-df-container\">\n",
              "      <div>\n",
              "<style scoped>\n",
              "    .dataframe tbody tr th:only-of-type {\n",
              "        vertical-align: middle;\n",
              "    }\n",
              "\n",
              "    .dataframe tbody tr th {\n",
              "        vertical-align: top;\n",
              "    }\n",
              "\n",
              "    .dataframe thead th {\n",
              "        text-align: right;\n",
              "    }\n",
              "</style>\n",
              "<table border=\"1\" class=\"dataframe\">\n",
              "  <thead>\n",
              "    <tr style=\"text-align: right;\">\n",
              "      <th></th>\n",
              "      <th>content</th>\n",
              "      <th>sentiment</th>\n",
              "    </tr>\n",
              "  </thead>\n",
              "  <tbody>\n",
              "    <tr>\n",
              "      <th>6252</th>\n",
              "      <td>some of the articles are pretty insightful. a ...</td>\n",
              "      <td>POSITIVE</td>\n",
              "    </tr>\n",
              "    <tr>\n",
              "      <th>3261</th>\n",
              "      <td>i like this app, great work. i like the presen...</td>\n",
              "      <td>POSITIVE</td>\n",
              "    </tr>\n",
              "    <tr>\n",
              "      <th>12063</th>\n",
              "      <td>wow, it's the best. well described contents, v...</td>\n",
              "      <td>POSITIVE</td>\n",
              "    </tr>\n",
              "    <tr>\n",
              "      <th>11755</th>\n",
              "      <td>good</td>\n",
              "      <td>POSITIVE</td>\n",
              "    </tr>\n",
              "    <tr>\n",
              "      <th>6454</th>\n",
              "      <td>i can't login to my id.... why ? fix this...</td>\n",
              "      <td>NEGATIVE</td>\n",
              "    </tr>\n",
              "  </tbody>\n",
              "</table>\n",
              "</div>\n",
              "      <button class=\"colab-df-convert\" onclick=\"convertToInteractive('df-6582b728-5169-4c6a-bf18-715480bfd4ac')\"\n",
              "              title=\"Convert this dataframe to an interactive table.\"\n",
              "              style=\"display:none;\">\n",
              "        \n",
              "  <svg xmlns=\"http://www.w3.org/2000/svg\" height=\"24px\"viewBox=\"0 0 24 24\"\n",
              "       width=\"24px\">\n",
              "    <path d=\"M0 0h24v24H0V0z\" fill=\"none\"/>\n",
              "    <path d=\"M18.56 5.44l.94 2.06.94-2.06 2.06-.94-2.06-.94-.94-2.06-.94 2.06-2.06.94zm-11 1L8.5 8.5l.94-2.06 2.06-.94-2.06-.94L8.5 2.5l-.94 2.06-2.06.94zm10 10l.94 2.06.94-2.06 2.06-.94-2.06-.94-.94-2.06-.94 2.06-2.06.94z\"/><path d=\"M17.41 7.96l-1.37-1.37c-.4-.4-.92-.59-1.43-.59-.52 0-1.04.2-1.43.59L10.3 9.45l-7.72 7.72c-.78.78-.78 2.05 0 2.83L4 21.41c.39.39.9.59 1.41.59.51 0 1.02-.2 1.41-.59l7.78-7.78 2.81-2.81c.8-.78.8-2.07 0-2.86zM5.41 20L4 18.59l7.72-7.72 1.47 1.35L5.41 20z\"/>\n",
              "  </svg>\n",
              "      </button>\n",
              "      \n",
              "  <style>\n",
              "    .colab-df-container {\n",
              "      display:flex;\n",
              "      flex-wrap:wrap;\n",
              "      gap: 12px;\n",
              "    }\n",
              "\n",
              "    .colab-df-convert {\n",
              "      background-color: #E8F0FE;\n",
              "      border: none;\n",
              "      border-radius: 50%;\n",
              "      cursor: pointer;\n",
              "      display: none;\n",
              "      fill: #1967D2;\n",
              "      height: 32px;\n",
              "      padding: 0 0 0 0;\n",
              "      width: 32px;\n",
              "    }\n",
              "\n",
              "    .colab-df-convert:hover {\n",
              "      background-color: #E2EBFA;\n",
              "      box-shadow: 0px 1px 2px rgba(60, 64, 67, 0.3), 0px 1px 3px 1px rgba(60, 64, 67, 0.15);\n",
              "      fill: #174EA6;\n",
              "    }\n",
              "\n",
              "    [theme=dark] .colab-df-convert {\n",
              "      background-color: #3B4455;\n",
              "      fill: #D2E3FC;\n",
              "    }\n",
              "\n",
              "    [theme=dark] .colab-df-convert:hover {\n",
              "      background-color: #434B5C;\n",
              "      box-shadow: 0px 1px 3px 1px rgba(0, 0, 0, 0.15);\n",
              "      filter: drop-shadow(0px 1px 2px rgba(0, 0, 0, 0.3));\n",
              "      fill: #FFFFFF;\n",
              "    }\n",
              "  </style>\n",
              "\n",
              "      <script>\n",
              "        const buttonEl =\n",
              "          document.querySelector('#df-6582b728-5169-4c6a-bf18-715480bfd4ac button.colab-df-convert');\n",
              "        buttonEl.style.display =\n",
              "          google.colab.kernel.accessAllowed ? 'block' : 'none';\n",
              "\n",
              "        async function convertToInteractive(key) {\n",
              "          const element = document.querySelector('#df-6582b728-5169-4c6a-bf18-715480bfd4ac');\n",
              "          const dataTable =\n",
              "            await google.colab.kernel.invokeFunction('convertToInteractive',\n",
              "                                                     [key], {});\n",
              "          if (!dataTable) return;\n",
              "\n",
              "          const docLinkHtml = 'Like what you see? Visit the ' +\n",
              "            '<a target=\"_blank\" href=https://colab.research.google.com/notebooks/data_table.ipynb>data table notebook</a>'\n",
              "            + ' to learn more about interactive tables.';\n",
              "          element.innerHTML = '';\n",
              "          dataTable['output_type'] = 'display_data';\n",
              "          await google.colab.output.renderOutput(dataTable, element);\n",
              "          const docLink = document.createElement('div');\n",
              "          docLink.innerHTML = docLinkHtml;\n",
              "          element.appendChild(docLink);\n",
              "        }\n",
              "      </script>\n",
              "    </div>\n",
              "  </div>\n",
              "  "
            ]
          },
          "metadata": {},
          "execution_count": 5
        }
      ]
    },
    {
      "cell_type": "markdown",
      "source": [
        "### Data Preprocessing\n",
        "\n",
        "There are a lot of NLP concepts that we can do to process text data. The first thing we want to do in the preprocessing step is the data cleaning. \n"
      ],
      "metadata": {
        "id": "jExifMEHKoce"
      }
    },
    {
      "cell_type": "markdown",
      "source": [
        "#### Data Cleaning\n",
        "Here, the data cleaning that we want to do is removing stopwords. Stopwords are words that are used a lot by people, but it doesn't make any sense according to formal languages, or words that very common (like conjunctions, pronouns, etc.). In short, they are not important for sentiment analysis process because it doesn't give any value, so we need to filter them out.<br><br>\n",
        "\n",
        "The package that we want to use for removing stopwords is the NLTK package. NLTK package consists of pre-defined stopwords."
      ],
      "metadata": {
        "id": "3FDCMDvQOIHc"
      }
    },
    {
      "cell_type": "code",
      "source": [
        "import nltk\n",
        "nltk.download('stopwords')"
      ],
      "metadata": {
        "colab": {
          "base_uri": "https://localhost:8080/"
        },
        "id": "1j5S8zhhiwDx",
        "outputId": "6050323e-8d0e-4e09-e732-973d627be164"
      },
      "execution_count": 6,
      "outputs": [
        {
          "output_type": "stream",
          "name": "stderr",
          "text": [
            "[nltk_data] Downloading package stopwords to /root/nltk_data...\n",
            "[nltk_data]   Unzipping corpora/stopwords.zip.\n"
          ]
        },
        {
          "output_type": "execute_result",
          "data": {
            "text/plain": [
              "True"
            ]
          },
          "metadata": {},
          "execution_count": 6
        }
      ]
    },
    {
      "cell_type": "markdown",
      "source": [
        "We will define a function to remove the stopwords. It works like scanning the words one by one (split text first), and if the word is not in the stopwords list or in the whitelist, then it is considered to be a clean word. These clean words then will be joined together again."
      ],
      "metadata": {
        "id": "CM5E5XW_MmiY"
      }
    },
    {
      "cell_type": "code",
      "source": [
        "def remove_stopwords(input_text):\n",
        "        stopwords_list = stopwords.words('english')\n",
        "        whitelist = [\"n't\", \"not\", \"no\"]\n",
        "        words = input_text.split() \n",
        "        clean_words = [word for word in words if (word not in stopwords_list or word in whitelist) and len(word) > 1] \n",
        "        return \" \".join(clean_words)"
      ],
      "metadata": {
        "id": "BQzt-oVoiTpV"
      },
      "execution_count": 7,
      "outputs": []
    },
    {
      "cell_type": "markdown",
      "source": [
        "We apply the function to our dataset, and from the example we can see that our dataset looks cleaner that the one before. For example in line 3261, from *i like this app, great work. ...*, becomes *like app, great work. ...* after getting cleaned."
      ],
      "metadata": {
        "id": "_yR_n_qtNFrc"
      }
    },
    {
      "cell_type": "code",
      "source": [
        "df.content = df.content.apply(remove_stopwords)\n",
        "df.head()"
      ],
      "metadata": {
        "colab": {
          "base_uri": "https://localhost:8080/",
          "height": 206
        },
        "id": "04Rrbf8MiaGB",
        "outputId": "1d4d5d0d-8623-4c59-af41-fb08a87baa85"
      },
      "execution_count": 8,
      "outputs": [
        {
          "output_type": "execute_result",
          "data": {
            "text/plain": [
              "                                                 content sentiment\n",
              "6252             articles pretty insightful. waste time.  POSITIVE\n",
              "3261   like app, great work. like presentation sight....  POSITIVE\n",
              "12063  wow, best. well described contents, varieties ...  POSITIVE\n",
              "11755                                               good  POSITIVE\n",
              "6454                      can't login id.... fix this...  NEGATIVE"
            ],
            "text/html": [
              "\n",
              "  <div id=\"df-1955631e-1e7f-42ef-b589-bcb6c22a9f04\">\n",
              "    <div class=\"colab-df-container\">\n",
              "      <div>\n",
              "<style scoped>\n",
              "    .dataframe tbody tr th:only-of-type {\n",
              "        vertical-align: middle;\n",
              "    }\n",
              "\n",
              "    .dataframe tbody tr th {\n",
              "        vertical-align: top;\n",
              "    }\n",
              "\n",
              "    .dataframe thead th {\n",
              "        text-align: right;\n",
              "    }\n",
              "</style>\n",
              "<table border=\"1\" class=\"dataframe\">\n",
              "  <thead>\n",
              "    <tr style=\"text-align: right;\">\n",
              "      <th></th>\n",
              "      <th>content</th>\n",
              "      <th>sentiment</th>\n",
              "    </tr>\n",
              "  </thead>\n",
              "  <tbody>\n",
              "    <tr>\n",
              "      <th>6252</th>\n",
              "      <td>articles pretty insightful. waste time.</td>\n",
              "      <td>POSITIVE</td>\n",
              "    </tr>\n",
              "    <tr>\n",
              "      <th>3261</th>\n",
              "      <td>like app, great work. like presentation sight....</td>\n",
              "      <td>POSITIVE</td>\n",
              "    </tr>\n",
              "    <tr>\n",
              "      <th>12063</th>\n",
              "      <td>wow, best. well described contents, varieties ...</td>\n",
              "      <td>POSITIVE</td>\n",
              "    </tr>\n",
              "    <tr>\n",
              "      <th>11755</th>\n",
              "      <td>good</td>\n",
              "      <td>POSITIVE</td>\n",
              "    </tr>\n",
              "    <tr>\n",
              "      <th>6454</th>\n",
              "      <td>can't login id.... fix this...</td>\n",
              "      <td>NEGATIVE</td>\n",
              "    </tr>\n",
              "  </tbody>\n",
              "</table>\n",
              "</div>\n",
              "      <button class=\"colab-df-convert\" onclick=\"convertToInteractive('df-1955631e-1e7f-42ef-b589-bcb6c22a9f04')\"\n",
              "              title=\"Convert this dataframe to an interactive table.\"\n",
              "              style=\"display:none;\">\n",
              "        \n",
              "  <svg xmlns=\"http://www.w3.org/2000/svg\" height=\"24px\"viewBox=\"0 0 24 24\"\n",
              "       width=\"24px\">\n",
              "    <path d=\"M0 0h24v24H0V0z\" fill=\"none\"/>\n",
              "    <path d=\"M18.56 5.44l.94 2.06.94-2.06 2.06-.94-2.06-.94-.94-2.06-.94 2.06-2.06.94zm-11 1L8.5 8.5l.94-2.06 2.06-.94-2.06-.94L8.5 2.5l-.94 2.06-2.06.94zm10 10l.94 2.06.94-2.06 2.06-.94-2.06-.94-.94-2.06-.94 2.06-2.06.94z\"/><path d=\"M17.41 7.96l-1.37-1.37c-.4-.4-.92-.59-1.43-.59-.52 0-1.04.2-1.43.59L10.3 9.45l-7.72 7.72c-.78.78-.78 2.05 0 2.83L4 21.41c.39.39.9.59 1.41.59.51 0 1.02-.2 1.41-.59l7.78-7.78 2.81-2.81c.8-.78.8-2.07 0-2.86zM5.41 20L4 18.59l7.72-7.72 1.47 1.35L5.41 20z\"/>\n",
              "  </svg>\n",
              "      </button>\n",
              "      \n",
              "  <style>\n",
              "    .colab-df-container {\n",
              "      display:flex;\n",
              "      flex-wrap:wrap;\n",
              "      gap: 12px;\n",
              "    }\n",
              "\n",
              "    .colab-df-convert {\n",
              "      background-color: #E8F0FE;\n",
              "      border: none;\n",
              "      border-radius: 50%;\n",
              "      cursor: pointer;\n",
              "      display: none;\n",
              "      fill: #1967D2;\n",
              "      height: 32px;\n",
              "      padding: 0 0 0 0;\n",
              "      width: 32px;\n",
              "    }\n",
              "\n",
              "    .colab-df-convert:hover {\n",
              "      background-color: #E2EBFA;\n",
              "      box-shadow: 0px 1px 2px rgba(60, 64, 67, 0.3), 0px 1px 3px 1px rgba(60, 64, 67, 0.15);\n",
              "      fill: #174EA6;\n",
              "    }\n",
              "\n",
              "    [theme=dark] .colab-df-convert {\n",
              "      background-color: #3B4455;\n",
              "      fill: #D2E3FC;\n",
              "    }\n",
              "\n",
              "    [theme=dark] .colab-df-convert:hover {\n",
              "      background-color: #434B5C;\n",
              "      box-shadow: 0px 1px 3px 1px rgba(0, 0, 0, 0.15);\n",
              "      filter: drop-shadow(0px 1px 2px rgba(0, 0, 0, 0.3));\n",
              "      fill: #FFFFFF;\n",
              "    }\n",
              "  </style>\n",
              "\n",
              "      <script>\n",
              "        const buttonEl =\n",
              "          document.querySelector('#df-1955631e-1e7f-42ef-b589-bcb6c22a9f04 button.colab-df-convert');\n",
              "        buttonEl.style.display =\n",
              "          google.colab.kernel.accessAllowed ? 'block' : 'none';\n",
              "\n",
              "        async function convertToInteractive(key) {\n",
              "          const element = document.querySelector('#df-1955631e-1e7f-42ef-b589-bcb6c22a9f04');\n",
              "          const dataTable =\n",
              "            await google.colab.kernel.invokeFunction('convertToInteractive',\n",
              "                                                     [key], {});\n",
              "          if (!dataTable) return;\n",
              "\n",
              "          const docLinkHtml = 'Like what you see? Visit the ' +\n",
              "            '<a target=\"_blank\" href=https://colab.research.google.com/notebooks/data_table.ipynb>data table notebook</a>'\n",
              "            + ' to learn more about interactive tables.';\n",
              "          element.innerHTML = '';\n",
              "          dataTable['output_type'] = 'display_data';\n",
              "          await google.colab.output.renderOutput(dataTable, element);\n",
              "          const docLink = document.createElement('div');\n",
              "          docLink.innerHTML = docLinkHtml;\n",
              "          element.appendChild(docLink);\n",
              "        }\n",
              "      </script>\n",
              "    </div>\n",
              "  </div>\n",
              "  "
            ]
          },
          "metadata": {},
          "execution_count": 8
        }
      ]
    },
    {
      "cell_type": "markdown",
      "source": [
        "#### Splitting into Training and Testing Set\n",
        "\n",
        "Next, we will split the data into training and testing set with a ratio of 9:1. This is done first because we want to apply more NLP concepts to the training dataset. Since we divide it to the ratio of 1:9, the training data should be 13500, and the testing data should be 1500."
      ],
      "metadata": {
        "id": "oDm-_H4aN34r"
      }
    },
    {
      "cell_type": "code",
      "source": [
        "X_train, X_test, y_train, y_test = train_test_split(df.content, df.sentiment, test_size=0.1, random_state=37)\n",
        "print('# Train data samples:', X_train.shape[0])\n",
        "print('# Test data samples:', X_test.shape[0])\n",
        "assert X_train.shape[0] == y_train.shape[0]\n",
        "assert X_test.shape[0] == y_test.shape[0]"
      ],
      "metadata": {
        "colab": {
          "base_uri": "https://localhost:8080/"
        },
        "id": "5JAPQw74i_nx",
        "outputId": "c343ecdb-6867-42c0-ebd2-b50dca9f4755"
      },
      "execution_count": 9,
      "outputs": [
        {
          "output_type": "stream",
          "name": "stdout",
          "text": [
            "# Train data samples: 13500\n",
            "# Test data samples: 1500\n"
          ]
        }
      ]
    },
    {
      "cell_type": "markdown",
      "source": [
        "#### Tokenization\n",
        "\n",
        "Tokenization is a must thing to do if we talk about processing text data. It is a method that turns words into tokens (numbers). Here, we will use the Keras Tokenizer function with maximum number of words of 10000 (based on frequencies), filtering out unimportant symbols, converting text to lowercase (actually data cleaning), and splitting based on spaces. This tokenizer then will be fitted into our training independent variable (X_train)."
      ],
      "metadata": {
        "id": "MBt_3UDFOfTs"
      }
    },
    {
      "cell_type": "code",
      "source": [
        "tk = Tokenizer(num_words=10000,\n",
        "               filters='!\"#$%&()*+,-./:;<=>?@[\\\\]^_`{|}~\\t\\n',\n",
        "               lower=True,\n",
        "               split=\" \")\n",
        "tk.fit_on_texts(X_train)\n",
        "\n",
        "print('Fitted tokenizer on {} documents'.format(tk.document_count))\n",
        "print('{} words in dictionary'.format(tk.num_words))\n",
        "print('Top 5 most common words are:', collections.Counter(tk.word_counts).most_common(5))"
      ],
      "metadata": {
        "colab": {
          "base_uri": "https://localhost:8080/"
        },
        "id": "_pjd3vxpjD8R",
        "outputId": "7f4dd347-e5f7-4a1c-fa4b-e24c42f54016"
      },
      "execution_count": 10,
      "outputs": [
        {
          "output_type": "stream",
          "name": "stdout",
          "text": [
            "Fitted tokenizer on 13500 documents\n",
            "10000 words in dictionary\n",
            "Top 5 most common words are: [('app', 4329), ('good', 2266), ('great', 1852), ('articles', 1708), ('medium', 1394)]\n"
          ]
        }
      ]
    },
    {
      "cell_type": "markdown",
      "source": [
        "The tokenizer is fitted in 13500 documents, meaning that all documents in the training data is fitted properly (original = 13500). Also, we can see that there are 10000 words in the dictionary, and this 10000 means the 10000 most frequent words from the fitted (13500 documents). We want to see the 5 most common words too, which are app, good, great, articles, and medium. <br><br>\n",
        "\n",
        "Next, we want to convert these text in X datas into a sequence of numbers based on the words before."
      ],
      "metadata": {
        "id": "_hbnoWFyR4g8"
      }
    },
    {
      "cell_type": "code",
      "source": [
        "X_train_seq = tk.texts_to_sequences(X_train)\n",
        "X_test_seq = tk.texts_to_sequences(X_test)\n",
        "\n",
        "print('\"{}\" is converted into {}'.format(X_train[0], X_train_seq[0]))"
      ],
      "metadata": {
        "colab": {
          "base_uri": "https://localhost:8080/"
        },
        "id": "3bT6SzrQjNzZ",
        "outputId": "03f3f502-21b8-4144-cb71-d350491aee67"
      },
      "execution_count": 11,
      "outputs": [
        {
          "output_type": "stream",
          "name": "stdout",
          "text": [
            "\"woww\" is converted into [82]\n"
          ]
        }
      ]
    },
    {
      "cell_type": "markdown",
      "source": [
        "We can see one of the example converted into an sequence (array) of words, meaning that the conversion is successful."
      ],
      "metadata": {
        "id": "58NuAQumTl_L"
      }
    },
    {
      "cell_type": "markdown",
      "source": [
        "#### One-Hot Encoding\n",
        "\n",
        "We will transform the tokenized text to one-hot encoded features. We will convert the X datas' array to an array with 10000 length. This will be important because tokenization usually doesn't have the same length, and here we will make it to the same length. The new arrays will have a size of 13500 x 10000 for the training, and 1500 x 10000 for the testing."
      ],
      "metadata": {
        "id": "oQHDKejaUbsy"
      }
    },
    {
      "cell_type": "code",
      "source": [
        "def one_hot_seq(seqs, nb_features = 10000):\n",
        "    ohs = np.zeros((len(seqs), nb_features))\n",
        "    for i, s in enumerate(seqs):\n",
        "        ohs[i, s] = 1.\n",
        "    return ohs\n",
        "\n",
        "X_train_oh = one_hot_seq(X_train_seq)\n",
        "X_test_oh = one_hot_seq(X_test_seq)\n",
        "\n",
        "print('\"{}\" is converted into {}'.format(X_train_seq[0], X_train_oh[0]))\n",
        "print('For this example we have {} features with a value of 1.'.format(X_train_oh[0].sum()))"
      ],
      "metadata": {
        "colab": {
          "base_uri": "https://localhost:8080/"
        },
        "id": "qKtQVmxjjR5N",
        "outputId": "31981583-9e75-440c-fb49-6499e552e1d4"
      },
      "execution_count": 12,
      "outputs": [
        {
          "output_type": "stream",
          "name": "stdout",
          "text": [
            "\"[82]\" is converted into [0. 0. 0. ... 0. 0. 0.]\n",
            "For this example we have 1.0 features with a value of 1.\n"
          ]
        }
      ]
    },
    {
      "cell_type": "markdown",
      "source": [
        "#### Label Encoding\n",
        "\n",
        "We also want to change up our target variables. If we look at the head in the very first look of the dataset, the sentiment categories are not numbers. We will change that to numbers using Label Encoder, so it will be 0, 1, and 2."
      ],
      "metadata": {
        "id": "mRShC61xXAP1"
      }
    },
    {
      "cell_type": "code",
      "source": [
        "le = LabelEncoder()\n",
        "y_train_le = le.fit_transform(y_train)\n",
        "y_test_le = le.transform(y_test)\n",
        "\n",
        "print('\"{}\" is converted into {}'.format(y_train[0], y_train_le[0]))"
      ],
      "metadata": {
        "colab": {
          "base_uri": "https://localhost:8080/"
        },
        "id": "ei7vzN4_jbRE",
        "outputId": "f059fd2b-b4a6-4908-bc1a-16ec87bfd948"
      },
      "execution_count": 13,
      "outputs": [
        {
          "output_type": "stream",
          "name": "stdout",
          "text": [
            "\"NEUTRAL\" is converted into 2\n"
          ]
        }
      ]
    },
    {
      "cell_type": "markdown",
      "source": [
        "### Modelling with Deep Belief Network\n",
        "\n",
        "Our dataset is already ready to model, so we just model with Deep Belief Network. We first import the function from the Github (which is already in the directory). We first take a look at a general model of the DBN: <br>\n",
        "\n",
        "![3-s2.0-B9780323858540000101-f09-02-9780323858540.jpg](data:image/jpeg;base64,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)"
      ],
      "metadata": {
        "id": "0qxx2gGfgV7S"
      }
    },
    {
      "cell_type": "markdown",
      "source": [
        "From the picture, it can be seen that DBN uses RBM and FFNN (ANN). As said in the early parts, DBN has two phases, which includes pre-training phase and fine-tuning phase. Pre-training phase is multiple layers of RBM (blue ones in the pictures) and fine-tuning phase is a FFNN (feed forward neural network). <br><br>\n",
        "\n",
        "For the hidden layers structure (RBMs), we will use 256 neurons with activation function ReLu. The learning rate we will use for RBM is 0.05 and FFNN is 0.1. The number of epochs is 5 for both phases, and we will use a constant dropout rate of 0.2 for better results. "
      ],
      "metadata": {
        "id": "NXUeER6lhXBW"
      }
    },
    {
      "cell_type": "code",
      "source": [
        "from dbn import SupervisedDBNClassification\n",
        "classifier = SupervisedDBNClassification(hidden_layers_structure=[256, 256],\n",
        "                                         learning_rate_rbm=0.05,\n",
        "                                         learning_rate=0.1,\n",
        "                                         n_epochs_rbm=5,\n",
        "                                         n_iter_backprop=5,\n",
        "                                         batch_size=32,\n",
        "                                         activation_function='relu',\n",
        "                                         dropout_p=0.2)"
      ],
      "metadata": {
        "id": "a1_DZTlNEsWM"
      },
      "execution_count": 14,
      "outputs": []
    },
    {
      "cell_type": "markdown",
      "source": [
        "After defining our model, we can fit the training datasets to make the model."
      ],
      "metadata": {
        "id": "tEXRGFZPkvku"
      }
    },
    {
      "cell_type": "code",
      "source": [
        "classifier.fit(X_train_oh, y_train_le)"
      ],
      "metadata": {
        "colab": {
          "base_uri": "https://localhost:8080/"
        },
        "id": "5VRYrtRSE2MF",
        "outputId": "8c441a41-66cb-4c16-b392-b7802a068c42"
      },
      "execution_count": 15,
      "outputs": [
        {
          "output_type": "stream",
          "name": "stdout",
          "text": [
            "[START] Pre-training step:\n",
            ">> Epoch 1 finished \tRBM Reconstruction error 6.285114\n",
            ">> Epoch 2 finished \tRBM Reconstruction error 5.863731\n",
            ">> Epoch 3 finished \tRBM Reconstruction error 5.640085\n",
            ">> Epoch 4 finished \tRBM Reconstruction error 5.441661\n",
            ">> Epoch 5 finished \tRBM Reconstruction error 5.287383\n",
            ">> Epoch 1 finished \tRBM Reconstruction error 0.477537\n",
            ">> Epoch 2 finished \tRBM Reconstruction error 0.246728\n",
            ">> Epoch 3 finished \tRBM Reconstruction error 0.187492\n",
            ">> Epoch 4 finished \tRBM Reconstruction error 0.158090\n",
            ">> Epoch 5 finished \tRBM Reconstruction error 0.134988\n",
            "[END] Pre-training step\n",
            "[START] Fine tuning step:\n",
            ">> Epoch 1 finished \tANN training loss 1.930789\n",
            ">> Epoch 2 finished \tANN training loss 1.487000\n",
            ">> Epoch 3 finished \tANN training loss 1.359038\n",
            ">> Epoch 4 finished \tANN training loss 1.257182\n",
            ">> Epoch 5 finished \tANN training loss 1.169997\n",
            "[END] Fine tuning step\n"
          ]
        },
        {
          "output_type": "execute_result",
          "data": {
            "text/plain": [
              "SupervisedDBNClassification()"
            ]
          },
          "metadata": {},
          "execution_count": 15
        }
      ]
    },
    {
      "cell_type": "markdown",
      "source": [
        "As we can see from the cell output, there are two phases of the model. The error values and the loss values of both are decreasing as the number of epochs increases. This means that the model will be better as the number of epochs or iterations increase. But, since we have limited RAM here, 5 is good enough.\n"
      ],
      "metadata": {
        "id": "cTJDwn72k57m"
      }
    },
    {
      "cell_type": "markdown",
      "source": [
        "\n",
        "### Performance Analysis on Testing Set\n",
        "\n",
        "Our model has finished training, so we can now test the model on the testing dataset. We also want to see how well this model performs to do sentiment analysis on the testing dataset by analyzing the performance using accuracy, precision, f1, recall, and confusion matrix.<br><br>\n",
        "\n",
        "First, we import the library needed, which is the sklearn metrics. Next, we can use `.predict` on the independent testing data to make the predicted sentiments. "
      ],
      "metadata": {
        "id": "wzfLYnT7lkTR"
      }
    },
    {
      "cell_type": "code",
      "source": [
        "from sklearn.metrics import accuracy_score\n",
        "from sklearn.metrics import precision_score\n",
        "from sklearn.metrics import f1_score\n",
        "from sklearn.metrics import recall_score\n",
        "from sklearn.metrics import confusion_matrix\n",
        "\n",
        "y_pred = classifier.predict(X_test_oh)"
      ],
      "metadata": {
        "id": "XDTkEXFmvoR5"
      },
      "execution_count": 16,
      "outputs": []
    },
    {
      "cell_type": "markdown",
      "source": [
        "We will compare the predicted sentiments to the actual sentiments (y_test_le), and see how accurate it is."
      ],
      "metadata": {
        "id": "0xkJr9zUmSuD"
      }
    },
    {
      "cell_type": "code",
      "source": [
        "print('Done.\\nAccuracy: %f' % accuracy_score(y_test_le, y_pred))"
      ],
      "metadata": {
        "colab": {
          "base_uri": "https://localhost:8080/"
        },
        "id": "Brruq8BKWN8M",
        "outputId": "49c152f5-d4bc-4975-c0c5-7b5f6750f15a"
      },
      "execution_count": 17,
      "outputs": [
        {
          "output_type": "stream",
          "name": "stdout",
          "text": [
            "Done.\n",
            "Accuracy: 0.850000\n"
          ]
        }
      ]
    },
    {
      "cell_type": "markdown",
      "source": [
        "The accuracy that we managed to achieve is around 85%. This means that the mdoel is good enough for sentiment analysis and we can say that the result is satisfactory. Next, we want to see the confusion matrix to see how many corrects and wrongs we got in the comparison."
      ],
      "metadata": {
        "id": "lQMyc_9MmhBY"
      }
    },
    {
      "cell_type": "code",
      "source": [
        "conf_matrix = confusion_matrix(y_test_le, y_pred)\n",
        "\n",
        "fig, ax = plt.subplots(figsize=(5, 5))\n",
        "ax.matshow(conf_matrix, cmap=plt.cm.Oranges, alpha=0.3)\n",
        "for i in range(conf_matrix.shape[0]):\n",
        "    for j in range(conf_matrix.shape[1]):\n",
        "        ax.text(x=j, y=i,s=conf_matrix[i, j], va='center', ha='center', size='xx-large')\n",
        " \n",
        "plt.xlabel('Predictions', fontsize=18)\n",
        "plt.ylabel('Actuals', fontsize=18)\n",
        "plt.title('Confusion Matrix', fontsize=18)\n",
        "plt.show()"
      ],
      "metadata": {
        "colab": {
          "base_uri": "https://localhost:8080/",
          "height": 358
        },
        "id": "DJM8U3ewU4yN",
        "outputId": "759004e0-3786-4f9b-d7ff-cb1649d0ba91"
      },
      "execution_count": 18,
      "outputs": [
        {
          "output_type": "display_data",
          "data": {
            "text/plain": [
              "<Figure size 360x360 with 1 Axes>"
            ],
            "image/png": "[encoded data removed]"
          },
          "metadata": {
            "needs_background": "light"
          }
        }
      ]
    },
    {
      "cell_type": "markdown",
      "source": [
        "The confusion matrix with the same classes (0-0, 1-1, 2-2) are the correctly predicted ones, and the rest are the incorrect ones. The numbers in each of that correct ones is larger than the other numbers, meaning that our model performs well. For precision, f1, and recall score, we will see the results based on each class because our target variabel is multiclass (3 classes)."
      ],
      "metadata": {
        "id": "DCJekFJ6m1Vt"
      }
    },
    {
      "cell_type": "code",
      "source": [
        "precision_score(y_test_le, y_pred, average=None)"
      ],
      "metadata": {
        "colab": {
          "base_uri": "https://localhost:8080/"
        },
        "id": "G0P6-jNEEq9z",
        "outputId": "72e9554e-4968-4e4e-f622-6b22d78e00c9"
      },
      "execution_count": 19,
      "outputs": [
        {
          "output_type": "execute_result",
          "data": {
            "text/plain": [
              "array([0.82959641, 0.50793651, 0.87149918])"
            ]
          },
          "metadata": {},
          "execution_count": 19
        }
      ]
    },
    {
      "cell_type": "markdown",
      "source": [
        "The results for precision in each class:\n",
        "* Class 0: 82.96% \n",
        "* Class 1: 50.79%\n",
        "* Class 2: 87.15%\n",
        "\n",
        "Precision is the ratio between the true positives and all the positives. It is counted like, for example class 0, 185/(185+23+15). It is the sum of true positives divided by the sum of true positives and false positives in each class."
      ],
      "metadata": {
        "id": "H6iTgDemokxT"
      }
    },
    {
      "cell_type": "code",
      "source": [
        "recall_score(y_test_le, y_pred, average=None)"
      ],
      "metadata": {
        "colab": {
          "base_uri": "https://localhost:8080/"
        },
        "id": "93J7xlbmEn3G",
        "outputId": "5b29ea3c-6fc5-4179-de0a-c44c5c73061f"
      },
      "execution_count": 20,
      "outputs": [
        {
          "output_type": "execute_result",
          "data": {
            "text/plain": [
              "array([0.74596774, 0.18823529, 0.97781885])"
            ]
          },
          "metadata": {},
          "execution_count": 20
        }
      ]
    },
    {
      "cell_type": "markdown",
      "source": [
        "The results for recall in each class:\n",
        "* Class 0: 74.59% \n",
        "* Class 1: 18.82%\n",
        "* Class 2: 97.78%\n",
        "\n",
        "Recall is the measure of our model correctly identifying true positives. For example, class 0, it will be counted like 185/(185+22+41). It is the sum of true positives divided by the sum of true positives and false negatives."
      ],
      "metadata": {
        "id": "eZ4Ndtefo6fk"
      }
    },
    {
      "cell_type": "code",
      "source": [
        "f1_score(y_test_le, y_pred, average=None)"
      ],
      "metadata": {
        "colab": {
          "base_uri": "https://localhost:8080/"
        },
        "id": "Hy8sPFzgEitX",
        "outputId": "c7355a72-fbdc-4867-bc92-7975a1bd50d5"
      },
      "execution_count": 21,
      "outputs": [
        {
          "output_type": "execute_result",
          "data": {
            "text/plain": [
              "array([0.78556263, 0.27467811, 0.92160279])"
            ]
          },
          "metadata": {},
          "execution_count": 21
        }
      ]
    },
    {
      "cell_type": "markdown",
      "source": [
        "The results for f1 in each class:\n",
        "* Class 0: 78.55% \n",
        "* Class 1: 27.46%\n",
        "* Class 2: 92.16%\n",
        "\n",
        "F1 is the harmonic mean of both recall and precision. For example in class 0, the calculation would be like 185/(185+0.5*(23+15+22+41)). It is the sum of true positives divided by the sum of true positives and half the sum of false positives and false negatives."
      ],
      "metadata": {
        "id": "y6lrMmdGpBlz"
      }
    },
    {
      "cell_type": "markdown",
      "source": [
        "### Conclusion\n",
        "\n",
        "Our Deep Belief Network model reached an accuracy of 85%, meaning that the model is good for sentiment analysis. This number may increase since we only took a sample of 15000 rows from the actual dataset. However, the other metrics such as precision, recall, and f1, shows that the number in class 1 is low. This may happen because of imbalance in our 15000 sampled dataset. Overall, the model produces good result and we can say that we can predict the sentiment of a review with 85% accuracy."
      ],
      "metadata": {
        "id": "PbCKcMOvpLub"
      }
    }
  ]
}