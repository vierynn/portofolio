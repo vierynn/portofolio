{
 "cells": [
  {
   "cell_type": "markdown",
   "metadata": {},
   "source": [
    "# [FinalExam]-[MATH6149016 ; MATH6149049 ]-[MachineLearning]"
   ]
  },
  {
   "cell_type": "markdown",
   "metadata": {},
   "source": [
    "**Thursday, July 14, 2022.**"
   ]
  },
  {
   "cell_type": "markdown",
   "metadata": {},
   "source": [
    "**Student Name**  : Aurellia Vieryn <br>\n",
    "**Student ID**    : 2440066626 <br>\n",
    "**Video Link**    : https://binusianorg-my.sharepoint.com/personal/aurellia_vieryn001_binus_ac_id/_layouts/15/guestaccess.aspx?docid=007091f6757bc4dc09cb0e843bdec1060&authkey=AdPrgsirEFJCOv2dTLPPnaY&e=SbRWos   "
   ]
  },
  {
   "cell_type": "markdown",
   "metadata": {},
   "source": [
    "* [Dataset Link](https://data.cityofchicago.org/Public-Safety/Crimes-2001-to-present/ijzp-q8t2/data)\n",
    "## <strong>Dataset Description</strong>\n",
    "<br>\n",
    " <strong>a record of the crimes that have occurred in Chicago</strong>\n",
    " <br>\n",
    "<ul><li><strong>Domestic :</strong> Indicates whether the incident was domestic-related as defined by the Illinois Domestic Violence Act.</li>\n",
    "    <li><strong>Beat :</strong> Indicates the beat where the incident occurred. A beat is the smallest police geographic area – each beat has a dedicated police beat car. Three to five beats make up a police sector, and three sectors make up a police district. The Chicago Police Department has 22 police districts.</li>\n",
    "    <li><strong>District :</strong> Indicates the police district where the incident occurred</li>\n",
    "    <li><strong>Ward :</strong> The ward(City Council District) where the incident occurred</li>\n",
    "    <li><strong>Community Are :</strong> Indicates the community area where the incident occurred. Chicago has 77 community areas.</li>\n",
    "    <li><strong>FBI Code :</strong> Indicates the crime classification as outlined in the FBI's National Incident-Based Reporting System (NIBRS).</li>\n",
    "    <li><strong>Date :</strong> A given month (1 : January, 12 : December); a given hour (1 to 23)</li>\n",
    "</ul>"
   ]
  },
  {
   "cell_type": "markdown",
   "metadata": {},
   "source": [
    "**NOTES:**\n",
    "<li>You are required to build <strong>'the BEST and suitable'</strong> supervised machine learning model for the given dataset. The model may be used for the effective deployment of police officers in a city across several districts regarding the degree to which each area is prone to crime at a particular hour, day, and month. </li>\n",
    "<li>Build multiple potentially suitable machine learning models (at least 2 different machine learning models).</li>\n",
    "<li>You have to evaluate the models using at least 2 performance metrics before choose what you assume to be the `\"best\"` model for the given dataset.</li>"
   ]
  },
  {
   "cell_type": "markdown",
   "metadata": {},
   "source": [
    "**HINT:** \n",
    "1. You need to generate the target feature by **performing feature engineering on `Date` and `Primary Type` features** to group crimes together\n",
    "<br>\n",
    "2. Level of Crime Rate:\n",
    "<ul><li><strong>0-14 : </strong>Low Crime Rate</li>\n",
    "<li><strong>15-33 : </strong>Medium Crime Rate</li>\n",
    "<li><strong>34 and above : </strong>High Crime Rate</li>\n",
    "<br>\n",
    "3. You may need to check the data proportion in each class (imbalance/not)"
   ]
  },
  {
   "cell_type": "markdown",
   "metadata": {},
   "source": [
    "## 1. Load the neccessary Libraries and Data (2 pts.)"
   ]
  },
  {
   "cell_type": "markdown",
   "metadata": {},
   "source": [
    "#### Libraries"
   ]
  },
  {
   "cell_type": "code",
   "execution_count": 1,
   "metadata": {},
   "outputs": [],
   "source": [
    "import numpy as np \n",
    "import pandas as pd \n",
    "from scipy import stats\n",
    "from matplotlib import pyplot as plt\n",
    "import seaborn as sns\n",
    "from sklearn.model_selection import train_test_split\n",
    "from sklearn.ensemble import RandomForestClassifier\n",
    "from sklearn.tree import DecisionTreeClassifier\n",
    "from sklearn.neighbors import KNeighborsClassifier\n",
    "from sklearn.naive_bayes import GaussianNB\n",
    "from sklearn.metrics import confusion_matrix\n",
    "from sklearn.model_selection import GridSearchCV\n",
    "from sklearn.model_selection import RandomizedSearchCV\n",
    "from sklearn.ensemble import RandomForestRegressor\n",
    "from sklearn import preprocessing\n",
    "from imblearn.over_sampling import SMOTE"
   ]
  },
  {
   "cell_type": "markdown",
   "metadata": {},
   "source": [
    "#### Get the Data"
   ]
  },
  {
   "cell_type": "code",
   "execution_count": 2,
   "metadata": {},
   "outputs": [
    {
     "data": {
      "text/html": [
       "<div>\n",
       "<style scoped>\n",
       "    .dataframe tbody tr th:only-of-type {\n",
       "        vertical-align: middle;\n",
       "    }\n",
       "\n",
       "    .dataframe tbody tr th {\n",
       "        vertical-align: top;\n",
       "    }\n",
       "\n",
       "    .dataframe thead th {\n",
       "        text-align: right;\n",
       "    }\n",
       "</style>\n",
       "<table border=\"1\" class=\"dataframe\">\n",
       "  <thead>\n",
       "    <tr style=\"text-align: right;\">\n",
       "      <th></th>\n",
       "      <th>Unnamed: 0</th>\n",
       "      <th>ID</th>\n",
       "      <th>Case Number</th>\n",
       "      <th>Date</th>\n",
       "      <th>Block</th>\n",
       "      <th>IUCR</th>\n",
       "      <th>Primary Type</th>\n",
       "      <th>Description</th>\n",
       "      <th>Location Description</th>\n",
       "      <th>Arrest</th>\n",
       "      <th>...</th>\n",
       "      <th>Ward</th>\n",
       "      <th>Community Area</th>\n",
       "      <th>FBI Code</th>\n",
       "      <th>X Coordinate</th>\n",
       "      <th>Y Coordinate</th>\n",
       "      <th>Year</th>\n",
       "      <th>Updated On</th>\n",
       "      <th>Latitude</th>\n",
       "      <th>Longitude</th>\n",
       "      <th>Location</th>\n",
       "    </tr>\n",
       "  </thead>\n",
       "  <tbody>\n",
       "    <tr>\n",
       "      <th>0</th>\n",
       "      <td>861410</td>\n",
       "      <td>11476552</td>\n",
       "      <td>JB475560</td>\n",
       "      <td>10/14/2018 06:51:00 PM</td>\n",
       "      <td>039XX W OGDEN AVE</td>\n",
       "      <td>0820</td>\n",
       "      <td>THEFT</td>\n",
       "      <td>$500 AND UNDER</td>\n",
       "      <td>SMALL RETAIL STORE</td>\n",
       "      <td>True</td>\n",
       "      <td>...</td>\n",
       "      <td>22.0</td>\n",
       "      <td>29.0</td>\n",
       "      <td>06</td>\n",
       "      <td>1150286.0</td>\n",
       "      <td>1889027.0</td>\n",
       "      <td>2018</td>\n",
       "      <td>10/21/2018 04:09:44 PM</td>\n",
       "      <td>41.851393</td>\n",
       "      <td>-87.723904</td>\n",
       "      <td>(41.851393305, -87.723903515)</td>\n",
       "    </tr>\n",
       "    <tr>\n",
       "      <th>1</th>\n",
       "      <td>783641</td>\n",
       "      <td>10828749</td>\n",
       "      <td>JA130110</td>\n",
       "      <td>01/25/2017 11:00:00 PM</td>\n",
       "      <td>011XX S OAKLEY BLVD</td>\n",
       "      <td>031A</td>\n",
       "      <td>ROBBERY</td>\n",
       "      <td>ARMED: HANDGUN</td>\n",
       "      <td>STREET</td>\n",
       "      <td>False</td>\n",
       "      <td>...</td>\n",
       "      <td>25.0</td>\n",
       "      <td>28.0</td>\n",
       "      <td>03</td>\n",
       "      <td>1161221.0</td>\n",
       "      <td>1894904.0</td>\n",
       "      <td>2017</td>\n",
       "      <td>02/14/2017 03:49:42 PM</td>\n",
       "      <td>41.867300</td>\n",
       "      <td>-87.683606</td>\n",
       "      <td>(41.867300404, -87.683606131)</td>\n",
       "    </tr>\n",
       "    <tr>\n",
       "      <th>2</th>\n",
       "      <td>650716</td>\n",
       "      <td>11031423</td>\n",
       "      <td>JA363907</td>\n",
       "      <td>07/26/2017 12:30:00 AM</td>\n",
       "      <td>018XX N CLARK ST</td>\n",
       "      <td>0910</td>\n",
       "      <td>MOTOR VEHICLE THEFT</td>\n",
       "      <td>AUTOMOBILE</td>\n",
       "      <td>PARKING LOT/GARAGE(NON.RESID.)</td>\n",
       "      <td>False</td>\n",
       "      <td>...</td>\n",
       "      <td>43.0</td>\n",
       "      <td>7.0</td>\n",
       "      <td>07</td>\n",
       "      <td>1174558.0</td>\n",
       "      <td>1912475.0</td>\n",
       "      <td>2017</td>\n",
       "      <td>02/10/2018 03:50:01 PM</td>\n",
       "      <td>41.915229</td>\n",
       "      <td>-87.634119</td>\n",
       "      <td>(41.915228778, -87.634118723)</td>\n",
       "    </tr>\n",
       "    <tr>\n",
       "      <th>3</th>\n",
       "      <td>496462</td>\n",
       "      <td>10430338</td>\n",
       "      <td>HZ168230</td>\n",
       "      <td>02/26/2016 03:00:00 AM</td>\n",
       "      <td>002XX W JACKSON BLVD</td>\n",
       "      <td>0860</td>\n",
       "      <td>THEFT</td>\n",
       "      <td>RETAIL THEFT</td>\n",
       "      <td>CONVENIENCE STORE</td>\n",
       "      <td>False</td>\n",
       "      <td>...</td>\n",
       "      <td>2.0</td>\n",
       "      <td>32.0</td>\n",
       "      <td>06</td>\n",
       "      <td>1174641.0</td>\n",
       "      <td>1898950.0</td>\n",
       "      <td>2016</td>\n",
       "      <td>02/10/2018 03:50:01 PM</td>\n",
       "      <td>41.878114</td>\n",
       "      <td>-87.634219</td>\n",
       "      <td>(41.878113603, -87.634218691)</td>\n",
       "    </tr>\n",
       "    <tr>\n",
       "      <th>4</th>\n",
       "      <td>946330</td>\n",
       "      <td>11361027</td>\n",
       "      <td>JB324433</td>\n",
       "      <td>06/26/2018 12:30:00 PM</td>\n",
       "      <td>0000X E MONROE ST</td>\n",
       "      <td>0890</td>\n",
       "      <td>THEFT</td>\n",
       "      <td>FROM BUILDING</td>\n",
       "      <td>SMALL RETAIL STORE</td>\n",
       "      <td>False</td>\n",
       "      <td>...</td>\n",
       "      <td>42.0</td>\n",
       "      <td>32.0</td>\n",
       "      <td>06</td>\n",
       "      <td>1176686.0</td>\n",
       "      <td>1899939.0</td>\n",
       "      <td>2018</td>\n",
       "      <td>07/03/2018 03:55:36 PM</td>\n",
       "      <td>41.880782</td>\n",
       "      <td>-87.626680</td>\n",
       "      <td>(41.880781519, -87.626680112)</td>\n",
       "    </tr>\n",
       "  </tbody>\n",
       "</table>\n",
       "<p>5 rows × 23 columns</p>\n",
       "</div>"
      ],
      "text/plain": [
       "   Unnamed: 0        ID Case Number                    Date  \\\n",
       "0      861410  11476552    JB475560  10/14/2018 06:51:00 PM   \n",
       "1      783641  10828749    JA130110  01/25/2017 11:00:00 PM   \n",
       "2      650716  11031423    JA363907  07/26/2017 12:30:00 AM   \n",
       "3      496462  10430338    HZ168230  02/26/2016 03:00:00 AM   \n",
       "4      946330  11361027    JB324433  06/26/2018 12:30:00 PM   \n",
       "\n",
       "                  Block  IUCR         Primary Type     Description  \\\n",
       "0     039XX W OGDEN AVE  0820                THEFT  $500 AND UNDER   \n",
       "1   011XX S OAKLEY BLVD  031A              ROBBERY  ARMED: HANDGUN   \n",
       "2      018XX N CLARK ST  0910  MOTOR VEHICLE THEFT      AUTOMOBILE   \n",
       "3  002XX W JACKSON BLVD  0860                THEFT    RETAIL THEFT   \n",
       "4     0000X E MONROE ST  0890                THEFT   FROM BUILDING   \n",
       "\n",
       "             Location Description  Arrest  ...  Ward  Community Area  \\\n",
       "0              SMALL RETAIL STORE    True  ...  22.0            29.0   \n",
       "1                          STREET   False  ...  25.0            28.0   \n",
       "2  PARKING LOT/GARAGE(NON.RESID.)   False  ...  43.0             7.0   \n",
       "3               CONVENIENCE STORE   False  ...   2.0            32.0   \n",
       "4              SMALL RETAIL STORE   False  ...  42.0            32.0   \n",
       "\n",
       "   FBI Code  X Coordinate  Y Coordinate  Year              Updated On  \\\n",
       "0        06     1150286.0     1889027.0  2018  10/21/2018 04:09:44 PM   \n",
       "1        03     1161221.0     1894904.0  2017  02/14/2017 03:49:42 PM   \n",
       "2        07     1174558.0     1912475.0  2017  02/10/2018 03:50:01 PM   \n",
       "3        06     1174641.0     1898950.0  2016  02/10/2018 03:50:01 PM   \n",
       "4        06     1176686.0     1899939.0  2018  07/03/2018 03:55:36 PM   \n",
       "\n",
       "    Latitude  Longitude                       Location  \n",
       "0  41.851393 -87.723904  (41.851393305, -87.723903515)  \n",
       "1  41.867300 -87.683606  (41.867300404, -87.683606131)  \n",
       "2  41.915229 -87.634119  (41.915228778, -87.634118723)  \n",
       "3  41.878114 -87.634219  (41.878113603, -87.634218691)  \n",
       "4  41.880782 -87.626680  (41.880781519, -87.626680112)  \n",
       "\n",
       "[5 rows x 23 columns]"
      ]
     },
     "execution_count": 2,
     "metadata": {},
     "output_type": "execute_result"
    }
   ],
   "source": [
    "crimes = pd.read_csv(\"evenID.csv\",sep=',')\n",
    "crimes.head()"
   ]
  },
  {
   "cell_type": "markdown",
   "metadata": {},
   "source": [
    "The data successfully loaded."
   ]
  },
  {
   "cell_type": "markdown",
   "metadata": {},
   "source": [
    "## 2. Data Exploration (15 pts.)\n",
    "\n",
    "#### Data Information"
   ]
  },
  {
   "cell_type": "code",
   "execution_count": 3,
   "metadata": {},
   "outputs": [
    {
     "name": "stdout",
     "output_type": "stream",
     "text": [
      "<class 'pandas.core.frame.DataFrame'>\n",
      "RangeIndex: 1031744 entries, 0 to 1031743\n",
      "Data columns (total 23 columns):\n",
      " #   Column                Non-Null Count    Dtype  \n",
      "---  ------                --------------    -----  \n",
      " 0   Unnamed: 0            1031744 non-null  int64  \n",
      " 1   ID                    1031744 non-null  int64  \n",
      " 2   Case Number           1031744 non-null  object \n",
      " 3   Date                  1031744 non-null  object \n",
      " 4   Block                 1031744 non-null  object \n",
      " 5   IUCR                  1031744 non-null  object \n",
      " 6   Primary Type          1031744 non-null  object \n",
      " 7   Description           1031744 non-null  object \n",
      " 8   Location Description  1028467 non-null  object \n",
      " 9   Arrest                1031744 non-null  bool   \n",
      " 10  Domestic              1031744 non-null  bool   \n",
      " 11  Beat                  1031744 non-null  int64  \n",
      " 12  District              1031743 non-null  float64\n",
      " 13  Ward                  1031735 non-null  float64\n",
      " 14  Community Area        1031742 non-null  float64\n",
      " 15  FBI Code              1031744 non-null  object \n",
      " 16  X Coordinate          1019109 non-null  float64\n",
      " 17  Y Coordinate          1019109 non-null  float64\n",
      " 18  Year                  1031744 non-null  int64  \n",
      " 19  Updated On            1031744 non-null  object \n",
      " 20  Latitude              1019109 non-null  float64\n",
      " 21  Longitude             1019109 non-null  float64\n",
      " 22  Location              1019109 non-null  object \n",
      "dtypes: bool(2), float64(7), int64(4), object(10)\n",
      "memory usage: 167.3+ MB\n"
     ]
    }
   ],
   "source": [
    "crimes.info()"
   ]
  },
  {
   "cell_type": "markdown",
   "metadata": {},
   "source": [
    "From the information that we got above, we can tell that this dataset has a total of 23 columns with 1,031,744 entries. The data type for each column varies totalling to 2 booleans, 7 floats, 4 integers, and 10 objects. The clear categorical variables here are `IUCR`, `Primary Type`, `Location Description`, `Arrest`, `Domestic`, `Beat`, `District`, `Ward`, `Community Area`, `FBI Code`, and `Year`. The rest are not categorical variables but not continous either, so we can just say that it's kind of unique variables.\n",
    "\n",
    "#### Looking Briefly at the Missing Values\n",
    "We can also see that there is quite a lot of nulls count so we want to see how many percent of each column are null values."
   ]
  },
  {
   "cell_type": "code",
   "execution_count": 4,
   "metadata": {},
   "outputs": [
    {
     "name": "stdout",
     "output_type": "stream",
     "text": [
      "Unnamed: 0              0.000000\n",
      "ID                      0.000000\n",
      "Case Number             0.000000\n",
      "Date                    0.000000\n",
      "Block                   0.000000\n",
      "IUCR                    0.000000\n",
      "Primary Type            0.000000\n",
      "Description             0.000000\n",
      "Location Description    0.317618\n",
      "Arrest                  0.000000\n",
      "Domestic                0.000000\n",
      "Beat                    0.000000\n",
      "District                0.000097\n",
      "Ward                    0.000872\n",
      "Community Area          0.000194\n",
      "FBI Code                0.000000\n",
      "X Coordinate            1.224625\n",
      "Y Coordinate            1.224625\n",
      "Year                    0.000000\n",
      "Updated On              0.000000\n",
      "Latitude                1.224625\n",
      "Longitude               1.224625\n",
      "Location                1.224625\n",
      "dtype: float64\n"
     ]
    }
   ],
   "source": [
    "null_percent = crimes.isnull().sum() * 100 / len(crimes)\n",
    "print(null_percent)"
   ]
  },
  {
   "cell_type": "markdown",
   "metadata": {},
   "source": [
    "Indeed there is quite a bit of null values we have to handle later on in the data preparation phase. We don't really wanna see the outliers in this dataset because it can be seen that most of the numerical variables are not continous. We also don't wnat to see using `.describe()` function because of the same reason. \n",
    "\n",
    "#### Data Description\n",
    "We want to take a look our data that can be described here, but we will just select a few categorical variables that has less categories."
   ]
  },
  {
   "cell_type": "code",
   "execution_count": 5,
   "metadata": {},
   "outputs": [
    {
     "data": {
      "text/plain": [
       "<seaborn.axisgrid.FacetGrid at 0x1f2307c6f10>"
      ]
     },
     "execution_count": 5,
     "metadata": {},
     "output_type": "execute_result"
    },
    {
     "data": {
      "image/png": "[encoded data removed]",
      "text/plain": [
       "<Figure size 504x504 with 1 Axes>"
      ]
     },
     "metadata": {
      "needs_background": "light"
     },
     "output_type": "display_data"
    }
   ],
   "source": [
    "sns.catplot(y=\"Primary Type\", kind=\"count\", palette=\"ch:.25\", data=crimes, orient=\"v\", height=7)"
   ]
  },
  {
   "cell_type": "markdown",
   "metadata": {},
   "source": [
    "The most count of the `Primary Type` column is Theft, followed by Battery. This means that most of the crime cases are theft cases."
   ]
  },
  {
   "cell_type": "code",
   "execution_count": 6,
   "metadata": {},
   "outputs": [
    {
     "data": {
      "text/plain": [
       "<seaborn.axisgrid.FacetGrid at 0x1f216f59400>"
      ]
     },
     "execution_count": 6,
     "metadata": {},
     "output_type": "execute_result"
    },
    {
     "data": {
      "image/png": "[encoded data removed]",
      "text/plain": [
       "<Figure size 360x360 with 1 Axes>"
      ]
     },
     "metadata": {
      "needs_background": "light"
     },
     "output_type": "display_data"
    }
   ],
   "source": [
    "sns.catplot(y=\"FBI Code\", kind=\"count\", palette=\"ch:.25\", data=crimes, orient=\"v\")"
   ]
  },
  {
   "cell_type": "markdown",
   "metadata": {},
   "source": [
    "The most count of the `FBI Code` column is 06, followed by 08B. This means that most of the crime cases are categorized as 06 Code."
   ]
  },
  {
   "cell_type": "code",
   "execution_count": 7,
   "metadata": {},
   "outputs": [
    {
     "data": {
      "text/plain": [
       "<seaborn.axisgrid.FacetGrid at 0x1f260d9dfd0>"
      ]
     },
     "execution_count": 7,
     "metadata": {},
     "output_type": "execute_result"
    },
    {
     "data": {
      "image/png": "[encoded data removed]",
      "text/plain": [
       "<Figure size 360x360 with 1 Axes>"
      ]
     },
     "metadata": {
      "needs_background": "light"
     },
     "output_type": "display_data"
    }
   ],
   "source": [
    "sns.catplot(y=\"District\", kind=\"count\", palette=\"ch:.25\", data=crimes, orient=\"v\", height=5)"
   ]
  },
  {
   "cell_type": "markdown",
   "metadata": {},
   "source": [
    "The most count of the `District` column is District 11, followed by District 8. This means that the most crimes happened in District 11."
   ]
  },
  {
   "cell_type": "code",
   "execution_count": 8,
   "metadata": {},
   "outputs": [
    {
     "data": {
      "text/plain": [
       "<seaborn.axisgrid.FacetGrid at 0x1f214259eb0>"
      ]
     },
     "execution_count": 8,
     "metadata": {},
     "output_type": "execute_result"
    },
    {
     "data": {
      "image/png": "[encoded data removed]",
      "text/plain": [
       "<Figure size 720x720 with 1 Axes>"
      ]
     },
     "metadata": {
      "needs_background": "light"
     },
     "output_type": "display_data"
    }
   ],
   "source": [
    "sns.catplot(y=\"Ward\", kind=\"count\", palette=\"ch:.25\", data=crimes, orient=\"v\", height=10)"
   ]
  },
  {
   "cell_type": "markdown",
   "metadata": {},
   "source": [
    "The most count of the `District` column is Ward 41, followed by Ward 24 and 28. This means that the most crimes happened in Ward 41."
   ]
  },
  {
   "cell_type": "code",
   "execution_count": 9,
   "metadata": {},
   "outputs": [
    {
     "data": {
      "text/plain": [
       "<seaborn.axisgrid.FacetGrid at 0x1f21433d130>"
      ]
     },
     "execution_count": 9,
     "metadata": {},
     "output_type": "execute_result"
    },
    {
     "data": {
      "image/png": "[encoded data removed]",
      "text/plain": [
       "<Figure size 360x360 with 1 Axes>"
      ]
     },
     "metadata": {
      "needs_background": "light"
     },
     "output_type": "display_data"
    }
   ],
   "source": [
    "sns.catplot(y=\"Year\", kind=\"count\", palette=\"ch:.25\", data=crimes, orient=\"v\")"
   ]
  },
  {
   "cell_type": "markdown",
   "metadata": {},
   "source": [
    "This means that the data is taken around 2015 until 2019, probably not until a full year of 2019 and also not a full year of 2015."
   ]
  },
  {
   "cell_type": "markdown",
   "metadata": {},
   "source": [
    "#### Correlation Heatmap\n",
    "\n",
    "The main thing we want to see in the data exploration phase is the relationship between variables, so we would like to go on to check those soon. Before that, we want to see the correlation heatmap to help us decide which variables are kind of significant to each other."
   ]
  },
  {
   "cell_type": "code",
   "execution_count": 10,
   "metadata": {},
   "outputs": [
    {
     "data": {
      "image/png": "[encoded data removed]",
      "text/plain": [
       "<Figure size 1152x432 with 2 Axes>"
      ]
     },
     "metadata": {
      "needs_background": "light"
     },
     "output_type": "display_data"
    }
   ],
   "source": [
    "plt.figure(figsize=(16, 6))\n",
    "heatmap = sns.heatmap(crimes.corr(), vmin=-1, vmax=1, annot=True)\n",
    "heatmap.set_title('Correlation Heatmap', fontdict={'fontsize':12}, pad=12);"
   ]
  },
  {
   "cell_type": "markdown",
   "metadata": {},
   "source": [
    "Correlation Heatmap only shows the correlation between boolean, integer and float data types, so we have a total of 13 columns' correlation score with each other. There are variables that has the correlation value 1, so we can think about dropping one of them in the future, for example `X Coordinate` with `Longitude` and `Y Coordinate` with `Latitude`. We know that in reality X Coordinate with Longitude and Y Coordinate with Latitude are sort of similiar. \n",
    "<br><br>\n",
    "The next variables that has the correlation 1 is `Beat` with `District`. From the columns explanation that was already provided, we know that beat is a part of a district, so it makes sense that they have a correlation of 1. For a high correlation score of 0.97, we have `Year` with `Unnamed: 0`, but since the column is unnamed, we can't know what that is.\n",
    "<br><br>\n",
    "The decent correlation score such around 0.6 are shown a lot in the heatmap, like `Latitude` with `Beat`, `District` and `Ward`. It is possible that it has a quite high correlation score because the columns are about pointing out locations where the crime happened. It is the same with `Y Coordinate` with `Beat`, `District` and `Ward`, but because `Y Coordinate` is literally `Latitude`, it has the same meaning. Also, there is some variables that has a high correlation with `ID` but we assume that `ID` contains of only unique variables and we will probably drop it later, so we don't need to look onto it. There is one negative correlation value that is quite high, which is -0.78 that is between `Community Area` and `Latitude` plus `Community Area` and `Y Coordinate`. This is the same reasoning probably with the ones before - because the columns are pointing out locations.\n",
    "<br><br>\n",
    "The rest of the correlationship are okay but we don't want to point out everything. We can now check the relationships visualization of the columns that we don't plan to drop to see how it goes."
   ]
  },
  {
   "cell_type": "markdown",
   "metadata": {},
   "source": [
    "#### Variables Relationship\n",
    "\n",
    "The relationship that we want to see here is between categorical object columns, the first one is between `Primary Type` and `Arrest` to see which Primary Type has the most cases of being arrested."
   ]
  },
  {
   "cell_type": "code",
   "execution_count": 11,
   "metadata": {},
   "outputs": [
    {
     "data": {
      "text/plain": [
       "<seaborn.axisgrid.FacetGrid at 0x1f21448f970>"
      ]
     },
     "execution_count": 11,
     "metadata": {},
     "output_type": "execute_result"
    },
    {
     "data": {
      "image/png": "[encoded data removed]",
      "text/plain": [
       "<Figure size 781.25x720 with 1 Axes>"
      ]
     },
     "metadata": {
      "needs_background": "light"
     },
     "output_type": "display_data"
    }
   ],
   "source": [
    "sns.catplot(y=\"Primary Type\", hue=\"Arrest\", kind=\"count\",\n",
    "            palette=\"pastel\", edgecolor=\".6\",\n",
    "            data=crimes, height=10)"
   ]
  },
  {
   "cell_type": "markdown",
   "metadata": {},
   "source": [
    "The categorical plot shows that most of the times are not arrested. The arrested crime highest rate for `Primary Type` Narcotics - we can see that almost 100% are arrested - and then followed by Battery. We want to see whether every Narcotics case results to being arrest by seeing it manually."
   ]
  },
  {
   "cell_type": "code",
   "execution_count": 12,
   "metadata": {},
   "outputs": [
    {
     "data": {
      "text/plain": [
       "(24, 23)"
      ]
     },
     "execution_count": 12,
     "metadata": {},
     "output_type": "execute_result"
    }
   ],
   "source": [
    "crimes[(crimes['Primary Type'] == 'NARCOTICS') & (crimes['Arrest'] == 0)].shape"
   ]
  },
  {
   "cell_type": "code",
   "execution_count": 13,
   "metadata": {},
   "outputs": [
    {
     "data": {
      "text/plain": [
       "(59881, 23)"
      ]
     },
     "execution_count": 13,
     "metadata": {},
     "output_type": "execute_result"
    }
   ],
   "source": [
    "crimes[(crimes['Primary Type'] == 'NARCOTICS') & (crimes['Arrest'] == 1)].shape"
   ]
  },
  {
   "cell_type": "markdown",
   "metadata": {},
   "source": [
    "There is only 24 out of all Narcotics cases which were arrested, so we can conclude that Narcotics crime type has a very high rate of being arrested. We also want to see between `Primary Type` with `Domestic` which type is the most domestic-related."
   ]
  },
  {
   "cell_type": "code",
   "execution_count": 14,
   "metadata": {},
   "outputs": [
    {
     "data": {
      "text/plain": [
       "<seaborn.axisgrid.FacetGrid at 0x1f21459dac0>"
      ]
     },
     "execution_count": 14,
     "metadata": {},
     "output_type": "execute_result"
    },
    {
     "data": {
      "image/png": "[encoded data removed]",
      "text/plain": [
       "<Figure size 781.25x720 with 1 Axes>"
      ]
     },
     "metadata": {
      "needs_background": "light"
     },
     "output_type": "display_data"
    }
   ],
   "source": [
    "sns.catplot(y=\"Primary Type\", hue=\"Domestic\", kind=\"count\",\n",
    "            palette=\"pastel\", edgecolor=\".6\",\n",
    "            data=crimes, height=10)"
   ]
  },
  {
   "cell_type": "markdown",
   "metadata": {},
   "source": [
    "The results show that Battery - the actual wrong act of physically harming someone - is mostly domestic-related, followed with Assault. Domestic means that the perperator lives in the same place or nearby as the victim. The next one we want to see is `FBI Code` and `Primary Type` because it looks kind of similar so we want to look more into it."
   ]
  },
  {
   "cell_type": "code",
   "execution_count": 15,
   "metadata": {},
   "outputs": [
    {
     "data": {
      "text/plain": [
       "array(['06', '03', '07', '11', '05', '14', '04A', '18', '08A', '08B',\n",
       "       '26', '02', '20', '04B', '17', '24', '01A', '15', '10', '22', '16',\n",
       "       '19', '09', '13', '12', '01B'], dtype=object)"
      ]
     },
     "execution_count": 15,
     "metadata": {},
     "output_type": "execute_result"
    }
   ],
   "source": [
    "crimes['FBI Code'].unique()"
   ]
  },
  {
   "cell_type": "markdown",
   "metadata": {},
   "source": [
    "There is a lot of unique values in `FBI Code` so we don't wanna plot the relationship plot. Instead, we take a quick look at the FBI Code list, and check if they are related or not. If they are totally related, we can drop the `FBI Code` column. "
   ]
  },
  {
   "cell_type": "code",
   "execution_count": 16,
   "metadata": {},
   "outputs": [
    {
     "data": {
      "text/html": [
       "<div>\n",
       "<style scoped>\n",
       "    .dataframe tbody tr th:only-of-type {\n",
       "        vertical-align: middle;\n",
       "    }\n",
       "\n",
       "    .dataframe tbody tr th {\n",
       "        vertical-align: top;\n",
       "    }\n",
       "\n",
       "    .dataframe thead th {\n",
       "        text-align: right;\n",
       "    }\n",
       "</style>\n",
       "<table border=\"1\" class=\"dataframe\">\n",
       "  <thead>\n",
       "    <tr style=\"text-align: right;\">\n",
       "      <th></th>\n",
       "      <th>Unnamed: 0</th>\n",
       "      <th>ID</th>\n",
       "      <th>Case Number</th>\n",
       "      <th>Date</th>\n",
       "      <th>Block</th>\n",
       "      <th>IUCR</th>\n",
       "      <th>Primary Type</th>\n",
       "      <th>Description</th>\n",
       "      <th>Location Description</th>\n",
       "      <th>Arrest</th>\n",
       "      <th>...</th>\n",
       "      <th>Ward</th>\n",
       "      <th>Community Area</th>\n",
       "      <th>FBI Code</th>\n",
       "      <th>X Coordinate</th>\n",
       "      <th>Y Coordinate</th>\n",
       "      <th>Year</th>\n",
       "      <th>Updated On</th>\n",
       "      <th>Latitude</th>\n",
       "      <th>Longitude</th>\n",
       "      <th>Location</th>\n",
       "    </tr>\n",
       "  </thead>\n",
       "  <tbody>\n",
       "    <tr>\n",
       "      <th>0</th>\n",
       "      <td>861410</td>\n",
       "      <td>11476552</td>\n",
       "      <td>JB475560</td>\n",
       "      <td>10/14/2018 06:51:00 PM</td>\n",
       "      <td>039XX W OGDEN AVE</td>\n",
       "      <td>0820</td>\n",
       "      <td>THEFT</td>\n",
       "      <td>$500 AND UNDER</td>\n",
       "      <td>SMALL RETAIL STORE</td>\n",
       "      <td>True</td>\n",
       "      <td>...</td>\n",
       "      <td>22.0</td>\n",
       "      <td>29.0</td>\n",
       "      <td>06</td>\n",
       "      <td>1150286.0</td>\n",
       "      <td>1889027.0</td>\n",
       "      <td>2018</td>\n",
       "      <td>10/21/2018 04:09:44 PM</td>\n",
       "      <td>41.851393</td>\n",
       "      <td>-87.723904</td>\n",
       "      <td>(41.851393305, -87.723903515)</td>\n",
       "    </tr>\n",
       "    <tr>\n",
       "      <th>3</th>\n",
       "      <td>496462</td>\n",
       "      <td>10430338</td>\n",
       "      <td>HZ168230</td>\n",
       "      <td>02/26/2016 03:00:00 AM</td>\n",
       "      <td>002XX W JACKSON BLVD</td>\n",
       "      <td>0860</td>\n",
       "      <td>THEFT</td>\n",
       "      <td>RETAIL THEFT</td>\n",
       "      <td>CONVENIENCE STORE</td>\n",
       "      <td>False</td>\n",
       "      <td>...</td>\n",
       "      <td>2.0</td>\n",
       "      <td>32.0</td>\n",
       "      <td>06</td>\n",
       "      <td>1174641.0</td>\n",
       "      <td>1898950.0</td>\n",
       "      <td>2016</td>\n",
       "      <td>02/10/2018 03:50:01 PM</td>\n",
       "      <td>41.878114</td>\n",
       "      <td>-87.634219</td>\n",
       "      <td>(41.878113603, -87.634218691)</td>\n",
       "    </tr>\n",
       "    <tr>\n",
       "      <th>4</th>\n",
       "      <td>946330</td>\n",
       "      <td>11361027</td>\n",
       "      <td>JB324433</td>\n",
       "      <td>06/26/2018 12:30:00 PM</td>\n",
       "      <td>0000X E MONROE ST</td>\n",
       "      <td>0890</td>\n",
       "      <td>THEFT</td>\n",
       "      <td>FROM BUILDING</td>\n",
       "      <td>SMALL RETAIL STORE</td>\n",
       "      <td>False</td>\n",
       "      <td>...</td>\n",
       "      <td>42.0</td>\n",
       "      <td>32.0</td>\n",
       "      <td>06</td>\n",
       "      <td>1176686.0</td>\n",
       "      <td>1899939.0</td>\n",
       "      <td>2018</td>\n",
       "      <td>07/03/2018 03:55:36 PM</td>\n",
       "      <td>41.880782</td>\n",
       "      <td>-87.626680</td>\n",
       "      <td>(41.880781519, -87.626680112)</td>\n",
       "    </tr>\n",
       "    <tr>\n",
       "      <th>7</th>\n",
       "      <td>540164</td>\n",
       "      <td>11184103</td>\n",
       "      <td>JA558070</td>\n",
       "      <td>12/20/2017 11:00:00 AM</td>\n",
       "      <td>024XX W LUNT AVE</td>\n",
       "      <td>0890</td>\n",
       "      <td>THEFT</td>\n",
       "      <td>FROM BUILDING</td>\n",
       "      <td>RESIDENCE PORCH/HALLWAY</td>\n",
       "      <td>False</td>\n",
       "      <td>...</td>\n",
       "      <td>50.0</td>\n",
       "      <td>2.0</td>\n",
       "      <td>06</td>\n",
       "      <td>1158733.0</td>\n",
       "      <td>1946390.0</td>\n",
       "      <td>2017</td>\n",
       "      <td>05/04/2018 03:51:04 PM</td>\n",
       "      <td>42.008633</td>\n",
       "      <td>-87.691324</td>\n",
       "      <td>(42.008632687, -87.691324437)</td>\n",
       "    </tr>\n",
       "    <tr>\n",
       "      <th>16</th>\n",
       "      <td>646885</td>\n",
       "      <td>11036332</td>\n",
       "      <td>JA370307</td>\n",
       "      <td>07/30/2017 08:40:00 PM</td>\n",
       "      <td>038XX S GILES AVE</td>\n",
       "      <td>0810</td>\n",
       "      <td>THEFT</td>\n",
       "      <td>OVER $500</td>\n",
       "      <td>STREET</td>\n",
       "      <td>False</td>\n",
       "      <td>...</td>\n",
       "      <td>3.0</td>\n",
       "      <td>35.0</td>\n",
       "      <td>06</td>\n",
       "      <td>1178891.0</td>\n",
       "      <td>1879610.0</td>\n",
       "      <td>2017</td>\n",
       "      <td>02/10/2018 03:50:01 PM</td>\n",
       "      <td>41.824947</td>\n",
       "      <td>-87.619204</td>\n",
       "      <td>(41.824947313, -87.619204429)</td>\n",
       "    </tr>\n",
       "    <tr>\n",
       "      <th>...</th>\n",
       "      <td>...</td>\n",
       "      <td>...</td>\n",
       "      <td>...</td>\n",
       "      <td>...</td>\n",
       "      <td>...</td>\n",
       "      <td>...</td>\n",
       "      <td>...</td>\n",
       "      <td>...</td>\n",
       "      <td>...</td>\n",
       "      <td>...</td>\n",
       "      <td>...</td>\n",
       "      <td>...</td>\n",
       "      <td>...</td>\n",
       "      <td>...</td>\n",
       "      <td>...</td>\n",
       "      <td>...</td>\n",
       "      <td>...</td>\n",
       "      <td>...</td>\n",
       "      <td>...</td>\n",
       "      <td>...</td>\n",
       "      <td>...</td>\n",
       "    </tr>\n",
       "    <tr>\n",
       "      <th>1031725</th>\n",
       "      <td>704617</td>\n",
       "      <td>10950102</td>\n",
       "      <td>JA269701</td>\n",
       "      <td>05/18/2017 06:55:00 PM</td>\n",
       "      <td>005XX W POLK ST</td>\n",
       "      <td>0820</td>\n",
       "      <td>THEFT</td>\n",
       "      <td>$500 AND UNDER</td>\n",
       "      <td>STREET</td>\n",
       "      <td>False</td>\n",
       "      <td>...</td>\n",
       "      <td>2.0</td>\n",
       "      <td>28.0</td>\n",
       "      <td>06</td>\n",
       "      <td>1173096.0</td>\n",
       "      <td>1896717.0</td>\n",
       "      <td>2017</td>\n",
       "      <td>02/10/2018 03:50:01 PM</td>\n",
       "      <td>41.872020</td>\n",
       "      <td>-87.639958</td>\n",
       "      <td>(41.872020496, -87.639957754)</td>\n",
       "    </tr>\n",
       "    <tr>\n",
       "      <th>1031739</th>\n",
       "      <td>438936</td>\n",
       "      <td>10525983</td>\n",
       "      <td>HZ267425</td>\n",
       "      <td>05/16/2016 08:50:00 PM</td>\n",
       "      <td>015XX E 53RD ST</td>\n",
       "      <td>0890</td>\n",
       "      <td>THEFT</td>\n",
       "      <td>FROM BUILDING</td>\n",
       "      <td>OTHER</td>\n",
       "      <td>False</td>\n",
       "      <td>...</td>\n",
       "      <td>4.0</td>\n",
       "      <td>41.0</td>\n",
       "      <td>06</td>\n",
       "      <td>1187505.0</td>\n",
       "      <td>1870429.0</td>\n",
       "      <td>2016</td>\n",
       "      <td>02/10/2018 03:50:01 PM</td>\n",
       "      <td>41.799553</td>\n",
       "      <td>-87.587895</td>\n",
       "      <td>(41.799553224, -87.587894753)</td>\n",
       "    </tr>\n",
       "    <tr>\n",
       "      <th>1031740</th>\n",
       "      <td>324649</td>\n",
       "      <td>10708413</td>\n",
       "      <td>HZ465384</td>\n",
       "      <td>10/07/2016 06:00:00 PM</td>\n",
       "      <td>066XX W FULLERTON AVE</td>\n",
       "      <td>0870</td>\n",
       "      <td>THEFT</td>\n",
       "      <td>POCKET-PICKING</td>\n",
       "      <td>SMALL RETAIL STORE</td>\n",
       "      <td>False</td>\n",
       "      <td>...</td>\n",
       "      <td>36.0</td>\n",
       "      <td>19.0</td>\n",
       "      <td>06</td>\n",
       "      <td>NaN</td>\n",
       "      <td>NaN</td>\n",
       "      <td>2016</td>\n",
       "      <td>10/14/2016 04:07:57 PM</td>\n",
       "      <td>NaN</td>\n",
       "      <td>NaN</td>\n",
       "      <td>NaN</td>\n",
       "    </tr>\n",
       "    <tr>\n",
       "      <th>1031741</th>\n",
       "      <td>382880</td>\n",
       "      <td>10612722</td>\n",
       "      <td>HZ365526</td>\n",
       "      <td>07/26/2016 03:45:00 PM</td>\n",
       "      <td>0000X W MADISON ST</td>\n",
       "      <td>0820</td>\n",
       "      <td>THEFT</td>\n",
       "      <td>$500 AND UNDER</td>\n",
       "      <td>SIDEWALK</td>\n",
       "      <td>False</td>\n",
       "      <td>...</td>\n",
       "      <td>42.0</td>\n",
       "      <td>32.0</td>\n",
       "      <td>06</td>\n",
       "      <td>1176107.0</td>\n",
       "      <td>1900380.0</td>\n",
       "      <td>2016</td>\n",
       "      <td>02/10/2018 03:50:01 PM</td>\n",
       "      <td>41.882005</td>\n",
       "      <td>-87.628793</td>\n",
       "      <td>(41.882004711, -87.628792836)</td>\n",
       "    </tr>\n",
       "    <tr>\n",
       "      <th>1031742</th>\n",
       "      <td>48856</td>\n",
       "      <td>10286160</td>\n",
       "      <td>HY473701</td>\n",
       "      <td>10/22/2015 08:00:00 AM</td>\n",
       "      <td>082XX S VERNON AVE</td>\n",
       "      <td>0820</td>\n",
       "      <td>THEFT</td>\n",
       "      <td>$500 AND UNDER</td>\n",
       "      <td>RESIDENCE PORCH/HALLWAY</td>\n",
       "      <td>False</td>\n",
       "      <td>...</td>\n",
       "      <td>6.0</td>\n",
       "      <td>44.0</td>\n",
       "      <td>06</td>\n",
       "      <td>1180680.0</td>\n",
       "      <td>1850414.0</td>\n",
       "      <td>2015</td>\n",
       "      <td>02/10/2018 03:50:01 PM</td>\n",
       "      <td>41.744790</td>\n",
       "      <td>-87.613538</td>\n",
       "      <td>(41.744789745, -87.613537842)</td>\n",
       "    </tr>\n",
       "  </tbody>\n",
       "</table>\n",
       "<p>239807 rows × 23 columns</p>\n",
       "</div>"
      ],
      "text/plain": [
       "         Unnamed: 0        ID Case Number                    Date  \\\n",
       "0            861410  11476552    JB475560  10/14/2018 06:51:00 PM   \n",
       "3            496462  10430338    HZ168230  02/26/2016 03:00:00 AM   \n",
       "4            946330  11361027    JB324433  06/26/2018 12:30:00 PM   \n",
       "7            540164  11184103    JA558070  12/20/2017 11:00:00 AM   \n",
       "16           646885  11036332    JA370307  07/30/2017 08:40:00 PM   \n",
       "...             ...       ...         ...                     ...   \n",
       "1031725      704617  10950102    JA269701  05/18/2017 06:55:00 PM   \n",
       "1031739      438936  10525983    HZ267425  05/16/2016 08:50:00 PM   \n",
       "1031740      324649  10708413    HZ465384  10/07/2016 06:00:00 PM   \n",
       "1031741      382880  10612722    HZ365526  07/26/2016 03:45:00 PM   \n",
       "1031742       48856  10286160    HY473701  10/22/2015 08:00:00 AM   \n",
       "\n",
       "                         Block  IUCR Primary Type     Description  \\\n",
       "0            039XX W OGDEN AVE  0820        THEFT  $500 AND UNDER   \n",
       "3         002XX W JACKSON BLVD  0860        THEFT    RETAIL THEFT   \n",
       "4            0000X E MONROE ST  0890        THEFT   FROM BUILDING   \n",
       "7             024XX W LUNT AVE  0890        THEFT   FROM BUILDING   \n",
       "16           038XX S GILES AVE  0810        THEFT       OVER $500   \n",
       "...                        ...   ...          ...             ...   \n",
       "1031725        005XX W POLK ST  0820        THEFT  $500 AND UNDER   \n",
       "1031739        015XX E 53RD ST  0890        THEFT   FROM BUILDING   \n",
       "1031740  066XX W FULLERTON AVE  0870        THEFT  POCKET-PICKING   \n",
       "1031741     0000X W MADISON ST  0820        THEFT  $500 AND UNDER   \n",
       "1031742     082XX S VERNON AVE  0820        THEFT  $500 AND UNDER   \n",
       "\n",
       "            Location Description  Arrest  ...  Ward  Community Area  FBI Code  \\\n",
       "0             SMALL RETAIL STORE    True  ...  22.0            29.0        06   \n",
       "3              CONVENIENCE STORE   False  ...   2.0            32.0        06   \n",
       "4             SMALL RETAIL STORE   False  ...  42.0            32.0        06   \n",
       "7        RESIDENCE PORCH/HALLWAY   False  ...  50.0             2.0        06   \n",
       "16                        STREET   False  ...   3.0            35.0        06   \n",
       "...                          ...     ...  ...   ...             ...       ...   \n",
       "1031725                   STREET   False  ...   2.0            28.0        06   \n",
       "1031739                    OTHER   False  ...   4.0            41.0        06   \n",
       "1031740       SMALL RETAIL STORE   False  ...  36.0            19.0        06   \n",
       "1031741                 SIDEWALK   False  ...  42.0            32.0        06   \n",
       "1031742  RESIDENCE PORCH/HALLWAY   False  ...   6.0            44.0        06   \n",
       "\n",
       "         X Coordinate  Y Coordinate  Year              Updated On   Latitude  \\\n",
       "0           1150286.0     1889027.0  2018  10/21/2018 04:09:44 PM  41.851393   \n",
       "3           1174641.0     1898950.0  2016  02/10/2018 03:50:01 PM  41.878114   \n",
       "4           1176686.0     1899939.0  2018  07/03/2018 03:55:36 PM  41.880782   \n",
       "7           1158733.0     1946390.0  2017  05/04/2018 03:51:04 PM  42.008633   \n",
       "16          1178891.0     1879610.0  2017  02/10/2018 03:50:01 PM  41.824947   \n",
       "...               ...           ...   ...                     ...        ...   \n",
       "1031725     1173096.0     1896717.0  2017  02/10/2018 03:50:01 PM  41.872020   \n",
       "1031739     1187505.0     1870429.0  2016  02/10/2018 03:50:01 PM  41.799553   \n",
       "1031740           NaN           NaN  2016  10/14/2016 04:07:57 PM        NaN   \n",
       "1031741     1176107.0     1900380.0  2016  02/10/2018 03:50:01 PM  41.882005   \n",
       "1031742     1180680.0     1850414.0  2015  02/10/2018 03:50:01 PM  41.744790   \n",
       "\n",
       "         Longitude                       Location  \n",
       "0       -87.723904  (41.851393305, -87.723903515)  \n",
       "3       -87.634219  (41.878113603, -87.634218691)  \n",
       "4       -87.626680  (41.880781519, -87.626680112)  \n",
       "7       -87.691324  (42.008632687, -87.691324437)  \n",
       "16      -87.619204  (41.824947313, -87.619204429)  \n",
       "...            ...                            ...  \n",
       "1031725 -87.639958  (41.872020496, -87.639957754)  \n",
       "1031739 -87.587895  (41.799553224, -87.587894753)  \n",
       "1031740        NaN                            NaN  \n",
       "1031741 -87.628793  (41.882004711, -87.628792836)  \n",
       "1031742 -87.613538  (41.744789745, -87.613537842)  \n",
       "\n",
       "[239807 rows x 23 columns]"
      ]
     },
     "execution_count": 16,
     "metadata": {},
     "output_type": "execute_result"
    }
   ],
   "source": [
    "crimes.loc[(crimes['FBI Code'] == '06')]"
   ]
  },
  {
   "cell_type": "markdown",
   "metadata": {},
   "source": [
    "From the preview, the primary type for code 06 is Theft. So let's see if all of Code 06 are Theft cases."
   ]
  },
  {
   "cell_type": "code",
   "execution_count": 17,
   "metadata": {},
   "outputs": [
    {
     "data": {
      "text/html": [
       "<div>\n",
       "<style scoped>\n",
       "    .dataframe tbody tr th:only-of-type {\n",
       "        vertical-align: middle;\n",
       "    }\n",
       "\n",
       "    .dataframe tbody tr th {\n",
       "        vertical-align: top;\n",
       "    }\n",
       "\n",
       "    .dataframe thead th {\n",
       "        text-align: right;\n",
       "    }\n",
       "</style>\n",
       "<table border=\"1\" class=\"dataframe\">\n",
       "  <thead>\n",
       "    <tr style=\"text-align: right;\">\n",
       "      <th></th>\n",
       "      <th>Unnamed: 0</th>\n",
       "      <th>ID</th>\n",
       "      <th>Case Number</th>\n",
       "      <th>Date</th>\n",
       "      <th>Block</th>\n",
       "      <th>IUCR</th>\n",
       "      <th>Primary Type</th>\n",
       "      <th>Description</th>\n",
       "      <th>Location Description</th>\n",
       "      <th>Arrest</th>\n",
       "      <th>...</th>\n",
       "      <th>Ward</th>\n",
       "      <th>Community Area</th>\n",
       "      <th>FBI Code</th>\n",
       "      <th>X Coordinate</th>\n",
       "      <th>Y Coordinate</th>\n",
       "      <th>Year</th>\n",
       "      <th>Updated On</th>\n",
       "      <th>Latitude</th>\n",
       "      <th>Longitude</th>\n",
       "      <th>Location</th>\n",
       "    </tr>\n",
       "  </thead>\n",
       "  <tbody>\n",
       "  </tbody>\n",
       "</table>\n",
       "<p>0 rows × 23 columns</p>\n",
       "</div>"
      ],
      "text/plain": [
       "Empty DataFrame\n",
       "Columns: [Unnamed: 0, ID, Case Number, Date, Block, IUCR, Primary Type, Description, Location Description, Arrest, Domestic, Beat, District, Ward, Community Area, FBI Code, X Coordinate, Y Coordinate, Year, Updated On, Latitude, Longitude, Location]\n",
       "Index: []\n",
       "\n",
       "[0 rows x 23 columns]"
      ]
     },
     "execution_count": 17,
     "metadata": {},
     "output_type": "execute_result"
    }
   ],
   "source": [
    "crimes.loc[(crimes['FBI Code'] == '06') & (crimes['Primary Type'] != 'THEFT')]"
   ]
  },
  {
   "cell_type": "markdown",
   "metadata": {},
   "source": [
    "It is confirmed that Code 06 is Theft cases. In that case, `FBI Code` is basically similar as `Primary Type`. Therefore, we already has an understanding of what our data is like and we can proceed to do data preparation"
   ]
  },
  {
   "cell_type": "markdown",
   "metadata": {},
   "source": [
    "## 3. Data Preparation (30 pts.)"
   ]
  },
  {
   "cell_type": "markdown",
   "metadata": {},
   "source": [
    "#### Dropping Columns\n",
    "\n",
    "Before dealing with missing values, we would like to drop some columns that we find not that relevant. The first ones are `Unnamed: 0`, `ID`, `Updated On` and `Case Number`, because `Unnamed: 0` is not clear and the other two must contains only unique variables. The next variables we will drop includes `Block`, `IUCR`, `Description`, `Location Description`, `Beat`, `X Coordinate`, `Community Area`, `Y Coordinate`, `Location`, `Langitude`, `Longitude`, and `FBI Code` because the informations are similiar to some columns. We also want to drop `Arrest`and `Domestic` because it won't have too much significance on the crime rate which will be our target variable. "
   ]
  },
  {
   "cell_type": "code",
   "execution_count": 18,
   "metadata": {},
   "outputs": [],
   "source": [
    "crimes = crimes.drop(columns=['Unnamed: 0', 'ID', 'Updated On', 'Case Number',\n",
    "                     'Block', 'IUCR', 'Description', 'Location Description',\n",
    "                     'Beat', 'X Coordinate', 'Y Coordinate', 'Location',\n",
    "                     'Latitude', 'Longitude', 'FBI Code', 'Arrest', 'Community Area',\n",
    "                              'Domestic'])"
   ]
  },
  {
   "cell_type": "code",
   "execution_count": 19,
   "metadata": {},
   "outputs": [
    {
     "data": {
      "text/html": [
       "<div>\n",
       "<style scoped>\n",
       "    .dataframe tbody tr th:only-of-type {\n",
       "        vertical-align: middle;\n",
       "    }\n",
       "\n",
       "    .dataframe tbody tr th {\n",
       "        vertical-align: top;\n",
       "    }\n",
       "\n",
       "    .dataframe thead th {\n",
       "        text-align: right;\n",
       "    }\n",
       "</style>\n",
       "<table border=\"1\" class=\"dataframe\">\n",
       "  <thead>\n",
       "    <tr style=\"text-align: right;\">\n",
       "      <th></th>\n",
       "      <th>Date</th>\n",
       "      <th>Primary Type</th>\n",
       "      <th>District</th>\n",
       "      <th>Ward</th>\n",
       "      <th>Year</th>\n",
       "    </tr>\n",
       "  </thead>\n",
       "  <tbody>\n",
       "    <tr>\n",
       "      <th>0</th>\n",
       "      <td>10/14/2018 06:51:00 PM</td>\n",
       "      <td>THEFT</td>\n",
       "      <td>10.0</td>\n",
       "      <td>22.0</td>\n",
       "      <td>2018</td>\n",
       "    </tr>\n",
       "    <tr>\n",
       "      <th>1</th>\n",
       "      <td>01/25/2017 11:00:00 PM</td>\n",
       "      <td>ROBBERY</td>\n",
       "      <td>12.0</td>\n",
       "      <td>25.0</td>\n",
       "      <td>2017</td>\n",
       "    </tr>\n",
       "    <tr>\n",
       "      <th>2</th>\n",
       "      <td>07/26/2017 12:30:00 AM</td>\n",
       "      <td>MOTOR VEHICLE THEFT</td>\n",
       "      <td>18.0</td>\n",
       "      <td>43.0</td>\n",
       "      <td>2017</td>\n",
       "    </tr>\n",
       "    <tr>\n",
       "      <th>3</th>\n",
       "      <td>02/26/2016 03:00:00 AM</td>\n",
       "      <td>THEFT</td>\n",
       "      <td>1.0</td>\n",
       "      <td>2.0</td>\n",
       "      <td>2016</td>\n",
       "    </tr>\n",
       "    <tr>\n",
       "      <th>4</th>\n",
       "      <td>06/26/2018 12:30:00 PM</td>\n",
       "      <td>THEFT</td>\n",
       "      <td>1.0</td>\n",
       "      <td>42.0</td>\n",
       "      <td>2018</td>\n",
       "    </tr>\n",
       "    <tr>\n",
       "      <th>...</th>\n",
       "      <td>...</td>\n",
       "      <td>...</td>\n",
       "      <td>...</td>\n",
       "      <td>...</td>\n",
       "      <td>...</td>\n",
       "    </tr>\n",
       "    <tr>\n",
       "      <th>1031739</th>\n",
       "      <td>05/16/2016 08:50:00 PM</td>\n",
       "      <td>THEFT</td>\n",
       "      <td>2.0</td>\n",
       "      <td>4.0</td>\n",
       "      <td>2016</td>\n",
       "    </tr>\n",
       "    <tr>\n",
       "      <th>1031740</th>\n",
       "      <td>10/07/2016 06:00:00 PM</td>\n",
       "      <td>THEFT</td>\n",
       "      <td>25.0</td>\n",
       "      <td>36.0</td>\n",
       "      <td>2016</td>\n",
       "    </tr>\n",
       "    <tr>\n",
       "      <th>1031741</th>\n",
       "      <td>07/26/2016 03:45:00 PM</td>\n",
       "      <td>THEFT</td>\n",
       "      <td>1.0</td>\n",
       "      <td>42.0</td>\n",
       "      <td>2016</td>\n",
       "    </tr>\n",
       "    <tr>\n",
       "      <th>1031742</th>\n",
       "      <td>10/22/2015 08:00:00 AM</td>\n",
       "      <td>THEFT</td>\n",
       "      <td>6.0</td>\n",
       "      <td>6.0</td>\n",
       "      <td>2015</td>\n",
       "    </tr>\n",
       "    <tr>\n",
       "      <th>1031743</th>\n",
       "      <td>06/29/2018 04:44:00 PM</td>\n",
       "      <td>INTERFERENCE WITH PUBLIC OFFICER</td>\n",
       "      <td>15.0</td>\n",
       "      <td>28.0</td>\n",
       "      <td>2018</td>\n",
       "    </tr>\n",
       "  </tbody>\n",
       "</table>\n",
       "<p>1031744 rows × 5 columns</p>\n",
       "</div>"
      ],
      "text/plain": [
       "                           Date                      Primary Type  District  \\\n",
       "0        10/14/2018 06:51:00 PM                             THEFT      10.0   \n",
       "1        01/25/2017 11:00:00 PM                           ROBBERY      12.0   \n",
       "2        07/26/2017 12:30:00 AM               MOTOR VEHICLE THEFT      18.0   \n",
       "3        02/26/2016 03:00:00 AM                             THEFT       1.0   \n",
       "4        06/26/2018 12:30:00 PM                             THEFT       1.0   \n",
       "...                         ...                               ...       ...   \n",
       "1031739  05/16/2016 08:50:00 PM                             THEFT       2.0   \n",
       "1031740  10/07/2016 06:00:00 PM                             THEFT      25.0   \n",
       "1031741  07/26/2016 03:45:00 PM                             THEFT       1.0   \n",
       "1031742  10/22/2015 08:00:00 AM                             THEFT       6.0   \n",
       "1031743  06/29/2018 04:44:00 PM  INTERFERENCE WITH PUBLIC OFFICER      15.0   \n",
       "\n",
       "         Ward  Year  \n",
       "0        22.0  2018  \n",
       "1        25.0  2017  \n",
       "2        43.0  2017  \n",
       "3         2.0  2016  \n",
       "4        42.0  2018  \n",
       "...       ...   ...  \n",
       "1031739   4.0  2016  \n",
       "1031740  36.0  2016  \n",
       "1031741  42.0  2016  \n",
       "1031742   6.0  2015  \n",
       "1031743  28.0  2018  \n",
       "\n",
       "[1031744 rows x 5 columns]"
      ]
     },
     "execution_count": 19,
     "metadata": {},
     "output_type": "execute_result"
    }
   ],
   "source": [
    "crimes"
   ]
  },
  {
   "cell_type": "markdown",
   "metadata": {},
   "source": [
    "#### Handling Missing Values\n",
    "\n",
    "We can deal with the missing values we saw on the data exploration phase before with the mode, because most of them are categorical."
   ]
  },
  {
   "cell_type": "code",
   "execution_count": 20,
   "metadata": {},
   "outputs": [
    {
     "name": "stdout",
     "output_type": "stream",
     "text": [
      "<class 'pandas.core.frame.DataFrame'>\n",
      "RangeIndex: 1031744 entries, 0 to 1031743\n",
      "Data columns (total 5 columns):\n",
      " #   Column        Non-Null Count    Dtype  \n",
      "---  ------        --------------    -----  \n",
      " 0   Date          1031744 non-null  object \n",
      " 1   Primary Type  1031744 non-null  object \n",
      " 2   District      1031743 non-null  float64\n",
      " 3   Ward          1031735 non-null  float64\n",
      " 4   Year          1031744 non-null  int64  \n",
      "dtypes: float64(2), int64(1), object(2)\n",
      "memory usage: 39.4+ MB\n"
     ]
    }
   ],
   "source": [
    "crimes.info()"
   ]
  },
  {
   "cell_type": "code",
   "execution_count": 21,
   "metadata": {},
   "outputs": [],
   "source": [
    "crimes['District'] = crimes['District'].fillna(crimes['District'].mode()[0])\n",
    "crimes['Ward'] = crimes['Ward'].fillna(crimes['Ward'].mode()[0])"
   ]
  },
  {
   "cell_type": "code",
   "execution_count": 22,
   "metadata": {},
   "outputs": [
    {
     "name": "stdout",
     "output_type": "stream",
     "text": [
      "<class 'pandas.core.frame.DataFrame'>\n",
      "RangeIndex: 1031744 entries, 0 to 1031743\n",
      "Data columns (total 5 columns):\n",
      " #   Column        Non-Null Count    Dtype  \n",
      "---  ------        --------------    -----  \n",
      " 0   Date          1031744 non-null  object \n",
      " 1   Primary Type  1031744 non-null  object \n",
      " 2   District      1031744 non-null  float64\n",
      " 3   Ward          1031744 non-null  float64\n",
      " 4   Year          1031744 non-null  int64  \n",
      "dtypes: float64(2), int64(1), object(2)\n",
      "memory usage: 39.4+ MB\n"
     ]
    }
   ],
   "source": [
    "crimes.info()"
   ]
  },
  {
   "cell_type": "markdown",
   "metadata": {},
   "source": [
    "#### Changing Data Type and Extracting\n",
    "\n",
    "Then, we want to change `Primary Type` to numerical categories, and also make new columns from `Date`, like particular hour, day (weekday and weekend) and month. We can start by making new columns of `Date`."
   ]
  },
  {
   "cell_type": "code",
   "execution_count": 23,
   "metadata": {},
   "outputs": [
    {
     "data": {
      "text/html": [
       "<div>\n",
       "<style scoped>\n",
       "    .dataframe tbody tr th:only-of-type {\n",
       "        vertical-align: middle;\n",
       "    }\n",
       "\n",
       "    .dataframe tbody tr th {\n",
       "        vertical-align: top;\n",
       "    }\n",
       "\n",
       "    .dataframe thead th {\n",
       "        text-align: right;\n",
       "    }\n",
       "</style>\n",
       "<table border=\"1\" class=\"dataframe\">\n",
       "  <thead>\n",
       "    <tr style=\"text-align: right;\">\n",
       "      <th></th>\n",
       "      <th>DateTime</th>\n",
       "      <th>Month</th>\n",
       "      <th>Day</th>\n",
       "      <th>Hour</th>\n",
       "    </tr>\n",
       "  </thead>\n",
       "  <tbody>\n",
       "    <tr>\n",
       "      <th>0</th>\n",
       "      <td>2018-10-14 18:51:00</td>\n",
       "      <td>10</td>\n",
       "      <td>6</td>\n",
       "      <td>18</td>\n",
       "    </tr>\n",
       "    <tr>\n",
       "      <th>1</th>\n",
       "      <td>2017-01-25 23:00:00</td>\n",
       "      <td>1</td>\n",
       "      <td>2</td>\n",
       "      <td>23</td>\n",
       "    </tr>\n",
       "    <tr>\n",
       "      <th>2</th>\n",
       "      <td>2017-07-26 00:30:00</td>\n",
       "      <td>7</td>\n",
       "      <td>2</td>\n",
       "      <td>0</td>\n",
       "    </tr>\n",
       "    <tr>\n",
       "      <th>3</th>\n",
       "      <td>2016-02-26 03:00:00</td>\n",
       "      <td>2</td>\n",
       "      <td>4</td>\n",
       "      <td>3</td>\n",
       "    </tr>\n",
       "    <tr>\n",
       "      <th>4</th>\n",
       "      <td>2018-06-26 12:30:00</td>\n",
       "      <td>6</td>\n",
       "      <td>1</td>\n",
       "      <td>12</td>\n",
       "    </tr>\n",
       "  </tbody>\n",
       "</table>\n",
       "</div>"
      ],
      "text/plain": [
       "             DateTime  Month  Day  Hour\n",
       "0 2018-10-14 18:51:00     10    6    18\n",
       "1 2017-01-25 23:00:00      1    2    23\n",
       "2 2017-07-26 00:30:00      7    2     0\n",
       "3 2016-02-26 03:00:00      2    4     3\n",
       "4 2018-06-26 12:30:00      6    1    12"
      ]
     },
     "execution_count": 23,
     "metadata": {},
     "output_type": "execute_result"
    }
   ],
   "source": [
    "crimes['DateTime'] = pd.to_datetime(crimes['Date'])\n",
    "\n",
    "crimes['Day'] = crimes['DateTime'].dt.weekday\n",
    "crimes['Month'] = crimes['DateTime'].dt.month\n",
    "crimes['Hour'] = crimes['DateTime'].dt.hour\n",
    "\n",
    "crimes[['DateTime', 'Month', 'Day', 'Hour']].head()"
   ]
  },
  {
   "cell_type": "code",
   "execution_count": 24,
   "metadata": {},
   "outputs": [
    {
     "data": {
      "text/html": [
       "<div>\n",
       "<style scoped>\n",
       "    .dataframe tbody tr th:only-of-type {\n",
       "        vertical-align: middle;\n",
       "    }\n",
       "\n",
       "    .dataframe tbody tr th {\n",
       "        vertical-align: top;\n",
       "    }\n",
       "\n",
       "    .dataframe thead th {\n",
       "        text-align: right;\n",
       "    }\n",
       "</style>\n",
       "<table border=\"1\" class=\"dataframe\">\n",
       "  <thead>\n",
       "    <tr style=\"text-align: right;\">\n",
       "      <th></th>\n",
       "      <th>DateTime</th>\n",
       "      <th>Month</th>\n",
       "      <th>Weekday</th>\n",
       "      <th>Time of the Day</th>\n",
       "    </tr>\n",
       "  </thead>\n",
       "  <tbody>\n",
       "    <tr>\n",
       "      <th>0</th>\n",
       "      <td>2018-10-14 18:51:00</td>\n",
       "      <td>10</td>\n",
       "      <td>0</td>\n",
       "      <td>0</td>\n",
       "    </tr>\n",
       "    <tr>\n",
       "      <th>1</th>\n",
       "      <td>2017-01-25 23:00:00</td>\n",
       "      <td>1</td>\n",
       "      <td>1</td>\n",
       "      <td>1</td>\n",
       "    </tr>\n",
       "    <tr>\n",
       "      <th>2</th>\n",
       "      <td>2017-07-26 00:30:00</td>\n",
       "      <td>7</td>\n",
       "      <td>1</td>\n",
       "      <td>1</td>\n",
       "    </tr>\n",
       "    <tr>\n",
       "      <th>3</th>\n",
       "      <td>2016-02-26 03:00:00</td>\n",
       "      <td>2</td>\n",
       "      <td>1</td>\n",
       "      <td>1</td>\n",
       "    </tr>\n",
       "    <tr>\n",
       "      <th>4</th>\n",
       "      <td>2018-06-26 12:30:00</td>\n",
       "      <td>6</td>\n",
       "      <td>1</td>\n",
       "      <td>0</td>\n",
       "    </tr>\n",
       "  </tbody>\n",
       "</table>\n",
       "</div>"
      ],
      "text/plain": [
       "             DateTime  Month  Weekday  Time of the Day\n",
       "0 2018-10-14 18:51:00     10        0                0\n",
       "1 2017-01-25 23:00:00      1        1                1\n",
       "2 2017-07-26 00:30:00      7        1                1\n",
       "3 2016-02-26 03:00:00      2        1                1\n",
       "4 2018-06-26 12:30:00      6        1                0"
      ]
     },
     "execution_count": 24,
     "metadata": {},
     "output_type": "execute_result"
    }
   ],
   "source": [
    "def weekday_or_no(x):\n",
    "    if(x<=5):\n",
    "        return 1\n",
    "    else:\n",
    "        return 0\n",
    "    \n",
    "crimes['Weekday'] = crimes['Day'].apply(weekday_or_no)\n",
    "\n",
    "def time_of_the_day(x):\n",
    "    if(x>5 and x<=18):\n",
    "        return 0\n",
    "    else:\n",
    "        return 1\n",
    "    \n",
    "crimes['Time of the Day'] = crimes['Hour'].apply(time_of_the_day)\n",
    "\n",
    "crimes[['DateTime', 'Month', 'Weekday', 'Time of the Day']].head()"
   ]
  },
  {
   "cell_type": "markdown",
   "metadata": {},
   "source": [
    "Next we can continue with converting `Primary Type` to numerical but still categorical."
   ]
  },
  {
   "cell_type": "code",
   "execution_count": 25,
   "metadata": {},
   "outputs": [
    {
     "data": {
      "text/plain": [
       "array(['THEFT', 'ROBBERY', 'MOTOR VEHICLE THEFT', 'DECEPTIVE PRACTICE',\n",
       "       'BURGLARY', 'CRIMINAL DAMAGE', 'ASSAULT', 'NARCOTICS', 'BATTERY',\n",
       "       'CRIMINAL TRESPASS', 'OFFENSE INVOLVING CHILDREN', 'OTHER OFFENSE',\n",
       "       'PUBLIC PEACE VIOLATION', 'HOMICIDE', 'STALKING', 'KIDNAPPING',\n",
       "       'WEAPONS VIOLATION', 'SEX OFFENSE',\n",
       "       'INTERFERENCE WITH PUBLIC OFFICER', 'LIQUOR LAW VIOLATION',\n",
       "       'CRIM SEXUAL ASSAULT', 'PROSTITUTION', 'GAMBLING', 'ARSON',\n",
       "       'CONCEALED CARRY LICENSE VIOLATION', 'NON-CRIMINAL', 'OBSCENITY',\n",
       "       'HUMAN TRAFFICKING', 'INTIMIDATION', 'OTHER NARCOTIC VIOLATION',\n",
       "       'PUBLIC INDECENCY', 'NON - CRIMINAL',\n",
       "       'NON-CRIMINAL (SUBJECT SPECIFIED)'], dtype=object)"
      ]
     },
     "execution_count": 25,
     "metadata": {},
     "output_type": "execute_result"
    }
   ],
   "source": [
    "crimes['Primary Type'].unique()"
   ]
  },
  {
   "cell_type": "code",
   "execution_count": 26,
   "metadata": {},
   "outputs": [
    {
     "data": {
      "text/plain": [
       "33"
      ]
     },
     "execution_count": 26,
     "metadata": {},
     "output_type": "execute_result"
    }
   ],
   "source": [
    "crimes['Primary Type'].nunique()"
   ]
  },
  {
   "cell_type": "code",
   "execution_count": 27,
   "metadata": {},
   "outputs": [],
   "source": [
    "crimes['Primary Type'].replace(['THEFT', 'ROBBERY', 'MOTOR VEHICLE THEFT', 'DECEPTIVE PRACTICE',\n",
    "                         'BURGLARY', 'CRIMINAL DAMAGE', 'ASSAULT', 'NARCOTICS', 'BATTERY',\n",
    "                         'CRIMINAL TRESPASS', 'OFFENSE INVOLVING CHILDREN', 'OTHER OFFENSE',\n",
    "                         'PUBLIC PEACE VIOLATION', 'HOMICIDE', 'STALKING', 'KIDNAPPING',\n",
    "                         'WEAPONS VIOLATION', 'SEX OFFENSE',\n",
    "                         'INTERFERENCE WITH PUBLIC OFFICER', 'LIQUOR LAW VIOLATION',\n",
    "                         'CRIM SEXUAL ASSAULT', 'PROSTITUTION', 'GAMBLING', 'ARSON',\n",
    "                         'CONCEALED CARRY LICENSE VIOLATION', 'NON-CRIMINAL', 'OBSCENITY',\n",
    "                         'HUMAN TRAFFICKING', 'INTIMIDATION', 'OTHER NARCOTIC VIOLATION',\n",
    "                         'PUBLIC INDECENCY', 'NON - CRIMINAL',\n",
    "                         'NON-CRIMINAL (SUBJECT SPECIFIED)'],\n",
    "                        [0, 1, 2, 3, 4, 5, 6, 7, 8, 9, 10, 11, 12, 13, 14, 15, 16,\n",
    "                        17, 18, 19, 20, 21, 22, 23, 24, 25, 26, 27, 28, 29, 30, 31, 32], inplace=True)"
   ]
  },
  {
   "cell_type": "code",
   "execution_count": 28,
   "metadata": {},
   "outputs": [
    {
     "data": {
      "text/html": [
       "<div>\n",
       "<style scoped>\n",
       "    .dataframe tbody tr th:only-of-type {\n",
       "        vertical-align: middle;\n",
       "    }\n",
       "\n",
       "    .dataframe tbody tr th {\n",
       "        vertical-align: top;\n",
       "    }\n",
       "\n",
       "    .dataframe thead th {\n",
       "        text-align: right;\n",
       "    }\n",
       "</style>\n",
       "<table border=\"1\" class=\"dataframe\">\n",
       "  <thead>\n",
       "    <tr style=\"text-align: right;\">\n",
       "      <th></th>\n",
       "      <th>Date</th>\n",
       "      <th>Primary Type</th>\n",
       "      <th>District</th>\n",
       "      <th>Ward</th>\n",
       "      <th>Year</th>\n",
       "      <th>DateTime</th>\n",
       "      <th>Day</th>\n",
       "      <th>Month</th>\n",
       "      <th>Hour</th>\n",
       "      <th>Weekday</th>\n",
       "      <th>Time of the Day</th>\n",
       "    </tr>\n",
       "  </thead>\n",
       "  <tbody>\n",
       "    <tr>\n",
       "      <th>0</th>\n",
       "      <td>10/14/2018 06:51:00 PM</td>\n",
       "      <td>0</td>\n",
       "      <td>10.0</td>\n",
       "      <td>22.0</td>\n",
       "      <td>2018</td>\n",
       "      <td>2018-10-14 18:51:00</td>\n",
       "      <td>6</td>\n",
       "      <td>10</td>\n",
       "      <td>18</td>\n",
       "      <td>0</td>\n",
       "      <td>0</td>\n",
       "    </tr>\n",
       "    <tr>\n",
       "      <th>1</th>\n",
       "      <td>01/25/2017 11:00:00 PM</td>\n",
       "      <td>1</td>\n",
       "      <td>12.0</td>\n",
       "      <td>25.0</td>\n",
       "      <td>2017</td>\n",
       "      <td>2017-01-25 23:00:00</td>\n",
       "      <td>2</td>\n",
       "      <td>1</td>\n",
       "      <td>23</td>\n",
       "      <td>1</td>\n",
       "      <td>1</td>\n",
       "    </tr>\n",
       "    <tr>\n",
       "      <th>2</th>\n",
       "      <td>07/26/2017 12:30:00 AM</td>\n",
       "      <td>2</td>\n",
       "      <td>18.0</td>\n",
       "      <td>43.0</td>\n",
       "      <td>2017</td>\n",
       "      <td>2017-07-26 00:30:00</td>\n",
       "      <td>2</td>\n",
       "      <td>7</td>\n",
       "      <td>0</td>\n",
       "      <td>1</td>\n",
       "      <td>1</td>\n",
       "    </tr>\n",
       "    <tr>\n",
       "      <th>3</th>\n",
       "      <td>02/26/2016 03:00:00 AM</td>\n",
       "      <td>0</td>\n",
       "      <td>1.0</td>\n",
       "      <td>2.0</td>\n",
       "      <td>2016</td>\n",
       "      <td>2016-02-26 03:00:00</td>\n",
       "      <td>4</td>\n",
       "      <td>2</td>\n",
       "      <td>3</td>\n",
       "      <td>1</td>\n",
       "      <td>1</td>\n",
       "    </tr>\n",
       "    <tr>\n",
       "      <th>4</th>\n",
       "      <td>06/26/2018 12:30:00 PM</td>\n",
       "      <td>0</td>\n",
       "      <td>1.0</td>\n",
       "      <td>42.0</td>\n",
       "      <td>2018</td>\n",
       "      <td>2018-06-26 12:30:00</td>\n",
       "      <td>1</td>\n",
       "      <td>6</td>\n",
       "      <td>12</td>\n",
       "      <td>1</td>\n",
       "      <td>0</td>\n",
       "    </tr>\n",
       "  </tbody>\n",
       "</table>\n",
       "</div>"
      ],
      "text/plain": [
       "                     Date  Primary Type  District  Ward  Year  \\\n",
       "0  10/14/2018 06:51:00 PM             0      10.0  22.0  2018   \n",
       "1  01/25/2017 11:00:00 PM             1      12.0  25.0  2017   \n",
       "2  07/26/2017 12:30:00 AM             2      18.0  43.0  2017   \n",
       "3  02/26/2016 03:00:00 AM             0       1.0   2.0  2016   \n",
       "4  06/26/2018 12:30:00 PM             0       1.0  42.0  2018   \n",
       "\n",
       "             DateTime  Day  Month  Hour  Weekday  Time of the Day  \n",
       "0 2018-10-14 18:51:00    6     10    18        0                0  \n",
       "1 2017-01-25 23:00:00    2      1    23        1                1  \n",
       "2 2017-07-26 00:30:00    2      7     0        1                1  \n",
       "3 2016-02-26 03:00:00    4      2     3        1                1  \n",
       "4 2018-06-26 12:30:00    1      6    12        1                0  "
      ]
     },
     "execution_count": 28,
     "metadata": {},
     "output_type": "execute_result"
    }
   ],
   "source": [
    "crimes.head()"
   ]
  },
  {
   "cell_type": "markdown",
   "metadata": {},
   "source": [
    "#### Crime Rate\n",
    "\n",
    "We now want to calculate our crime rate by using the variables in our cleaned data, so we will make a new dataset that will use all variables except `Primary Type` and `Day`, then make `Primary Type` as the variable that will be counted. We will also group by the variables, and the aggregate will be `Primary Type`."
   ]
  },
  {
   "cell_type": "code",
   "execution_count": 29,
   "metadata": {},
   "outputs": [
    {
     "data": {
      "text/html": [
       "<div>\n",
       "<style scoped>\n",
       "    .dataframe tbody tr th:only-of-type {\n",
       "        vertical-align: middle;\n",
       "    }\n",
       "\n",
       "    .dataframe tbody tr th {\n",
       "        vertical-align: top;\n",
       "    }\n",
       "\n",
       "    .dataframe thead th {\n",
       "        text-align: right;\n",
       "    }\n",
       "</style>\n",
       "<table border=\"1\" class=\"dataframe\">\n",
       "  <thead>\n",
       "    <tr style=\"text-align: right;\">\n",
       "      <th></th>\n",
       "      <th>Month</th>\n",
       "      <th>Weekday</th>\n",
       "      <th>Time of the Day</th>\n",
       "      <th>District</th>\n",
       "      <th>Year</th>\n",
       "      <th>Ward</th>\n",
       "      <th>Primary Type</th>\n",
       "    </tr>\n",
       "  </thead>\n",
       "  <tbody>\n",
       "    <tr>\n",
       "      <th>9497</th>\n",
       "      <td>4</td>\n",
       "      <td>1</td>\n",
       "      <td>1</td>\n",
       "      <td>31.0</td>\n",
       "      <td>2015</td>\n",
       "      <td>14.0</td>\n",
       "      <td>1</td>\n",
       "    </tr>\n",
       "    <tr>\n",
       "      <th>8872</th>\n",
       "      <td>4</td>\n",
       "      <td>1</td>\n",
       "      <td>0</td>\n",
       "      <td>31.0</td>\n",
       "      <td>2016</td>\n",
       "      <td>6.0</td>\n",
       "      <td>1</td>\n",
       "    </tr>\n",
       "    <tr>\n",
       "      <th>16936</th>\n",
       "      <td>8</td>\n",
       "      <td>1</td>\n",
       "      <td>0</td>\n",
       "      <td>31.0</td>\n",
       "      <td>2015</td>\n",
       "      <td>17.0</td>\n",
       "      <td>1</td>\n",
       "    </tr>\n",
       "    <tr>\n",
       "      <th>16937</th>\n",
       "      <td>8</td>\n",
       "      <td>1</td>\n",
       "      <td>0</td>\n",
       "      <td>31.0</td>\n",
       "      <td>2018</td>\n",
       "      <td>41.0</td>\n",
       "      <td>1</td>\n",
       "    </tr>\n",
       "    <tr>\n",
       "      <th>15006</th>\n",
       "      <td>7</td>\n",
       "      <td>1</td>\n",
       "      <td>0</td>\n",
       "      <td>31.0</td>\n",
       "      <td>2016</td>\n",
       "      <td>6.0</td>\n",
       "      <td>3</td>\n",
       "    </tr>\n",
       "  </tbody>\n",
       "</table>\n",
       "</div>"
      ],
      "text/plain": [
       "       Month  Weekday  Time of the Day  District  Year  Ward  Primary Type\n",
       "9497       4        1                1      31.0  2015  14.0             1\n",
       "8872       4        1                0      31.0  2016   6.0             1\n",
       "16936      8        1                0      31.0  2015  17.0             1\n",
       "16937      8        1                0      31.0  2018  41.0             1\n",
       "15006      7        1                0      31.0  2016   6.0             3"
      ]
     },
     "execution_count": 29,
     "metadata": {},
     "output_type": "execute_result"
    }
   ],
   "source": [
    "crime_rate = crimes.groupby(['Month','Weekday','Time of the Day','District','Year','Ward'], as_index=False).agg({\"Primary Type\":\"count\"})\n",
    "crime_rate = crime_rate.sort_values(by=['District'], ascending=False)\n",
    "crime_rate.head()"
   ]
  },
  {
   "cell_type": "code",
   "execution_count": 30,
   "metadata": {},
   "outputs": [
    {
     "data": {
      "text/plain": [
       "(25147, 7)"
      ]
     },
     "execution_count": 30,
     "metadata": {},
     "output_type": "execute_result"
    }
   ],
   "source": [
    "crime_rate = crime_rate[['Month','Weekday','Time of the Day','District','Year','Ward', 'Primary Type']]\n",
    "crime_rate.head()\n",
    "crime_rate.shape"
   ]
  },
  {
   "cell_type": "markdown",
   "metadata": {},
   "source": [
    "We put the table back to make a new column, that is the level of crime rate. It was pre-defined in the question sheet, and here it is: <br> <br>\n",
    "Level of Crime Rate:\n",
    "<ul><li><strong>0-14 : </strong>Low Crime Rate</li>\n",
    "<li><strong>15-33 : </strong>Medium Crime Rate</li>\n",
    "<li><strong>34 and above : </strong>High Crime Rate\n",
    "\n",
    "Now we can make a function that will assign the level of crime rate, with `0 = Low`, `1 = Medium` and `2 = High`."
   ]
  },
  {
   "cell_type": "code",
   "execution_count": 31,
   "metadata": {},
   "outputs": [
    {
     "data": {
      "text/html": [
       "<div>\n",
       "<style scoped>\n",
       "    .dataframe tbody tr th:only-of-type {\n",
       "        vertical-align: middle;\n",
       "    }\n",
       "\n",
       "    .dataframe tbody tr th {\n",
       "        vertical-align: top;\n",
       "    }\n",
       "\n",
       "    .dataframe thead th {\n",
       "        text-align: right;\n",
       "    }\n",
       "</style>\n",
       "<table border=\"1\" class=\"dataframe\">\n",
       "  <thead>\n",
       "    <tr style=\"text-align: right;\">\n",
       "      <th></th>\n",
       "      <th>Month</th>\n",
       "      <th>Weekday</th>\n",
       "      <th>Time of the Day</th>\n",
       "      <th>District</th>\n",
       "      <th>Year</th>\n",
       "      <th>Ward</th>\n",
       "      <th>Primary Type</th>\n",
       "      <th>Crime Rate</th>\n",
       "    </tr>\n",
       "  </thead>\n",
       "  <tbody>\n",
       "    <tr>\n",
       "      <th>9497</th>\n",
       "      <td>4</td>\n",
       "      <td>1</td>\n",
       "      <td>1</td>\n",
       "      <td>31.0</td>\n",
       "      <td>2015</td>\n",
       "      <td>14.0</td>\n",
       "      <td>1</td>\n",
       "      <td>0</td>\n",
       "    </tr>\n",
       "    <tr>\n",
       "      <th>8872</th>\n",
       "      <td>4</td>\n",
       "      <td>1</td>\n",
       "      <td>0</td>\n",
       "      <td>31.0</td>\n",
       "      <td>2016</td>\n",
       "      <td>6.0</td>\n",
       "      <td>1</td>\n",
       "      <td>0</td>\n",
       "    </tr>\n",
       "    <tr>\n",
       "      <th>16936</th>\n",
       "      <td>8</td>\n",
       "      <td>1</td>\n",
       "      <td>0</td>\n",
       "      <td>31.0</td>\n",
       "      <td>2015</td>\n",
       "      <td>17.0</td>\n",
       "      <td>1</td>\n",
       "      <td>0</td>\n",
       "    </tr>\n",
       "    <tr>\n",
       "      <th>16937</th>\n",
       "      <td>8</td>\n",
       "      <td>1</td>\n",
       "      <td>0</td>\n",
       "      <td>31.0</td>\n",
       "      <td>2018</td>\n",
       "      <td>41.0</td>\n",
       "      <td>1</td>\n",
       "      <td>0</td>\n",
       "    </tr>\n",
       "    <tr>\n",
       "      <th>15006</th>\n",
       "      <td>7</td>\n",
       "      <td>1</td>\n",
       "      <td>0</td>\n",
       "      <td>31.0</td>\n",
       "      <td>2016</td>\n",
       "      <td>6.0</td>\n",
       "      <td>3</td>\n",
       "      <td>0</td>\n",
       "    </tr>\n",
       "  </tbody>\n",
       "</table>\n",
       "</div>"
      ],
      "text/plain": [
       "       Month  Weekday  Time of the Day  District  Year  Ward  Primary Type  \\\n",
       "9497       4        1                1      31.0  2015  14.0             1   \n",
       "8872       4        1                0      31.0  2016   6.0             1   \n",
       "16936      8        1                0      31.0  2015  17.0             1   \n",
       "16937      8        1                0      31.0  2018  41.0             1   \n",
       "15006      7        1                0      31.0  2016   6.0             3   \n",
       "\n",
       "       Crime Rate  \n",
       "9497            0  \n",
       "8872            0  \n",
       "16936           0  \n",
       "16937           0  \n",
       "15006           0  "
      ]
     },
     "execution_count": 31,
     "metadata": {},
     "output_type": "execute_result"
    }
   ],
   "source": [
    "def crime_rate_level(x):\n",
    "    if(x<=14):\n",
    "        return 0\n",
    "    elif(x>14 and x<=33):\n",
    "        return 1\n",
    "    else:\n",
    "        return 2\n",
    "crime_rate['Crime Rate'] = crime_rate['Primary Type'].apply(crime_rate_level)\n",
    "crime_rate = crime_rate[['Month','Weekday','Time of the Day','District','Year','Ward', 'Primary Type','Crime Rate']]\n",
    "crime_rate.head()"
   ]
  },
  {
   "cell_type": "markdown",
   "metadata": {},
   "source": [
    "Hence, we will use classification algorithm to train and test our dataset later on. Since our target variable is ready, we can split our data into training and testing sets.\n",
    "\n",
    "#### Train-Test Splitting\n",
    "We will use the `crime_rate` dataset we got to train and test. Also we know that our target variable (Y) is Crime Rate, and the rest minus `Primary Type` will be the independent variables. The training set will be 80% and the testing dataset is 20% with random state 42."
   ]
  },
  {
   "cell_type": "code",
   "execution_count": 32,
   "metadata": {},
   "outputs": [],
   "source": [
    "X = crime_rate[['Month','Weekday','Time of the Day','District','Year','Ward']]\n",
    "y = crime_rate['Crime Rate']\n",
    "\n",
    "X_train, X_test, y_train, y_test = train_test_split(X, y, test_size=0.2, random_state=42)"
   ]
  },
  {
   "cell_type": "markdown",
   "metadata": {},
   "source": [
    "#### Normalize Data\n",
    "\n",
    "Before making the models, we must normalize our X data first so that it will be easier for the machine to compare."
   ]
  },
  {
   "cell_type": "code",
   "execution_count": 33,
   "metadata": {},
   "outputs": [],
   "source": [
    "normalizer = preprocessing.Normalizer()\n",
    "X_train = normalizer.fit_transform(X_train)\n",
    "X_test = normalizer.transform(X_test)"
   ]
  },
  {
   "cell_type": "markdown",
   "metadata": {},
   "source": [
    "#### Handling Imbalanced Dataset\n",
    "\n",
    "We want to check whether out data is imbalanced, or not by seeing the target variable."
   ]
  },
  {
   "cell_type": "code",
   "execution_count": 34,
   "metadata": {},
   "outputs": [
    {
     "data": {
      "text/plain": [
       "<matplotlib.axes._subplots.AxesSubplot at 0x1f214760e20>"
      ]
     },
     "execution_count": 34,
     "metadata": {},
     "output_type": "execute_result"
    },
    {
     "data": {
      "image/png": "[encoded data removed]",
      "text/plain": [
       "<Figure size 432x288 with 1 Axes>"
      ]
     },
     "metadata": {
      "needs_background": "light"
     },
     "output_type": "display_data"
    }
   ],
   "source": [
    "sns.countplot(y_train)"
   ]
  },
  {
   "cell_type": "markdown",
   "metadata": {},
   "source": [
    "The data is quite balanced so we don't need to handle any imbalance, now we would like to do feature engineering on `Date` and `Primary Type` to create our target variable which is `Crime Rate`."
   ]
  },
  {
   "cell_type": "markdown",
   "metadata": {},
   "source": [
    "## 4. Build and Assess the machine learning models (35 pts.)"
   ]
  },
  {
   "cell_type": "markdown",
   "metadata": {},
   "source": [
    "**You have to evaluate the machine learning models using at least two performance metrics (for example: precision and recall)**. "
   ]
  },
  {
   "cell_type": "markdown",
   "metadata": {},
   "source": [
    "### First Model : Decision Tree"
   ]
  },
  {
   "cell_type": "code",
   "execution_count": 35,
   "metadata": {},
   "outputs": [
    {
     "name": "stdout",
     "output_type": "stream",
     "text": [
      "Decision Tree Accuracy: 0.8341948310139164\n"
     ]
    }
   ],
   "source": [
    "model_dt = DecisionTreeClassifier(random_state = 42)\n",
    "model_dt.fit(X_train,y_train)\n",
    "print('Decision Tree Accuracy:', model_dt.score(X_test,y_test))"
   ]
  },
  {
   "cell_type": "code",
   "execution_count": 36,
   "metadata": {},
   "outputs": [
    {
     "data": {
      "image/png": "[encoded data removed]",
      "text/plain": [
       "<Figure size 288x288 with 2 Axes>"
      ]
     },
     "metadata": {
      "needs_background": "light"
     },
     "output_type": "display_data"
    }
   ],
   "source": [
    "dt_pred = model_dt.predict(X_test)\n",
    "cf_matrix = confusion_matrix(y_test, dt_pred)\n",
    "plt.figure(figsize=(4,4))\n",
    "ax = sns.heatmap(cf_matrix/np.sum(cf_matrix), annot=True, \n",
    "            fmt='.2%', cmap='Blues')\n",
    "\n",
    "ax.set_title('Seaborn Confusion Matrix with labels\\n\\n');\n",
    "ax.set_xlabel('\\nPredicted Values')\n",
    "ax.set_ylabel('Actual Values ');\n",
    "\n",
    "ax.xaxis.set_ticklabels(['0','1','2'])\n",
    "ax.yaxis.set_ticklabels(['0','1','2'])\n",
    "\n",
    "plt.show()"
   ]
  },
  {
   "cell_type": "markdown",
   "metadata": {},
   "source": [
    "From the result, we can see that Decision Tree has an accuracy around 83.42% using standard parameters and we also can see the percentage of correct predicted per category in the confusion matrix. "
   ]
  },
  {
   "cell_type": "code",
   "execution_count": 37,
   "metadata": {},
   "outputs": [
    {
     "name": "stdout",
     "output_type": "stream",
     "text": [
      "Decision Tree Unweighted Average Recall:  0.8068761831988978\n"
     ]
    }
   ],
   "source": [
    "dt_recall = ((cf_matrix[0][0])/(cf_matrix[0][0]+cf_matrix[1][0]+cf_matrix[2][0])+(cf_matrix[1][1])/(cf_matrix[0][1]+cf_matrix[1][1]+cf_matrix[2][1])+(cf_matrix[2][2])/(cf_matrix[2][2]+cf_matrix[0][2]+cf_matrix[1][2]))/3\n",
    "print(\"Decision Tree Unweighted Average Recall: \", dt_recall)"
   ]
  },
  {
   "cell_type": "markdown",
   "metadata": {},
   "source": [
    "In conclusion, the Decision Tree Model has an accuracy of 83.42% and a balanced accuracy (Unweighted Average Recall) of 80.69%."
   ]
  },
  {
   "cell_type": "markdown",
   "metadata": {},
   "source": [
    "### Second Model : Random Forest"
   ]
  },
  {
   "cell_type": "code",
   "execution_count": 38,
   "metadata": {},
   "outputs": [
    {
     "name": "stdout",
     "output_type": "stream",
     "text": [
      "Random Forest Accuracy: 0.8582504970178927\n"
     ]
    }
   ],
   "source": [
    "model_rf = RandomForestClassifier(random_state = 42)\n",
    "model_rf.fit(X_train,y_train)\n",
    "print('Random Forest Accuracy:', model_rf.score(X_test,y_test))"
   ]
  },
  {
   "cell_type": "code",
   "execution_count": 39,
   "metadata": {},
   "outputs": [
    {
     "data": {
      "image/png": "[encoded data removed]",
      "text/plain": [
       "<Figure size 288x288 with 2 Axes>"
      ]
     },
     "metadata": {
      "needs_background": "light"
     },
     "output_type": "display_data"
    }
   ],
   "source": [
    "rf_pred = model_rf.predict(X_test)\n",
    "cf_matrix = confusion_matrix(y_test, rf_pred)\n",
    "plt.figure(figsize=(4,4))\n",
    "ax = sns.heatmap(cf_matrix/np.sum(cf_matrix), annot=True, \n",
    "            fmt='.2%', cmap='Blues')\n",
    "\n",
    "ax.set_title('Seaborn Confusion Matrix with labels\\n\\n');\n",
    "ax.set_xlabel('\\nPredicted Values')\n",
    "ax.set_ylabel('Actual Values ');\n",
    "\n",
    "ax.xaxis.set_ticklabels(['0','1','2'])\n",
    "ax.yaxis.set_ticklabels(['0','1','2'])\n",
    "\n",
    "plt.show()"
   ]
  },
  {
   "cell_type": "markdown",
   "metadata": {},
   "source": [
    "From the result, we can see that Random Forest has an accuracy around 85.83% using standard parameters and we also can see the percentage of correct predicted per category in the confusion matrix. "
   ]
  },
  {
   "cell_type": "code",
   "execution_count": 40,
   "metadata": {},
   "outputs": [
    {
     "name": "stdout",
     "output_type": "stream",
     "text": [
      "Random Forest Unweighted Average Recall:  0.8351483030059533\n"
     ]
    }
   ],
   "source": [
    "rf_recall = ((cf_matrix[0][0])/(cf_matrix[0][0]+cf_matrix[1][0]+cf_matrix[2][0])+(cf_matrix[1][1])/(cf_matrix[0][1]+cf_matrix[1][1]+cf_matrix[2][1])+(cf_matrix[2][2])/(cf_matrix[2][2]+cf_matrix[0][2]+cf_matrix[1][2]))/3\n",
    "print(\"Random Forest Unweighted Average Recall: \", rf_recall)"
   ]
  },
  {
   "cell_type": "markdown",
   "metadata": {},
   "source": [
    "In conclusion, the Random Forest Model has an accuracy of 85.83% and a balanced accuracy (Unweighted Average Recall) of 83.51%."
   ]
  },
  {
   "cell_type": "markdown",
   "metadata": {},
   "source": [
    "## 5. Choose your Final Model (3 pts.)"
   ]
  },
  {
   "cell_type": "markdown",
   "metadata": {},
   "source": [
    "**You finally have your final model. Write comments to justify your final model**"
   ]
  },
  {
   "cell_type": "code",
   "execution_count": 41,
   "metadata": {},
   "outputs": [
    {
     "name": "stdout",
     "output_type": "stream",
     "text": [
      "Decision Tree Accuracy: 0.8341948310139164\n",
      "Random Forest Accuracy: 0.8582504970178927\n",
      "Final Model Accuracy: 0.8582504970178927\n"
     ]
    }
   ],
   "source": [
    "print('Decision Tree Accuracy:', model_dt.score(X_test,y_test))\n",
    "print('Random Forest Accuracy:', model_rf.score(X_test,y_test))\n",
    "print('Final Model Accuracy:', max(model_dt.score(X_test,y_test), model_rf.score(X_test,y_test)))"
   ]
  },
  {
   "cell_type": "code",
   "execution_count": 42,
   "metadata": {},
   "outputs": [
    {
     "name": "stdout",
     "output_type": "stream",
     "text": [
      "Decision Tree Unweighted Average Recall: 0.8068761831988978\n",
      "Random Forest Unweighted Average Recall: 0.8351483030059533\n",
      "Final Model Unweighted Average Recall: 0.8351483030059533\n"
     ]
    }
   ],
   "source": [
    "print('Decision Tree Unweighted Average Recall:', dt_recall)\n",
    "print('Random Forest Unweighted Average Recall:', rf_recall)\n",
    "print('Final Model Unweighted Average Recall:', max(dt_recall, rf_recall))"
   ]
  },
  {
   "cell_type": "markdown",
   "metadata": {},
   "source": [
    "Since Random Forest Classifier has a slight higher accuracy and balanced accuracy than Decision Tree Classifier, we will select Random Forest Classifier as our final model with an accuracy around 85.83% and balanced accuracy around 83.51%."
   ]
  }
 ],
 "metadata": {
  "kernelspec": {
   "display_name": "Python 3",
   "language": "python",
   "name": "python3"
  },
  "language_info": {
   "codemirror_mode": {
    "name": "ipython",
    "version": 3
   },
   "file_extension": ".py",
   "mimetype": "text/x-python",
   "name": "python",
   "nbconvert_exporter": "python",
   "pygments_lexer": "ipython3",
   "version": "3.8.3"
  }
 },
 "nbformat": 4,
 "nbformat_minor": 4
}
