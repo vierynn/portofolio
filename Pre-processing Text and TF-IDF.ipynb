{
  "nbformat": 4,
  "nbformat_minor": 0,
  "metadata": {
    "colab": {
      "provenance": []
    },
    "kernelspec": {
      "name": "python3",
      "display_name": "Python 3"
    },
    "language_info": {
      "name": "python"
    }
  },
  "cells": [
    {
      "cell_type": "markdown",
      "source": [
        "\n",
        "#### Nama: Aurellia Vieryn\n",
        "#### NIM : 2440066626\n",
        "\n",
        "### UTS - TEXT MINING\n",
        "\n",
        "Untuk ujian pada kali ini, dibutuhkan dataset yang berisi teks berita dari berbagai portal. Teks ini kemudian akan diolah menjadi vektor setelah dilakukan tahap preprocessing. Selain itu, akan dicek juga 5 nilai TF-IDF tertinggi untuk setiap datanya. <br> <br>\n",
        "\n",
        "Dataset terdiri dari 3 kolom, yaitu: Teks, Media, dan Label. `Teks` merupakan isi dari beritanya, `Media` adalah portal beritanya, dan `Label` adalah jenis beritanya (Politik, Hiburan, atau Olahraga). Datasetnya memiliki 12 data, dengan berbagai jenis label, serta dari beberapa portal berita (Kompas, Detik, Liputan 6, dan Tempo).<br><br> \n",
        "\n",
        "Pertama-tama, dataset yang telah dibuat akan diunggah ke file Colabnya terlebih dahulu."
      ],
      "metadata": {
        "id": "TrarePab6dwD"
      }
    },
    {
      "cell_type": "code",
      "execution_count": 1,
      "metadata": {
        "id": "YP-7hNyg6bC7",
        "colab": {
          "base_uri": "https://localhost:8080/",
          "height": 72
        },
        "outputId": "fb9253c6-901f-4941-ac80-dfc4a2f19970"
      },
      "outputs": [
        {
          "output_type": "display_data",
          "data": {
            "text/plain": [
              "<IPython.core.display.HTML object>"
            ],
            "text/html": [
              "\n",
              "     <input type=\"file\" id=\"files-d1bbd606-976a-49a4-a566-efe220e11c1e\" name=\"files[]\" multiple disabled\n",
              "        style=\"border:none\" />\n",
              "     <output id=\"result-d1bbd606-976a-49a4-a566-efe220e11c1e\">\n",
              "      Upload widget is only available when the cell has been executed in the\n",
              "      current browser session. Please rerun this cell to enable.\n",
              "      </output>\n",
              "      <script>// Copyright 2017 Google LLC\n",
              "//\n",
              "// Licensed under the Apache License, Version 2.0 (the \"License\");\n",
              "// you may not use this file except in compliance with the License.\n",
              "// You may obtain a copy of the License at\n",
              "//\n",
              "//      http://www.apache.org/licenses/LICENSE-2.0\n",
              "//\n",
              "// Unless required by applicable law or agreed to in writing, software\n",
              "// distributed under the License is distributed on an \"AS IS\" BASIS,\n",
              "// WITHOUT WARRANTIES OR CONDITIONS OF ANY KIND, either express or implied.\n",
              "// See the License for the specific language governing permissions and\n",
              "// limitations under the License.\n",
              "\n",
              "/**\n",
              " * @fileoverview Helpers for google.colab Python module.\n",
              " */\n",
              "(function(scope) {\n",
              "function span(text, styleAttributes = {}) {\n",
              "  const element = document.createElement('span');\n",
              "  element.textContent = text;\n",
              "  for (const key of Object.keys(styleAttributes)) {\n",
              "    element.style[key] = styleAttributes[key];\n",
              "  }\n",
              "  return element;\n",
              "}\n",
              "\n",
              "// Max number of bytes which will be uploaded at a time.\n",
              "const MAX_PAYLOAD_SIZE = 100 * 1024;\n",
              "\n",
              "function _uploadFiles(inputId, outputId) {\n",
              "  const steps = uploadFilesStep(inputId, outputId);\n",
              "  const outputElement = document.getElementById(outputId);\n",
              "  // Cache steps on the outputElement to make it available for the next call\n",
              "  // to uploadFilesContinue from Python.\n",
              "  outputElement.steps = steps;\n",
              "\n",
              "  return _uploadFilesContinue(outputId);\n",
              "}\n",
              "\n",
              "// This is roughly an async generator (not supported in the browser yet),\n",
              "// where there are multiple asynchronous steps and the Python side is going\n",
              "// to poll for completion of each step.\n",
              "// This uses a Promise to block the python side on completion of each step,\n",
              "// then passes the result of the previous step as the input to the next step.\n",
              "function _uploadFilesContinue(outputId) {\n",
              "  const outputElement = document.getElementById(outputId);\n",
              "  const steps = outputElement.steps;\n",
              "\n",
              "  const next = steps.next(outputElement.lastPromiseValue);\n",
              "  return Promise.resolve(next.value.promise).then((value) => {\n",
              "    // Cache the last promise value to make it available to the next\n",
              "    // step of the generator.\n",
              "    outputElement.lastPromiseValue = value;\n",
              "    return next.value.response;\n",
              "  });\n",
              "}\n",
              "\n",
              "/**\n",
              " * Generator function which is called between each async step of the upload\n",
              " * process.\n",
              " * @param {string} inputId Element ID of the input file picker element.\n",
              " * @param {string} outputId Element ID of the output display.\n",
              " * @return {!Iterable<!Object>} Iterable of next steps.\n",
              " */\n",
              "function* uploadFilesStep(inputId, outputId) {\n",
              "  const inputElement = document.getElementById(inputId);\n",
              "  inputElement.disabled = false;\n",
              "\n",
              "  const outputElement = document.getElementById(outputId);\n",
              "  outputElement.innerHTML = '';\n",
              "\n",
              "  const pickedPromise = new Promise((resolve) => {\n",
              "    inputElement.addEventListener('change', (e) => {\n",
              "      resolve(e.target.files);\n",
              "    });\n",
              "  });\n",
              "\n",
              "  const cancel = document.createElement('button');\n",
              "  inputElement.parentElement.appendChild(cancel);\n",
              "  cancel.textContent = 'Cancel upload';\n",
              "  const cancelPromise = new Promise((resolve) => {\n",
              "    cancel.onclick = () => {\n",
              "      resolve(null);\n",
              "    };\n",
              "  });\n",
              "\n",
              "  // Wait for the user to pick the files.\n",
              "  const files = yield {\n",
              "    promise: Promise.race([pickedPromise, cancelPromise]),\n",
              "    response: {\n",
              "      action: 'starting',\n",
              "    }\n",
              "  };\n",
              "\n",
              "  cancel.remove();\n",
              "\n",
              "  // Disable the input element since further picks are not allowed.\n",
              "  inputElement.disabled = true;\n",
              "\n",
              "  if (!files) {\n",
              "    return {\n",
              "      response: {\n",
              "        action: 'complete',\n",
              "      }\n",
              "    };\n",
              "  }\n",
              "\n",
              "  for (const file of files) {\n",
              "    const li = document.createElement('li');\n",
              "    li.append(span(file.name, {fontWeight: 'bold'}));\n",
              "    li.append(span(\n",
              "        `(${file.type || 'n/a'}) - ${file.size} bytes, ` +\n",
              "        `last modified: ${\n",
              "            file.lastModifiedDate ? file.lastModifiedDate.toLocaleDateString() :\n",
              "                                    'n/a'} - `));\n",
              "    const percent = span('0% done');\n",
              "    li.appendChild(percent);\n",
              "\n",
              "    outputElement.appendChild(li);\n",
              "\n",
              "    const fileDataPromise = new Promise((resolve) => {\n",
              "      const reader = new FileReader();\n",
              "      reader.onload = (e) => {\n",
              "        resolve(e.target.result);\n",
              "      };\n",
              "      reader.readAsArrayBuffer(file);\n",
              "    });\n",
              "    // Wait for the data to be ready.\n",
              "    let fileData = yield {\n",
              "      promise: fileDataPromise,\n",
              "      response: {\n",
              "        action: 'continue',\n",
              "      }\n",
              "    };\n",
              "\n",
              "    // Use a chunked sending to avoid message size limits. See b/62115660.\n",
              "    let position = 0;\n",
              "    do {\n",
              "      const length = Math.min(fileData.byteLength - position, MAX_PAYLOAD_SIZE);\n",
              "      const chunk = new Uint8Array(fileData, position, length);\n",
              "      position += length;\n",
              "\n",
              "      const base64 = btoa(String.fromCharCode.apply(null, chunk));\n",
              "      yield {\n",
              "        response: {\n",
              "          action: 'append',\n",
              "          file: file.name,\n",
              "          data: base64,\n",
              "        },\n",
              "      };\n",
              "\n",
              "      let percentDone = fileData.byteLength === 0 ?\n",
              "          100 :\n",
              "          Math.round((position / fileData.byteLength) * 100);\n",
              "      percent.textContent = `${percentDone}% done`;\n",
              "\n",
              "    } while (position < fileData.byteLength);\n",
              "  }\n",
              "\n",
              "  // All done.\n",
              "  yield {\n",
              "    response: {\n",
              "      action: 'complete',\n",
              "    }\n",
              "  };\n",
              "}\n",
              "\n",
              "scope.google = scope.google || {};\n",
              "scope.google.colab = scope.google.colab || {};\n",
              "scope.google.colab._files = {\n",
              "  _uploadFiles,\n",
              "  _uploadFilesContinue,\n",
              "};\n",
              "})(self);\n",
              "</script> "
            ]
          },
          "metadata": {}
        },
        {
          "output_type": "stream",
          "name": "stdout",
          "text": [
            "Saving dataset.xlsx to dataset (1).xlsx\n"
          ]
        }
      ],
      "source": [
        "from google.colab import files\n",
        " \n",
        "uploaded = files.upload()"
      ]
    },
    {
      "cell_type": "markdown",
      "source": [
        "Karena datasetnya dibuat pada Excel, maka akan digunakan library pandas untuk membaca filenya."
      ],
      "metadata": {
        "id": "iqliLGUJqc_0"
      }
    },
    {
      "cell_type": "code",
      "source": [
        "import pandas as pd\n",
        "\n",
        "df = pd.read_excel('dataset.xlsx')"
      ],
      "metadata": {
        "id": "R1NQy9Ul6dif"
      },
      "execution_count": 2,
      "outputs": []
    },
    {
      "cell_type": "markdown",
      "source": [
        "### Preprocessing\n",
        "\n",
        "Pada tahap ini, ada beberapa task yang harus dilakukan kepada teksnya untuk penilaian, yaitu:\n",
        "- Pembersihan Link (https, .com, dll)\n",
        "- Pembersihan Hashtag\n",
        "- Pembersihan Simbol\n",
        "- Pembersihan Punctuations\n",
        "- Ubah menjadi Lowercase\n",
        "- Penghilangan Stopwords\n",
        "- Vectorization\n",
        "- TF-IDF\n",
        "\n",
        "<br>\n",
        "\n",
        "Sebelum memulai, file yang sudah dijadikan dataframe akan dicek terlebih dahulu hanya untuk memastikan."
      ],
      "metadata": {
        "id": "BiEkLV-5-CdP"
      }
    },
    {
      "cell_type": "code",
      "source": [
        "df.head()"
      ],
      "metadata": {
        "colab": {
          "base_uri": "https://localhost:8080/",
          "height": 206
        },
        "id": "NeKv4Rq4VJ_e",
        "outputId": "0245929e-90a5-468a-971e-6f6c059363e6"
      },
      "execution_count": 3,
      "outputs": [
        {
          "output_type": "execute_result",
          "data": {
            "text/plain": [
              "                                                Teks      Media     Label\n",
              "0  Semarang - Menparekraf Sandiaga Uno mengucapka...      Detik   Politik\n",
              "1  Inter Milan menjamu Juventus pada leg kedua se...  Liputan 6  Olahraga\n",
              "2  The Flash diadaptasi dari karakter DC Comics d...      Tempo   Hiburan\n",
              "3  Pemusatan latihan nasional (pelatnas) tahap ke...      Tempo  Olahraga\n",
              "4  Wali Kota Depok, Mohammad Idris mengakui bahwa...     Kompas   Politik"
            ],
            "text/html": [
              "\n",
              "  <div id=\"df-40e34126-56a4-44af-8233-a435b9598f62\">\n",
              "    <div class=\"colab-df-container\">\n",
              "      <div>\n",
              "<style scoped>\n",
              "    .dataframe tbody tr th:only-of-type {\n",
              "        vertical-align: middle;\n",
              "    }\n",
              "\n",
              "    .dataframe tbody tr th {\n",
              "        vertical-align: top;\n",
              "    }\n",
              "\n",
              "    .dataframe thead th {\n",
              "        text-align: right;\n",
              "    }\n",
              "</style>\n",
              "<table border=\"1\" class=\"dataframe\">\n",
              "  <thead>\n",
              "    <tr style=\"text-align: right;\">\n",
              "      <th></th>\n",
              "      <th>Teks</th>\n",
              "      <th>Media</th>\n",
              "      <th>Label</th>\n",
              "    </tr>\n",
              "  </thead>\n",
              "  <tbody>\n",
              "    <tr>\n",
              "      <th>0</th>\n",
              "      <td>Semarang - Menparekraf Sandiaga Uno mengucapka...</td>\n",
              "      <td>Detik</td>\n",
              "      <td>Politik</td>\n",
              "    </tr>\n",
              "    <tr>\n",
              "      <th>1</th>\n",
              "      <td>Inter Milan menjamu Juventus pada leg kedua se...</td>\n",
              "      <td>Liputan 6</td>\n",
              "      <td>Olahraga</td>\n",
              "    </tr>\n",
              "    <tr>\n",
              "      <th>2</th>\n",
              "      <td>The Flash diadaptasi dari karakter DC Comics d...</td>\n",
              "      <td>Tempo</td>\n",
              "      <td>Hiburan</td>\n",
              "    </tr>\n",
              "    <tr>\n",
              "      <th>3</th>\n",
              "      <td>Pemusatan latihan nasional (pelatnas) tahap ke...</td>\n",
              "      <td>Tempo</td>\n",
              "      <td>Olahraga</td>\n",
              "    </tr>\n",
              "    <tr>\n",
              "      <th>4</th>\n",
              "      <td>Wali Kota Depok, Mohammad Idris mengakui bahwa...</td>\n",
              "      <td>Kompas</td>\n",
              "      <td>Politik</td>\n",
              "    </tr>\n",
              "  </tbody>\n",
              "</table>\n",
              "</div>\n",
              "      <button class=\"colab-df-convert\" onclick=\"convertToInteractive('df-40e34126-56a4-44af-8233-a435b9598f62')\"\n",
              "              title=\"Convert this dataframe to an interactive table.\"\n",
              "              style=\"display:none;\">\n",
              "        \n",
              "  <svg xmlns=\"http://www.w3.org/2000/svg\" height=\"24px\"viewBox=\"0 0 24 24\"\n",
              "       width=\"24px\">\n",
              "    <path d=\"M0 0h24v24H0V0z\" fill=\"none\"/>\n",
              "    <path d=\"M18.56 5.44l.94 2.06.94-2.06 2.06-.94-2.06-.94-.94-2.06-.94 2.06-2.06.94zm-11 1L8.5 8.5l.94-2.06 2.06-.94-2.06-.94L8.5 2.5l-.94 2.06-2.06.94zm10 10l.94 2.06.94-2.06 2.06-.94-2.06-.94-.94-2.06-.94 2.06-2.06.94z\"/><path d=\"M17.41 7.96l-1.37-1.37c-.4-.4-.92-.59-1.43-.59-.52 0-1.04.2-1.43.59L10.3 9.45l-7.72 7.72c-.78.78-.78 2.05 0 2.83L4 21.41c.39.39.9.59 1.41.59.51 0 1.02-.2 1.41-.59l7.78-7.78 2.81-2.81c.8-.78.8-2.07 0-2.86zM5.41 20L4 18.59l7.72-7.72 1.47 1.35L5.41 20z\"/>\n",
              "  </svg>\n",
              "      </button>\n",
              "      \n",
              "  <style>\n",
              "    .colab-df-container {\n",
              "      display:flex;\n",
              "      flex-wrap:wrap;\n",
              "      gap: 12px;\n",
              "    }\n",
              "\n",
              "    .colab-df-convert {\n",
              "      background-color: #E8F0FE;\n",
              "      border: none;\n",
              "      border-radius: 50%;\n",
              "      cursor: pointer;\n",
              "      display: none;\n",
              "      fill: #1967D2;\n",
              "      height: 32px;\n",
              "      padding: 0 0 0 0;\n",
              "      width: 32px;\n",
              "    }\n",
              "\n",
              "    .colab-df-convert:hover {\n",
              "      background-color: #E2EBFA;\n",
              "      box-shadow: 0px 1px 2px rgba(60, 64, 67, 0.3), 0px 1px 3px 1px rgba(60, 64, 67, 0.15);\n",
              "      fill: #174EA6;\n",
              "    }\n",
              "\n",
              "    [theme=dark] .colab-df-convert {\n",
              "      background-color: #3B4455;\n",
              "      fill: #D2E3FC;\n",
              "    }\n",
              "\n",
              "    [theme=dark] .colab-df-convert:hover {\n",
              "      background-color: #434B5C;\n",
              "      box-shadow: 0px 1px 3px 1px rgba(0, 0, 0, 0.15);\n",
              "      filter: drop-shadow(0px 1px 2px rgba(0, 0, 0, 0.3));\n",
              "      fill: #FFFFFF;\n",
              "    }\n",
              "  </style>\n",
              "\n",
              "      <script>\n",
              "        const buttonEl =\n",
              "          document.querySelector('#df-40e34126-56a4-44af-8233-a435b9598f62 button.colab-df-convert');\n",
              "        buttonEl.style.display =\n",
              "          google.colab.kernel.accessAllowed ? 'block' : 'none';\n",
              "\n",
              "        async function convertToInteractive(key) {\n",
              "          const element = document.querySelector('#df-40e34126-56a4-44af-8233-a435b9598f62');\n",
              "          const dataTable =\n",
              "            await google.colab.kernel.invokeFunction('convertToInteractive',\n",
              "                                                     [key], {});\n",
              "          if (!dataTable) return;\n",
              "\n",
              "          const docLinkHtml = 'Like what you see? Visit the ' +\n",
              "            '<a target=\"_blank\" href=https://colab.research.google.com/notebooks/data_table.ipynb>data table notebook</a>'\n",
              "            + ' to learn more about interactive tables.';\n",
              "          element.innerHTML = '';\n",
              "          dataTable['output_type'] = 'display_data';\n",
              "          await google.colab.output.renderOutput(dataTable, element);\n",
              "          const docLink = document.createElement('div');\n",
              "          docLink.innerHTML = docLinkHtml;\n",
              "          element.appendChild(docLink);\n",
              "        }\n",
              "      </script>\n",
              "    </div>\n",
              "  </div>\n",
              "  "
            ]
          },
          "metadata": {},
          "execution_count": 3
        }
      ]
    },
    {
      "cell_type": "markdown",
      "source": [
        "#### Remove Link (https and .com)\n",
        "\n",
        "Untuk penghapusan link pada teks, dapat digunakan metode dari library `re `(regular expression) yaitu metode replace atau subsitusi. Functionnya adalah `re.sub()`, dimana akan dicari urutan teks yang berbentuk link lalu diganti oleh kosong. <br><br>\n",
        "\n",
        "Pada soal, dikatakan untuk menghilangkan seluruh kata yang berawalan dengan https atau berakhiran dengan .com. Maka dari itu, akan dimulai dengan penghapusan kata-kata yang berawalan dengan https. Untuk https sendiri, kita akan mencari kata tersebut dengan menggunakan code `https?:\\/\\/(\\S*)(\\s+)` dalam parameter fungsinya. <br><br>\n",
        "\n",
        "Secara rinci, codenya bekerja sebagai berikut:\n",
        "- `?` setelah `https` : untuk kata-kata yang berawalan https, atau kata-kata yang bisa dibentuk dari kombinasi abjad h, t, t, p, s\n",
        "- `:` : untuk menandakan harus terdapat `:` dalam teksnya\n",
        "- `\\/\\/` : untuk menandakan harus terdapat `//` dalam teksnya\n",
        "- `(\\S*)` : untuk set karakter yang tidak memiliki minimal karakter dan bukan whitespace\n",
        "- `(\\s+)` : untuk set whitespace yang memiliki minimal satu karakter <br>\n",
        "\n",
        "Jadi, teks yang dihapus adalah teks dengan awalan `https` dan kombinasinya, lalu harus dilanjutkan dengan `:` dan `//` dan berakhiran apapun kecuali whitespace sebelum titik. Harus dihapus setelah terdeteksi adanya minimal satu whitespace. `re.sub()` juga akan melewati loop karena terdapat lebih dari 1 row pada dataset."
      ],
      "metadata": {
        "id": "AA01EoOVtmaf"
      }
    },
    {
      "cell_type": "code",
      "source": [
        "import re\n",
        "# https\n",
        "df.Teks = [re.sub(r'https?:\\/\\/(\\S*)(\\s+)', '', i) for i in df.Teks]"
      ],
      "metadata": {
        "id": "4y-f2HjjjLWF"
      },
      "execution_count": 4,
      "outputs": []
    },
    {
      "cell_type": "markdown",
      "source": [
        "Untuk yang berakhiran dengan `.com`, akan mengalami penambahan. Penghapusan pada semua kata yang memiliki `.` akan dilakukan karena pastinya masih terdapat link-link yang lain yang bukan berakhiran dengan `.com`. Tentunya hal ini tidak 100% akurat, namun lebih baik untuk dihapus karena kebanyakan merupakan link. <br><br>\n",
        "\n",
        "Secara rinci, code `(\\S+)[.](\\S+)(\\s+)` bekerja sebagai berikut:\n",
        "-  `(\\S+)` : untuk set karakter yang bukan whitespace yang memiliki minimal satu karakter \n",
        "- `[.]` : untuk menandakan harus terdapat `.` dalam teksnya\n",
        "- `(\\s+)` : untuk set whitespace yang memiliki minimal satu karakter\n",
        "\n",
        "Jadi, teks yang dihapus adalah teks dengan awalan apapun kecuali whitespace sebelum titik, dan juga berakhiran apapun kecuali whitespace sebelum titik. Harus dihapus setelah terdeteksi adanya minimal satu whitespace. `re.sub()` juga akan melewati loop karena terdapat lebih dari 1 row pada dataset."
      ],
      "metadata": {
        "id": "3KU-ibiWquhy"
      }
    },
    {
      "cell_type": "code",
      "source": [
        "# Any Word that has . in it\n",
        "df.Teks = [re.sub(r'(\\S+)[.](\\S+)(\\s+)', '', i) for i in df.Teks]"
      ],
      "metadata": {
        "id": "UOLo0zAYsIS1"
      },
      "execution_count": 5,
      "outputs": []
    },
    {
      "cell_type": "markdown",
      "source": [
        "#### Remove Hashtag\n",
        "\n",
        "Untuk penghapusan hashtag pada teks, dapat juga digunakan metode regex dengan library `re`. Sama dengan sebelumnya, menggunakan `re.sub()` dan looping untuk tiap row.<br><br>\n",
        "\n",
        "Secara rinci, code `#(\\S+)(\\s+)` bekerja sebagai berikut:\n",
        "- `#`: untuk kata yang berawalan dengan `#`\n",
        "-  `(\\S+)` : untuk set karakter yang bukan whitespace yang memiliki minimal satu karakter \n",
        "- `(\\s+)` : untuk set whitespace yang memiliki minimal satu karakter\n",
        "\n",
        "Jadi, teks yang dihapus adalah teks dengan awalan `#` dan berakhiran apapun kecuali whitespace sebelum titik. Harus dihapus setelah terdeteksi adanya minimal satu whitespace. "
      ],
      "metadata": {
        "id": "Rjvy4Vnzsr6V"
      }
    },
    {
      "cell_type": "code",
      "source": [
        "# Hashtag\n",
        "df.Teks = [re.sub(r'#(\\S+)(\\s+)', '', i) for i in df.Teks]"
      ],
      "metadata": {
        "id": "M9h5oaVrs3pY"
      },
      "execution_count": 6,
      "outputs": []
    },
    {
      "cell_type": "markdown",
      "source": [
        "### Remove Punctuations and Symbols (Non ASCII)\n",
        "\n",
        "Untuk penghapusan seluruh punctuations (tanda baca), dapat digunakan fungsi `.maketrans()` yang terdapat pada library `string`. Dibutuhkan juga fungsi `translate()` dimana fungsi ini akan mnegembalikan sebuah string yang beberapa karakternya akan diganti oleh karakter pada mapping table (`maketrans()`). Mapping table ini berisi untuk tentang penggantian setiap tanda baca yang terdaftar pada `string.punctuations` menjadi kosong. Tidak lupa juga untuk menjalankan code ini dalam looping."
      ],
      "metadata": {
        "id": "DTgmy_OotYjv"
      }
    },
    {
      "cell_type": "code",
      "source": [
        "import string\n",
        "# Punctuations\n",
        "df.Teks = [word.translate(str.maketrans('', '', string.punctuation)) for word in df.Teks]"
      ],
      "metadata": {
        "id": "54t3nAA6-DxW"
      },
      "execution_count": 7,
      "outputs": []
    },
    {
      "cell_type": "markdown",
      "source": [
        "Karena pada teks berita terkadang terdapat quotation marks (\"), maka metode ini harus dijalankan. Bisa juga terdapat simbol-simbol. Seluruh hal tersebut termasuk ke golong karakter yang bukan ASCII. Masalah ini dapat diselesaikan dengan membuat sebuah function manual, dimana tiap karakter pada string akan diseleksi. Jika karakter tersebut memiliki ASCII kurang dari 128, maka tidak ada masalah. Namun, jika karakternya memiliki ASCII lebih dari 128, maka akan dikembalikan kosong. <br><br>\n",
        "\n",
        "Pre-defined function tersebut akan dipanggil untuk setiap row dalam sebuah looping."
      ],
      "metadata": {
        "id": "80NA2az6zlqw"
      }
    },
    {
      "cell_type": "code",
      "source": [
        "# Symbols or Non-ASCII Characters\n",
        "def remove_non_ascii(string):\n",
        "    return ''.join(\n",
        "      char for char in string if ord(char) < 128\n",
        "    )\n",
        "\n",
        "for i in df.index:\n",
        "  df[\"Teks\"][i]= remove_non_ascii(df[\"Teks\"][i])"
      ],
      "metadata": {
        "id": "2jri-heqdHAM"
      },
      "execution_count": 8,
      "outputs": []
    },
    {
      "cell_type": "markdown",
      "source": [
        "#### Remove Numbers\n",
        "\n",
        "Penghapusan angka juga bisa dilakukan dengan fungsi yang sama dengan penghapusan link dan hashtag. Kali ini yang akan digunakan adalah `\\d+` yaitu kombinasi angka dengan angkanya minimal 1 dan akan diganti dengan kosong."
      ],
      "metadata": {
        "id": "tFWqNvtU7Mpr"
      }
    },
    {
      "cell_type": "code",
      "source": [
        "df.Teks = [re.sub(r\"\\d+\",\"\", i) for i in df.Teks]"
      ],
      "metadata": {
        "id": "E0aVsjKw7Oy7"
      },
      "execution_count": 9,
      "outputs": []
    },
    {
      "cell_type": "markdown",
      "source": [
        "#### Remove Multiple Whitecases\n",
        "\n",
        "Sama juga, akan digunakan fungsi yang sama untuk penghapusan spasi yang berulang. Di sini yang akan diganti adalah whitespaces minimal 1 dan akan digantikan dengan sebuah whitespace."
      ],
      "metadata": {
        "id": "0i4ygQF37YHL"
      }
    },
    {
      "cell_type": "code",
      "source": [
        "df.Teks = [re.sub(r\"\\s+\",\" \", i) for i in df.Teks]"
      ],
      "metadata": {
        "id": "eSRB029P7afw"
      },
      "execution_count": 10,
      "outputs": []
    },
    {
      "cell_type": "markdown",
      "source": [
        "#### Make Text to Lowercase\n",
        "\n",
        "Langkah terakhir sebelum masuk ke proses tokenisasi dan vektorisasi adalah pengubahan teks menjadi lowercase (huruf kecil). Fungsi yang dapat digunakan terdapat pada library string, yaitu `str.lower()`"
      ],
      "metadata": {
        "id": "qSiEMI597A14"
      }
    },
    {
      "cell_type": "code",
      "source": [
        "df.Teks = df.Teks.str.lower()"
      ],
      "metadata": {
        "id": "6Jx2kEbN7tXw"
      },
      "execution_count": 11,
      "outputs": []
    },
    {
      "cell_type": "markdown",
      "source": [
        "Hasil gabungannya akan kira-kira menjadi seperti ini:"
      ],
      "metadata": {
        "id": "Q02F6DEO3DFu"
      }
    },
    {
      "cell_type": "code",
      "source": [
        "print(\"\\n\".join(df[\"Teks\"]))"
      ],
      "metadata": {
        "colab": {
          "base_uri": "https://localhost:8080/"
        },
        "id": "ujWg-C8ZXXDF",
        "outputId": "d64ff70e-e247-44a6-cfed-721618812ad4"
      },
      "execution_count": 12,
      "outputs": [
        {
          "output_type": "stream",
          "name": "stdout",
          "text": [
            "semarang menparekraf sandiaga uno mengucapkan selamat kepada gubernur jawa tengah ganjar pranowo secara langsung saat ditanya soal pilpres mereka bertemu di kota semarang dalam acara terkait ekonomi desa ganjar dan sandiaga hari ini menjadi pembicara dalam rapat koordinasi daerah dan pleno tpkad sejawa tengah dengan tema percepatan pemulihan dan perkembangan ekonomi jawa tengah melalui kemandirian ekonomi desa di hotel gumaya semarang usai acara digelar jumpa pers soal acara tersebut kemudian keduanya ditanya soal politik termasuk sandiaga yang santer dikabarkan akan merapat ke ppp sedangkan ppp baru saja mendeklarasikan mengusung ganjar sebagai capres saat ditanya soal dukungan itu sandiaga langsung mengucapkan selamat selamat lho selamat kata sandi sambil melihat ganjar yang berjalan di sampingnya saat keluar dari hotel gumaya kamis menanggapi itu ganjar melempar pertanyaan sembari bercanda ia menanyakan apakah sandiaga sudah memiliki kartu tanda anggota kta dalam hal ini kta ppp emang sudah berkta canda ganjar disambut tawa keduanya terima kasih terima kasih imbuh ganjar menyambut ucapan selamat dari sandiaga kemudian sandiaga kembali ditanya soal tanggapannya terkait ganjar yang merupakan bakal calon presiden ia menjawab akan mendukung ganjar namun kali ini dalam hal percepatan kemandirian ekonomi di jawa tengah karena ganjar masih menjawab sebagai gubernur mas ganjar insyaallah kita dukung percepatan kemandirian ekonomi di jateng karena ini kue pariwisata dan perkembangan ekonomi kreatif itu pusatnya di destinasi super prioritas jelas sandiaga sedangkan ganjar mengucapkan terima kasih soal dukungan ppp kepada dirinya ia berharap tidak lama lagi ada pertemuan dengan ppp terima kasih temanteman ppp sudah ngabarin saya mudahmudahan sebentar lagi ada pertemuan ujar ganjar\n",
            "inter milan menjamu juventus pada leg kedua semifinal coppa italia di stadio giuseppe meazza kamis dini hari wib kedua tim terkunci dalam kedudukan pertemuan ini melanjutkan rivalitas sengit di antara kedua klub secara geografis inter milan dan juventus merupakan wakil dari dua kota terbesar di italia utara mereka lalu terlibat duel gengsi terutama pada an dan an persaingan inter dan juventus kembali memanas usai skandal calciopoli pada dengan kekuatan nyaris setara dan pertandingan kerap berlangsung ketat apakah pernah ada satu tim yang dominan sehingga meraih kemenangan besar setelah liverpool sukses mempermalukan rival abadi manchester united beberapa waktu lalu bola ganjil menceritakan hegemoni real madrid kala mempermak barcelona di el clasico kemenangan besar nyatanya juga terjadi di derby ditalia setelah melewati periode tersengit juventus mampu meraih kemenangan atas inter milan dalam pertandingan yang menghasilkan gol kedua tim semestinya bertemu april di stadio comunale namun wasit carlo gambarotta menghentikan pertandingan pada menit ke karena penonton masuk lapangan otoritas kompetisi kemudian menetapkan inter milan sebagai pemenang dengan skor juventus tidak terima mendengar keputusan yang keluar sepekan berselang tersebut mereka mengajukan banding keberatan si nyonya tua diterima sidang memutuskan laga diulang pada juni inter milan balik protes vonis itu sebagai tanda tidak terima mereka menurunkan tim berisi pemain muda komposisi tersebut tidak berdaya di hadapan tim sekuat juventus omar sivori bisa merobek gawang i nerazzurri enam kali angka lain bagi tuan rumah dihasilkan bruno nicole bruno mora serta gol bunuh diri francesco riefolo sementara gol inter milan dihasilkan sandro mazzola skor akhir bagi juventus menang atau kalah hasil laga ini sebenarnya tidak mengubah status juventus sebagai juara mereka mengakhiri klasemen berbekal keunggulan empat angka atas pesaing terdekat ac milan kala itu hasil positif dihargai dua angka sebaliknya inter milan kehilangan kans menggeser milan di posisi dua mereka berada satu poin di belakang rival sekota tersebut\n",
            "the flash diadaptasi dari karakter dc comics dengan nama yang sama dan bagian dari dc extended universe trailer the flash yang disutradarai andy muschietti dan ditulis oleh christina hodson telah dirilis pada februari the flash film bertema pahlawan super amerika yang diproduksi warner bros akan tayang pada juni mengutip hollywood reporter film the flash akan menampilkan ezra miller sebagai barry allen film itu juga akan menampilkan ben affleck batman michael keaton jenderal zod sasha calle supergirl kiersey clemons iris west mengutip collider film itu menceritakan tentang seorang pahlawan super atau superhero barry allen yang bisa berubah menjadi the flash dengan kemampuan yang dimilikinya itu barry memanfaatkan untuk kembali ke masa lampau supaya bisa mencegah kematian ibunya melihat risiko yang akan terjadi sebenarnya aksi barry untuk kembali ke masa lalu telah diingatkan dan dicegah oleh batman barry mengabaikan dan tetap melakukan aksinya keputusan barry kembali ke masa lalu memunculkan masalah aksi barry itu membuat masa depan berubah ia terjebak dalam realitas ketika jenderal zod telah kembali jenderal zod musuh besar superman yang diceritakan telah mati dalam film sebelumnya jenderal zod kali ini akan mengancam dunia dan ambisinya sulit dicegah satu cara yang bisa dilakukan barry untuk mencegah jenderal zod dia harus membujuk batman untuk membantu menyelamatkan alam semesta dari kejahatan ia juga harus menyelamatkan supergirl kryptonian demi mengumpulkan kekuatan melawan jenderal zod apakah mereka mampu menyelamatkan dunia dari ancaman jenderal zod\n",
            "pemusatan latihan nasional pelatnas tahap kedua bagi cabang olahraga bola basket x untuk sea games kamboja menyisakan enam pemain dari sebelumnya sembilan pemain keenam pemain yang dipanggil pp perbasi adalah muhammad reza fahdani guntara prawira harum bandung avan seputra satria muda ikram fadhil bima perkasa jogja laurentius steven oei satria muda karl patrick utiarahman gloria rans pik basketball dan nickson damara gosal west bandits solo pelatnas tahap kedua merupakan lanjutan dari tahap pertama yang berlangsung pada april lalu yang diikuti sembilan pemain tiga nama yang tidak lolos ke tahap kedua adalah anthony erga agus salim dan kevin moses poetiray kami harus berpacu dengan waktu untuk menyiapkan tim yang solid menghadapi persaingan di sea games kamboja nanti mohon doanya timnas x bisa menyumbang medali perak di sea games nanti kata sekjen pp perbasi nirmala dewi dalam keterangan pers yang diterima kamis april asisten manajer timnas basket x putra alfa hari kusumanegara menyebutkan fokus pelatnas tahap kedua adalah memadukan komposisi pemain dengan sistem yang dibuat pelatih kepala fandi andika ramadhani terutama pada pola serangan dan pertahanan pada tc tahap kedua ini kami akan berfokus memantapkan sistem offense dan defense kepada para pemain mereka harus padu dengan sistem yang dibuat coach rama ujar alfa ia mengatakan para pemain juga akan digenjot untuk meningkatkan akurasi agar mereka menjadi mesin poin andalan di berbagai situasi dan posisi meningkatkan dan memantapkan field goal baik tembakan satu poin maupun dari dua poin juga menjadi perhatian kami kemungkinan kami akan melihat progres pemain dengan menggelar uji coba melawan tim yang diisi pemain asing di indonesia ucapnya untuk menghadapi rivalitas di sea games kamboja alfa menegaskan bahwa timnas x putra selalu siap menghadapi tim mana pun pada sea games nanti mereka ditargetkan minimal bisa membawa pulang medali perak kami belum tahu akan satu grup dengan siapa saja tapi kami harus mewaspadai tuan rumah malaysia filipina singapura dan vietnam besar harapan kami kepada masyarakat indonesia untuk mendukung kami di perhelatan sea games ini mohon doa dan dukungannya kata alfa\n",
            "wali kota depok mohammad idris mengakui bahwa masih ada sejumlah masalah di wilayah administrasinya yang belum diselesaikan hal itu diungkapkan idris dalam sambutannya pada acara tasyakuran hut ke tahun kota depok di masjid balai kota depok kamis menurut idris permasalahpermasalahan utama di depok meliputi banjir sampai kemacetan masih banyak masalah misalnya masalah kemacetan masalah banjir masalahmasalah bencana yang lain itu juga masih kami rasakan di kota depok ini kata idris dari permasalahanpermasalahan tersebut idris menyebutkan salah satunya disebabkan oleh ketidaktertiban dari masyarakatnya ini juga bagian permasalahanpermasalahan yang harus kami selesaikan ujar dia selain itu idris mengatakan bahwa ada masalah besar lainnya di kota depok yang belum dapat terselesaikan substansi dalam permasalahan kota besar seperti kota depok ini adalah permasalahan kemiskinan yaitu miskin ide miskin sdm miskin kepedulian miskin hidup bersama imbuh dia sebagai informasi kota depok menginjak usia tahun pada kamis ini idris menilai hari ulang tahun hut ke ini menjadi momen bagi depok untuk berbenah agar bisa lebih baik lagi ke depannya hut ke tahun depok ini kami jadikan sebagai hari introspeksi diri evaluasi diri sebagaimana diri kita yang ulang tahun kata idris bagi idris bertambahnya umur sedianya memperlihatkan sudah sejauh mana karya yang dibuat saya sering mengatakan bahwa ulang tahun bukan soal angkanya yang tuhan lihat tapi karyanya sudah seperti apa ujar dia oleh karena itu idris menegaskan bahwa pihaknya melakukan evaluasi atas yang telah dilakukan pemkot selama ini karya membangunkan depok tahun seperti apa apa yang kurang itu akan kami sempurnakan itu arti ulang tahun kata dia berdasarkan pantauan sejumlah karangan bunga ucapan hut ke kota depok telah berjejer menghiasai halaman balai kota depok\n",
            "marc marquez belum akan kembali balapan akhir pekan ini rider repsol honda itu akan melewatkan motogp spanyol karena cederanya belum pulih betul marquez mengalami patah tulang jari tangan setelah menyeruduk pebalap rnf miguel oliveira di seri pembuka motogp portugal akibat cedera itu marquez harus menjalani operasi marquez sudah melewatkan dua seri terakhir di motogp argentina dan amerika serikat juara dunia motogp enam kali itu akan kembali absen di motogp spanyol di sirkuit jerez pada april hasil pemeriksaan medis pada selasa menunjukkan perkembangan positif pada cedera marquez namun kondisi tulang yang belum pulih sepenuhnya membuat marquez enggan mengambil risiko kemarin kami melakukan pemindaian ct dan terkonfirmasi bahwa meski ada perkembangan baik dari cederanya tulangnya belum sembuh sepenuhnya dan balapan di jerez akan berisiko ujar marquez di situs resmi motogp bersamasama dengan tim medis kami memutuskan untuk tidak mengambil risiko menunggu dua pekan lagi dan kembali di le saya minta maaf karena absen di gp spanyol karena ini selalu spesial karena atmosfernya balapan di kandang dan terutama melihat dan menikmati dukungan saya akan meneruskan pemulihan dan berusaha untuk kembali sesegera mungkin terima kasih atas pesan dan dukungan kalian rider team hrc di wsbk iker lecuona akan menggantikan marc marquez di motogp spanyol\n",
            "ahn hyo seop kembali membintangi musim terbaru dr romantic dia masih memerankan karakter seo woo jin seorang dokter spesialis bedah umum yang jenius dari rumah sakit doldam ahn hyo seop pun bicara soal perkembangan karakter seo woo jin di dr romantic untuk mengingatkan di musim sebelumnya woo jin digambarkan sebagai dokter berkepribadian dingin dan memendam masa lalu kelam kini cara woo jin memandang dunia telah berubah kamu dapat melihat seo woo jin yang lebih dewasa dan solid di dalam karena perspektif hidupnya telah meluas kata aktor berusia tahun tersebut dikutip dari situs soompi rabu tentu bukan cuma tokoh seo woo jin saja yang mengalami perkembangan karakter tokohtokoh lainnya pun demikian dan hal ini akan membuat alur cerita semakin menarik semua karakter telah berubah setelah masingmasing memilih jalan mereka sendiri saya harap kalian dapat melihat mereka bertumbuh dan melihat bagaimana mereka menjalani kehidupan saat ini jalan hidup yang telah mereka pilih paparnya kembali lagi ke lokasi syuting dr romantic setelah lebih dari tahun adalah hal yang sangat membuat ahn hyo seop antusias bertemu kembali dengan dengan keluarga besar rumah sakit doldam membuat hatinya hangat saya pikir saya sibuk menyapa mereka wajahwajah yang membuatku senang karena itu adalah rumah sakit doldam saya rasa saya dapat dengan cepat kembali ke pola pikir kehidupan woo jin yang diingat oleh tubuh dan pikiran saya tuturnya sang aktor lantas mengingat lagi percakapan ringan di pengujung syuting dr romantic di rumah sakit doldam saat itu seluruh pemain dan kru berkumpul dan mengatakan ayo kembali ke doldam suatu saat nanti apa pun yang terjadi saya selalu memikirkan itu dan alasan saya memutuskan untuk bergabung ke musim itu sederhana karena saya ingin karena itu membuat saya bahagia ujar ahn hyo seop sementara itu ahn hyo seop juga berbagi pendapat soal dr romantic yang begitu dicintai sejak musim pertama menurutnya pertama karena drama ini menyuguhkan cerita yang realistis tentang kehidupan dr romantic dan pesan yang disampaikan membuat kita berpikir tentang arah hidup kita sendiri apa yang harus kita anggap penting dalam hidup dan mengapa kita harus tetap hidup seperti itu ucapnya kedua saya pikir itu karena tekad yang kuat dan bulat dari seluruh tim dr romantic termasuk sutradara penulis pemeran dan kru untuk menyajikan tayangan yang bernilai tutupnya dr romantic akan tayang perdana pada april dan dapat disaksikan secara legal melalui platform disney hotstar\n",
            "bintang reality show dan sosialita kim kardashian mengaku kini ia sedang mengikuti gerakan reformasi peradilan pidana hal ini membuatnya selangkah lebih maju untuk mencapai impiannya menjadi pengacara saat berbicara di ktt time saya akan senang menjadi pengacara penuh waktu ujar kim kardashian ketika ditanya pernah mempertimbangkan hidup tanpa sorotan kamera perjalanan itu benarbenar membuka mata saya menjadi luar biasa karena begitu banyak yang harus dilakukan saya membawa saudara perempuan saya khloe kardashian ke penjara untuk pertama kalinya minggu lalu dan itu benarbenar membuka matanya lanjut kim meskipun menjadi pengacara resmi dia berharap gerakan yang dilakukannya itu menjadi pekerjaan hidup yang paling berarti kim kardashian mengaku kerap menggoda manajer dan ibunya dengan mengatakan akan pensiun dari dunia hiburan saya katakan kim akan pensiun dan saya hanya akan menjadi pengacara kata kim pekerjaan reformasi peradilan pidana ini didirikan pada oktober setelah kasus alice marie johnson yang telah berada di penjara sejak oktober alice dihukum karena membantu memfasilitasi komunikasi dalam kasus perdagangan narkoba johnson percaya dia akan diampuni pada tahun ketika presiden barack obama saat itu memberikan grasi kepada orang termasuk kepada para tahanan dengan kasus narkoba tanpa kekerasan yang serupa namun nyatanya johnson malah dilewatkan setelah mengetahui tentang kasus tersebut melalui laporan video oleh mic kardashian meretweet klip tersebut dan menulis ini sangat tidak adil dan mulai memperjuangkan grasinya setelah johnson dibebaskan dari penjara pada agustus kardashian terus aktif mengadvokasi narapidana lain yang dihukum secara tidak sah barubaru ini ia meminta pembebasan sementara seorang ayah yang dipenjara karena putrinya tewas dalam penembakan sekolah dasar yang tragis di uvalde texas pada desember kim kardashian lulus ujian mahasiswa hukum tahun pertama hal itu pertama kali diketahui pada mei ketika ia mengungkap bahwa dirinya memilih untuk mengikuti jejak mendiang ayahnya sr robert kardashian sebagai pengacara\n",
            "sekretaris jenderal sekjen pdi perjuangan pdip hasto kristiyanto mengatakan elite partai persatuan pembangunan ppp hingga partai hanura bakal bertemu ketua umum ketum pdip megawati soekarnoputri dalam waktu dekat diketahui sejak pdip resmi mengusung gubernur jawa tengah ganjar pranowo sebagai calon presiden capres ppp dan hanura juga menyatakan dukungannya untuk ganjar pranowo sebagai capres di pemilu ppp itu sudah mengumumkan mendukung pak ganjar pranowo dan dalam beberapa hari ke depan itu ppp akan kami terima diterima oleh ibu megawati soekarnoputri kata hasto di kantor dpp pdip menteng jakarta pusat kamis menurut hasto tak hanya ppp dan hanura ke depan partainya juga akan menyambut kehadiran partai politik parpol lain yang hendak bergabung mendukung ganjar pranowo sebagai capres untuk pilpres dan kemudian nanti juga hanura dan ada partai politik lain maka nanti ketika partaipartai tersebut bergabung seperti ppp ini kemudian kita lengkapi ungkapnya hasto menyampaikan proses penetapan caprescawapres bakal berjalan secara alami hingga pasangan calon paslon nantinya membentuk tim kampanye resmi inilah kata dia yang akan menjadi salah satu tugas yang akan diemban tim relawan pemenangan pemilu yang resmi diumumkan pdip hari ini kamis inilah yang kemudian apa yang sudah dilakukan oleh pak basarah cs ini akan melebur di dalam struktur tim kampanye ucap hasto sekjen pdip hasto kristiyanto mengumumkan struktur tim pemenangan relawan pemilu atau tim koordinasi relawan pemenangan pemilu ketua dpp pdip ahmad basarah didapuk sebagai ketua tim pembentukan desk khusus ini adalah perintah langsung ketua umum ibu megawati soekarnoputri surat tugas ditandatangani mbak puan maharani kata hasto di kantor dpp pdip jalan diponegoro jakarta pusat kamis wakil koordinator dijabat adian napitupulu sedangkan deddy yevri sitorus menjabat sekretaris dan rizky aprilia menjabat wakil sekretaris hasto mengatakan tim ini bakal menjalin kerja sama dengan organisasi relawan pendukung capres pdip ganjar pranowo di seluruh indonesia ini dimaksudkan untuk merespons banyaknya aspirasi dan antusiasme masyarakat yang telah dan akan membentuk organisasiorganisasi relawan untuk mendukung dan memenangkan pencapresan ganjar pranowo dalam pilpres jelas hasto selain itu ahmad basarah menambahkan tim ini juga akan berkoordinasi dengan partai politik parpol yang hendak menjalin kerja sama politik dengan pdip untuk pilpres pdip kata dia membuka diri terhadap seluruh elemen masyarakat yang akan membentuk barisan relawan pendukung ganjar pranowo sebagai capres menurut basarah desk tim relawan koordinasi pemenangan pemilu ini dibentuk lebih cepat daripada tim relawan pemenangan secara umum lainnya karena tingginya antusiasme yang ditunjukan masyarakat\n",
            "jessica iskandar belakangan menjadi sorotan karena melakukan operasi plastik di luar negeri hal tersebut ternyata mendapat sorotan dari lawan jessica iskandar steven pengacara csb menyebut jessica iskandar membentuk opini kepada masyarakat terkait kehidupannya yang sempat bangkrut akibat bermasalah dengan csb ya itu lah makanya tadi saya bilang jessica iskandar membentuk opini kepada masyarakat dalam hal kasusnya dia itu penuh kebohongan dan drama ya kata pengacara csb togar situmorang kepada detikhot barubaru ini togar juga menyebut soal bangkrut hingga sakitnya jessica iskandar adalah drama kebohongan dan drama ya dia mengaku bangkrut susah sakit ini itu ternyata apa semua drama ungkapnya lebih lanjut togar menyebut selama persidangan jessica iskandar sempat merasa menjadi korban hingga jatuh miskin menurut togar hal itu tak benar jadi saat kasus ini dia menciptakan seolah olah dia korban dengan miskin lah dengan ini lah padahal itu semua tidak benar nah ini kan nggak bener pembelajaran masyarakat hukum itu ya hukum jangan dibikin sinetron bebernya sebelumnya csb telah melayangkan gugatan perdata terkait pencampuran nama baik kepada jessica iskandar namun gugatan itu ditolak di sisi lain jessica juga melaporkan csb atas kasus penipuan penyewaan mobil di bali diklaim jessica kerugian itu sebesar hampir rp miliar dan mobil mewah\n",
            "pubg mobile secara resmi membagikan informasi detail mengenai pubg mobile world invitational pmwi yang digerakkan oleh gamersfestival gaming dan esports terbesar di dunia rabu total ada tim yang akan mengikuti tahap pertama turnamen pmwi allstars stage terhitung juli penyeleksian ditentukan oleh voting bagi penggemar dan beberapa direct invitation agenda selanjutnya adalah pmwi main tournament yang dimulai juli padaagendaini ada tim yang berpartisipasi mereka adalah yang berhasil lolos dari kejuaraan regional masingmasing yakni lima tim teratas dari pmwi allstars stage bersama dengan beberapa tim yang diundang langsung aksi untuk pmwi dimulai pada juli dengan tahap pmwi allstars yang menempatkan tim paling populer di dunia untuk bertanding dalam tiga hari persaingan yang intens kemudian tim yang lolos akan dipilih melalui pmwi allstars vote ujar pihak pubg mobile dalam rilis yang diterima rabu pihak pubg mobile menambahkan setiap tim terpilih akan bergabung dengan empat tim yang diundang oleh pubg mobile yakni dari korea selatan jepang arab saudi dan satu undangan khusus selain bersaing demi kebanggaan lima tim teratas dari allstars stage juga akan lolos ke tahap berikutnya yaitu main tournament pmwi tambahnya berlangsung dari juli juli pmwi main tournament akan melihat setiap tim dari empat juara regional dari pubg mobile pro league pmpl dan dua tim teratas pubg mobile super legue asia tenggara pmsl sea bertarung melawan lima tim teratas pmwi adapun allstars terdiri dari undangan dari chinadua tim teratas dari peacekeeper elite league pel spring jepangkorea selatansebagai hasil dari pubg mobile showdown korea vs japan juara saudi esports league champion twisted minds dan satu undangan khusus dari total tim yang berpartisipasi dalam persaingan musim panas yang mendebarkan antara timtim paling sukses dan populer dalam pubg mobile esports setiap tim akan berjuang untuk menjadi juara pmwi dan memenangkan juta dollar as tambah pihak pbug mobile perlu diketahui pmwi digelar di riyadh dalam delapan minggu mulai juli hingga september adapun total hadiah yang disiapkan penyelenggara adalah juta dollar as ada jenis game dengan lebih drai turnamen disiapkan \n",
            "komisi pemberantasan korupsi kpk menegaskan independensi kerja penindakan kasus korupsi terutama jelang mendekati tahun politik kepala bagian pemberitaan kpk ali fikri mengatakan setiap upaya kpk dalam memberantas korupsi tidak dapat dipengaruhi oleh pihak manapun kpk sesuai amanah uu no tahun bahwa dalam melaksanakan tugas pemberantasan korupsi bersifat independen tanpa pengaruh ataupun intervensi pihak manapun kata ali pada kamis april ali menyebut mandat undangundang tersebutlah yang menjadikan kpk terus berkomitmen bekerja secara profesional dalam memberantas korupsi oleh sebab itu menurut dia kpk tidak akan politis dalam mengusut kasus korupsi sama sekali tanpa melihat latar belakang para pelakunya termasuk dari unsur partai politik ujar dia dalam keterangan tertulis kpk kata ali bekerja dalam menindak suatu kasus korupsi berdasarkan sejumlah regulasi yang berlaku ia menegaskan kpk tidak melihat apa perkaranya atau siapa pelakunya dalam menindak kasus korupsi tapi dari kecukupan alat bukti atas tindak pidana korupsi kata ali selain itu ali mengatakan masyarakat bisa langsung memeriksa daftar latar belakang para tersangka kpk melalui website ia menyebut para tersangka yang ditetapkan oleh kpk tersebut memiliki latar belakang yang beragam dimana salah satu pihak yang paling banyak menjadi tersangka kpk adalah kepala daerah baik gubernur dan wali kota atau bupati serta anggota dewan perwakilan rakyat baik pusat maupun daerah dimana mereka merupakan produk suatu proses politik tentunya kalau dilihat lebih jauh lagi para tersangka tersebut berasal dari beragam partai politik kata ali pun kata ali kpk juga telah melakukan upaya pencegahan dan pendidikan antikorupsi di bidang politik ia menjelaskan upaya tersebut disediakan bagi seluruh partai politik di indonesia artinya dapat dipastikan bahwa setiap upaya pemberantasan korupsi baik penindakan pencegahan dan pendidikan dilakukan secara equal teatment tidak ada pengistimewaan ataupun diskriminasi terhadap pihakpihak tertentu ujar dia\n"
          ]
        }
      ]
    },
    {
      "cell_type": "markdown",
      "source": [
        "#### Tokenization\n",
        "\n",
        "Tokenisasi adalah proses pemecahan sebuah string menjadi berbagai sub-string. Proses ini bisa dilakukan menggunakan library nltk dengan package punkt dengan fungsi `word_tokenize`. Package punkt harus diunduh terlebih dahulu."
      ],
      "metadata": {
        "id": "Xobnyfy2Hgk0"
      }
    },
    {
      "cell_type": "code",
      "source": [
        "import nltk\n",
        "nltk.download('punkt')"
      ],
      "metadata": {
        "colab": {
          "base_uri": "https://localhost:8080/"
        },
        "id": "Vlshx4CBIL03",
        "outputId": "0463e247-6d6f-4293-e16f-443096f8964c"
      },
      "execution_count": 13,
      "outputs": [
        {
          "output_type": "stream",
          "name": "stderr",
          "text": [
            "[nltk_data] Downloading package punkt to /root/nltk_data...\n",
            "[nltk_data]   Package punkt is already up-to-date!\n"
          ]
        },
        {
          "output_type": "execute_result",
          "data": {
            "text/plain": [
              "True"
            ]
          },
          "metadata": {},
          "execution_count": 13
        }
      ]
    },
    {
      "cell_type": "markdown",
      "source": [
        " Yang akan diapply dengan functionnya adalah setiap row Teks, seperti yang dapat dilihat pada code yang tertera di bawah."
      ],
      "metadata": {
        "id": "iRmhmkCP4Ecz"
      }
    },
    {
      "cell_type": "code",
      "source": [
        "from nltk.tokenize import word_tokenize\n",
        "\n",
        "df.Teks = df.apply(lambda row: nltk.word_tokenize(row.Teks), axis=1)"
      ],
      "metadata": {
        "id": "x5en_DDRHiBF"
      },
      "execution_count": 14,
      "outputs": []
    },
    {
      "cell_type": "markdown",
      "source": [
        "Hasil dari yang telah dipisah-pisah pada dataframe dapat dilihat:"
      ],
      "metadata": {
        "id": "OTkxaQ7i4Qbg"
      }
    },
    {
      "cell_type": "code",
      "source": [
        "df.head()"
      ],
      "metadata": {
        "colab": {
          "base_uri": "https://localhost:8080/",
          "height": 206
        },
        "id": "3TnoYb6-I25U",
        "outputId": "b3a6bac5-afd4-4d3c-82ce-6a4b0228745f"
      },
      "execution_count": 15,
      "outputs": [
        {
          "output_type": "execute_result",
          "data": {
            "text/plain": [
              "                                                Teks      Media     Label\n",
              "0  [semarang, menparekraf, sandiaga, uno, menguca...      Detik   Politik\n",
              "1  [inter, milan, menjamu, juventus, pada, leg, k...  Liputan 6  Olahraga\n",
              "2  [the, flash, diadaptasi, dari, karakter, dc, c...      Tempo   Hiburan\n",
              "3  [pemusatan, latihan, nasional, pelatnas, tahap...      Tempo  Olahraga\n",
              "4  [wali, kota, depok, mohammad, idris, mengakui,...     Kompas   Politik"
            ],
            "text/html": [
              "\n",
              "  <div id=\"df-80b0f0d5-301f-4058-878d-ae74a9f4fec0\">\n",
              "    <div class=\"colab-df-container\">\n",
              "      <div>\n",
              "<style scoped>\n",
              "    .dataframe tbody tr th:only-of-type {\n",
              "        vertical-align: middle;\n",
              "    }\n",
              "\n",
              "    .dataframe tbody tr th {\n",
              "        vertical-align: top;\n",
              "    }\n",
              "\n",
              "    .dataframe thead th {\n",
              "        text-align: right;\n",
              "    }\n",
              "</style>\n",
              "<table border=\"1\" class=\"dataframe\">\n",
              "  <thead>\n",
              "    <tr style=\"text-align: right;\">\n",
              "      <th></th>\n",
              "      <th>Teks</th>\n",
              "      <th>Media</th>\n",
              "      <th>Label</th>\n",
              "    </tr>\n",
              "  </thead>\n",
              "  <tbody>\n",
              "    <tr>\n",
              "      <th>0</th>\n",
              "      <td>[semarang, menparekraf, sandiaga, uno, menguca...</td>\n",
              "      <td>Detik</td>\n",
              "      <td>Politik</td>\n",
              "    </tr>\n",
              "    <tr>\n",
              "      <th>1</th>\n",
              "      <td>[inter, milan, menjamu, juventus, pada, leg, k...</td>\n",
              "      <td>Liputan 6</td>\n",
              "      <td>Olahraga</td>\n",
              "    </tr>\n",
              "    <tr>\n",
              "      <th>2</th>\n",
              "      <td>[the, flash, diadaptasi, dari, karakter, dc, c...</td>\n",
              "      <td>Tempo</td>\n",
              "      <td>Hiburan</td>\n",
              "    </tr>\n",
              "    <tr>\n",
              "      <th>3</th>\n",
              "      <td>[pemusatan, latihan, nasional, pelatnas, tahap...</td>\n",
              "      <td>Tempo</td>\n",
              "      <td>Olahraga</td>\n",
              "    </tr>\n",
              "    <tr>\n",
              "      <th>4</th>\n",
              "      <td>[wali, kota, depok, mohammad, idris, mengakui,...</td>\n",
              "      <td>Kompas</td>\n",
              "      <td>Politik</td>\n",
              "    </tr>\n",
              "  </tbody>\n",
              "</table>\n",
              "</div>\n",
              "      <button class=\"colab-df-convert\" onclick=\"convertToInteractive('df-80b0f0d5-301f-4058-878d-ae74a9f4fec0')\"\n",
              "              title=\"Convert this dataframe to an interactive table.\"\n",
              "              style=\"display:none;\">\n",
              "        \n",
              "  <svg xmlns=\"http://www.w3.org/2000/svg\" height=\"24px\"viewBox=\"0 0 24 24\"\n",
              "       width=\"24px\">\n",
              "    <path d=\"M0 0h24v24H0V0z\" fill=\"none\"/>\n",
              "    <path d=\"M18.56 5.44l.94 2.06.94-2.06 2.06-.94-2.06-.94-.94-2.06-.94 2.06-2.06.94zm-11 1L8.5 8.5l.94-2.06 2.06-.94-2.06-.94L8.5 2.5l-.94 2.06-2.06.94zm10 10l.94 2.06.94-2.06 2.06-.94-2.06-.94-.94-2.06-.94 2.06-2.06.94z\"/><path d=\"M17.41 7.96l-1.37-1.37c-.4-.4-.92-.59-1.43-.59-.52 0-1.04.2-1.43.59L10.3 9.45l-7.72 7.72c-.78.78-.78 2.05 0 2.83L4 21.41c.39.39.9.59 1.41.59.51 0 1.02-.2 1.41-.59l7.78-7.78 2.81-2.81c.8-.78.8-2.07 0-2.86zM5.41 20L4 18.59l7.72-7.72 1.47 1.35L5.41 20z\"/>\n",
              "  </svg>\n",
              "      </button>\n",
              "      \n",
              "  <style>\n",
              "    .colab-df-container {\n",
              "      display:flex;\n",
              "      flex-wrap:wrap;\n",
              "      gap: 12px;\n",
              "    }\n",
              "\n",
              "    .colab-df-convert {\n",
              "      background-color: #E8F0FE;\n",
              "      border: none;\n",
              "      border-radius: 50%;\n",
              "      cursor: pointer;\n",
              "      display: none;\n",
              "      fill: #1967D2;\n",
              "      height: 32px;\n",
              "      padding: 0 0 0 0;\n",
              "      width: 32px;\n",
              "    }\n",
              "\n",
              "    .colab-df-convert:hover {\n",
              "      background-color: #E2EBFA;\n",
              "      box-shadow: 0px 1px 2px rgba(60, 64, 67, 0.3), 0px 1px 3px 1px rgba(60, 64, 67, 0.15);\n",
              "      fill: #174EA6;\n",
              "    }\n",
              "\n",
              "    [theme=dark] .colab-df-convert {\n",
              "      background-color: #3B4455;\n",
              "      fill: #D2E3FC;\n",
              "    }\n",
              "\n",
              "    [theme=dark] .colab-df-convert:hover {\n",
              "      background-color: #434B5C;\n",
              "      box-shadow: 0px 1px 3px 1px rgba(0, 0, 0, 0.15);\n",
              "      filter: drop-shadow(0px 1px 2px rgba(0, 0, 0, 0.3));\n",
              "      fill: #FFFFFF;\n",
              "    }\n",
              "  </style>\n",
              "\n",
              "      <script>\n",
              "        const buttonEl =\n",
              "          document.querySelector('#df-80b0f0d5-301f-4058-878d-ae74a9f4fec0 button.colab-df-convert');\n",
              "        buttonEl.style.display =\n",
              "          google.colab.kernel.accessAllowed ? 'block' : 'none';\n",
              "\n",
              "        async function convertToInteractive(key) {\n",
              "          const element = document.querySelector('#df-80b0f0d5-301f-4058-878d-ae74a9f4fec0');\n",
              "          const dataTable =\n",
              "            await google.colab.kernel.invokeFunction('convertToInteractive',\n",
              "                                                     [key], {});\n",
              "          if (!dataTable) return;\n",
              "\n",
              "          const docLinkHtml = 'Like what you see? Visit the ' +\n",
              "            '<a target=\"_blank\" href=https://colab.research.google.com/notebooks/data_table.ipynb>data table notebook</a>'\n",
              "            + ' to learn more about interactive tables.';\n",
              "          element.innerHTML = '';\n",
              "          dataTable['output_type'] = 'display_data';\n",
              "          await google.colab.output.renderOutput(dataTable, element);\n",
              "          const docLink = document.createElement('div');\n",
              "          docLink.innerHTML = docLinkHtml;\n",
              "          element.appendChild(docLink);\n",
              "        }\n",
              "      </script>\n",
              "    </div>\n",
              "  </div>\n",
              "  "
            ]
          },
          "metadata": {},
          "execution_count": 15
        }
      ]
    },
    {
      "cell_type": "markdown",
      "source": [
        "#### Remove Stopwords\n",
        "\n",
        "Stopwords adalah kata-kata yang tidak memiliki makna yang signifikan, dan tidak penting untuk dianalisis. Maka dari itu, stopwords ini harus dibuang untuk kepentingan ke depannya. Dapat digunakan fungsi dari library nltk juga dengan package yang perlu diunduh terlebih dahulu, yaitu package `stopwords`."
      ],
      "metadata": {
        "id": "OsZR-T9dI9NM"
      }
    },
    {
      "cell_type": "code",
      "source": [
        "from nltk.corpus import stopwords\n",
        "nltk.download('stopwords')"
      ],
      "metadata": {
        "colab": {
          "base_uri": "https://localhost:8080/"
        },
        "id": "at2qtYSeI-z8",
        "outputId": "95f35103-d01c-493a-8253-7a7406178b3f"
      },
      "execution_count": 16,
      "outputs": [
        {
          "output_type": "stream",
          "name": "stderr",
          "text": [
            "[nltk_data] Downloading package stopwords to /root/nltk_data...\n",
            "[nltk_data]   Package stopwords is already up-to-date!\n"
          ]
        },
        {
          "output_type": "execute_result",
          "data": {
            "text/plain": [
              "True"
            ]
          },
          "metadata": {},
          "execution_count": 16
        }
      ]
    },
    {
      "cell_type": "markdown",
      "source": [
        "Selain bahasa Indonesia, terkadang teks berita di Indonesia juga sering menggunakan bahasa Inggris. Dengan demikian, akan dihapus stopwords-stopwords pada bahasa Indonesia dan bahasa Inggris. List dari stopwords ini dapat diakses melalui function `stopwords.words()` dengan bahasa yang sesuai pada fungsinya."
      ],
      "metadata": {
        "id": "uhy5rG8j5YVQ"
      }
    },
    {
      "cell_type": "code",
      "source": [
        "list_stopwords = set(stopwords.words('indonesian'))\n",
        "list_stopwords2 = set(stopwords.words('english'))"
      ],
      "metadata": {
        "id": "O6VPDy_iJCoT"
      },
      "execution_count": 17,
      "outputs": []
    },
    {
      "cell_type": "markdown",
      "source": [
        "Setelah sudah dilist semua stopwordsnya, maka dapat digunakan. Caranya adalah dengan mengiterasi setiap kata, dan jika kata tersebut tidak terdapat pada list stopwords, maka akan ditambahkan."
      ],
      "metadata": {
        "id": "zOFAqPqrJQj2"
      }
    },
    {
      "cell_type": "code",
      "source": [
        "df.Teks = df.Teks.apply(lambda x: [item for item in x if item not in list_stopwords])\n",
        "df.Teks = df.Teks.apply(lambda x: [item for item in x if item not in list_stopwords2])"
      ],
      "metadata": {
        "id": "jHRjdYonJYM0"
      },
      "execution_count": 18,
      "outputs": []
    },
    {
      "cell_type": "markdown",
      "source": [
        "Hasilnya dapat dilihat seperti di bawah, dimana kata-kata seperti `pada`, `the`, sudah terhapus."
      ],
      "metadata": {
        "id": "dRNJA0Dv6I-g"
      }
    },
    {
      "cell_type": "code",
      "source": [
        "df.head()"
      ],
      "metadata": {
        "colab": {
          "base_uri": "https://localhost:8080/",
          "height": 206
        },
        "id": "629tA4e0J5WQ",
        "outputId": "7e47c4a7-6386-4b77-cd47-fc70a704840a"
      },
      "execution_count": 19,
      "outputs": [
        {
          "output_type": "execute_result",
          "data": {
            "text/plain": [
              "                                                Teks      Media     Label\n",
              "0  [semarang, menparekraf, sandiaga, uno, selamat...      Detik   Politik\n",
              "1  [inter, milan, menjamu, juventus, leg, semifin...  Liputan 6  Olahraga\n",
              "2  [flash, diadaptasi, karakter, dc, comics, nama...      Tempo   Hiburan\n",
              "3  [pemusatan, latihan, nasional, pelatnas, tahap...      Tempo  Olahraga\n",
              "4  [wali, kota, depok, mohammad, idris, mengakui,...     Kompas   Politik"
            ],
            "text/html": [
              "\n",
              "  <div id=\"df-d77beae5-c572-4e6e-a33d-1e2b69908091\">\n",
              "    <div class=\"colab-df-container\">\n",
              "      <div>\n",
              "<style scoped>\n",
              "    .dataframe tbody tr th:only-of-type {\n",
              "        vertical-align: middle;\n",
              "    }\n",
              "\n",
              "    .dataframe tbody tr th {\n",
              "        vertical-align: top;\n",
              "    }\n",
              "\n",
              "    .dataframe thead th {\n",
              "        text-align: right;\n",
              "    }\n",
              "</style>\n",
              "<table border=\"1\" class=\"dataframe\">\n",
              "  <thead>\n",
              "    <tr style=\"text-align: right;\">\n",
              "      <th></th>\n",
              "      <th>Teks</th>\n",
              "      <th>Media</th>\n",
              "      <th>Label</th>\n",
              "    </tr>\n",
              "  </thead>\n",
              "  <tbody>\n",
              "    <tr>\n",
              "      <th>0</th>\n",
              "      <td>[semarang, menparekraf, sandiaga, uno, selamat...</td>\n",
              "      <td>Detik</td>\n",
              "      <td>Politik</td>\n",
              "    </tr>\n",
              "    <tr>\n",
              "      <th>1</th>\n",
              "      <td>[inter, milan, menjamu, juventus, leg, semifin...</td>\n",
              "      <td>Liputan 6</td>\n",
              "      <td>Olahraga</td>\n",
              "    </tr>\n",
              "    <tr>\n",
              "      <th>2</th>\n",
              "      <td>[flash, diadaptasi, karakter, dc, comics, nama...</td>\n",
              "      <td>Tempo</td>\n",
              "      <td>Hiburan</td>\n",
              "    </tr>\n",
              "    <tr>\n",
              "      <th>3</th>\n",
              "      <td>[pemusatan, latihan, nasional, pelatnas, tahap...</td>\n",
              "      <td>Tempo</td>\n",
              "      <td>Olahraga</td>\n",
              "    </tr>\n",
              "    <tr>\n",
              "      <th>4</th>\n",
              "      <td>[wali, kota, depok, mohammad, idris, mengakui,...</td>\n",
              "      <td>Kompas</td>\n",
              "      <td>Politik</td>\n",
              "    </tr>\n",
              "  </tbody>\n",
              "</table>\n",
              "</div>\n",
              "      <button class=\"colab-df-convert\" onclick=\"convertToInteractive('df-d77beae5-c572-4e6e-a33d-1e2b69908091')\"\n",
              "              title=\"Convert this dataframe to an interactive table.\"\n",
              "              style=\"display:none;\">\n",
              "        \n",
              "  <svg xmlns=\"http://www.w3.org/2000/svg\" height=\"24px\"viewBox=\"0 0 24 24\"\n",
              "       width=\"24px\">\n",
              "    <path d=\"M0 0h24v24H0V0z\" fill=\"none\"/>\n",
              "    <path d=\"M18.56 5.44l.94 2.06.94-2.06 2.06-.94-2.06-.94-.94-2.06-.94 2.06-2.06.94zm-11 1L8.5 8.5l.94-2.06 2.06-.94-2.06-.94L8.5 2.5l-.94 2.06-2.06.94zm10 10l.94 2.06.94-2.06 2.06-.94-2.06-.94-.94-2.06-.94 2.06-2.06.94z\"/><path d=\"M17.41 7.96l-1.37-1.37c-.4-.4-.92-.59-1.43-.59-.52 0-1.04.2-1.43.59L10.3 9.45l-7.72 7.72c-.78.78-.78 2.05 0 2.83L4 21.41c.39.39.9.59 1.41.59.51 0 1.02-.2 1.41-.59l7.78-7.78 2.81-2.81c.8-.78.8-2.07 0-2.86zM5.41 20L4 18.59l7.72-7.72 1.47 1.35L5.41 20z\"/>\n",
              "  </svg>\n",
              "      </button>\n",
              "      \n",
              "  <style>\n",
              "    .colab-df-container {\n",
              "      display:flex;\n",
              "      flex-wrap:wrap;\n",
              "      gap: 12px;\n",
              "    }\n",
              "\n",
              "    .colab-df-convert {\n",
              "      background-color: #E8F0FE;\n",
              "      border: none;\n",
              "      border-radius: 50%;\n",
              "      cursor: pointer;\n",
              "      display: none;\n",
              "      fill: #1967D2;\n",
              "      height: 32px;\n",
              "      padding: 0 0 0 0;\n",
              "      width: 32px;\n",
              "    }\n",
              "\n",
              "    .colab-df-convert:hover {\n",
              "      background-color: #E2EBFA;\n",
              "      box-shadow: 0px 1px 2px rgba(60, 64, 67, 0.3), 0px 1px 3px 1px rgba(60, 64, 67, 0.15);\n",
              "      fill: #174EA6;\n",
              "    }\n",
              "\n",
              "    [theme=dark] .colab-df-convert {\n",
              "      background-color: #3B4455;\n",
              "      fill: #D2E3FC;\n",
              "    }\n",
              "\n",
              "    [theme=dark] .colab-df-convert:hover {\n",
              "      background-color: #434B5C;\n",
              "      box-shadow: 0px 1px 3px 1px rgba(0, 0, 0, 0.15);\n",
              "      filter: drop-shadow(0px 1px 2px rgba(0, 0, 0, 0.3));\n",
              "      fill: #FFFFFF;\n",
              "    }\n",
              "  </style>\n",
              "\n",
              "      <script>\n",
              "        const buttonEl =\n",
              "          document.querySelector('#df-d77beae5-c572-4e6e-a33d-1e2b69908091 button.colab-df-convert');\n",
              "        buttonEl.style.display =\n",
              "          google.colab.kernel.accessAllowed ? 'block' : 'none';\n",
              "\n",
              "        async function convertToInteractive(key) {\n",
              "          const element = document.querySelector('#df-d77beae5-c572-4e6e-a33d-1e2b69908091');\n",
              "          const dataTable =\n",
              "            await google.colab.kernel.invokeFunction('convertToInteractive',\n",
              "                                                     [key], {});\n",
              "          if (!dataTable) return;\n",
              "\n",
              "          const docLinkHtml = 'Like what you see? Visit the ' +\n",
              "            '<a target=\"_blank\" href=https://colab.research.google.com/notebooks/data_table.ipynb>data table notebook</a>'\n",
              "            + ' to learn more about interactive tables.';\n",
              "          element.innerHTML = '';\n",
              "          dataTable['output_type'] = 'display_data';\n",
              "          await google.colab.output.renderOutput(dataTable, element);\n",
              "          const docLink = document.createElement('div');\n",
              "          docLink.innerHTML = docLinkHtml;\n",
              "          element.appendChild(docLink);\n",
              "        }\n",
              "      </script>\n",
              "    </div>\n",
              "  </div>\n",
              "  "
            ]
          },
          "metadata": {},
          "execution_count": 19
        }
      ]
    },
    {
      "cell_type": "markdown",
      "source": [
        "#### Stemming\n",
        "\n",
        "Stemming adalah tahap pengubahan kata menjadi kata dasar. Misalnya, `pembuatan` menjadi `buat`. Metode ini baik untuk digunakan karena dapat mengklasifikasi berbagai model kata menjadi satu kata. Namun, kekurangannya adalah metode stemming tidak memperhatikan struktur bahasa dan juga kadang tidak jelas hasilnya. <br> <br>\n",
        "\n",
        "Untuk stemming bahasa Indonesia, dapat menggunakan library Sastrawi. Library ini harus diinstall terlebih dahulu."
      ],
      "metadata": {
        "id": "sSXcW7mtKjVM"
      }
    },
    {
      "cell_type": "code",
      "source": [
        "!pip install Sastrawi"
      ],
      "metadata": {
        "colab": {
          "base_uri": "https://localhost:8080/"
        },
        "id": "Qz5iOyyLOmQf",
        "outputId": "16a8ba09-2655-47fd-b227-0e3da4154f8a"
      },
      "execution_count": 20,
      "outputs": [
        {
          "output_type": "stream",
          "name": "stdout",
          "text": [
            "Looking in indexes: https://pypi.org/simple, https://us-python.pkg.dev/colab-wheels/public/simple/\n",
            "Requirement already satisfied: Sastrawi in /usr/local/lib/python3.10/dist-packages (1.0.1)\n"
          ]
        }
      ]
    },
    {
      "cell_type": "markdown",
      "source": [
        "Fungsi yang akan dipakai adalah `StemmerFactory()` dan `create_stemmer()` untuk pembuatan stemmer-stemmer yang terdapat pada librarynya. "
      ],
      "metadata": {
        "id": "GUpNuup67kpl"
      }
    },
    {
      "cell_type": "code",
      "source": [
        "from Sastrawi.Stemmer.StemmerFactory import StemmerFactory\n",
        "factory = StemmerFactory()\n",
        "stemmer = factory.create_stemmer()"
      ],
      "metadata": {
        "id": "lr8Po9OXKk83"
      },
      "execution_count": 21,
      "outputs": []
    },
    {
      "cell_type": "markdown",
      "source": [
        "Setelah itu, dapat mengubah seluruh kata satu per satu jika kata tersebut dapat dipotong dengan fungsi `stem()`. Contoh dari hasilnya adalah `pelatihan` yang dipotong menjadi `latih`."
      ],
      "metadata": {
        "id": "L1Tl9oiN8CAE"
      }
    },
    {
      "cell_type": "code",
      "source": [
        "df.Teks = df.Teks.apply(lambda x: [stemmer.stem(y) for y in x])\n",
        "df.head()"
      ],
      "metadata": {
        "colab": {
          "base_uri": "https://localhost:8080/",
          "height": 206
        },
        "id": "3DyZPnW8MTae",
        "outputId": "7de4576c-ca70-4915-d5aa-466311356c16"
      },
      "execution_count": 22,
      "outputs": [
        {
          "output_type": "execute_result",
          "data": {
            "text/plain": [
              "                                                Teks      Media     Label\n",
              "0  [semarang, menparekraf, sandiaga, uno, selamat...      Detik   Politik\n",
              "1  [inter, mil, jamu, juventus, leg, semifinal, c...  Liputan 6  Olahraga\n",
              "2  [flash, adaptasi, karakter, dc, comics, nama, ...      Tempo   Hiburan\n",
              "3  [pusat, latih, nasional, pelatnas, tahap, caba...      Tempo  Olahraga\n",
              "4  [wali, kota, depok, mohammad, idris, aku, wila...     Kompas   Politik"
            ],
            "text/html": [
              "\n",
              "  <div id=\"df-6eb0531b-8c77-4b2b-9ad7-6098bdba299b\">\n",
              "    <div class=\"colab-df-container\">\n",
              "      <div>\n",
              "<style scoped>\n",
              "    .dataframe tbody tr th:only-of-type {\n",
              "        vertical-align: middle;\n",
              "    }\n",
              "\n",
              "    .dataframe tbody tr th {\n",
              "        vertical-align: top;\n",
              "    }\n",
              "\n",
              "    .dataframe thead th {\n",
              "        text-align: right;\n",
              "    }\n",
              "</style>\n",
              "<table border=\"1\" class=\"dataframe\">\n",
              "  <thead>\n",
              "    <tr style=\"text-align: right;\">\n",
              "      <th></th>\n",
              "      <th>Teks</th>\n",
              "      <th>Media</th>\n",
              "      <th>Label</th>\n",
              "    </tr>\n",
              "  </thead>\n",
              "  <tbody>\n",
              "    <tr>\n",
              "      <th>0</th>\n",
              "      <td>[semarang, menparekraf, sandiaga, uno, selamat...</td>\n",
              "      <td>Detik</td>\n",
              "      <td>Politik</td>\n",
              "    </tr>\n",
              "    <tr>\n",
              "      <th>1</th>\n",
              "      <td>[inter, mil, jamu, juventus, leg, semifinal, c...</td>\n",
              "      <td>Liputan 6</td>\n",
              "      <td>Olahraga</td>\n",
              "    </tr>\n",
              "    <tr>\n",
              "      <th>2</th>\n",
              "      <td>[flash, adaptasi, karakter, dc, comics, nama, ...</td>\n",
              "      <td>Tempo</td>\n",
              "      <td>Hiburan</td>\n",
              "    </tr>\n",
              "    <tr>\n",
              "      <th>3</th>\n",
              "      <td>[pusat, latih, nasional, pelatnas, tahap, caba...</td>\n",
              "      <td>Tempo</td>\n",
              "      <td>Olahraga</td>\n",
              "    </tr>\n",
              "    <tr>\n",
              "      <th>4</th>\n",
              "      <td>[wali, kota, depok, mohammad, idris, aku, wila...</td>\n",
              "      <td>Kompas</td>\n",
              "      <td>Politik</td>\n",
              "    </tr>\n",
              "  </tbody>\n",
              "</table>\n",
              "</div>\n",
              "      <button class=\"colab-df-convert\" onclick=\"convertToInteractive('df-6eb0531b-8c77-4b2b-9ad7-6098bdba299b')\"\n",
              "              title=\"Convert this dataframe to an interactive table.\"\n",
              "              style=\"display:none;\">\n",
              "        \n",
              "  <svg xmlns=\"http://www.w3.org/2000/svg\" height=\"24px\"viewBox=\"0 0 24 24\"\n",
              "       width=\"24px\">\n",
              "    <path d=\"M0 0h24v24H0V0z\" fill=\"none\"/>\n",
              "    <path d=\"M18.56 5.44l.94 2.06.94-2.06 2.06-.94-2.06-.94-.94-2.06-.94 2.06-2.06.94zm-11 1L8.5 8.5l.94-2.06 2.06-.94-2.06-.94L8.5 2.5l-.94 2.06-2.06.94zm10 10l.94 2.06.94-2.06 2.06-.94-2.06-.94-.94-2.06-.94 2.06-2.06.94z\"/><path d=\"M17.41 7.96l-1.37-1.37c-.4-.4-.92-.59-1.43-.59-.52 0-1.04.2-1.43.59L10.3 9.45l-7.72 7.72c-.78.78-.78 2.05 0 2.83L4 21.41c.39.39.9.59 1.41.59.51 0 1.02-.2 1.41-.59l7.78-7.78 2.81-2.81c.8-.78.8-2.07 0-2.86zM5.41 20L4 18.59l7.72-7.72 1.47 1.35L5.41 20z\"/>\n",
              "  </svg>\n",
              "      </button>\n",
              "      \n",
              "  <style>\n",
              "    .colab-df-container {\n",
              "      display:flex;\n",
              "      flex-wrap:wrap;\n",
              "      gap: 12px;\n",
              "    }\n",
              "\n",
              "    .colab-df-convert {\n",
              "      background-color: #E8F0FE;\n",
              "      border: none;\n",
              "      border-radius: 50%;\n",
              "      cursor: pointer;\n",
              "      display: none;\n",
              "      fill: #1967D2;\n",
              "      height: 32px;\n",
              "      padding: 0 0 0 0;\n",
              "      width: 32px;\n",
              "    }\n",
              "\n",
              "    .colab-df-convert:hover {\n",
              "      background-color: #E2EBFA;\n",
              "      box-shadow: 0px 1px 2px rgba(60, 64, 67, 0.3), 0px 1px 3px 1px rgba(60, 64, 67, 0.15);\n",
              "      fill: #174EA6;\n",
              "    }\n",
              "\n",
              "    [theme=dark] .colab-df-convert {\n",
              "      background-color: #3B4455;\n",
              "      fill: #D2E3FC;\n",
              "    }\n",
              "\n",
              "    [theme=dark] .colab-df-convert:hover {\n",
              "      background-color: #434B5C;\n",
              "      box-shadow: 0px 1px 3px 1px rgba(0, 0, 0, 0.15);\n",
              "      filter: drop-shadow(0px 1px 2px rgba(0, 0, 0, 0.3));\n",
              "      fill: #FFFFFF;\n",
              "    }\n",
              "  </style>\n",
              "\n",
              "      <script>\n",
              "        const buttonEl =\n",
              "          document.querySelector('#df-6eb0531b-8c77-4b2b-9ad7-6098bdba299b button.colab-df-convert');\n",
              "        buttonEl.style.display =\n",
              "          google.colab.kernel.accessAllowed ? 'block' : 'none';\n",
              "\n",
              "        async function convertToInteractive(key) {\n",
              "          const element = document.querySelector('#df-6eb0531b-8c77-4b2b-9ad7-6098bdba299b');\n",
              "          const dataTable =\n",
              "            await google.colab.kernel.invokeFunction('convertToInteractive',\n",
              "                                                     [key], {});\n",
              "          if (!dataTable) return;\n",
              "\n",
              "          const docLinkHtml = 'Like what you see? Visit the ' +\n",
              "            '<a target=\"_blank\" href=https://colab.research.google.com/notebooks/data_table.ipynb>data table notebook</a>'\n",
              "            + ' to learn more about interactive tables.';\n",
              "          element.innerHTML = '';\n",
              "          dataTable['output_type'] = 'display_data';\n",
              "          await google.colab.output.renderOutput(dataTable, element);\n",
              "          const docLink = document.createElement('div');\n",
              "          docLink.innerHTML = docLinkHtml;\n",
              "          element.appendChild(docLink);\n",
              "        }\n",
              "      </script>\n",
              "    </div>\n",
              "  </div>\n",
              "  "
            ]
          },
          "metadata": {},
          "execution_count": 22
        }
      ]
    },
    {
      "cell_type": "markdown",
      "source": [
        "### Text Representation\n",
        "\n",
        "Text Representation adalah metode yang melakukan pengubahan teks menjadi angka sehingga dapat dikomputasi secara matematis. Di tahap ini, teks akan diubah menjadi vektor dengan metode `Word2Vec` dari `gensim`. Model Word2Vec yang digunakan adalah yang berjenis `skipgram` karena datasetnya tidak begitu besar sehingga dapat lebih merepresentasikan kata-kata yang jarang. Skipgram juga merupakan kata-kata yang memprediksi konteks.\n"
      ],
      "metadata": {
        "id": "IRApNInv8Ng5"
      }
    },
    {
      "cell_type": "code",
      "source": [
        "import gensim\n",
        "from gensim.models import Word2Vec "
      ],
      "metadata": {
        "id": "ZIlS43-WGOWb"
      },
      "execution_count": 23,
      "outputs": []
    },
    {
      "cell_type": "markdown",
      "source": [
        "#### Vectorization\n",
        "Pada soal, diminta untuk membuat vektor dengan ukuran 50 dan frekuensi kata yang diperhitungkan minimal 2. Kedua ini masuk ke parameter `Word2Vec()` pada `vector_size` dan `min_count`. Untuk `window` (kata-kata terdekat) diatur menjadi 5 kata, dan `sg = 1` karena model yang digunakan adalah skipgram. Data yang digunakan tentunya adalah teksnya."
      ],
      "metadata": {
        "id": "ppytGH7w_Uol"
      }
    },
    {
      "cell_type": "code",
      "source": [
        "model_skipgram = gensim.models.Word2Vec(df.Teks, min_count=2 , vector_size=50, window=5, sg=1) "
      ],
      "metadata": {
        "id": "FtPqixD9HaqZ"
      },
      "execution_count": 24,
      "outputs": []
    },
    {
      "cell_type": "markdown",
      "source": [
        "Kemudian, dengan model tersebut juga kita dapat membuat list vocab dari hasil training modelnya dan diberi sebuah index pada tiap vocabnya. Fungsinya untuk memberi indexnya adalah `wv.key_to_index`."
      ],
      "metadata": {
        "id": "DayLm4m8AMBq"
      }
    },
    {
      "cell_type": "code",
      "source": [
        "vocabulary_skipgram = model_skipgram.wv.key_to_index\n",
        "print(vocabulary_skipgram)"
      ],
      "metadata": {
        "colab": {
          "base_uri": "https://localhost:8080/"
        },
        "id": "mZhCRXKdwink",
        "outputId": "2602cf32-d563-40e4-8444-b6f650373836"
      },
      "execution_count": 25,
      "outputs": [
        {
          "output_type": "stream",
          "name": "stdout",
          "text": [
            "{'tim': 0, 'ganjar': 1, 'kota': 2, 'main': 3, 'dukung': 4, 'depok': 5, 'kpk': 6, 'pmwi': 7, 'ppp': 8, 'hidup': 9, 'terima': 10, 'menang': 11, 'acara': 12, 'politik': 13, 'pdip': 14, 'korupsi': 15, 'idris': 16, 'mobile': 17, 'pubg': 18, 'kamis': 19, 'masyarakat': 20, 'mil': 21, 'jessica': 22, 'partai': 23, 'hasto': 24, 'tahap': 25, 'marquez': 26, 'kardashian': 27, 'barry': 28, 'jenderal': 29, 'sandiaga': 30, 'juventus': 31, 'hasil': 32, 'jalan': 33, 'ali': 34, 'inter': 35, 'romantic': 36, 'selamat': 37, 'pranowo': 38, 'rawan': 39, 'dr': 40, 'kim': 41, 'bentuk': 42, 'motogp': 43, 'woo': 44, 'jin': 45, 'dunia': 46, 'miskin': 47, 'zod': 48, 'iskandar': 49, 'temu': 50, 'sea': 51, 'saing': 52, 'pikir': 53, 'rumah': 54, 'kali': 55, 'games': 56, 'sakit': 57, 'juli': 58, 'juara': 59, 'kembang': 60, 'allstars': 61, 'capres': 62, 'cegah': 63, 'april': 64, 'resmi': 65, 'ekonomi': 66, 'ubah': 67, 'karakter': 68, 'drama': 69, 'flash': 70, 'doldam': 71, 'kasih': 72, 'pilih': 73, 'pusat': 74, 'ulang': 75, 'musim': 76, 'seop': 77, 'hyo': 78, 'ahn': 79, 'putus': 80, 'cerita': 81, 'kerja': 82, 'film': 83, 'langsung': 84, 'cepat': 85, 'csb': 86, 'hukum': 87, 'berantas': 88, 'sebut': 89, 'tindak': 90, 'atas': 91, 'undang': 92, 'milu': 93, 'harap': 94, 'pulih': 95, 'pilpres': 96, 'kait': 97, 'seo': 98, 'basarah': 99, 'lewat': 100, 'ya': 101, 'ikut': 102, 'angka': 103, 'enam': 104, 'hadap': 105, 'tanding': 106, 'wakil': 107, 'buka': 108, 'indonesia': 109, 'alfa': 110, 'kuat': 111, 'cedera': 112, 'spanyol': 113, 'lolos': 114, 'super': 115, 'balap': 116, 'upaya': 117, 'johnson': 118, 'laku': 119, 'penjara': 120, 'hut': 121, 'sangka': 122, 'tulis': 123, 'mana': 124, 'x': 125, 'aku': 126, 'sambut': 127, 'risiko': 128, 'gabung': 129, 'aksi': 130, 'gubernur': 131, 'poin': 132, 'lawan': 133, 'hanura': 134, 'ketua': 135, 'togar': 136, 'jawa': 137, 'koordinasi': 138, 'esports': 139, 'tetap': 140, 'selesai': 141, 'gol': 142, 'total': 143, 'bicara': 144, 'stage': 145, 'kepala': 146, 'sistem': 147, 'tournament': 148, 'sekjen': 149, 'muda': 150, 'timnas': 151, 'kamboja': 152, 'league': 153, 'pelatnas': 154, 'nama': 155, 'latar': 156, 'batman': 157, 'kutip': 158, 'tayang': 159, 'putra': 160, 'semarang': 161, 'bangkrut': 162, 'tulang': 163, 'daerah': 164, 'salah': 165, 'mandiri': 166, 'dpp': 167, 'umum': 168, 'soekarnoputri': 169, 'megawati': 170, 'rabu': 171, 'presiden': 172, 'gelar': 173, 'calon': 174, 'sekretaris': 175, 'juang': 176, 'adil': 177, 'pidana': 178, 'sorot': 179, 'milik': 180, 'khusus': 181, 'tugas': 182, 'dasar': 183, 'karya': 184, 'masalah': 185, 'alami': 186, 'jabat': 187, 'usung': 188, 'posisi': 189, 'kerap': 190, 'raih': 191, 'ucap': 192, 'imbuh': 193, 'pers': 194, 'sukses': 195, 'dc': 196, 'juni': 197, 'desa': 198, 'positif': 199, 'rival': 200, 'canda': 201, 'kta': 202, 'anggota': 203, 'rilis': 204, 'tanda': 205, 'bola': 206, 'sutradara': 207, 'skor': 208, 'isi': 209, 'tuan': 210, 'besar': 211, 'sengit': 212, 'rivalitas': 213, 'komposisi': 214, 'lanjut': 215, 'stadio': 216, 'italia': 217, 'tema': 218, 'panas': 219, 'dekat': 220, 'laga': 221, 'bruno': 222, 'hotel': 223, 'sidang': 224, 'gumaya': 225, 'selang': 226, 'pahlawan': 227, 'rapat': 228, 'tanggap': 229, 'didik': 230, 'amerika': 231, 'penuh': 232, 'barubaru': 233, 'bebas': 234, 'lapor': 235, 'grasi': 236, 'narkoba': 237, 'alice': 238, 'oktober': 239, 'pensiun': 240, 'minggu': 241, 'mata': 242, 'benarbenar': 243, 'reformasi': 244, 'kristiyanto': 245, 'gera': 246, 'bagi': 247, 'kru': 248, 'senang': 249, 'buat': 250, 'syuting': 251, 'masingmasing': 252, 'aktor': 253, 'dokter': 254, 'bintang': 255, 'pesan': 256, 'ayah': 257, 'elite': 258, 'tampil': 259, 'gugat': 260, 'pengaruh': 261, 'siap': 262, 'dollar': 263, 'juta': 264, 'saudi': 265, 'korea': 266, 'populer': 267, 'regional': 268, 'partisipasi': 269, 'turnamen': 270, 'mobil': 271, 'korban': 272, 'kantor': 273, 'bohong': 274, 'opini': 275, 'antusiasme': 276, 'jalin': 277, 'desk': 278, 'ahmad': 279, 'struktur': 280, 'kampanye': 281, 'proses': 282, 'parpol': 283, 'jakarta': 284, 'situs': 285, 'ambil': 286, 'sepenuh': 287, 'basi': 288, 'pola': 289, 'fokus': 290, 'manajer': 291, 'terang': 292, 'perak': 293, 'medali': 294, 'doa': 295, 'mohon': 296, 'solid': 297, 'steven': 298, 'satria': 299, 'pp': 300, 'medis': 301, 'sembilan': 302, 'basket': 303, 'latih': 304, 'kumpul': 305, 'bantu': 306, 'ancam': 307, 'ibu': 308, 'mati': 309, 'west': 310, 'supergirl': 311, 'allen': 312, 'tahan': 313, 'mantap': 314, 'tingkat': 315, 'tembak': 316, 'periksa': 317, 'jerez': 318, 'absen': 319, 'operasi': 320, 'akibat': 321, 'seri': 322, 'rider': 323, 'pekan': 324, 'marc': 325, 'bangun': 326, 'sedia': 327, 'evaluasi': 328, 'jadi': 329, 'usia': 330, 'informasi': 331, 'satu': 332, 'permasalahanpermasalahan': 333, 'macet': 334, 'banjir': 335, 'balai': 336, 'agam': 337, 'bawa': 338, 'uji': 339, 'wali': 340}\n"
          ]
        }
      ]
    },
    {
      "cell_type": "markdown",
      "source": [
        "Selain itu, juga dapat dilihat kemiripan antar 2 kata menggunakan fungsi `wv.similarity` dan akan keluar sebuah angka yang menandakan korelasinya. Semakin dekat dengan angka 1 maka kedua kata tersebut lebih mirip."
      ],
      "metadata": {
        "id": "3jlH_M1hBPvb"
      }
    },
    {
      "cell_type": "code",
      "source": [
        "print(model_skipgram.wv.similarity('dukung','politik'))"
      ],
      "metadata": {
        "colab": {
          "base_uri": "https://localhost:8080/"
        },
        "id": "UmaBzRgWzqGf",
        "outputId": "000c3057-325c-47a0-9b7a-eeb1fdf1263e"
      },
      "execution_count": 26,
      "outputs": [
        {
          "output_type": "stream",
          "name": "stdout",
          "text": [
            "0.76353437\n"
          ]
        }
      ]
    },
    {
      "cell_type": "code",
      "source": [
        "print(model_skipgram.wv.similarity('menang','sutradara'))"
      ],
      "metadata": {
        "colab": {
          "base_uri": "https://localhost:8080/"
        },
        "id": "MpokMedJz2pw",
        "outputId": "b9df6c84-aa64-4509-ca79-6bca3d3bf2c2"
      },
      "execution_count": 27,
      "outputs": [
        {
          "output_type": "stream",
          "name": "stdout",
          "text": [
            "0.16459744\n"
          ]
        }
      ]
    },
    {
      "cell_type": "markdown",
      "source": [
        "Kita juga dapat melihat kata-kata yang paling mirip dengan suatu kata, dan ini bisa menjadi penting untuk analisis. Fungsinya adalah `wv.most_similar`."
      ],
      "metadata": {
        "id": "WbV5M1JKBp9C"
      }
    },
    {
      "cell_type": "code",
      "source": [
        "similar_words = model_skipgram.wv.most_similar(\"ganjar\")\n",
        "print(similar_words)"
      ],
      "metadata": {
        "colab": {
          "base_uri": "https://localhost:8080/"
        },
        "id": "R6xJWOPM0Uvh",
        "outputId": "48745f1b-e8d9-415c-fa91-0e1456216088"
      },
      "execution_count": 28,
      "outputs": [
        {
          "output_type": "stream",
          "name": "stdout",
          "text": [
            "[('tim', 0.7325751185417175), ('dukung', 0.7272816896438599), ('tahap', 0.7268189787864685), ('mana', 0.7164531946182251), ('hasil', 0.7050018906593323), ('sandiaga', 0.702980637550354), ('ucap', 0.7010056376457214), ('allstars', 0.6977913975715637), ('laku', 0.6942546963691711), ('partai', 0.689540684223175)]\n"
          ]
        }
      ]
    },
    {
      "cell_type": "markdown",
      "source": [
        "Vektor bisa didapatkan dari tiap kata di model dengan fungsi `get_vector` dan kata tersebut ada di list vocabulary modelnya. Vektor ini nantinya akan menjadi sebuah 2D array."
      ],
      "metadata": {
        "id": "7t9zdzMCEk0m"
      }
    },
    {
      "cell_type": "code",
      "source": [
        "vector_skipgram = [model_skipgram.wv.get_vector(word) for word in vocabulary_skipgram]"
      ],
      "metadata": {
        "id": "699jK1HG0fwH"
      },
      "execution_count": 29,
      "outputs": []
    },
    {
      "cell_type": "markdown",
      "source": [
        "Contoh hasil dari vektornya adalah:"
      ],
      "metadata": {
        "id": "y2d5k9ZiFMp_"
      }
    },
    {
      "cell_type": "code",
      "source": [
        "vector_skipgram[1]"
      ],
      "metadata": {
        "colab": {
          "base_uri": "https://localhost:8080/"
        },
        "id": "rvkUdpMR1rFO",
        "outputId": "9c773509-12bf-4217-b73b-4fde4ff924e9"
      },
      "execution_count": 30,
      "outputs": [
        {
          "output_type": "execute_result",
          "data": {
            "text/plain": [
              "array([-0.0089997 ,  0.01018937, -0.00717107, -0.00204993,  0.0204462 ,\n",
              "       -0.02197101,  0.01938751,  0.00981805, -0.02933544,  0.02548002,\n",
              "       -0.00349201, -0.01676376, -0.00621174, -0.00458093, -0.01285722,\n",
              "        0.02169628,  0.00465443,  0.01495319, -0.02733318, -0.00076629,\n",
              "        0.00674966,  0.02716178,  0.00915027, -0.03090525,  0.02230725,\n",
              "        0.0073541 ,  0.00992986, -0.0113108 , -0.02865857, -0.01310587,\n",
              "        0.00854186,  0.01059542,  0.00098696,  0.01874532, -0.02368223,\n",
              "        0.0192348 ,  0.02101002, -0.00916815,  0.00782488, -0.00511625,\n",
              "        0.01977342, -0.00662259,  0.00471749,  0.01191002,  0.04684968,\n",
              "        0.01669906, -0.02339885, -0.03178798,  0.01348775,  0.00306686],\n",
              "      dtype=float32)"
            ]
          },
          "metadata": {},
          "execution_count": 30
        }
      ]
    },
    {
      "cell_type": "markdown",
      "source": [
        "#### TF-IDF \n",
        "\n",
        "TF-IDF (Term Frequency - Inverse Document Frequency) adalah metode yang bisa memprediksi seberapa relevan sebuah kata untuk dokumennya. Di sini, akan dilakukan metode TFIDF pada setiap teks berita dan akan dicari 5 kata yang paling relevan bagi berita tersebut.<br><br>\n",
        "\n",
        "Fungsi yang bisa digunakan adalah `TfidVectorizer()` yang mengubah data menjadi matrix yang berisi fitur-fitur TF-IDF."
      ],
      "metadata": {
        "id": "lDYfIKVD9vMA"
      }
    },
    {
      "cell_type": "code",
      "source": [
        "from sklearn.feature_extraction.text import TfidfVectorizer"
      ],
      "metadata": {
        "id": "z11UNfZp9w9v"
      },
      "execution_count": 31,
      "outputs": []
    },
    {
      "cell_type": "code",
      "source": [
        "vectorizer = TfidfVectorizer()"
      ],
      "metadata": {
        "id": "XISwzHvC92PV"
      },
      "execution_count": 32,
      "outputs": []
    },
    {
      "cell_type": "markdown",
      "source": [
        "Untuk mencari top 5 dengan nilai TF-IDF tertinggi, pertama dibuat sebuah list yang bisa menampung dalam looping. Kita set n menjadi 5 karena ingin mencari 5 teratas.\n"
      ],
      "metadata": {
        "id": "hzTgokqsBcky"
      }
    },
    {
      "cell_type": "code",
      "source": [
        "import numpy as np"
      ],
      "metadata": {
        "id": "NkfuOjEIBqzA"
      },
      "execution_count": 33,
      "outputs": []
    },
    {
      "cell_type": "code",
      "source": [
        "top_n = []\n",
        "n = 5"
      ],
      "metadata": {
        "id": "T0jOsz7qB_D_"
      },
      "execution_count": 34,
      "outputs": []
    },
    {
      "cell_type": "markdown",
      "source": [
        "Kemudian, pada loopnya, pertama datanya harus difit dan ditransform terlebih dahulu. Setelah itu, akan digunakan fungsi `get_feature_names_out()` agar dapat didapatkan nama dari fitur-fitur yang terseleksi (kata-kata). Kita juga harus menentukan urutan sortnya, lalu diambil 5 fitur (kata) yang teratas. "
      ],
      "metadata": {
        "id": "dq9pIglOKqdW"
      }
    },
    {
      "cell_type": "code",
      "source": [
        "for i in range(0,11):\n",
        "  X = vectorizer.fit_transform(df['Teks'][i])\n",
        "  # print(X)\n",
        "  feature_array = np.array(vectorizer.get_feature_names_out())\n",
        "  # print(feature_array)\n",
        "  tfidf_sorting = np.argsort(X[i].toarray()).flatten()[::-1]\n",
        "  # print(tfidf_sorting)\n",
        "  top_n.append(feature_array[tfidf_sorting][:n])"
      ],
      "metadata": {
        "id": "9whbvqnN_ZSo"
      },
      "execution_count": 35,
      "outputs": []
    },
    {
      "cell_type": "markdown",
      "source": [
        "Semua list yang telah diappend akan digabung menjadi sebuah 2D array."
      ],
      "metadata": {
        "id": "6enH14t8NEkw"
      }
    },
    {
      "cell_type": "code",
      "source": [
        "top_all = np.array(top_n)"
      ],
      "metadata": {
        "id": "0-Vcc_c-FX0X"
      },
      "execution_count": 36,
      "outputs": []
    },
    {
      "cell_type": "markdown",
      "source": [
        "Berikut adalah hasil dari 5 hasil TF-IDF terbesar dari setiap data. Baris pertama merupakan data pertama, dan selanjutnya."
      ],
      "metadata": {
        "id": "2V5dY83lNMiA"
      }
    },
    {
      "cell_type": "code",
      "source": [
        "print(top_all)"
      ],
      "metadata": {
        "colab": {
          "base_uri": "https://localhost:8080/"
        },
        "id": "p8UksTS0At-9",
        "outputId": "8360db90-e268-45c3-c19a-24411f04b8cf"
      },
      "execution_count": 37,
      "outputs": [
        {
          "output_type": "stream",
          "name": "stdout",
          "text": [
            "[['semarang' 'usung' 'kait' 'imbuh' 'insyaallah']\n",
            " ['mil' 'wib' 'hilang' 'juara' 'jamu']\n",
            " ['karakter' 'zod' 'hodson' 'comics' 'dc']\n",
            " ['pelatnas' 'west' 'harap' 'isi' 'indonesia']\n",
            " ['idris' 'wilayah' 'jadi' 'ide' 'imbuh']\n",
            " ['repsol' 'wsbk' 'marc' 'hrc' 'iker']\n",
            " ['dr' 'jenius' 'drama' 'dunia' 'gabung']\n",
            " ['ikut' 'video' 'uvalde' 'goda' 'grasi']\n",
            " ['elite' 'lebur' 'gabung' 'ganjar' 'gubernur']\n",
            " ['iskandar' 'ya' 'csb' 'lapor' 'korban']\n",
            " ['pmwi' 'world' 'hasil' 'hitung' 'ikut']]\n"
          ]
        }
      ]
    }
  ]
}