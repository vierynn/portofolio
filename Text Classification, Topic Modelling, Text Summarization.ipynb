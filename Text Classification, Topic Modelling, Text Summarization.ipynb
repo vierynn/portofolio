{
  "nbformat": 4,
  "nbformat_minor": 0,
  "metadata": {
    "colab": {
      "provenance": [],
      "collapsed_sections": [
        "u34CijldOl7L",
        "7WYu_lUv2Dq8",
        "i6c-gT_7zKI_",
        "l2SwNcH4KgSi",
        "kBEO6VOxP0rN",
        "3Z7Q5aAsyy1B",
        "4syue60z0LCt"
      ],
      "gpuType": "T4"
    },
    "kernelspec": {
      "name": "python3",
      "display_name": "Python 3"
    },
    "language_info": {
      "name": "python"
    },
    "accelerator": "GPU",
    "widgets": {
      "application/vnd.jupyter.widget-state+json": {
        "0948c80bf1b1433b8492640b572c7fc8": {
          "model_module": "@jupyter-widgets/controls",
          "model_name": "HBoxModel",
          "model_module_version": "1.5.0",
          "state": {
            "_dom_classes": [],
            "_model_module": "@jupyter-widgets/controls",
            "_model_module_version": "1.5.0",
            "_model_name": "HBoxModel",
            "_view_count": null,
            "_view_module": "@jupyter-widgets/controls",
            "_view_module_version": "1.5.0",
            "_view_name": "HBoxView",
            "box_style": "",
            "children": [
              "IPY_MODEL_96aaed03278d4f998cdbb5701aafde27",
              "IPY_MODEL_41cd678c28af43d5838291b614f46559",
              "IPY_MODEL_29f5c6c3827a4e41a10ee2ad59a9f544"
            ],
            "layout": "IPY_MODEL_a6aae202e5da4602ab6329ef9f867cd9"
          }
        },
        "96aaed03278d4f998cdbb5701aafde27": {
          "model_module": "@jupyter-widgets/controls",
          "model_name": "HTMLModel",
          "model_module_version": "1.5.0",
          "state": {
            "_dom_classes": [],
            "_model_module": "@jupyter-widgets/controls",
            "_model_module_version": "1.5.0",
            "_model_name": "HTMLModel",
            "_view_count": null,
            "_view_module": "@jupyter-widgets/controls",
            "_view_module_version": "1.5.0",
            "_view_name": "HTMLView",
            "description": "",
            "description_tooltip": null,
            "layout": "IPY_MODEL_5f4c8d1905ce43438278b765c3b76b44",
            "placeholder": "​",
            "style": "IPY_MODEL_5afef8a22cc145d2958602babb636276",
            "value": "Downloading (…)solve/main/vocab.txt: 100%"
          }
        },
        "41cd678c28af43d5838291b614f46559": {
          "model_module": "@jupyter-widgets/controls",
          "model_name": "FloatProgressModel",
          "model_module_version": "1.5.0",
          "state": {
            "_dom_classes": [],
            "_model_module": "@jupyter-widgets/controls",
            "_model_module_version": "1.5.0",
            "_model_name": "FloatProgressModel",
            "_view_count": null,
            "_view_module": "@jupyter-widgets/controls",
            "_view_module_version": "1.5.0",
            "_view_name": "ProgressView",
            "bar_style": "success",
            "description": "",
            "description_tooltip": null,
            "layout": "IPY_MODEL_164bf9d32ae148b983dba0e8fb316de1",
            "max": 231508,
            "min": 0,
            "orientation": "horizontal",
            "style": "IPY_MODEL_64137cfea3b849349e576c7ee2ac6af9",
            "value": 231508
          }
        },
        "29f5c6c3827a4e41a10ee2ad59a9f544": {
          "model_module": "@jupyter-widgets/controls",
          "model_name": "HTMLModel",
          "model_module_version": "1.5.0",
          "state": {
            "_dom_classes": [],
            "_model_module": "@jupyter-widgets/controls",
            "_model_module_version": "1.5.0",
            "_model_name": "HTMLModel",
            "_view_count": null,
            "_view_module": "@jupyter-widgets/controls",
            "_view_module_version": "1.5.0",
            "_view_name": "HTMLView",
            "description": "",
            "description_tooltip": null,
            "layout": "IPY_MODEL_311bc71b1cca49ed999562f80ab970ac",
            "placeholder": "​",
            "style": "IPY_MODEL_1ee588ed05e74f24bb6422de7a01796a",
            "value": " 232k/232k [00:00&lt;00:00, 2.44MB/s]"
          }
        },
        "a6aae202e5da4602ab6329ef9f867cd9": {
          "model_module": "@jupyter-widgets/base",
          "model_name": "LayoutModel",
          "model_module_version": "1.2.0",
          "state": {
            "_model_module": "@jupyter-widgets/base",
            "_model_module_version": "1.2.0",
            "_model_name": "LayoutModel",
            "_view_count": null,
            "_view_module": "@jupyter-widgets/base",
            "_view_module_version": "1.2.0",
            "_view_name": "LayoutView",
            "align_content": null,
            "align_items": null,
            "align_self": null,
            "border": null,
            "bottom": null,
            "display": null,
            "flex": null,
            "flex_flow": null,
            "grid_area": null,
            "grid_auto_columns": null,
            "grid_auto_flow": null,
            "grid_auto_rows": null,
            "grid_column": null,
            "grid_gap": null,
            "grid_row": null,
            "grid_template_areas": null,
            "grid_template_columns": null,
            "grid_template_rows": null,
            "height": null,
            "justify_content": null,
            "justify_items": null,
            "left": null,
            "margin": null,
            "max_height": null,
            "max_width": null,
            "min_height": null,
            "min_width": null,
            "object_fit": null,
            "object_position": null,
            "order": null,
            "overflow": null,
            "overflow_x": null,
            "overflow_y": null,
            "padding": null,
            "right": null,
            "top": null,
            "visibility": null,
            "width": null
          }
        },
        "5f4c8d1905ce43438278b765c3b76b44": {
          "model_module": "@jupyter-widgets/base",
          "model_name": "LayoutModel",
          "model_module_version": "1.2.0",
          "state": {
            "_model_module": "@jupyter-widgets/base",
            "_model_module_version": "1.2.0",
            "_model_name": "LayoutModel",
            "_view_count": null,
            "_view_module": "@jupyter-widgets/base",
            "_view_module_version": "1.2.0",
            "_view_name": "LayoutView",
            "align_content": null,
            "align_items": null,
            "align_self": null,
            "border": null,
            "bottom": null,
            "display": null,
            "flex": null,
            "flex_flow": null,
            "grid_area": null,
            "grid_auto_columns": null,
            "grid_auto_flow": null,
            "grid_auto_rows": null,
            "grid_column": null,
            "grid_gap": null,
            "grid_row": null,
            "grid_template_areas": null,
            "grid_template_columns": null,
            "grid_template_rows": null,
            "height": null,
            "justify_content": null,
            "justify_items": null,
            "left": null,
            "margin": null,
            "max_height": null,
            "max_width": null,
            "min_height": null,
            "min_width": null,
            "object_fit": null,
            "object_position": null,
            "order": null,
            "overflow": null,
            "overflow_x": null,
            "overflow_y": null,
            "padding": null,
            "right": null,
            "top": null,
            "visibility": null,
            "width": null
          }
        },
        "5afef8a22cc145d2958602babb636276": {
          "model_module": "@jupyter-widgets/controls",
          "model_name": "DescriptionStyleModel",
          "model_module_version": "1.5.0",
          "state": {
            "_model_module": "@jupyter-widgets/controls",
            "_model_module_version": "1.5.0",
            "_model_name": "DescriptionStyleModel",
            "_view_count": null,
            "_view_module": "@jupyter-widgets/base",
            "_view_module_version": "1.2.0",
            "_view_name": "StyleView",
            "description_width": ""
          }
        },
        "164bf9d32ae148b983dba0e8fb316de1": {
          "model_module": "@jupyter-widgets/base",
          "model_name": "LayoutModel",
          "model_module_version": "1.2.0",
          "state": {
            "_model_module": "@jupyter-widgets/base",
            "_model_module_version": "1.2.0",
            "_model_name": "LayoutModel",
            "_view_count": null,
            "_view_module": "@jupyter-widgets/base",
            "_view_module_version": "1.2.0",
            "_view_name": "LayoutView",
            "align_content": null,
            "align_items": null,
            "align_self": null,
            "border": null,
            "bottom": null,
            "display": null,
            "flex": null,
            "flex_flow": null,
            "grid_area": null,
            "grid_auto_columns": null,
            "grid_auto_flow": null,
            "grid_auto_rows": null,
            "grid_column": null,
            "grid_gap": null,
            "grid_row": null,
            "grid_template_areas": null,
            "grid_template_columns": null,
            "grid_template_rows": null,
            "height": null,
            "justify_content": null,
            "justify_items": null,
            "left": null,
            "margin": null,
            "max_height": null,
            "max_width": null,
            "min_height": null,
            "min_width": null,
            "object_fit": null,
            "object_position": null,
            "order": null,
            "overflow": null,
            "overflow_x": null,
            "overflow_y": null,
            "padding": null,
            "right": null,
            "top": null,
            "visibility": null,
            "width": null
          }
        },
        "64137cfea3b849349e576c7ee2ac6af9": {
          "model_module": "@jupyter-widgets/controls",
          "model_name": "ProgressStyleModel",
          "model_module_version": "1.5.0",
          "state": {
            "_model_module": "@jupyter-widgets/controls",
            "_model_module_version": "1.5.0",
            "_model_name": "ProgressStyleModel",
            "_view_count": null,
            "_view_module": "@jupyter-widgets/base",
            "_view_module_version": "1.2.0",
            "_view_name": "StyleView",
            "bar_color": null,
            "description_width": ""
          }
        },
        "311bc71b1cca49ed999562f80ab970ac": {
          "model_module": "@jupyter-widgets/base",
          "model_name": "LayoutModel",
          "model_module_version": "1.2.0",
          "state": {
            "_model_module": "@jupyter-widgets/base",
            "_model_module_version": "1.2.0",
            "_model_name": "LayoutModel",
            "_view_count": null,
            "_view_module": "@jupyter-widgets/base",
            "_view_module_version": "1.2.0",
            "_view_name": "LayoutView",
            "align_content": null,
            "align_items": null,
            "align_self": null,
            "border": null,
            "bottom": null,
            "display": null,
            "flex": null,
            "flex_flow": null,
            "grid_area": null,
            "grid_auto_columns": null,
            "grid_auto_flow": null,
            "grid_auto_rows": null,
            "grid_column": null,
            "grid_gap": null,
            "grid_row": null,
            "grid_template_areas": null,
            "grid_template_columns": null,
            "grid_template_rows": null,
            "height": null,
            "justify_content": null,
            "justify_items": null,
            "left": null,
            "margin": null,
            "max_height": null,
            "max_width": null,
            "min_height": null,
            "min_width": null,
            "object_fit": null,
            "object_position": null,
            "order": null,
            "overflow": null,
            "overflow_x": null,
            "overflow_y": null,
            "padding": null,
            "right": null,
            "top": null,
            "visibility": null,
            "width": null
          }
        },
        "1ee588ed05e74f24bb6422de7a01796a": {
          "model_module": "@jupyter-widgets/controls",
          "model_name": "DescriptionStyleModel",
          "model_module_version": "1.5.0",
          "state": {
            "_model_module": "@jupyter-widgets/controls",
            "_model_module_version": "1.5.0",
            "_model_name": "DescriptionStyleModel",
            "_view_count": null,
            "_view_module": "@jupyter-widgets/base",
            "_view_module_version": "1.2.0",
            "_view_name": "StyleView",
            "description_width": ""
          }
        },
        "c6284856aeee4e809ab58e8c6a502fe7": {
          "model_module": "@jupyter-widgets/controls",
          "model_name": "HBoxModel",
          "model_module_version": "1.5.0",
          "state": {
            "_dom_classes": [],
            "_model_module": "@jupyter-widgets/controls",
            "_model_module_version": "1.5.0",
            "_model_name": "HBoxModel",
            "_view_count": null,
            "_view_module": "@jupyter-widgets/controls",
            "_view_module_version": "1.5.0",
            "_view_name": "HBoxView",
            "box_style": "",
            "children": [
              "IPY_MODEL_d3f246b374354985a1ea466785049603",
              "IPY_MODEL_572ebf745de64ca8bffe9333d9dbc107",
              "IPY_MODEL_2b3881f6c9224594a8875ac252e20ad2"
            ],
            "layout": "IPY_MODEL_2ae55ce69181462c8a6823f72a642f15"
          }
        },
        "d3f246b374354985a1ea466785049603": {
          "model_module": "@jupyter-widgets/controls",
          "model_name": "HTMLModel",
          "model_module_version": "1.5.0",
          "state": {
            "_dom_classes": [],
            "_model_module": "@jupyter-widgets/controls",
            "_model_module_version": "1.5.0",
            "_model_name": "HTMLModel",
            "_view_count": null,
            "_view_module": "@jupyter-widgets/controls",
            "_view_module_version": "1.5.0",
            "_view_name": "HTMLView",
            "description": "",
            "description_tooltip": null,
            "layout": "IPY_MODEL_bee3496d00bf46d6a2b80f2dc0dafb7f",
            "placeholder": "​",
            "style": "IPY_MODEL_7f9bed77f06d4ee0ac46310609fe623b",
            "value": "Downloading (…)okenizer_config.json: 100%"
          }
        },
        "572ebf745de64ca8bffe9333d9dbc107": {
          "model_module": "@jupyter-widgets/controls",
          "model_name": "FloatProgressModel",
          "model_module_version": "1.5.0",
          "state": {
            "_dom_classes": [],
            "_model_module": "@jupyter-widgets/controls",
            "_model_module_version": "1.5.0",
            "_model_name": "FloatProgressModel",
            "_view_count": null,
            "_view_module": "@jupyter-widgets/controls",
            "_view_module_version": "1.5.0",
            "_view_name": "ProgressView",
            "bar_style": "success",
            "description": "",
            "description_tooltip": null,
            "layout": "IPY_MODEL_68a058fda35f454cbf2892519d9cfd58",
            "max": 28,
            "min": 0,
            "orientation": "horizontal",
            "style": "IPY_MODEL_49bd31f2cc7b40a99dd3d70561a50f3c",
            "value": 28
          }
        },
        "2b3881f6c9224594a8875ac252e20ad2": {
          "model_module": "@jupyter-widgets/controls",
          "model_name": "HTMLModel",
          "model_module_version": "1.5.0",
          "state": {
            "_dom_classes": [],
            "_model_module": "@jupyter-widgets/controls",
            "_model_module_version": "1.5.0",
            "_model_name": "HTMLModel",
            "_view_count": null,
            "_view_module": "@jupyter-widgets/controls",
            "_view_module_version": "1.5.0",
            "_view_name": "HTMLView",
            "description": "",
            "description_tooltip": null,
            "layout": "IPY_MODEL_fd3dde9b675a4226a11206375aecc3d0",
            "placeholder": "​",
            "style": "IPY_MODEL_463efaa747504760b9417f15019a4e6c",
            "value": " 28.0/28.0 [00:00&lt;00:00, 486B/s]"
          }
        },
        "2ae55ce69181462c8a6823f72a642f15": {
          "model_module": "@jupyter-widgets/base",
          "model_name": "LayoutModel",
          "model_module_version": "1.2.0",
          "state": {
            "_model_module": "@jupyter-widgets/base",
            "_model_module_version": "1.2.0",
            "_model_name": "LayoutModel",
            "_view_count": null,
            "_view_module": "@jupyter-widgets/base",
            "_view_module_version": "1.2.0",
            "_view_name": "LayoutView",
            "align_content": null,
            "align_items": null,
            "align_self": null,
            "border": null,
            "bottom": null,
            "display": null,
            "flex": null,
            "flex_flow": null,
            "grid_area": null,
            "grid_auto_columns": null,
            "grid_auto_flow": null,
            "grid_auto_rows": null,
            "grid_column": null,
            "grid_gap": null,
            "grid_row": null,
            "grid_template_areas": null,
            "grid_template_columns": null,
            "grid_template_rows": null,
            "height": null,
            "justify_content": null,
            "justify_items": null,
            "left": null,
            "margin": null,
            "max_height": null,
            "max_width": null,
            "min_height": null,
            "min_width": null,
            "object_fit": null,
            "object_position": null,
            "order": null,
            "overflow": null,
            "overflow_x": null,
            "overflow_y": null,
            "padding": null,
            "right": null,
            "top": null,
            "visibility": null,
            "width": null
          }
        },
        "bee3496d00bf46d6a2b80f2dc0dafb7f": {
          "model_module": "@jupyter-widgets/base",
          "model_name": "LayoutModel",
          "model_module_version": "1.2.0",
          "state": {
            "_model_module": "@jupyter-widgets/base",
            "_model_module_version": "1.2.0",
            "_model_name": "LayoutModel",
            "_view_count": null,
            "_view_module": "@jupyter-widgets/base",
            "_view_module_version": "1.2.0",
            "_view_name": "LayoutView",
            "align_content": null,
            "align_items": null,
            "align_self": null,
            "border": null,
            "bottom": null,
            "display": null,
            "flex": null,
            "flex_flow": null,
            "grid_area": null,
            "grid_auto_columns": null,
            "grid_auto_flow": null,
            "grid_auto_rows": null,
            "grid_column": null,
            "grid_gap": null,
            "grid_row": null,
            "grid_template_areas": null,
            "grid_template_columns": null,
            "grid_template_rows": null,
            "height": null,
            "justify_content": null,
            "justify_items": null,
            "left": null,
            "margin": null,
            "max_height": null,
            "max_width": null,
            "min_height": null,
            "min_width": null,
            "object_fit": null,
            "object_position": null,
            "order": null,
            "overflow": null,
            "overflow_x": null,
            "overflow_y": null,
            "padding": null,
            "right": null,
            "top": null,
            "visibility": null,
            "width": null
          }
        },
        "7f9bed77f06d4ee0ac46310609fe623b": {
          "model_module": "@jupyter-widgets/controls",
          "model_name": "DescriptionStyleModel",
          "model_module_version": "1.5.0",
          "state": {
            "_model_module": "@jupyter-widgets/controls",
            "_model_module_version": "1.5.0",
            "_model_name": "DescriptionStyleModel",
            "_view_count": null,
            "_view_module": "@jupyter-widgets/base",
            "_view_module_version": "1.2.0",
            "_view_name": "StyleView",
            "description_width": ""
          }
        },
        "68a058fda35f454cbf2892519d9cfd58": {
          "model_module": "@jupyter-widgets/base",
          "model_name": "LayoutModel",
          "model_module_version": "1.2.0",
          "state": {
            "_model_module": "@jupyter-widgets/base",
            "_model_module_version": "1.2.0",
            "_model_name": "LayoutModel",
            "_view_count": null,
            "_view_module": "@jupyter-widgets/base",
            "_view_module_version": "1.2.0",
            "_view_name": "LayoutView",
            "align_content": null,
            "align_items": null,
            "align_self": null,
            "border": null,
            "bottom": null,
            "display": null,
            "flex": null,
            "flex_flow": null,
            "grid_area": null,
            "grid_auto_columns": null,
            "grid_auto_flow": null,
            "grid_auto_rows": null,
            "grid_column": null,
            "grid_gap": null,
            "grid_row": null,
            "grid_template_areas": null,
            "grid_template_columns": null,
            "grid_template_rows": null,
            "height": null,
            "justify_content": null,
            "justify_items": null,
            "left": null,
            "margin": null,
            "max_height": null,
            "max_width": null,
            "min_height": null,
            "min_width": null,
            "object_fit": null,
            "object_position": null,
            "order": null,
            "overflow": null,
            "overflow_x": null,
            "overflow_y": null,
            "padding": null,
            "right": null,
            "top": null,
            "visibility": null,
            "width": null
          }
        },
        "49bd31f2cc7b40a99dd3d70561a50f3c": {
          "model_module": "@jupyter-widgets/controls",
          "model_name": "ProgressStyleModel",
          "model_module_version": "1.5.0",
          "state": {
            "_model_module": "@jupyter-widgets/controls",
            "_model_module_version": "1.5.0",
            "_model_name": "ProgressStyleModel",
            "_view_count": null,
            "_view_module": "@jupyter-widgets/base",
            "_view_module_version": "1.2.0",
            "_view_name": "StyleView",
            "bar_color": null,
            "description_width": ""
          }
        },
        "fd3dde9b675a4226a11206375aecc3d0": {
          "model_module": "@jupyter-widgets/base",
          "model_name": "LayoutModel",
          "model_module_version": "1.2.0",
          "state": {
            "_model_module": "@jupyter-widgets/base",
            "_model_module_version": "1.2.0",
            "_model_name": "LayoutModel",
            "_view_count": null,
            "_view_module": "@jupyter-widgets/base",
            "_view_module_version": "1.2.0",
            "_view_name": "LayoutView",
            "align_content": null,
            "align_items": null,
            "align_self": null,
            "border": null,
            "bottom": null,
            "display": null,
            "flex": null,
            "flex_flow": null,
            "grid_area": null,
            "grid_auto_columns": null,
            "grid_auto_flow": null,
            "grid_auto_rows": null,
            "grid_column": null,
            "grid_gap": null,
            "grid_row": null,
            "grid_template_areas": null,
            "grid_template_columns": null,
            "grid_template_rows": null,
            "height": null,
            "justify_content": null,
            "justify_items": null,
            "left": null,
            "margin": null,
            "max_height": null,
            "max_width": null,
            "min_height": null,
            "min_width": null,
            "object_fit": null,
            "object_position": null,
            "order": null,
            "overflow": null,
            "overflow_x": null,
            "overflow_y": null,
            "padding": null,
            "right": null,
            "top": null,
            "visibility": null,
            "width": null
          }
        },
        "463efaa747504760b9417f15019a4e6c": {
          "model_module": "@jupyter-widgets/controls",
          "model_name": "DescriptionStyleModel",
          "model_module_version": "1.5.0",
          "state": {
            "_model_module": "@jupyter-widgets/controls",
            "_model_module_version": "1.5.0",
            "_model_name": "DescriptionStyleModel",
            "_view_count": null,
            "_view_module": "@jupyter-widgets/base",
            "_view_module_version": "1.2.0",
            "_view_name": "StyleView",
            "description_width": ""
          }
        },
        "7d066287c8b9449ab1c3c030cdd93d55": {
          "model_module": "@jupyter-widgets/controls",
          "model_name": "HBoxModel",
          "model_module_version": "1.5.0",
          "state": {
            "_dom_classes": [],
            "_model_module": "@jupyter-widgets/controls",
            "_model_module_version": "1.5.0",
            "_model_name": "HBoxModel",
            "_view_count": null,
            "_view_module": "@jupyter-widgets/controls",
            "_view_module_version": "1.5.0",
            "_view_name": "HBoxView",
            "box_style": "",
            "children": [
              "IPY_MODEL_6f264addf3a942a4bd1dcc26590aa000",
              "IPY_MODEL_e8c60b97ad394f2d8ce2579d351036cc",
              "IPY_MODEL_16f73ea665704e608c078851aa3f1e52"
            ],
            "layout": "IPY_MODEL_da76f15f56b745218dfc93847c8a5e23"
          }
        },
        "6f264addf3a942a4bd1dcc26590aa000": {
          "model_module": "@jupyter-widgets/controls",
          "model_name": "HTMLModel",
          "model_module_version": "1.5.0",
          "state": {
            "_dom_classes": [],
            "_model_module": "@jupyter-widgets/controls",
            "_model_module_version": "1.5.0",
            "_model_name": "HTMLModel",
            "_view_count": null,
            "_view_module": "@jupyter-widgets/controls",
            "_view_module_version": "1.5.0",
            "_view_name": "HTMLView",
            "description": "",
            "description_tooltip": null,
            "layout": "IPY_MODEL_c07f67ba9dcc41e184c7a7e2b5d837e2",
            "placeholder": "​",
            "style": "IPY_MODEL_69a38c441e014b469c335bad1e4b4d59",
            "value": "Downloading (…)lve/main/config.json: 100%"
          }
        },
        "e8c60b97ad394f2d8ce2579d351036cc": {
          "model_module": "@jupyter-widgets/controls",
          "model_name": "FloatProgressModel",
          "model_module_version": "1.5.0",
          "state": {
            "_dom_classes": [],
            "_model_module": "@jupyter-widgets/controls",
            "_model_module_version": "1.5.0",
            "_model_name": "FloatProgressModel",
            "_view_count": null,
            "_view_module": "@jupyter-widgets/controls",
            "_view_module_version": "1.5.0",
            "_view_name": "ProgressView",
            "bar_style": "success",
            "description": "",
            "description_tooltip": null,
            "layout": "IPY_MODEL_252bf414252c41d78bfabd36b353498c",
            "max": 570,
            "min": 0,
            "orientation": "horizontal",
            "style": "IPY_MODEL_94d73d062fb64a7fbda9bc2b450fa3e9",
            "value": 570
          }
        },
        "16f73ea665704e608c078851aa3f1e52": {
          "model_module": "@jupyter-widgets/controls",
          "model_name": "HTMLModel",
          "model_module_version": "1.5.0",
          "state": {
            "_dom_classes": [],
            "_model_module": "@jupyter-widgets/controls",
            "_model_module_version": "1.5.0",
            "_model_name": "HTMLModel",
            "_view_count": null,
            "_view_module": "@jupyter-widgets/controls",
            "_view_module_version": "1.5.0",
            "_view_name": "HTMLView",
            "description": "",
            "description_tooltip": null,
            "layout": "IPY_MODEL_f47dd15d02514aaeb8fb002a49aa01a2",
            "placeholder": "​",
            "style": "IPY_MODEL_736151e96827400ab54dba9f875aaac1",
            "value": " 570/570 [00:00&lt;00:00, 11.8kB/s]"
          }
        },
        "da76f15f56b745218dfc93847c8a5e23": {
          "model_module": "@jupyter-widgets/base",
          "model_name": "LayoutModel",
          "model_module_version": "1.2.0",
          "state": {
            "_model_module": "@jupyter-widgets/base",
            "_model_module_version": "1.2.0",
            "_model_name": "LayoutModel",
            "_view_count": null,
            "_view_module": "@jupyter-widgets/base",
            "_view_module_version": "1.2.0",
            "_view_name": "LayoutView",
            "align_content": null,
            "align_items": null,
            "align_self": null,
            "border": null,
            "bottom": null,
            "display": null,
            "flex": null,
            "flex_flow": null,
            "grid_area": null,
            "grid_auto_columns": null,
            "grid_auto_flow": null,
            "grid_auto_rows": null,
            "grid_column": null,
            "grid_gap": null,
            "grid_row": null,
            "grid_template_areas": null,
            "grid_template_columns": null,
            "grid_template_rows": null,
            "height": null,
            "justify_content": null,
            "justify_items": null,
            "left": null,
            "margin": null,
            "max_height": null,
            "max_width": null,
            "min_height": null,
            "min_width": null,
            "object_fit": null,
            "object_position": null,
            "order": null,
            "overflow": null,
            "overflow_x": null,
            "overflow_y": null,
            "padding": null,
            "right": null,
            "top": null,
            "visibility": null,
            "width": null
          }
        },
        "c07f67ba9dcc41e184c7a7e2b5d837e2": {
          "model_module": "@jupyter-widgets/base",
          "model_name": "LayoutModel",
          "model_module_version": "1.2.0",
          "state": {
            "_model_module": "@jupyter-widgets/base",
            "_model_module_version": "1.2.0",
            "_model_name": "LayoutModel",
            "_view_count": null,
            "_view_module": "@jupyter-widgets/base",
            "_view_module_version": "1.2.0",
            "_view_name": "LayoutView",
            "align_content": null,
            "align_items": null,
            "align_self": null,
            "border": null,
            "bottom": null,
            "display": null,
            "flex": null,
            "flex_flow": null,
            "grid_area": null,
            "grid_auto_columns": null,
            "grid_auto_flow": null,
            "grid_auto_rows": null,
            "grid_column": null,
            "grid_gap": null,
            "grid_row": null,
            "grid_template_areas": null,
            "grid_template_columns": null,
            "grid_template_rows": null,
            "height": null,
            "justify_content": null,
            "justify_items": null,
            "left": null,
            "margin": null,
            "max_height": null,
            "max_width": null,
            "min_height": null,
            "min_width": null,
            "object_fit": null,
            "object_position": null,
            "order": null,
            "overflow": null,
            "overflow_x": null,
            "overflow_y": null,
            "padding": null,
            "right": null,
            "top": null,
            "visibility": null,
            "width": null
          }
        },
        "69a38c441e014b469c335bad1e4b4d59": {
          "model_module": "@jupyter-widgets/controls",
          "model_name": "DescriptionStyleModel",
          "model_module_version": "1.5.0",
          "state": {
            "_model_module": "@jupyter-widgets/controls",
            "_model_module_version": "1.5.0",
            "_model_name": "DescriptionStyleModel",
            "_view_count": null,
            "_view_module": "@jupyter-widgets/base",
            "_view_module_version": "1.2.0",
            "_view_name": "StyleView",
            "description_width": ""
          }
        },
        "252bf414252c41d78bfabd36b353498c": {
          "model_module": "@jupyter-widgets/base",
          "model_name": "LayoutModel",
          "model_module_version": "1.2.0",
          "state": {
            "_model_module": "@jupyter-widgets/base",
            "_model_module_version": "1.2.0",
            "_model_name": "LayoutModel",
            "_view_count": null,
            "_view_module": "@jupyter-widgets/base",
            "_view_module_version": "1.2.0",
            "_view_name": "LayoutView",
            "align_content": null,
            "align_items": null,
            "align_self": null,
            "border": null,
            "bottom": null,
            "display": null,
            "flex": null,
            "flex_flow": null,
            "grid_area": null,
            "grid_auto_columns": null,
            "grid_auto_flow": null,
            "grid_auto_rows": null,
            "grid_column": null,
            "grid_gap": null,
            "grid_row": null,
            "grid_template_areas": null,
            "grid_template_columns": null,
            "grid_template_rows": null,
            "height": null,
            "justify_content": null,
            "justify_items": null,
            "left": null,
            "margin": null,
            "max_height": null,
            "max_width": null,
            "min_height": null,
            "min_width": null,
            "object_fit": null,
            "object_position": null,
            "order": null,
            "overflow": null,
            "overflow_x": null,
            "overflow_y": null,
            "padding": null,
            "right": null,
            "top": null,
            "visibility": null,
            "width": null
          }
        },
        "94d73d062fb64a7fbda9bc2b450fa3e9": {
          "model_module": "@jupyter-widgets/controls",
          "model_name": "ProgressStyleModel",
          "model_module_version": "1.5.0",
          "state": {
            "_model_module": "@jupyter-widgets/controls",
            "_model_module_version": "1.5.0",
            "_model_name": "ProgressStyleModel",
            "_view_count": null,
            "_view_module": "@jupyter-widgets/base",
            "_view_module_version": "1.2.0",
            "_view_name": "StyleView",
            "bar_color": null,
            "description_width": ""
          }
        },
        "f47dd15d02514aaeb8fb002a49aa01a2": {
          "model_module": "@jupyter-widgets/base",
          "model_name": "LayoutModel",
          "model_module_version": "1.2.0",
          "state": {
            "_model_module": "@jupyter-widgets/base",
            "_model_module_version": "1.2.0",
            "_model_name": "LayoutModel",
            "_view_count": null,
            "_view_module": "@jupyter-widgets/base",
            "_view_module_version": "1.2.0",
            "_view_name": "LayoutView",
            "align_content": null,
            "align_items": null,
            "align_self": null,
            "border": null,
            "bottom": null,
            "display": null,
            "flex": null,
            "flex_flow": null,
            "grid_area": null,
            "grid_auto_columns": null,
            "grid_auto_flow": null,
            "grid_auto_rows": null,
            "grid_column": null,
            "grid_gap": null,
            "grid_row": null,
            "grid_template_areas": null,
            "grid_template_columns": null,
            "grid_template_rows": null,
            "height": null,
            "justify_content": null,
            "justify_items": null,
            "left": null,
            "margin": null,
            "max_height": null,
            "max_width": null,
            "min_height": null,
            "min_width": null,
            "object_fit": null,
            "object_position": null,
            "order": null,
            "overflow": null,
            "overflow_x": null,
            "overflow_y": null,
            "padding": null,
            "right": null,
            "top": null,
            "visibility": null,
            "width": null
          }
        },
        "736151e96827400ab54dba9f875aaac1": {
          "model_module": "@jupyter-widgets/controls",
          "model_name": "DescriptionStyleModel",
          "model_module_version": "1.5.0",
          "state": {
            "_model_module": "@jupyter-widgets/controls",
            "_model_module_version": "1.5.0",
            "_model_name": "DescriptionStyleModel",
            "_view_count": null,
            "_view_module": "@jupyter-widgets/base",
            "_view_module_version": "1.2.0",
            "_view_name": "StyleView",
            "description_width": ""
          }
        },
        "87b81439417749bd9edaea671a39cefb": {
          "model_module": "@jupyter-widgets/controls",
          "model_name": "HBoxModel",
          "model_module_version": "1.5.0",
          "state": {
            "_dom_classes": [],
            "_model_module": "@jupyter-widgets/controls",
            "_model_module_version": "1.5.0",
            "_model_name": "HBoxModel",
            "_view_count": null,
            "_view_module": "@jupyter-widgets/controls",
            "_view_module_version": "1.5.0",
            "_view_name": "HBoxView",
            "box_style": "",
            "children": [
              "IPY_MODEL_b08abd4d319a4a86892c77f682b2630a",
              "IPY_MODEL_5db17809a44045c792c1d0bdb2824115",
              "IPY_MODEL_46affb062b354414ab07de3e53db48f1"
            ],
            "layout": "IPY_MODEL_957eddf2462045718221f944717adbec"
          }
        },
        "b08abd4d319a4a86892c77f682b2630a": {
          "model_module": "@jupyter-widgets/controls",
          "model_name": "HTMLModel",
          "model_module_version": "1.5.0",
          "state": {
            "_dom_classes": [],
            "_model_module": "@jupyter-widgets/controls",
            "_model_module_version": "1.5.0",
            "_model_name": "HTMLModel",
            "_view_count": null,
            "_view_module": "@jupyter-widgets/controls",
            "_view_module_version": "1.5.0",
            "_view_name": "HTMLView",
            "description": "",
            "description_tooltip": null,
            "layout": "IPY_MODEL_13d4d8fce03e476bbd670b81af0af350",
            "placeholder": "​",
            "style": "IPY_MODEL_67353161fa3e49d6a4d2cf239b46bd96",
            "value": "Downloading model.safetensors: 100%"
          }
        },
        "5db17809a44045c792c1d0bdb2824115": {
          "model_module": "@jupyter-widgets/controls",
          "model_name": "FloatProgressModel",
          "model_module_version": "1.5.0",
          "state": {
            "_dom_classes": [],
            "_model_module": "@jupyter-widgets/controls",
            "_model_module_version": "1.5.0",
            "_model_name": "FloatProgressModel",
            "_view_count": null,
            "_view_module": "@jupyter-widgets/controls",
            "_view_module_version": "1.5.0",
            "_view_name": "ProgressView",
            "bar_style": "success",
            "description": "",
            "description_tooltip": null,
            "layout": "IPY_MODEL_f286a9bc78f64d1888427c012f185ecf",
            "max": 440449768,
            "min": 0,
            "orientation": "horizontal",
            "style": "IPY_MODEL_4bb4533725d74d13af6dc522e749f575",
            "value": 440449768
          }
        },
        "46affb062b354414ab07de3e53db48f1": {
          "model_module": "@jupyter-widgets/controls",
          "model_name": "HTMLModel",
          "model_module_version": "1.5.0",
          "state": {
            "_dom_classes": [],
            "_model_module": "@jupyter-widgets/controls",
            "_model_module_version": "1.5.0",
            "_model_name": "HTMLModel",
            "_view_count": null,
            "_view_module": "@jupyter-widgets/controls",
            "_view_module_version": "1.5.0",
            "_view_name": "HTMLView",
            "description": "",
            "description_tooltip": null,
            "layout": "IPY_MODEL_48cbad96ad03421ca0649ef620ea8c81",
            "placeholder": "​",
            "style": "IPY_MODEL_24fec5e887824c33a4ecb09050a62515",
            "value": " 440M/440M [00:02&lt;00:00, 165MB/s]"
          }
        },
        "957eddf2462045718221f944717adbec": {
          "model_module": "@jupyter-widgets/base",
          "model_name": "LayoutModel",
          "model_module_version": "1.2.0",
          "state": {
            "_model_module": "@jupyter-widgets/base",
            "_model_module_version": "1.2.0",
            "_model_name": "LayoutModel",
            "_view_count": null,
            "_view_module": "@jupyter-widgets/base",
            "_view_module_version": "1.2.0",
            "_view_name": "LayoutView",
            "align_content": null,
            "align_items": null,
            "align_self": null,
            "border": null,
            "bottom": null,
            "display": null,
            "flex": null,
            "flex_flow": null,
            "grid_area": null,
            "grid_auto_columns": null,
            "grid_auto_flow": null,
            "grid_auto_rows": null,
            "grid_column": null,
            "grid_gap": null,
            "grid_row": null,
            "grid_template_areas": null,
            "grid_template_columns": null,
            "grid_template_rows": null,
            "height": null,
            "justify_content": null,
            "justify_items": null,
            "left": null,
            "margin": null,
            "max_height": null,
            "max_width": null,
            "min_height": null,
            "min_width": null,
            "object_fit": null,
            "object_position": null,
            "order": null,
            "overflow": null,
            "overflow_x": null,
            "overflow_y": null,
            "padding": null,
            "right": null,
            "top": null,
            "visibility": null,
            "width": null
          }
        },
        "13d4d8fce03e476bbd670b81af0af350": {
          "model_module": "@jupyter-widgets/base",
          "model_name": "LayoutModel",
          "model_module_version": "1.2.0",
          "state": {
            "_model_module": "@jupyter-widgets/base",
            "_model_module_version": "1.2.0",
            "_model_name": "LayoutModel",
            "_view_count": null,
            "_view_module": "@jupyter-widgets/base",
            "_view_module_version": "1.2.0",
            "_view_name": "LayoutView",
            "align_content": null,
            "align_items": null,
            "align_self": null,
            "border": null,
            "bottom": null,
            "display": null,
            "flex": null,
            "flex_flow": null,
            "grid_area": null,
            "grid_auto_columns": null,
            "grid_auto_flow": null,
            "grid_auto_rows": null,
            "grid_column": null,
            "grid_gap": null,
            "grid_row": null,
            "grid_template_areas": null,
            "grid_template_columns": null,
            "grid_template_rows": null,
            "height": null,
            "justify_content": null,
            "justify_items": null,
            "left": null,
            "margin": null,
            "max_height": null,
            "max_width": null,
            "min_height": null,
            "min_width": null,
            "object_fit": null,
            "object_position": null,
            "order": null,
            "overflow": null,
            "overflow_x": null,
            "overflow_y": null,
            "padding": null,
            "right": null,
            "top": null,
            "visibility": null,
            "width": null
          }
        },
        "67353161fa3e49d6a4d2cf239b46bd96": {
          "model_module": "@jupyter-widgets/controls",
          "model_name": "DescriptionStyleModel",
          "model_module_version": "1.5.0",
          "state": {
            "_model_module": "@jupyter-widgets/controls",
            "_model_module_version": "1.5.0",
            "_model_name": "DescriptionStyleModel",
            "_view_count": null,
            "_view_module": "@jupyter-widgets/base",
            "_view_module_version": "1.2.0",
            "_view_name": "StyleView",
            "description_width": ""
          }
        },
        "f286a9bc78f64d1888427c012f185ecf": {
          "model_module": "@jupyter-widgets/base",
          "model_name": "LayoutModel",
          "model_module_version": "1.2.0",
          "state": {
            "_model_module": "@jupyter-widgets/base",
            "_model_module_version": "1.2.0",
            "_model_name": "LayoutModel",
            "_view_count": null,
            "_view_module": "@jupyter-widgets/base",
            "_view_module_version": "1.2.0",
            "_view_name": "LayoutView",
            "align_content": null,
            "align_items": null,
            "align_self": null,
            "border": null,
            "bottom": null,
            "display": null,
            "flex": null,
            "flex_flow": null,
            "grid_area": null,
            "grid_auto_columns": null,
            "grid_auto_flow": null,
            "grid_auto_rows": null,
            "grid_column": null,
            "grid_gap": null,
            "grid_row": null,
            "grid_template_areas": null,
            "grid_template_columns": null,
            "grid_template_rows": null,
            "height": null,
            "justify_content": null,
            "justify_items": null,
            "left": null,
            "margin": null,
            "max_height": null,
            "max_width": null,
            "min_height": null,
            "min_width": null,
            "object_fit": null,
            "object_position": null,
            "order": null,
            "overflow": null,
            "overflow_x": null,
            "overflow_y": null,
            "padding": null,
            "right": null,
            "top": null,
            "visibility": null,
            "width": null
          }
        },
        "4bb4533725d74d13af6dc522e749f575": {
          "model_module": "@jupyter-widgets/controls",
          "model_name": "ProgressStyleModel",
          "model_module_version": "1.5.0",
          "state": {
            "_model_module": "@jupyter-widgets/controls",
            "_model_module_version": "1.5.0",
            "_model_name": "ProgressStyleModel",
            "_view_count": null,
            "_view_module": "@jupyter-widgets/base",
            "_view_module_version": "1.2.0",
            "_view_name": "StyleView",
            "bar_color": null,
            "description_width": ""
          }
        },
        "48cbad96ad03421ca0649ef620ea8c81": {
          "model_module": "@jupyter-widgets/base",
          "model_name": "LayoutModel",
          "model_module_version": "1.2.0",
          "state": {
            "_model_module": "@jupyter-widgets/base",
            "_model_module_version": "1.2.0",
            "_model_name": "LayoutModel",
            "_view_count": null,
            "_view_module": "@jupyter-widgets/base",
            "_view_module_version": "1.2.0",
            "_view_name": "LayoutView",
            "align_content": null,
            "align_items": null,
            "align_self": null,
            "border": null,
            "bottom": null,
            "display": null,
            "flex": null,
            "flex_flow": null,
            "grid_area": null,
            "grid_auto_columns": null,
            "grid_auto_flow": null,
            "grid_auto_rows": null,
            "grid_column": null,
            "grid_gap": null,
            "grid_row": null,
            "grid_template_areas": null,
            "grid_template_columns": null,
            "grid_template_rows": null,
            "height": null,
            "justify_content": null,
            "justify_items": null,
            "left": null,
            "margin": null,
            "max_height": null,
            "max_width": null,
            "min_height": null,
            "min_width": null,
            "object_fit": null,
            "object_position": null,
            "order": null,
            "overflow": null,
            "overflow_x": null,
            "overflow_y": null,
            "padding": null,
            "right": null,
            "top": null,
            "visibility": null,
            "width": null
          }
        },
        "24fec5e887824c33a4ecb09050a62515": {
          "model_module": "@jupyter-widgets/controls",
          "model_name": "DescriptionStyleModel",
          "model_module_version": "1.5.0",
          "state": {
            "_model_module": "@jupyter-widgets/controls",
            "_model_module_version": "1.5.0",
            "_model_name": "DescriptionStyleModel",
            "_view_count": null,
            "_view_module": "@jupyter-widgets/base",
            "_view_module_version": "1.2.0",
            "_view_name": "StyleView",
            "description_width": ""
          }
        }
      }
    }
  },
  "cells": [
    {
      "cell_type": "markdown",
      "source": [
        "### UAS - Text Mining\n",
        "#### Nama: Aurellia Vieryn <br>\n",
        "#### NIM: 2440066626\n",
        "#### Video Link: https://binusianorg-my.sharepoint.com/personal/aurellia_vieryn001_binus_ac_id/_layouts/15/guestaccess.aspx?docid=055768b8d36a744ba88e5021b6f2de770&authkey=AdCFe6gWs9nKQJjpleRbFv8&e=mqmUQs\n",
        "\n",
        "Pada soal UAS untuk mata kuliah Text Mining, diberikan 4 buah dataset sesuai dengan NIM dan gender. Saya perempuan dan memiliki NIM genap, maka dataset yang akan digunakan adalah dataset D. <br>\n",
        "\n",
        "Untuk soal yang diberikan kali ini ada 4 soal kasus yang meliputi Text Classification, Topic Modelling, dan Text Summarization."
      ],
      "metadata": {
        "id": "uW-5uW72ySjY"
      }
    },
    {
      "cell_type": "markdown",
      "source": [
        "#### No 1 - Classification Model"
      ],
      "metadata": {
        "id": "u34CijldOl7L"
      }
    },
    {
      "cell_type": "markdown",
      "source": [
        "##### Loading and Preprocessing"
      ],
      "metadata": {
        "id": "7WYu_lUv2Dq8"
      }
    },
    {
      "cell_type": "code",
      "execution_count": 1,
      "metadata": {
        "id": "SMi5CMvQyOaH"
      },
      "outputs": [],
      "source": [
        "import pandas as pd\n",
        "data1 = pd.read_csv('data_1D.csv')"
      ]
    },
    {
      "cell_type": "code",
      "source": [
        "data1.info()"
      ],
      "metadata": {
        "colab": {
          "base_uri": "https://localhost:8080/"
        },
        "id": "wHMcPnjVzfhn",
        "outputId": "4c5a92b9-ef0f-47f3-f1c9-756d9981c04b"
      },
      "execution_count": 2,
      "outputs": [
        {
          "output_type": "stream",
          "name": "stdout",
          "text": [
            "<class 'pandas.core.frame.DataFrame'>\n",
            "RangeIndex: 12606 entries, 0 to 12605\n",
            "Data columns (total 3 columns):\n",
            " #   Column      Non-Null Count  Dtype \n",
            "---  ------      --------------  ----- \n",
            " 0   Unnamed: 0  12606 non-null  int64 \n",
            " 1   text        12606 non-null  object\n",
            " 2   label       12606 non-null  object\n",
            "dtypes: int64(1), object(2)\n",
            "memory usage: 295.6+ KB\n"
          ]
        }
      ]
    },
    {
      "cell_type": "code",
      "source": [
        "data1.label.unique()"
      ],
      "metadata": {
        "colab": {
          "base_uri": "https://localhost:8080/"
        },
        "id": "0m4JJYQ8zmWn",
        "outputId": "5b06984d-4f89-4095-ca95-5103625ebd50"
      },
      "execution_count": 3,
      "outputs": [
        {
          "output_type": "execute_result",
          "data": {
            "text/plain": [
              "array(['Electronics', 'Clothing & Accessories', 'Books', 'Household'],\n",
              "      dtype=object)"
            ]
          },
          "metadata": {},
          "execution_count": 3
        }
      ]
    },
    {
      "cell_type": "code",
      "source": [
        "data1.text"
      ],
      "metadata": {
        "colab": {
          "base_uri": "https://localhost:8080/"
        },
        "id": "23noTFxf1lQ4",
        "outputId": "53541c79-ade8-4407-a4dd-7e0acce73b38"
      },
      "execution_count": 4,
      "outputs": [
        {
          "output_type": "execute_result",
          "data": {
            "text/plain": [
              "0        Tamron AF 70-300mm F/4.0-5.6 Di LD Macro Telep...\n",
              "1               Softline Butterfly Women's Cotton Camisole\n",
              "2        Indian Economy: For UPSC Civil Services & Othe...\n",
              "3        Fujifilm X-T3 Mirrorless Digital Camera with X...\n",
              "4        Barata Formal Ties For Men, Navy Blue Tie Form...\n",
              "                               ...                        \n",
              "12601    EK UDAAN Unisex Woolen Thermal Wear Thumb Sock...\n",
              "12602    Prime-Comfort (Blue and Yellow) Premium Foldab...\n",
              "12603    The One-Straw Revolution: An Introduction to N...\n",
              "12604    Peter Jones Full Rim Round Unisex Spectacle Fr...\n",
              "12605    Crompton Bliss 3-Litre Instant Water Heater (W...\n",
              "Name: text, Length: 12606, dtype: object"
            ]
          },
          "metadata": {},
          "execution_count": 4
        }
      ]
    },
    {
      "cell_type": "markdown",
      "source": [
        "Hal pertama yang akan dilakukan setelah mengimport dataset adalah melihat dataset yang akan digunakan. Dataset ini adalah dataset tentang deskripsi produk pada sebuah website e-commerce pada `text` column, dan label yang dimiliki oleh `target` column ada 4, yaitu Household, Books, Electronics dan Clothing & Accessories. <br>"
      ],
      "metadata": {
        "id": "usq_ZSnm2TfT"
      }
    },
    {
      "cell_type": "code",
      "source": [
        "import re\n",
        "import string\n",
        "\n",
        "def data_cleansing(df):\n",
        "    clean_data = df\n",
        "    # Make Lowercase\n",
        "    clean_data.text = df.text.str.lower()\n",
        "    # Remove \\n in Text\n",
        "    clean_data.text = [re.sub(r'\\n', ' ', i) for i in clean_data.text]\n",
        "    # Punctuations\n",
        "    clean_data.text = [word.translate(str.maketrans(string.punctuation, ' '*len(string.punctuation))) for word in clean_data.text]\n",
        "    # Remove Numbers\n",
        "    clean_data.text = [re.sub(r\"\\d+\",\"\", i) for i in clean_data.text]\n",
        "    # Remove Single Characters\n",
        "    clean_data.text = [re.sub(r'(?:^| )\\w(?:$| )', ' ', i).strip() for i in clean_data.text]\n",
        "    # Remove Multiple Whitespaces\n",
        "    clean_data.text = [re.sub(r\"\\s+\",\" \", i) for i in clean_data.text]\n",
        "\n",
        "    return clean_data"
      ],
      "metadata": {
        "id": "OAYMSOLKzrKt"
      },
      "execution_count": 5,
      "outputs": []
    },
    {
      "cell_type": "code",
      "source": [
        "data1 = data_cleansing(data1)"
      ],
      "metadata": {
        "id": "5HElTcqC1VmY"
      },
      "execution_count": 6,
      "outputs": []
    },
    {
      "cell_type": "code",
      "source": [
        "data1.text"
      ],
      "metadata": {
        "colab": {
          "base_uri": "https://localhost:8080/"
        },
        "id": "_XNzbLc-1fmA",
        "outputId": "8996198c-1cec-4100-8cd4-b56f5599d7f0"
      },
      "execution_count": 7,
      "outputs": [
        {
          "output_type": "execute_result",
          "data": {
            "text/plain": [
              "0        tamron af mm di ld macro telephoto zoom lens f...\n",
              "1                 softline butterfly women cotton camisole\n",
              "2        indian economy for upsc civil services other s...\n",
              "3        fujifilm t mirrorless digital camera with xf m...\n",
              "4        barata formal ties for men navy blue tie forma...\n",
              "                               ...                        \n",
              "12601    ek udaan unisex woolen thermal wear thumb sock...\n",
              "12602    prime comfort blue and yellow premium foldable...\n",
              "12603    the one straw revolution an introduction to na...\n",
              "12604    peter jones full rim round unisex spectacle fr...\n",
              "12605    crompton bliss litre instant water heater whit...\n",
              "Name: text, Length: 12606, dtype: object"
            ]
          },
          "metadata": {},
          "execution_count": 7
        }
      ]
    },
    {
      "cell_type": "markdown",
      "source": [
        "Setelah itu, data `text` pada dataset akan dilakukan proses preprocessing yang meliputi lowercase dari text, menghilangkan newline, tanda baca, angka, karakter tunggal, dan whitespace yang lebih dari 1."
      ],
      "metadata": {
        "id": "WbtEDqhv3-um"
      }
    },
    {
      "cell_type": "code",
      "source": [
        "import nltk\n",
        "nltk.download('punkt')\n",
        "from nltk.tokenize import word_tokenize\n",
        "data1.text = data1.apply(lambda row: nltk.word_tokenize(row.text), axis=1)"
      ],
      "metadata": {
        "colab": {
          "base_uri": "https://localhost:8080/"
        },
        "id": "uec-Ssmd3Xaf",
        "outputId": "de2b979b-4bd0-4b01-c83f-27e259975cc3"
      },
      "execution_count": 8,
      "outputs": [
        {
          "output_type": "stream",
          "name": "stderr",
          "text": [
            "[nltk_data] Downloading package punkt to /root/nltk_data...\n",
            "[nltk_data]   Unzipping tokenizers/punkt.zip.\n"
          ]
        }
      ]
    },
    {
      "cell_type": "code",
      "source": [
        "from nltk.corpus import stopwords\n",
        "nltk.download('stopwords')\n",
        "list_stopwords = set(stopwords.words('english'))\n",
        "data1.text = data1.text.apply(lambda x: [item for item in x if item not in list_stopwords])"
      ],
      "metadata": {
        "colab": {
          "base_uri": "https://localhost:8080/"
        },
        "id": "CMEb1EFqgR79",
        "outputId": "1bd38653-97f5-428a-d8b4-7882b4ae3d08"
      },
      "execution_count": 9,
      "outputs": [
        {
          "output_type": "stream",
          "name": "stderr",
          "text": [
            "[nltk_data] Downloading package stopwords to /root/nltk_data...\n",
            "[nltk_data]   Unzipping corpora/stopwords.zip.\n"
          ]
        }
      ]
    },
    {
      "cell_type": "code",
      "source": [
        "data1.text"
      ],
      "metadata": {
        "colab": {
          "base_uri": "https://localhost:8080/"
        },
        "id": "JsJcUbH24Uhv",
        "outputId": "2863ff39-8f59-46ad-c6ef-48ff45a37ec5"
      },
      "execution_count": 10,
      "outputs": [
        {
          "output_type": "execute_result",
          "data": {
            "text/plain": [
              "0        [tamron, af, mm, di, ld, macro, telephoto, zoo...\n",
              "1           [softline, butterfly, women, cotton, camisole]\n",
              "2        [indian, economy, upsc, civil, services, state...\n",
              "3        [fujifilm, mirrorless, digital, camera, xf, mm...\n",
              "4        [barata, formal, ties, men, navy, blue, tie, f...\n",
              "                               ...                        \n",
              "12601    [ek, udaan, unisex, woolen, thermal, wear, thu...\n",
              "12602    [prime, comfort, blue, yellow, premium, foldab...\n",
              "12603    [one, straw, revolution, introduction, natural...\n",
              "12604    [peter, jones, full, rim, round, unisex, spect...\n",
              "12605    [crompton, bliss, litre, instant, water, heate...\n",
              "Name: text, Length: 12606, dtype: object"
            ]
          },
          "metadata": {},
          "execution_count": 10
        }
      ]
    },
    {
      "cell_type": "markdown",
      "source": [
        "Kolom `text` lalu akan diubah set token dan akan dihilangkan token-token yang merupakan stopword (kata-kata yang dianggap tidak penting). Dapat dilihat dari hasilnya kalau kolom `text` sudah berbentuk token."
      ],
      "metadata": {
        "id": "cPlYbDPH4YAV"
      }
    },
    {
      "cell_type": "markdown",
      "source": [
        "##### Count Vectorization and Naive Bayes"
      ],
      "metadata": {
        "id": "i6c-gT_7zKI_"
      }
    },
    {
      "cell_type": "code",
      "source": [
        "from sklearn.model_selection import train_test_split\n",
        "\n",
        "x_train, x_test, y_train, y_test = train_test_split(data1.text, data1.label, test_size=0.2, random_state=42)"
      ],
      "metadata": {
        "id": "G3a4z0JbBVym"
      },
      "execution_count": 11,
      "outputs": []
    },
    {
      "cell_type": "markdown",
      "source": [
        "Dataset yang telah dibersihkan akan dibagi menjadi training and testing untuk pengujian model. Metode vektorisasi yang akan digunakan untuk section ini adalah Count Vectorizer (dihitung dari frekuensi kemunculan setiap kata dalam teks) dengan Model Naive Bayes (teorema Bayes dengan asumsi naive)."
      ],
      "metadata": {
        "id": "rbyPNo6kBn59"
      }
    },
    {
      "cell_type": "code",
      "source": [
        "from sklearn.feature_extraction.text import CountVectorizer\n",
        "\n",
        "vectorizer = CountVectorizer()\n",
        "x_train = vectorizer.fit_transform([' '.join(tokens) for tokens in x_train])\n",
        "x_test = vectorizer.transform([' '.join(tokens) for tokens in x_test])"
      ],
      "metadata": {
        "id": "NIVkm18pBGWT"
      },
      "execution_count": 12,
      "outputs": []
    },
    {
      "cell_type": "code",
      "source": [
        "x_train.shape"
      ],
      "metadata": {
        "colab": {
          "base_uri": "https://localhost:8080/"
        },
        "id": "2gJd6t_aIHBB",
        "outputId": "331bba80-7e9b-4a08-90ae-3498c477b148"
      },
      "execution_count": 13,
      "outputs": [
        {
          "output_type": "execute_result",
          "data": {
            "text/plain": [
              "(10084, 37601)"
            ]
          },
          "metadata": {},
          "execution_count": 13
        }
      ]
    },
    {
      "cell_type": "code",
      "source": [
        "y_train.shape"
      ],
      "metadata": {
        "colab": {
          "base_uri": "https://localhost:8080/"
        },
        "id": "blYC_W05IMuE",
        "outputId": "fe322a85-8983-4e9b-a77f-f63aecde8eb2"
      },
      "execution_count": 14,
      "outputs": [
        {
          "output_type": "execute_result",
          "data": {
            "text/plain": [
              "(10084,)"
            ]
          },
          "metadata": {},
          "execution_count": 14
        }
      ]
    },
    {
      "cell_type": "code",
      "source": [
        "from sklearn.naive_bayes import MultinomialNB\n",
        "\n",
        "naive_bayes = MultinomialNB()\n",
        "naive_bayes.fit(x_train, y_train)"
      ],
      "metadata": {
        "colab": {
          "base_uri": "https://localhost:8080/",
          "height": 74
        },
        "id": "iTN0gi2cGWOy",
        "outputId": "a6ea903b-3c52-4d16-c74d-525e3148cc4f"
      },
      "execution_count": 15,
      "outputs": [
        {
          "output_type": "execute_result",
          "data": {
            "text/plain": [
              "MultinomialNB()"
            ],
            "text/html": [
              "<style>#sk-container-id-1 {color: black;background-color: white;}#sk-container-id-1 pre{padding: 0;}#sk-container-id-1 div.sk-toggleable {background-color: white;}#sk-container-id-1 label.sk-toggleable__label {cursor: pointer;display: block;width: 100%;margin-bottom: 0;padding: 0.3em;box-sizing: border-box;text-align: center;}#sk-container-id-1 label.sk-toggleable__label-arrow:before {content: \"▸\";float: left;margin-right: 0.25em;color: #696969;}#sk-container-id-1 label.sk-toggleable__label-arrow:hover:before {color: black;}#sk-container-id-1 div.sk-estimator:hover label.sk-toggleable__label-arrow:before {color: black;}#sk-container-id-1 div.sk-toggleable__content {max-height: 0;max-width: 0;overflow: hidden;text-align: left;background-color: #f0f8ff;}#sk-container-id-1 div.sk-toggleable__content pre {margin: 0.2em;color: black;border-radius: 0.25em;background-color: #f0f8ff;}#sk-container-id-1 input.sk-toggleable__control:checked~div.sk-toggleable__content {max-height: 200px;max-width: 100%;overflow: auto;}#sk-container-id-1 input.sk-toggleable__control:checked~label.sk-toggleable__label-arrow:before {content: \"▾\";}#sk-container-id-1 div.sk-estimator input.sk-toggleable__control:checked~label.sk-toggleable__label {background-color: #d4ebff;}#sk-container-id-1 div.sk-label input.sk-toggleable__control:checked~label.sk-toggleable__label {background-color: #d4ebff;}#sk-container-id-1 input.sk-hidden--visually {border: 0;clip: rect(1px 1px 1px 1px);clip: rect(1px, 1px, 1px, 1px);height: 1px;margin: -1px;overflow: hidden;padding: 0;position: absolute;width: 1px;}#sk-container-id-1 div.sk-estimator {font-family: monospace;background-color: #f0f8ff;border: 1px dotted black;border-radius: 0.25em;box-sizing: border-box;margin-bottom: 0.5em;}#sk-container-id-1 div.sk-estimator:hover {background-color: #d4ebff;}#sk-container-id-1 div.sk-parallel-item::after {content: \"\";width: 100%;border-bottom: 1px solid gray;flex-grow: 1;}#sk-container-id-1 div.sk-label:hover label.sk-toggleable__label {background-color: #d4ebff;}#sk-container-id-1 div.sk-serial::before {content: \"\";position: absolute;border-left: 1px solid gray;box-sizing: border-box;top: 0;bottom: 0;left: 50%;z-index: 0;}#sk-container-id-1 div.sk-serial {display: flex;flex-direction: column;align-items: center;background-color: white;padding-right: 0.2em;padding-left: 0.2em;position: relative;}#sk-container-id-1 div.sk-item {position: relative;z-index: 1;}#sk-container-id-1 div.sk-parallel {display: flex;align-items: stretch;justify-content: center;background-color: white;position: relative;}#sk-container-id-1 div.sk-item::before, #sk-container-id-1 div.sk-parallel-item::before {content: \"\";position: absolute;border-left: 1px solid gray;box-sizing: border-box;top: 0;bottom: 0;left: 50%;z-index: -1;}#sk-container-id-1 div.sk-parallel-item {display: flex;flex-direction: column;z-index: 1;position: relative;background-color: white;}#sk-container-id-1 div.sk-parallel-item:first-child::after {align-self: flex-end;width: 50%;}#sk-container-id-1 div.sk-parallel-item:last-child::after {align-self: flex-start;width: 50%;}#sk-container-id-1 div.sk-parallel-item:only-child::after {width: 0;}#sk-container-id-1 div.sk-dashed-wrapped {border: 1px dashed gray;margin: 0 0.4em 0.5em 0.4em;box-sizing: border-box;padding-bottom: 0.4em;background-color: white;}#sk-container-id-1 div.sk-label label {font-family: monospace;font-weight: bold;display: inline-block;line-height: 1.2em;}#sk-container-id-1 div.sk-label-container {text-align: center;}#sk-container-id-1 div.sk-container {/* jupyter's `normalize.less` sets `[hidden] { display: none; }` but bootstrap.min.css set `[hidden] { display: none !important; }` so we also need the `!important` here to be able to override the default hidden behavior on the sphinx rendered scikit-learn.org. See: https://github.com/scikit-learn/scikit-learn/issues/21755 */display: inline-block !important;position: relative;}#sk-container-id-1 div.sk-text-repr-fallback {display: none;}</style><div id=\"sk-container-id-1\" class=\"sk-top-container\"><div class=\"sk-text-repr-fallback\"><pre>MultinomialNB()</pre><b>In a Jupyter environment, please rerun this cell to show the HTML representation or trust the notebook. <br />On GitHub, the HTML representation is unable to render, please try loading this page with nbviewer.org.</b></div><div class=\"sk-container\" hidden><div class=\"sk-item\"><div class=\"sk-estimator sk-toggleable\"><input class=\"sk-toggleable__control sk-hidden--visually\" id=\"sk-estimator-id-1\" type=\"checkbox\" checked><label for=\"sk-estimator-id-1\" class=\"sk-toggleable__label sk-toggleable__label-arrow\">MultinomialNB</label><div class=\"sk-toggleable__content\"><pre>MultinomialNB()</pre></div></div></div></div></div>"
            ]
          },
          "metadata": {},
          "execution_count": 15
        }
      ]
    },
    {
      "cell_type": "code",
      "source": [
        "y_pred = naive_bayes.predict(x_test)"
      ],
      "metadata": {
        "id": "4HwL7yBMGmim"
      },
      "execution_count": 16,
      "outputs": []
    },
    {
      "cell_type": "code",
      "source": [
        "from sklearn.metrics import accuracy_score\n",
        "\n",
        "accuracy = accuracy_score(y_test, y_pred)\n",
        "print(\"Accuracy:\", accuracy)"
      ],
      "metadata": {
        "colab": {
          "base_uri": "https://localhost:8080/"
        },
        "id": "s5zS2Ph3KCgz",
        "outputId": "35d9a830-9573-4f91-be3d-39af9512872b"
      },
      "execution_count": 17,
      "outputs": [
        {
          "output_type": "stream",
          "name": "stdout",
          "text": [
            "Accuracy: 0.9480570975416336\n"
          ]
        }
      ]
    },
    {
      "cell_type": "markdown",
      "source": [
        "Dengan kombinasi CountVectorizer dan model Naive Bayes, hasil yang didapatkan adalah akurasi sebesar 94.8%. Hasil ini tergolong baik untuk akurasi sebuah model."
      ],
      "metadata": {
        "id": "k6PXaY2cChHJ"
      }
    },
    {
      "cell_type": "markdown",
      "source": [
        "##### TF IDF Vectorizer and SVM Model"
      ],
      "metadata": {
        "id": "l2SwNcH4KgSi"
      }
    },
    {
      "cell_type": "code",
      "source": [
        "x_train2, x_test2, y_train2, y_test2 = train_test_split(data1.text, data1.label, test_size=0.2, random_state=42)"
      ],
      "metadata": {
        "id": "9tlk_FipKuF9"
      },
      "execution_count": 18,
      "outputs": []
    },
    {
      "cell_type": "code",
      "source": [
        "from sklearn.feature_extraction.text import CountVectorizer, TfidfVectorizer\n",
        "\n",
        "vectorizer2 = TfidfVectorizer()\n",
        "x_train2 = vectorizer2.fit_transform([' '.join(tokens) for tokens in x_train2])\n",
        "x_test2 = vectorizer2.transform([' '.join(tokens) for tokens in x_test2])"
      ],
      "metadata": {
        "id": "9DR4Xz27KizE"
      },
      "execution_count": 19,
      "outputs": []
    },
    {
      "cell_type": "markdown",
      "source": [
        "Metode vektorisasi yang akan digunakan untuk section selanjutnya adalah TF-IDF Vectorizer (dihitung dari frekuensi kemunculan setiap kata dalam teks dan juga pentingnya sebuah kata) dengan SVM (Support Vector Machine)."
      ],
      "metadata": {
        "id": "45HuvQDXCmbb"
      }
    },
    {
      "cell_type": "code",
      "source": [
        "from sklearn.svm import SVC\n",
        "\n",
        "svm_model = SVC()\n",
        "svm_model.fit(x_train2, y_train2)"
      ],
      "metadata": {
        "colab": {
          "base_uri": "https://localhost:8080/",
          "height": 74
        },
        "id": "35GTETb_K0Ij",
        "outputId": "5233e39b-18d1-4f63-933a-66654dc2709d"
      },
      "execution_count": 20,
      "outputs": [
        {
          "output_type": "execute_result",
          "data": {
            "text/plain": [
              "SVC()"
            ],
            "text/html": [
              "<style>#sk-container-id-2 {color: black;background-color: white;}#sk-container-id-2 pre{padding: 0;}#sk-container-id-2 div.sk-toggleable {background-color: white;}#sk-container-id-2 label.sk-toggleable__label {cursor: pointer;display: block;width: 100%;margin-bottom: 0;padding: 0.3em;box-sizing: border-box;text-align: center;}#sk-container-id-2 label.sk-toggleable__label-arrow:before {content: \"▸\";float: left;margin-right: 0.25em;color: #696969;}#sk-container-id-2 label.sk-toggleable__label-arrow:hover:before {color: black;}#sk-container-id-2 div.sk-estimator:hover label.sk-toggleable__label-arrow:before {color: black;}#sk-container-id-2 div.sk-toggleable__content {max-height: 0;max-width: 0;overflow: hidden;text-align: left;background-color: #f0f8ff;}#sk-container-id-2 div.sk-toggleable__content pre {margin: 0.2em;color: black;border-radius: 0.25em;background-color: #f0f8ff;}#sk-container-id-2 input.sk-toggleable__control:checked~div.sk-toggleable__content {max-height: 200px;max-width: 100%;overflow: auto;}#sk-container-id-2 input.sk-toggleable__control:checked~label.sk-toggleable__label-arrow:before {content: \"▾\";}#sk-container-id-2 div.sk-estimator input.sk-toggleable__control:checked~label.sk-toggleable__label {background-color: #d4ebff;}#sk-container-id-2 div.sk-label input.sk-toggleable__control:checked~label.sk-toggleable__label {background-color: #d4ebff;}#sk-container-id-2 input.sk-hidden--visually {border: 0;clip: rect(1px 1px 1px 1px);clip: rect(1px, 1px, 1px, 1px);height: 1px;margin: -1px;overflow: hidden;padding: 0;position: absolute;width: 1px;}#sk-container-id-2 div.sk-estimator {font-family: monospace;background-color: #f0f8ff;border: 1px dotted black;border-radius: 0.25em;box-sizing: border-box;margin-bottom: 0.5em;}#sk-container-id-2 div.sk-estimator:hover {background-color: #d4ebff;}#sk-container-id-2 div.sk-parallel-item::after {content: \"\";width: 100%;border-bottom: 1px solid gray;flex-grow: 1;}#sk-container-id-2 div.sk-label:hover label.sk-toggleable__label {background-color: #d4ebff;}#sk-container-id-2 div.sk-serial::before {content: \"\";position: absolute;border-left: 1px solid gray;box-sizing: border-box;top: 0;bottom: 0;left: 50%;z-index: 0;}#sk-container-id-2 div.sk-serial {display: flex;flex-direction: column;align-items: center;background-color: white;padding-right: 0.2em;padding-left: 0.2em;position: relative;}#sk-container-id-2 div.sk-item {position: relative;z-index: 1;}#sk-container-id-2 div.sk-parallel {display: flex;align-items: stretch;justify-content: center;background-color: white;position: relative;}#sk-container-id-2 div.sk-item::before, #sk-container-id-2 div.sk-parallel-item::before {content: \"\";position: absolute;border-left: 1px solid gray;box-sizing: border-box;top: 0;bottom: 0;left: 50%;z-index: -1;}#sk-container-id-2 div.sk-parallel-item {display: flex;flex-direction: column;z-index: 1;position: relative;background-color: white;}#sk-container-id-2 div.sk-parallel-item:first-child::after {align-self: flex-end;width: 50%;}#sk-container-id-2 div.sk-parallel-item:last-child::after {align-self: flex-start;width: 50%;}#sk-container-id-2 div.sk-parallel-item:only-child::after {width: 0;}#sk-container-id-2 div.sk-dashed-wrapped {border: 1px dashed gray;margin: 0 0.4em 0.5em 0.4em;box-sizing: border-box;padding-bottom: 0.4em;background-color: white;}#sk-container-id-2 div.sk-label label {font-family: monospace;font-weight: bold;display: inline-block;line-height: 1.2em;}#sk-container-id-2 div.sk-label-container {text-align: center;}#sk-container-id-2 div.sk-container {/* jupyter's `normalize.less` sets `[hidden] { display: none; }` but bootstrap.min.css set `[hidden] { display: none !important; }` so we also need the `!important` here to be able to override the default hidden behavior on the sphinx rendered scikit-learn.org. See: https://github.com/scikit-learn/scikit-learn/issues/21755 */display: inline-block !important;position: relative;}#sk-container-id-2 div.sk-text-repr-fallback {display: none;}</style><div id=\"sk-container-id-2\" class=\"sk-top-container\"><div class=\"sk-text-repr-fallback\"><pre>SVC()</pre><b>In a Jupyter environment, please rerun this cell to show the HTML representation or trust the notebook. <br />On GitHub, the HTML representation is unable to render, please try loading this page with nbviewer.org.</b></div><div class=\"sk-container\" hidden><div class=\"sk-item\"><div class=\"sk-estimator sk-toggleable\"><input class=\"sk-toggleable__control sk-hidden--visually\" id=\"sk-estimator-id-2\" type=\"checkbox\" checked><label for=\"sk-estimator-id-2\" class=\"sk-toggleable__label sk-toggleable__label-arrow\">SVC</label><div class=\"sk-toggleable__content\"><pre>SVC()</pre></div></div></div></div></div>"
            ]
          },
          "metadata": {},
          "execution_count": 20
        }
      ]
    },
    {
      "cell_type": "code",
      "source": [
        "y_pred2 = svm_model.predict(x_test2)"
      ],
      "metadata": {
        "id": "RHMLdOZsMug_"
      },
      "execution_count": 21,
      "outputs": []
    },
    {
      "cell_type": "code",
      "source": [
        "accuracy = accuracy_score(y_test2, y_pred2)\n",
        "print(\"Accuracy:\", accuracy)"
      ],
      "metadata": {
        "colab": {
          "base_uri": "https://localhost:8080/"
        },
        "id": "WzHHvBdoDXCc",
        "outputId": "62e3ff37-532a-4294-f62d-dad193c69051"
      },
      "execution_count": 22,
      "outputs": [
        {
          "output_type": "stream",
          "name": "stdout",
          "text": [
            "Accuracy: 0.9623314829500397\n"
          ]
        }
      ]
    },
    {
      "cell_type": "markdown",
      "source": [
        "Dengan kombinasi TfIdfVectorizer dan model SVM, hasil yang didapatkan adalah akurasi sebesar 96.23%. Hasil ini lebih baik daripada percobaan yang dilakukan sebelumnya."
      ],
      "metadata": {
        "id": "eGs6vZRnDTId"
      }
    },
    {
      "cell_type": "markdown",
      "source": [
        "##### Conclusion\n",
        "Hasil akurasi model klafisikasi CountVectorizer - Naive Bayes adalah 94.8% dan hasil model klasifikasi TfIdfVectorizer adalah 96.23%. Ini artinya model 1 berhasil mengklasifikasi test data produk sebesar 94.8% dan model 2 berhasil mengklasifikasi test data produk sebesar 96.23%. Model yang lebih baik adalah model kedua karena memiliki hasil akurasi yang lebih tinggi."
      ],
      "metadata": {
        "id": "s9Ky1w7jE4mP"
      }
    },
    {
      "cell_type": "markdown",
      "source": [
        "#### No 2 - Model LLM: BERT"
      ],
      "metadata": {
        "id": "kBEO6VOxP0rN"
      }
    },
    {
      "cell_type": "code",
      "source": [
        "!pip install transformers"
      ],
      "metadata": {
        "id": "G8Xp861cRN8w"
      },
      "execution_count": null,
      "outputs": []
    },
    {
      "cell_type": "code",
      "source": [
        "! pip install optuna"
      ],
      "metadata": {
        "id": "odAQnifUdq6x"
      },
      "execution_count": null,
      "outputs": []
    },
    {
      "cell_type": "markdown",
      "source": [
        "Untuk model LLM yang akan dipakai di kasus ini adalah BERT (Bidirectional Encoder Representations from Transformers). Model ini dipilih karena BERT adalah salah satu model LLM yang populer, dan juga model ini sudah dilakukan pretraining pada jumlah teks yang besar terlebih dahulu. Setelah itu, BERT dilakukan fine tuning untuk tugas tertentu, dimana tugas itu di sini adalah text classification. <br>\n",
        "\n",
        "BERT sendiri juga memiliki banyak keunggulan, seperti BERT yang bisa memahami konteks dan hubungan antar kata pada teks, dapat menghasilkan representasi teks yang baik, dan juga bisa mengetahui makna dari bahasanya."
      ],
      "metadata": {
        "id": "7_6mU72cGHAC"
      }
    },
    {
      "cell_type": "code",
      "source": [
        "import tensorflow as tf\n",
        "import transformers\n",
        "import torch\n",
        "import transformers\n",
        "import optuna\n",
        "from sklearn.model_selection import train_test_split\n",
        "from sklearn.preprocessing import LabelEncoder\n",
        "from sklearn.metrics import classification_report\n",
        "from sklearn.metrics import accuracy_score\n",
        "\n",
        "# Load BERT tokenizer and model\n",
        "tokenizer = transformers.BertTokenizer.from_pretrained('bert-base-uncased')\n",
        "\n",
        "# Convert tokens to input tensors\n",
        "def preprocess_tokens(tokens):\n",
        "    input_ids = []\n",
        "    attention_mask = []\n",
        "    for text in tokens:\n",
        "        encoded_text = tokenizer.encode_plus(\n",
        "            text,\n",
        "            add_special_tokens=True,\n",
        "            max_length=128,\n",
        "            padding='max_length',\n",
        "            truncation=True,\n",
        "            return_attention_mask=True,\n",
        "            return_tensors='tf'\n",
        "        )\n",
        "        input_ids.append(encoded_text['input_ids'][0])\n",
        "        attention_mask.append(encoded_text['attention_mask'][0])\n",
        "    input_ids = tf.stack(input_ids)\n",
        "    attention_mask = tf.stack(attention_mask)\n",
        "    return input_ids, attention_mask\n",
        "\n",
        "# Split the data into train and test sets\n",
        "X_train_tokens, X_test_tokens, y_train, y_test = train_test_split(data1.text, data1.label, test_size=0.2, random_state=42)\n",
        "\n",
        "# Preprocess the token data\n",
        "X_train_input_ids, X_train_attention_mask = preprocess_tokens(X_train_tokens)\n",
        "X_test_input_ids, X_test_attention_mask = preprocess_tokens(X_test_tokens)\n",
        "\n",
        "# Apply label encoding to the labels\n",
        "label_encoder = LabelEncoder()\n",
        "y_train_encoded = label_encoder.fit_transform(y_train)\n",
        "y_test_encoded = label_encoder.transform(y_test)\n",
        "\n",
        "# Convert labels to one-hot encoded vectors\n",
        "y_train_processed = tf.keras.utils.to_categorical(y_train_encoded, num_classes=4)\n",
        "y_test_processed = tf.keras.utils.to_categorical(y_test_encoded, num_classes=4)\n",
        "\n",
        "def objective(trial):\n",
        "    # Define the hyperparameters to be tuned\n",
        "    learning_rate = trial.suggest_loguniform('learning_rate', 1e-5, 1e-3)\n",
        "    num_train_epochs = trial.suggest_int('num_train_epochs', 4, 5)\n",
        "\n",
        "    model = transformers.TFBertForSequenceClassification.from_pretrained('bert-base-uncased', num_labels=4)\n",
        "    input_ids = tf.keras.Input(shape=(128,), dtype=tf.int32)\n",
        "    attention_mask = tf.keras.Input(shape=(128,), dtype=tf.int32)\n",
        "    output = model([input_ids, attention_mask])\n",
        "    output = output.logits\n",
        "    model = tf.keras.Model(inputs=[input_ids, attention_mask], outputs=output)\n",
        "\n",
        "    # Compile the model\n",
        "    model.compile(optimizer=tf.keras.optimizers.Adam(learning_rate=learning_rate),\n",
        "                  loss=tf.keras.losses.CategoricalCrossentropy(from_logits=True),\n",
        "                  metrics=['accuracy'])\n",
        "\n",
        "    # Train the model\n",
        "    model.fit([X_train_input_ids, X_train_attention_mask], y_train_processed, batch_size=16, epochs=num_train_epochs)\n",
        "\n",
        "    # Evaluate the model on the test set\n",
        "    _, accuracy = model.evaluate([X_test_input_ids, X_test_attention_mask], y_test_processed)\n",
        "    print(\"Test Accuracy:\", accuracy)\n",
        "\n",
        "    return accuracy\n",
        "\n",
        "device = torch.device('cuda' if torch.cuda.is_available() else 'cpu')\n",
        "\n",
        "# Perform hyperparameter optimization using Optuna\n",
        "study = optuna.create_study(direction='maximize')\n",
        "study.optimize(objective, n_trials=5)\n",
        "\n",
        "# Get the best hyperparameters and accuracy\n",
        "best_params = study.best_params\n",
        "best_accuracy = study.best_value\n",
        "\n",
        "print(\"Best hyperparameters:\", best_params)\n",
        "print(\"Best accuracy:\", best_accuracy)"
      ],
      "metadata": {
        "colab": {
          "base_uri": "https://localhost:8080/",
          "height": 1000,
          "referenced_widgets": [
            "0948c80bf1b1433b8492640b572c7fc8",
            "96aaed03278d4f998cdbb5701aafde27",
            "41cd678c28af43d5838291b614f46559",
            "29f5c6c3827a4e41a10ee2ad59a9f544",
            "a6aae202e5da4602ab6329ef9f867cd9",
            "5f4c8d1905ce43438278b765c3b76b44",
            "5afef8a22cc145d2958602babb636276",
            "164bf9d32ae148b983dba0e8fb316de1",
            "64137cfea3b849349e576c7ee2ac6af9",
            "311bc71b1cca49ed999562f80ab970ac",
            "1ee588ed05e74f24bb6422de7a01796a",
            "c6284856aeee4e809ab58e8c6a502fe7",
            "d3f246b374354985a1ea466785049603",
            "572ebf745de64ca8bffe9333d9dbc107",
            "2b3881f6c9224594a8875ac252e20ad2",
            "2ae55ce69181462c8a6823f72a642f15",
            "bee3496d00bf46d6a2b80f2dc0dafb7f",
            "7f9bed77f06d4ee0ac46310609fe623b",
            "68a058fda35f454cbf2892519d9cfd58",
            "49bd31f2cc7b40a99dd3d70561a50f3c",
            "fd3dde9b675a4226a11206375aecc3d0",
            "463efaa747504760b9417f15019a4e6c",
            "7d066287c8b9449ab1c3c030cdd93d55",
            "6f264addf3a942a4bd1dcc26590aa000",
            "e8c60b97ad394f2d8ce2579d351036cc",
            "16f73ea665704e608c078851aa3f1e52",
            "da76f15f56b745218dfc93847c8a5e23",
            "c07f67ba9dcc41e184c7a7e2b5d837e2",
            "69a38c441e014b469c335bad1e4b4d59",
            "252bf414252c41d78bfabd36b353498c",
            "94d73d062fb64a7fbda9bc2b450fa3e9",
            "f47dd15d02514aaeb8fb002a49aa01a2",
            "736151e96827400ab54dba9f875aaac1",
            "87b81439417749bd9edaea671a39cefb",
            "b08abd4d319a4a86892c77f682b2630a",
            "5db17809a44045c792c1d0bdb2824115",
            "46affb062b354414ab07de3e53db48f1",
            "957eddf2462045718221f944717adbec",
            "13d4d8fce03e476bbd670b81af0af350",
            "67353161fa3e49d6a4d2cf239b46bd96",
            "f286a9bc78f64d1888427c012f185ecf",
            "4bb4533725d74d13af6dc522e749f575",
            "48cbad96ad03421ca0649ef620ea8c81",
            "24fec5e887824c33a4ecb09050a62515"
          ]
        },
        "id": "epM1UNkVxPcN",
        "outputId": "fe01e3cf-9b0d-4bc9-cfd6-5debdb8b67bf"
      },
      "execution_count": 25,
      "outputs": [
        {
          "output_type": "display_data",
          "data": {
            "text/plain": [
              "Downloading (…)solve/main/vocab.txt:   0%|          | 0.00/232k [00:00<?, ?B/s]"
            ],
            "application/vnd.jupyter.widget-view+json": {
              "version_major": 2,
              "version_minor": 0,
              "model_id": "0948c80bf1b1433b8492640b572c7fc8"
            }
          },
          "metadata": {}
        },
        {
          "output_type": "display_data",
          "data": {
            "text/plain": [
              "Downloading (…)okenizer_config.json:   0%|          | 0.00/28.0 [00:00<?, ?B/s]"
            ],
            "application/vnd.jupyter.widget-view+json": {
              "version_major": 2,
              "version_minor": 0,
              "model_id": "c6284856aeee4e809ab58e8c6a502fe7"
            }
          },
          "metadata": {}
        },
        {
          "output_type": "display_data",
          "data": {
            "text/plain": [
              "Downloading (…)lve/main/config.json:   0%|          | 0.00/570 [00:00<?, ?B/s]"
            ],
            "application/vnd.jupyter.widget-view+json": {
              "version_major": 2,
              "version_minor": 0,
              "model_id": "7d066287c8b9449ab1c3c030cdd93d55"
            }
          },
          "metadata": {}
        },
        {
          "output_type": "stream",
          "name": "stderr",
          "text": [
            "[I 2023-07-08 19:26:48,992] A new study created in memory with name: no-name-6aaa13f1-5da6-4c2b-86be-6292d9a91779\n",
            "<ipython-input-25-c95d6e7a9ce4>:52: FutureWarning: suggest_loguniform has been deprecated in v3.0.0. This feature will be removed in v6.0.0. See https://github.com/optuna/optuna/releases/tag/v3.0.0. Use suggest_float(..., log=True) instead.\n",
            "  learning_rate = trial.suggest_loguniform('learning_rate', 1e-5, 1e-3)\n"
          ]
        },
        {
          "output_type": "display_data",
          "data": {
            "text/plain": [
              "Downloading model.safetensors:   0%|          | 0.00/440M [00:00<?, ?B/s]"
            ],
            "application/vnd.jupyter.widget-view+json": {
              "version_major": 2,
              "version_minor": 0,
              "model_id": "87b81439417749bd9edaea671a39cefb"
            }
          },
          "metadata": {}
        },
        {
          "output_type": "stream",
          "name": "stderr",
          "text": [
            "All PyTorch model weights were used when initializing TFBertForSequenceClassification.\n",
            "\n",
            "Some weights or buffers of the TF 2.0 model TFBertForSequenceClassification were not initialized from the PyTorch model and are newly initialized: ['classifier.weight', 'classifier.bias']\n",
            "You should probably TRAIN this model on a down-stream task to be able to use it for predictions and inference.\n"
          ]
        },
        {
          "output_type": "stream",
          "name": "stdout",
          "text": [
            "Epoch 1/4\n",
            "631/631 [==============================] - 348s 468ms/step - loss: 0.3031 - accuracy: 0.9160\n",
            "Epoch 2/4\n",
            "631/631 [==============================] - 277s 440ms/step - loss: 0.2016 - accuracy: 0.9505\n",
            "Epoch 3/4\n",
            "631/631 [==============================] - 274s 434ms/step - loss: 0.1452 - accuracy: 0.9657\n",
            "Epoch 4/4\n",
            "631/631 [==============================] - 274s 434ms/step - loss: 0.1078 - accuracy: 0.9747\n",
            "79/79 [==============================] - 27s 298ms/step - loss: 0.2039 - accuracy: 0.9524\n"
          ]
        },
        {
          "output_type": "stream",
          "name": "stderr",
          "text": [
            "[I 2023-07-08 19:47:02,710] Trial 0 finished with value: 0.9524187445640564 and parameters: {'learning_rate': 9.085267291205254e-05, 'num_train_epochs': 4}. Best is trial 0 with value: 0.9524187445640564.\n"
          ]
        },
        {
          "output_type": "stream",
          "name": "stdout",
          "text": [
            "Test Accuracy: 0.9524187445640564\n"
          ]
        },
        {
          "output_type": "stream",
          "name": "stderr",
          "text": [
            "All PyTorch model weights were used when initializing TFBertForSequenceClassification.\n",
            "\n",
            "Some weights or buffers of the TF 2.0 model TFBertForSequenceClassification were not initialized from the PyTorch model and are newly initialized: ['classifier.weight', 'classifier.bias']\n",
            "You should probably TRAIN this model on a down-stream task to be able to use it for predictions and inference.\n"
          ]
        },
        {
          "output_type": "stream",
          "name": "stdout",
          "text": [
            "Epoch 1/5\n",
            "631/631 [==============================] - 329s 445ms/step - loss: 0.2778 - accuracy: 0.9220\n",
            "Epoch 2/5\n",
            "631/631 [==============================] - 275s 435ms/step - loss: 0.1617 - accuracy: 0.9595\n",
            "Epoch 3/5\n",
            "631/631 [==============================] - 273s 433ms/step - loss: 0.1024 - accuracy: 0.9741\n",
            "Epoch 4/5\n",
            "631/631 [==============================] - 273s 432ms/step - loss: 0.0701 - accuracy: 0.9828\n",
            "Epoch 5/5\n",
            "631/631 [==============================] - 273s 432ms/step - loss: 0.0523 - accuracy: 0.9874\n",
            "79/79 [==============================] - 27s 299ms/step - loss: 0.1773 - accuracy: 0.9623\n"
          ]
        },
        {
          "output_type": "stream",
          "name": "stderr",
          "text": [
            "[I 2023-07-08 20:11:15,789] Trial 1 finished with value: 0.9623314738273621 and parameters: {'learning_rate': 4.722965490699146e-05, 'num_train_epochs': 5}. Best is trial 1 with value: 0.9623314738273621.\n"
          ]
        },
        {
          "output_type": "stream",
          "name": "stdout",
          "text": [
            "Test Accuracy: 0.9623314738273621\n"
          ]
        },
        {
          "output_type": "stream",
          "name": "stderr",
          "text": [
            "All PyTorch model weights were used when initializing TFBertForSequenceClassification.\n",
            "\n",
            "Some weights or buffers of the TF 2.0 model TFBertForSequenceClassification were not initialized from the PyTorch model and are newly initialized: ['classifier.weight', 'classifier.bias']\n",
            "You should probably TRAIN this model on a down-stream task to be able to use it for predictions and inference.\n"
          ]
        },
        {
          "output_type": "stream",
          "name": "stdout",
          "text": [
            "Epoch 1/5\n",
            "631/631 [==============================] - 328s 441ms/step - loss: 0.2885 - accuracy: 0.9185\n",
            "Epoch 2/5\n",
            "631/631 [==============================] - 274s 434ms/step - loss: 0.1428 - accuracy: 0.9642\n",
            "Epoch 3/5\n",
            "631/631 [==============================] - 273s 432ms/step - loss: 0.0951 - accuracy: 0.9757\n",
            "Epoch 4/5\n",
            "631/631 [==============================] - 272s 431ms/step - loss: 0.0664 - accuracy: 0.9839\n",
            "Epoch 5/5\n",
            "631/631 [==============================] - 272s 430ms/step - loss: 0.0461 - accuracy: 0.9881\n",
            "79/79 [==============================] - 27s 300ms/step - loss: 0.1848 - accuracy: 0.9556\n"
          ]
        },
        {
          "output_type": "stream",
          "name": "stderr",
          "text": [
            "[I 2023-07-08 20:35:25,656] Trial 2 finished with value: 0.9555907845497131 and parameters: {'learning_rate': 3.9783520806539715e-05, 'num_train_epochs': 5}. Best is trial 1 with value: 0.9623314738273621.\n"
          ]
        },
        {
          "output_type": "stream",
          "name": "stdout",
          "text": [
            "Test Accuracy: 0.9555907845497131\n"
          ]
        },
        {
          "output_type": "stream",
          "name": "stderr",
          "text": [
            "All PyTorch model weights were used when initializing TFBertForSequenceClassification.\n",
            "\n",
            "Some weights or buffers of the TF 2.0 model TFBertForSequenceClassification were not initialized from the PyTorch model and are newly initialized: ['classifier.weight', 'classifier.bias']\n",
            "You should probably TRAIN this model on a down-stream task to be able to use it for predictions and inference.\n"
          ]
        },
        {
          "output_type": "stream",
          "name": "stdout",
          "text": [
            "Epoch 1/4\n",
            "631/631 [==============================] - 326s 442ms/step - loss: 0.2770 - accuracy: 0.9248\n",
            "Epoch 2/4\n",
            "631/631 [==============================] - 274s 434ms/step - loss: 0.1510 - accuracy: 0.9630\n",
            "Epoch 3/4\n",
            "631/631 [==============================] - 273s 433ms/step - loss: 0.0989 - accuracy: 0.9759\n",
            "Epoch 4/4\n",
            "631/631 [==============================] - 273s 432ms/step - loss: 0.0620 - accuracy: 0.9847\n",
            "79/79 [==============================] - 27s 299ms/step - loss: 0.1683 - accuracy: 0.9647\n"
          ]
        },
        {
          "output_type": "stream",
          "name": "stderr",
          "text": [
            "[I 2023-07-08 20:55:01,830] Trial 3 finished with value: 0.964710533618927 and parameters: {'learning_rate': 6.497931429224871e-05, 'num_train_epochs': 4}. Best is trial 3 with value: 0.964710533618927.\n"
          ]
        },
        {
          "output_type": "stream",
          "name": "stdout",
          "text": [
            "Test Accuracy: 0.964710533618927\n"
          ]
        },
        {
          "output_type": "stream",
          "name": "stderr",
          "text": [
            "All PyTorch model weights were used when initializing TFBertForSequenceClassification.\n",
            "\n",
            "Some weights or buffers of the TF 2.0 model TFBertForSequenceClassification were not initialized from the PyTorch model and are newly initialized: ['classifier.weight', 'classifier.bias']\n",
            "You should probably TRAIN this model on a down-stream task to be able to use it for predictions and inference.\n"
          ]
        },
        {
          "output_type": "stream",
          "name": "stdout",
          "text": [
            "Epoch 1/4\n",
            "631/631 [==============================] - 329s 443ms/step - loss: 0.3068 - accuracy: 0.9135\n",
            "Epoch 2/4\n",
            "631/631 [==============================] - 274s 434ms/step - loss: 0.1419 - accuracy: 0.9631\n",
            "Epoch 3/4\n",
            "631/631 [==============================] - 273s 433ms/step - loss: 0.0869 - accuracy: 0.9774\n",
            "Epoch 4/4\n",
            "631/631 [==============================] - 273s 432ms/step - loss: 0.0503 - accuracy: 0.9876\n",
            "79/79 [==============================] - 29s 307ms/step - loss: 0.1693 - accuracy: 0.9627\n"
          ]
        },
        {
          "output_type": "stream",
          "name": "stderr",
          "text": [
            "[I 2023-07-08 21:15:22,648] Trial 4 finished with value: 0.962727963924408 and parameters: {'learning_rate': 1.467456019125218e-05, 'num_train_epochs': 4}. Best is trial 3 with value: 0.964710533618927.\n"
          ]
        },
        {
          "output_type": "stream",
          "name": "stdout",
          "text": [
            "Test Accuracy: 0.962727963924408\n",
            "Best hyperparameters: {'learning_rate': 6.497931429224871e-05, 'num_train_epochs': 4}\n",
            "Best accuracy: 0.964710533618927\n"
          ]
        }
      ]
    },
    {
      "cell_type": "markdown",
      "source": [
        "Kode di atas adalah proses hyperparameter tuning dari model BERT menggunakan optuna. Prosesnya meliputi:\n",
        "- Pengambilan model pretraining BERT base uncased\n",
        "- Splitting ke training dan testing data\n",
        "- Preprocessing kolom `text` agar bisa diproses untuk model BERT, yaitu membuat `input_id` dan `attention_mask`\n",
        "- Pengubahan kolom `label` menjadi one-hot encoded vector dengan `LabelEncoder` dan `to_categorical`\n",
        "-  Pembuatan function `objective` optuna dengan mendefine hyperparameter yang mau ditune, modelnya, dan hasil evaluasi dari training modelnya. Hyperparameter yang dituning adalah learning rate dan epoch karena berpengaruh pada modelnya, dimana learning rate adalah besar perubahan yang dilakukan pada weights modek, dan epoch adalah jumlah iterasi dari training set. Pada proses ini juga akan dilakukan proses finetuning yang menyesuaikan model untuk tugas text classification.\n",
        "- Pembuatan study optuna dengan memilih yang paling besar (`maximize`), dan optimisasi studynya menggunakan function `objective` serta jumlah trialnya 5 saja agar prosesnya tidak memakan waktu yang banyak\n",
        "- Hasil dari parameter paling baik serta akurasinya\n",
        "<br>\n",
        "\n",
        "##### Conclusion\n",
        "Dari hasilnya yang diiterasi sebanyak 5 kali antar hyperparameter, didapatkan hyperparameter yang terbaik adalah learning rate 6.5e-05 dan jumlah epochsnya 4. Akurasi dari model BERT dengan hyperparameter tersebut adalah sekitar 96.471%. Artinya untuk testing dataset berhasil terklasfikasi secara akurat sebanyak 96.471%.\n"
      ],
      "metadata": {
        "id": "mct4G_Z4H876"
      }
    },
    {
      "cell_type": "markdown",
      "source": [
        "#### No 3 - Topic Modelling"
      ],
      "metadata": {
        "id": "3Z7Q5aAsyy1B"
      }
    },
    {
      "cell_type": "code",
      "source": [
        "import pandas as pd\n",
        "data = pd.read_csv('data_3D.csv')\n",
        "data.info()"
      ],
      "metadata": {
        "colab": {
          "base_uri": "https://localhost:8080/"
        },
        "id": "D3PBDyBGyyLU",
        "outputId": "53aa0dd5-be59-4fe6-afa1-9c5c8a958fd6"
      },
      "execution_count": 4,
      "outputs": [
        {
          "output_type": "stream",
          "name": "stdout",
          "text": [
            "<class 'pandas.core.frame.DataFrame'>\n",
            "RangeIndex: 100 entries, 0 to 99\n",
            "Data columns (total 2 columns):\n",
            " #   Column      Non-Null Count  Dtype \n",
            "---  ------      --------------  ----- \n",
            " 0   Unnamed: 0  100 non-null    int64 \n",
            " 1   ABSTRACT    100 non-null    object\n",
            "dtypes: int64(1), object(1)\n",
            "memory usage: 1.7+ KB\n"
          ]
        }
      ]
    },
    {
      "cell_type": "code",
      "source": [
        "data.head()"
      ],
      "metadata": {
        "colab": {
          "base_uri": "https://localhost:8080/",
          "height": 206
        },
        "id": "OwQxCL7yzl09",
        "outputId": "c5b01c01-ac0f-4b50-9d28-7b7bceb668f9"
      },
      "execution_count": 5,
      "outputs": [
        {
          "output_type": "execute_result",
          "data": {
            "text/plain": [
              "   Unnamed: 0                                           ABSTRACT\n",
              "0         300    One of the popular approaches for low-rank t...\n",
              "1         301    Nous tentons dans cet article de proposer un...\n",
              "2         302    X-ray computed tomography (CT) using sparse ...\n",
              "3         303    A singular (or Hermann) foliation on a smoot...\n",
              "4         304    The Weyl semimetal phase is a recently disco..."
            ],
            "text/html": [
              "\n",
              "  <div id=\"df-de075415-9805-4af6-b924-50d38d1abe2d\">\n",
              "    <div class=\"colab-df-container\">\n",
              "      <div>\n",
              "<style scoped>\n",
              "    .dataframe tbody tr th:only-of-type {\n",
              "        vertical-align: middle;\n",
              "    }\n",
              "\n",
              "    .dataframe tbody tr th {\n",
              "        vertical-align: top;\n",
              "    }\n",
              "\n",
              "    .dataframe thead th {\n",
              "        text-align: right;\n",
              "    }\n",
              "</style>\n",
              "<table border=\"1\" class=\"dataframe\">\n",
              "  <thead>\n",
              "    <tr style=\"text-align: right;\">\n",
              "      <th></th>\n",
              "      <th>Unnamed: 0</th>\n",
              "      <th>ABSTRACT</th>\n",
              "    </tr>\n",
              "  </thead>\n",
              "  <tbody>\n",
              "    <tr>\n",
              "      <th>0</th>\n",
              "      <td>300</td>\n",
              "      <td>One of the popular approaches for low-rank t...</td>\n",
              "    </tr>\n",
              "    <tr>\n",
              "      <th>1</th>\n",
              "      <td>301</td>\n",
              "      <td>Nous tentons dans cet article de proposer un...</td>\n",
              "    </tr>\n",
              "    <tr>\n",
              "      <th>2</th>\n",
              "      <td>302</td>\n",
              "      <td>X-ray computed tomography (CT) using sparse ...</td>\n",
              "    </tr>\n",
              "    <tr>\n",
              "      <th>3</th>\n",
              "      <td>303</td>\n",
              "      <td>A singular (or Hermann) foliation on a smoot...</td>\n",
              "    </tr>\n",
              "    <tr>\n",
              "      <th>4</th>\n",
              "      <td>304</td>\n",
              "      <td>The Weyl semimetal phase is a recently disco...</td>\n",
              "    </tr>\n",
              "  </tbody>\n",
              "</table>\n",
              "</div>\n",
              "      <button class=\"colab-df-convert\" onclick=\"convertToInteractive('df-de075415-9805-4af6-b924-50d38d1abe2d')\"\n",
              "              title=\"Convert this dataframe to an interactive table.\"\n",
              "              style=\"display:none;\">\n",
              "        \n",
              "  <svg xmlns=\"http://www.w3.org/2000/svg\" height=\"24px\"viewBox=\"0 0 24 24\"\n",
              "       width=\"24px\">\n",
              "    <path d=\"M0 0h24v24H0V0z\" fill=\"none\"/>\n",
              "    <path d=\"M18.56 5.44l.94 2.06.94-2.06 2.06-.94-2.06-.94-.94-2.06-.94 2.06-2.06.94zm-11 1L8.5 8.5l.94-2.06 2.06-.94-2.06-.94L8.5 2.5l-.94 2.06-2.06.94zm10 10l.94 2.06.94-2.06 2.06-.94-2.06-.94-.94-2.06-.94 2.06-2.06.94z\"/><path d=\"M17.41 7.96l-1.37-1.37c-.4-.4-.92-.59-1.43-.59-.52 0-1.04.2-1.43.59L10.3 9.45l-7.72 7.72c-.78.78-.78 2.05 0 2.83L4 21.41c.39.39.9.59 1.41.59.51 0 1.02-.2 1.41-.59l7.78-7.78 2.81-2.81c.8-.78.8-2.07 0-2.86zM5.41 20L4 18.59l7.72-7.72 1.47 1.35L5.41 20z\"/>\n",
              "  </svg>\n",
              "      </button>\n",
              "      \n",
              "  <style>\n",
              "    .colab-df-container {\n",
              "      display:flex;\n",
              "      flex-wrap:wrap;\n",
              "      gap: 12px;\n",
              "    }\n",
              "\n",
              "    .colab-df-convert {\n",
              "      background-color: #E8F0FE;\n",
              "      border: none;\n",
              "      border-radius: 50%;\n",
              "      cursor: pointer;\n",
              "      display: none;\n",
              "      fill: #1967D2;\n",
              "      height: 32px;\n",
              "      padding: 0 0 0 0;\n",
              "      width: 32px;\n",
              "    }\n",
              "\n",
              "    .colab-df-convert:hover {\n",
              "      background-color: #E2EBFA;\n",
              "      box-shadow: 0px 1px 2px rgba(60, 64, 67, 0.3), 0px 1px 3px 1px rgba(60, 64, 67, 0.15);\n",
              "      fill: #174EA6;\n",
              "    }\n",
              "\n",
              "    [theme=dark] .colab-df-convert {\n",
              "      background-color: #3B4455;\n",
              "      fill: #D2E3FC;\n",
              "    }\n",
              "\n",
              "    [theme=dark] .colab-df-convert:hover {\n",
              "      background-color: #434B5C;\n",
              "      box-shadow: 0px 1px 3px 1px rgba(0, 0, 0, 0.15);\n",
              "      filter: drop-shadow(0px 1px 2px rgba(0, 0, 0, 0.3));\n",
              "      fill: #FFFFFF;\n",
              "    }\n",
              "  </style>\n",
              "\n",
              "      <script>\n",
              "        const buttonEl =\n",
              "          document.querySelector('#df-de075415-9805-4af6-b924-50d38d1abe2d button.colab-df-convert');\n",
              "        buttonEl.style.display =\n",
              "          google.colab.kernel.accessAllowed ? 'block' : 'none';\n",
              "\n",
              "        async function convertToInteractive(key) {\n",
              "          const element = document.querySelector('#df-de075415-9805-4af6-b924-50d38d1abe2d');\n",
              "          const dataTable =\n",
              "            await google.colab.kernel.invokeFunction('convertToInteractive',\n",
              "                                                     [key], {});\n",
              "          if (!dataTable) return;\n",
              "\n",
              "          const docLinkHtml = 'Like what you see? Visit the ' +\n",
              "            '<a target=\"_blank\" href=https://colab.research.google.com/notebooks/data_table.ipynb>data table notebook</a>'\n",
              "            + ' to learn more about interactive tables.';\n",
              "          element.innerHTML = '';\n",
              "          dataTable['output_type'] = 'display_data';\n",
              "          await google.colab.output.renderOutput(dataTable, element);\n",
              "          const docLink = document.createElement('div');\n",
              "          docLink.innerHTML = docLinkHtml;\n",
              "          element.appendChild(docLink);\n",
              "        }\n",
              "      </script>\n",
              "    </div>\n",
              "  </div>\n",
              "  "
            ]
          },
          "metadata": {},
          "execution_count": 5
        }
      ]
    },
    {
      "cell_type": "markdown",
      "source": [
        "Dapat dilihat dari informasi datasetnya bahwa tidak ada label pada dataset, hanya ada sebuah kolom teks dan mungkin ID. Karena ID tersebut tidak penting, maka akan dibuat dataset baru yang hanya berisi kolom teksnya."
      ],
      "metadata": {
        "id": "MZzsb9ugPc0b"
      }
    },
    {
      "cell_type": "code",
      "source": [
        "data2 = data.ABSTRACT\n",
        "import re\n",
        "import string\n",
        "\n",
        "def data_cleansing(df):\n",
        "    clean_data = df\n",
        "    # Make Lowercase\n",
        "    clean_data = df.str.lower()\n",
        "    # Remove \\n in Text\n",
        "    clean_data = [re.sub(r'\\n', ' ', i) for i in clean_data]\n",
        "    # Punctuations\n",
        "    clean_data = [word.translate(str.maketrans(string.punctuation, ' '*len(string.punctuation))) for word in clean_data]\n",
        "    # Remove Numbers\n",
        "    clean_data = [re.sub(r\"\\d+\",\"\", i) for i in clean_data]\n",
        "    # Remove Single Characters\n",
        "    clean_data = [re.sub(r'(?:^| )\\w(?:$| )', ' ', i).strip() for i in clean_data]\n",
        "    # Remove Multiple Whitespaces\n",
        "    clean_data = [re.sub(r\"\\s+\",\" \", i) for i in clean_data]\n",
        "\n",
        "    return clean_data\n",
        "\n",
        "data3 = data_cleansing(data2)"
      ],
      "metadata": {
        "id": "IAdNwU4ezm-Z"
      },
      "execution_count": 6,
      "outputs": []
    },
    {
      "cell_type": "markdown",
      "source": [
        "Seperti pada soal-soal sebelumnya, data dipreproses terlebih dahulu. Langkah preprocessing ini sama pada langkah preprocessing yang dilakukan untuk nomor pertama."
      ],
      "metadata": {
        "id": "2BPc2NPcO7KG"
      }
    },
    {
      "cell_type": "code",
      "source": [
        "import gensim\n",
        "from gensim import corpora\n",
        "\n",
        "def preprocess(text):\n",
        "    result=[]\n",
        "    for token in gensim.utils.simple_preprocess(text) :\n",
        "        if token not in gensim.parsing.preprocessing.STOPWORDS and len(token) > 3:\n",
        "            result.append(token)\n",
        "    return result"
      ],
      "metadata": {
        "id": "Wzl5WM_bzqlA"
      },
      "execution_count": 7,
      "outputs": []
    },
    {
      "cell_type": "code",
      "source": [
        "data_processed=[]\n",
        "for i in range(len(data3)):\n",
        "    data_processed.append(preprocess(data3[i]))"
      ],
      "metadata": {
        "id": "5jPNJ00vzr8u"
      },
      "execution_count": 8,
      "outputs": []
    },
    {
      "cell_type": "markdown",
      "source": [
        "Proses tokenisasi pada kasus ini akan menggunakan predefined function dari gensim yang juga otomatis menghilangkan stopwords yang ada di dalamnya."
      ],
      "metadata": {
        "id": "W_uA95AhQsUN"
      }
    },
    {
      "cell_type": "code",
      "source": [
        "from gensim.corpora import Dictionary\n",
        "def build_dic(text):\n",
        "    dictionary = Dictionary(text)\n",
        "    dictionary.filter_extremes(no_below=1, no_above=0.2, keep_n= 100000)\n",
        "    return dictionary"
      ],
      "metadata": {
        "id": "BGUBuAbFzthe"
      },
      "execution_count": 9,
      "outputs": []
    },
    {
      "cell_type": "code",
      "source": [
        "dictionary = build_dic(data_processed)\n",
        "corpus = [dictionary.doc2bow(doc) for doc in data_processed]"
      ],
      "metadata": {
        "id": "mWCkOFsvzu0U"
      },
      "execution_count": 10,
      "outputs": []
    },
    {
      "cell_type": "markdown",
      "source": [
        "Setelah itu, kita akan membuat Dictionary yang didasarkan dari teks yang sudah bersih, dan juga membuat korpus dari dictionarynya dengan Bag-of-Words representation."
      ],
      "metadata": {
        "id": "WRFPtT-RQ8EB"
      }
    },
    {
      "cell_type": "code",
      "source": [
        "from gensim import models\n",
        "\n",
        "def vector_tfidf(bow_corpus):\n",
        "    tfidf = models.TfidfModel(bow_corpus)\n",
        "    corpus_tfidf = tfidf[bow_corpus]\n",
        "    return corpus_tfidf\n",
        "\n",
        "corpus_tfidf = vector_tfidf(corpus)"
      ],
      "metadata": {
        "id": "votjm3mezwge"
      },
      "execution_count": 11,
      "outputs": []
    },
    {
      "cell_type": "markdown",
      "source": [
        "Corpus yang tadi akan dikonversi lagi menggunakan metode vektorisasi TF-IDF untuk meningkatkan kualitas seperti memudahkan interpretasi, mengurangi dimensionality, mengurangi noise, dan juga meningkatkan fleksibilitas."
      ],
      "metadata": {
        "id": "Ykqph4cdRXuk"
      }
    },
    {
      "cell_type": "code",
      "source": [
        "from gensim.models import CoherenceModel\n",
        "\n",
        "num_topics_list = [2,3,4,5,6,7,8,9,10]\n",
        "\n",
        "coherence_scores = []\n",
        "\n",
        "for num_topics in num_topics_list:\n",
        "    lda_model = gensim.models.LdaModel(corpus_tfidf, num_topics=num_topics, id2word=dictionary, passes=10, alpha=0.7, eta=0.7, random_state=42)\n",
        "    coherence_model = CoherenceModel(model=lda_model, texts=data_processed, dictionary=dictionary, coherence='c_v')\n",
        "    coherence_score = coherence_model.get_coherence()\n",
        "\n",
        "    coherence_scores.append(coherence_score)\n",
        "\n",
        "best_index = coherence_scores.index(max(coherence_scores))\n",
        "best_num_topics = num_topics_list[best_index]\n",
        "\n",
        "print(\"Best number of topics:\", best_num_topics)"
      ],
      "metadata": {
        "colab": {
          "base_uri": "https://localhost:8080/"
        },
        "id": "kWeWtRrTzxnh",
        "outputId": "97adbafa-5298-41d5-b1ee-098238bf48e9"
      },
      "execution_count": 12,
      "outputs": [
        {
          "output_type": "stream",
          "name": "stdout",
          "text": [
            "Best number of topics: 2\n"
          ]
        }
      ]
    },
    {
      "cell_type": "markdown",
      "source": [
        "Analisa jumlah topik akan dilakukan menggunakan perbandingan coherence skor, dimana semakin tinggi nilai coherence maka akan semakin bagus karena topik akan semakin bermakna. Model yang digunakan di sini adalah model unsupervised LDA (Latent Dirichlet Allocation) yang biasa digunakan untuk kasus topic modelling yang mencari topik dari sejumlah dokumen. <br>\n",
        "\n",
        "Pada kodenya, akan dibandingan jumlah topik dari 2 topik hingga 10 topik. Hasilnya menunjukkan bahwa jumlah topik yang paling baik untuk dataset ini adalah 2 topik saja."
      ],
      "metadata": {
        "id": "8qZ18w0xR-QT"
      }
    },
    {
      "cell_type": "code",
      "source": [
        "num_topics = 2\n",
        "lda_model = gensim.models.LdaModel(corpus_tfidf, num_topics=num_topics, id2word=dictionary, passes=10, alpha=0.7, eta=0.7, random_state=42)\n",
        "\n",
        "from gensim.models import CoherenceModel\n",
        "coherence_model = CoherenceModel(model=lda_model, texts=data_processed, dictionary=dictionary, coherence='c_v')\n",
        "coherence_score = coherence_model.get_coherence()\n",
        "print(\"Coherence Score:\", coherence_score) # Closer to 1, the better"
      ],
      "metadata": {
        "colab": {
          "base_uri": "https://localhost:8080/"
        },
        "id": "KS-3LIpmzyO5",
        "outputId": "d5e5e04d-98ce-463c-dcce-4b17b6197524"
      },
      "execution_count": 13,
      "outputs": [
        {
          "output_type": "stream",
          "name": "stdout",
          "text": [
            "Coherence Score: 0.4802055790467368\n"
          ]
        }
      ]
    },
    {
      "cell_type": "markdown",
      "source": [
        "Bisa dilihat bahwa dengan 2 topik, coherence skor yang didapat adalah 0.48. Ini artinya kata-kata pada setiap topik berkorelasi sekitar 48%. Hasil ini masih bisa ditingkan tapi karena ini adalah hasil tertinggi yang didapatkan, maka kita tentukan 2 topik untuk dataset tersebut."
      ],
      "metadata": {
        "id": "siosaZq1TCh5"
      }
    },
    {
      "cell_type": "code",
      "source": [
        "top_words_per_topic = lda_model.print_topics(num_words=10)\n",
        "top_words_per_topic"
      ],
      "metadata": {
        "colab": {
          "base_uri": "https://localhost:8080/"
        },
        "id": "nwG6uraUz8NZ",
        "outputId": "ab0e0f7d-f239-4f74-d44e-00902724b823"
      },
      "execution_count": 14,
      "outputs": [
        {
          "output_type": "execute_result",
          "data": {
            "text/plain": [
              "[(0,\n",
              "  '0.001*\"learning\" + 0.001*\"network\" + 0.001*\"deep\" + 0.001*\"networks\" + 0.001*\"quantum\" + 0.001*\"neural\" + 0.001*\"models\" + 0.001*\"order\" + 0.001*\"state\" + 0.001*\"fusion\"'),\n",
              " (1,\n",
              "  '0.001*\"delta\" + 0.001*\"bound\" + 0.001*\"operator\" + 0.001*\"algorithm\" + 0.001*\"graded\" + 0.001*\"measures\" + 0.001*\"type\" + 0.001*\"distance\" + 0.001*\"mathbf\" + 0.001*\"function\"')]"
            ]
          },
          "metadata": {},
          "execution_count": 14
        }
      ]
    },
    {
      "cell_type": "markdown",
      "source": [
        "Kita juga dapat lihat kata-kata yang memiliki peranan terpenting pada setiap topik dan jumlahnya sama semua. Mungkin ini artinya tidak ada kata yang memiliki peran yang sangat penting. Model LDA yang tadi akan kita buat menjadi file `pkl`."
      ],
      "metadata": {
        "id": "j7RfDXr6Tp0F"
      }
    },
    {
      "cell_type": "code",
      "source": [
        "import pickle as pkl\n",
        "filename = 'lda_model.pkl'\n",
        "pkl.dump(lda_model, open(filename, 'wb'))"
      ],
      "metadata": {
        "id": "1z6hrzgdz95O"
      },
      "execution_count": 15,
      "outputs": []
    },
    {
      "cell_type": "code",
      "source": [
        "X_test = data2.iloc[10:15]\n",
        "clean_data = data_cleansing(X_test)"
      ],
      "metadata": {
        "id": "Y_ngddLjz-5p"
      },
      "execution_count": 16,
      "outputs": []
    },
    {
      "cell_type": "markdown",
      "source": [
        "Dengan model yang tadi, akan dicoba untuk mengenerate topic pada contoh training data (diambil dari row 10-15) menjadi testing data. Data akan dilakukan tahap-tahap yang sama dengan sebelumnya."
      ],
      "metadata": {
        "id": "eq3V5JJaUrAy"
      }
    },
    {
      "cell_type": "code",
      "source": [
        "process = []\n",
        "for i in range(len(clean_data)):\n",
        "    process.append(preprocess(clean_data[i]))\n",
        "\n",
        "corpus_test = [dictionary.doc2bow(doc) for doc in process]\n",
        "corpus_tfidfTest = vector_tfidf(corpus_test)"
      ],
      "metadata": {
        "id": "yeccBxV5z_6F"
      },
      "execution_count": 17,
      "outputs": []
    },
    {
      "cell_type": "code",
      "source": [
        "lda_model= pkl.load(open(filename, 'rb'))"
      ],
      "metadata": {
        "id": "NQn_3XYA0BEm"
      },
      "execution_count": 18,
      "outputs": []
    },
    {
      "cell_type": "code",
      "source": [
        "test_shape=len(clean_data)\n",
        "topic1=[]\n",
        "score1=[]\n",
        "topic2=[]\n",
        "score2=[]\n",
        "sentence=[]\n",
        "\n",
        "for doc in range(test_shape):\n",
        "    sentence.append(clean_data[doc])\n",
        "    topic1.append(sorted(lda_model[corpus_test[doc]], key=lambda tup: -1*tup[1])[0][0])\n",
        "    score1.append(sorted(lda_model[corpus_test[doc]], key=lambda tup: -1*tup[1])[0][1])\n",
        "    topic2.append(sorted(lda_model[corpus_test[doc]], key=lambda tup: -1*tup[1])[1][0])\n",
        "    score2.append(sorted(lda_model[corpus_test[doc]], key=lambda tup: -1*tup[1])[1][1])\n",
        "\n",
        "sentence=pd.DataFrame(sentence,columns=['sentence']).reset_index()\n",
        "topic1=pd.DataFrame(topic1,columns=['topic1']).reset_index()\n",
        "score1=pd.DataFrame(score1,columns=['score1']).reset_index()\n",
        "topic2=pd.DataFrame(topic2,columns=['topic2']).reset_index()\n",
        "score2=pd.DataFrame(score2,columns=['score2']).reset_index()\n",
        "test_result=pd.concat([sentence,topic1,score1,topic2,score2],axis=1)\n",
        "\n",
        "test_result=test_result[['sentence','topic1','score1','topic2','score2']]\n",
        "test_result.head()"
      ],
      "metadata": {
        "colab": {
          "base_uri": "https://localhost:8080/",
          "height": 206
        },
        "id": "Nagp4vaz0Cwt",
        "outputId": "300986d3-a4a4-41b5-be92-1e8c1d7739a6"
      },
      "execution_count": 19,
      "outputs": [
        {
          "output_type": "execute_result",
          "data": {
            "text/plain": [
              "                                            sentence  topic1    score1  \\\n",
              "0  we report the discovery of three small transit...       1  0.981540   \n",
              "1  we define family of quantum invariants of clos...       0  0.983426   \n",
              "2  we propose sparse neural network architectures...       0  0.987163   \n",
              "3  computer vision has made remarkable progress i...       0  0.981278   \n",
              "4  numerical analysis of heat conduction through ...       0  0.984365   \n",
              "\n",
              "   topic2    score2  \n",
              "0       0  0.018461  \n",
              "1       1  0.016571  \n",
              "2       1  0.012837  \n",
              "3       1  0.018723  \n",
              "4       1  0.015628  "
            ],
            "text/html": [
              "\n",
              "  <div id=\"df-e1ca6c21-86a1-4866-ab48-d0bea9727c69\">\n",
              "    <div class=\"colab-df-container\">\n",
              "      <div>\n",
              "<style scoped>\n",
              "    .dataframe tbody tr th:only-of-type {\n",
              "        vertical-align: middle;\n",
              "    }\n",
              "\n",
              "    .dataframe tbody tr th {\n",
              "        vertical-align: top;\n",
              "    }\n",
              "\n",
              "    .dataframe thead th {\n",
              "        text-align: right;\n",
              "    }\n",
              "</style>\n",
              "<table border=\"1\" class=\"dataframe\">\n",
              "  <thead>\n",
              "    <tr style=\"text-align: right;\">\n",
              "      <th></th>\n",
              "      <th>sentence</th>\n",
              "      <th>topic1</th>\n",
              "      <th>score1</th>\n",
              "      <th>topic2</th>\n",
              "      <th>score2</th>\n",
              "    </tr>\n",
              "  </thead>\n",
              "  <tbody>\n",
              "    <tr>\n",
              "      <th>0</th>\n",
              "      <td>we report the discovery of three small transit...</td>\n",
              "      <td>1</td>\n",
              "      <td>0.981540</td>\n",
              "      <td>0</td>\n",
              "      <td>0.018461</td>\n",
              "    </tr>\n",
              "    <tr>\n",
              "      <th>1</th>\n",
              "      <td>we define family of quantum invariants of clos...</td>\n",
              "      <td>0</td>\n",
              "      <td>0.983426</td>\n",
              "      <td>1</td>\n",
              "      <td>0.016571</td>\n",
              "    </tr>\n",
              "    <tr>\n",
              "      <th>2</th>\n",
              "      <td>we propose sparse neural network architectures...</td>\n",
              "      <td>0</td>\n",
              "      <td>0.987163</td>\n",
              "      <td>1</td>\n",
              "      <td>0.012837</td>\n",
              "    </tr>\n",
              "    <tr>\n",
              "      <th>3</th>\n",
              "      <td>computer vision has made remarkable progress i...</td>\n",
              "      <td>0</td>\n",
              "      <td>0.981278</td>\n",
              "      <td>1</td>\n",
              "      <td>0.018723</td>\n",
              "    </tr>\n",
              "    <tr>\n",
              "      <th>4</th>\n",
              "      <td>numerical analysis of heat conduction through ...</td>\n",
              "      <td>0</td>\n",
              "      <td>0.984365</td>\n",
              "      <td>1</td>\n",
              "      <td>0.015628</td>\n",
              "    </tr>\n",
              "  </tbody>\n",
              "</table>\n",
              "</div>\n",
              "      <button class=\"colab-df-convert\" onclick=\"convertToInteractive('df-e1ca6c21-86a1-4866-ab48-d0bea9727c69')\"\n",
              "              title=\"Convert this dataframe to an interactive table.\"\n",
              "              style=\"display:none;\">\n",
              "        \n",
              "  <svg xmlns=\"http://www.w3.org/2000/svg\" height=\"24px\"viewBox=\"0 0 24 24\"\n",
              "       width=\"24px\">\n",
              "    <path d=\"M0 0h24v24H0V0z\" fill=\"none\"/>\n",
              "    <path d=\"M18.56 5.44l.94 2.06.94-2.06 2.06-.94-2.06-.94-.94-2.06-.94 2.06-2.06.94zm-11 1L8.5 8.5l.94-2.06 2.06-.94-2.06-.94L8.5 2.5l-.94 2.06-2.06.94zm10 10l.94 2.06.94-2.06 2.06-.94-2.06-.94-.94-2.06-.94 2.06-2.06.94z\"/><path d=\"M17.41 7.96l-1.37-1.37c-.4-.4-.92-.59-1.43-.59-.52 0-1.04.2-1.43.59L10.3 9.45l-7.72 7.72c-.78.78-.78 2.05 0 2.83L4 21.41c.39.39.9.59 1.41.59.51 0 1.02-.2 1.41-.59l7.78-7.78 2.81-2.81c.8-.78.8-2.07 0-2.86zM5.41 20L4 18.59l7.72-7.72 1.47 1.35L5.41 20z\"/>\n",
              "  </svg>\n",
              "      </button>\n",
              "      \n",
              "  <style>\n",
              "    .colab-df-container {\n",
              "      display:flex;\n",
              "      flex-wrap:wrap;\n",
              "      gap: 12px;\n",
              "    }\n",
              "\n",
              "    .colab-df-convert {\n",
              "      background-color: #E8F0FE;\n",
              "      border: none;\n",
              "      border-radius: 50%;\n",
              "      cursor: pointer;\n",
              "      display: none;\n",
              "      fill: #1967D2;\n",
              "      height: 32px;\n",
              "      padding: 0 0 0 0;\n",
              "      width: 32px;\n",
              "    }\n",
              "\n",
              "    .colab-df-convert:hover {\n",
              "      background-color: #E2EBFA;\n",
              "      box-shadow: 0px 1px 2px rgba(60, 64, 67, 0.3), 0px 1px 3px 1px rgba(60, 64, 67, 0.15);\n",
              "      fill: #174EA6;\n",
              "    }\n",
              "\n",
              "    [theme=dark] .colab-df-convert {\n",
              "      background-color: #3B4455;\n",
              "      fill: #D2E3FC;\n",
              "    }\n",
              "\n",
              "    [theme=dark] .colab-df-convert:hover {\n",
              "      background-color: #434B5C;\n",
              "      box-shadow: 0px 1px 3px 1px rgba(0, 0, 0, 0.15);\n",
              "      filter: drop-shadow(0px 1px 2px rgba(0, 0, 0, 0.3));\n",
              "      fill: #FFFFFF;\n",
              "    }\n",
              "  </style>\n",
              "\n",
              "      <script>\n",
              "        const buttonEl =\n",
              "          document.querySelector('#df-e1ca6c21-86a1-4866-ab48-d0bea9727c69 button.colab-df-convert');\n",
              "        buttonEl.style.display =\n",
              "          google.colab.kernel.accessAllowed ? 'block' : 'none';\n",
              "\n",
              "        async function convertToInteractive(key) {\n",
              "          const element = document.querySelector('#df-e1ca6c21-86a1-4866-ab48-d0bea9727c69');\n",
              "          const dataTable =\n",
              "            await google.colab.kernel.invokeFunction('convertToInteractive',\n",
              "                                                     [key], {});\n",
              "          if (!dataTable) return;\n",
              "\n",
              "          const docLinkHtml = 'Like what you see? Visit the ' +\n",
              "            '<a target=\"_blank\" href=https://colab.research.google.com/notebooks/data_table.ipynb>data table notebook</a>'\n",
              "            + ' to learn more about interactive tables.';\n",
              "          element.innerHTML = '';\n",
              "          dataTable['output_type'] = 'display_data';\n",
              "          await google.colab.output.renderOutput(dataTable, element);\n",
              "          const docLink = document.createElement('div');\n",
              "          docLink.innerHTML = docLinkHtml;\n",
              "          element.appendChild(docLink);\n",
              "        }\n",
              "      </script>\n",
              "    </div>\n",
              "  </div>\n",
              "  "
            ]
          },
          "metadata": {},
          "execution_count": 19
        }
      ]
    },
    {
      "cell_type": "markdown",
      "source": [
        "Dari hasil testing model di atas, dapat dilihat skor probabilitas sebuah kalimat masuk pada topik terentu dan juga topik yang pada akhirnya ditentukan untuk kalimat tersebut. Hasil di atas menunjukkan probabilitas yang sangat besar sekitar 98% untuk setiap kalimat pada skor untuk topik 1, namun yang tergolong pada topik 1 hanyalah kalimat yang pertama."
      ],
      "metadata": {
        "id": "o3-gQ-GXV-Zf"
      }
    },
    {
      "cell_type": "code",
      "source": [
        "persona_topics = lda_model[corpus]\n",
        "\n",
        "# Assign personas based on dominant topic\n",
        "personas = {}\n",
        "for i, doc_topics in enumerate(persona_topics):\n",
        "    dominant_topic = max(doc_topics, key=lambda x: x[1])[0]\n",
        "    if dominant_topic not in personas:\n",
        "        personas[dominant_topic] = []\n",
        "    personas[dominant_topic].append(data3[i])\n",
        "\n",
        "# Print the personas\n",
        "for topic, persona in personas.items():\n",
        "    print(f\"Persona {topic+1}:\")\n",
        "    for text in persona:\n",
        "        print(text)\n",
        "    print('\\n')"
      ],
      "metadata": {
        "colab": {
          "base_uri": "https://localhost:8080/"
        },
        "id": "Xibo5Y920IDl",
        "outputId": "58231b92-5820-49ed-933c-a441c9e44360"
      },
      "execution_count": 20,
      "outputs": [
        {
          "output_type": "stream",
          "name": "stdout",
          "text": [
            "Persona 1:\n",
            "one of the popular approaches for low rank tensor completion is to use the latent trace norm regularization however most existing works in this direction learn sparse combination of tensors in this work we fill this gap by proposing variant of the latent trace norm that helps in learning non sparse combination of tensors we develop dual framework for solving the low rank tensor completion problem we first show novel characterization of the dual solution space with an interesting factorization of the optimal solution overall the optimal solution is shown to lie on cartesian product of riemannian manifolds furthermore we exploit the versatile riemannian optimization framework for proposing computationally efficient trust region algorithm the experiments illustrate the efficacy of the proposed algorithm on several real world datasets across applications\n",
            "nous tentons dans cet article de proposer une thèse cohérente concernant la formation de la notion involution dans le brouillon project de desargues pour cela nous donnons une analyse détaillée des dix premières pages dudit brouillon comprenant les développements de cas particuliers qui aident comprendre intention de desargues nous mettons cette analyse en regard de la lecture qu en fait jean de beaugrand et que on trouve dans les advis charitables the purpose of this article is to propose coherent thesis on how girard desargues arrived at the notion of involution in his brouillon project of to this purpose we give detailed analysis of the ten first pages of the brouillon including developments of particular cases which help to understand the goal of desargues as well as to clarify the links between the notion of involution and that of harmonic division we compare the conclusions of this analysis with the very critical reading jean de beaugrand made of the brouillon project in the advis charitables of\n",
            "ray computed tomography ct using sparse projection views is recent approach to reduce the radiation dose however due to the insufficient projection views an analytic reconstruction approach using the filtered back projection fbp produces severe streaking artifacts recently deep learning approaches using large receptive field neural networks such as net have demonstrated impressive performance for sparse view ct reconstruction however theoretical justification is still lacking inspired by the recent theory of deep convolutional framelets the main goal of this paper is therefore to reveal the limitation of net and propose new multi resolution deep learning schemes in particular we show that the alternative net variants such as dual frame and the tight frame nets satisfy the so called frame condition which make them better for effective recovery of high frequency edges in sparse view ct using extensive experiments with real patient data set we demonstrate that the new network architectures provide better reconstruction performance\n",
            "the weyl semimetal phase is recently discovered topological quantum state of matter characterized by the presence of topologically protected degeneracies near the fermi level these degeneracies are the source of exotic phenomena including the realization of chiral weyl fermions as quasiparticles in the bulk and the formation of fermi arc states on the surfaces here we demonstrate that these two key signatures show distinct evolutions with the bulk band topology by performing angle resolved photoemission spectroscopy supported by first principle calculations on transition metal monophosphides while weyl fermion quasiparticles exist only when the chemical potential is located between two saddle points of the weyl cone features the fermi arc states extend in larger energy scale and are robust across the bulk lifshitz transitions associated with the recombination of two non trivial fermi surfaces enclosing one weyl point into single trivial fermi surface enclosing two weyl points of opposite chirality therefore in some systems g nbp topological fermi arc states are preserved even if weyl fermion quasiparticles are absent in the bulk our findings not only provide insight into the relationship between the exotic physical phenomena and the intrinsic bulk band topology in weyl semimetals but also resolve the apparent puzzle of the different magneto transport properties observed in taas tap and nbp where the fermi arc states are similar\n",
            "sequence of pathological changes takes place in alzheimer disease which can be assessed in vivo using various brain imaging methods currently there is no appropriate statistical model available that can easily integrate multiple imaging modalities being able to utilize the additional information provided from the combined data we applied gaussian graphical models ggms for analyzing the conditional dependency networks of multimodal neuroimaging data and assessed alterations of the network structure in mild cognitive impairment mci and alzheimer dementia ad compared to cognitively healthy controls data from subjects were obtained from the alzheimer disease neuroimaging initiative mean amyloid load av pet glucose metabolism fdg pet and gray matter volume mri was calculated for each brain region separate ggms were estimated using bayesian framework for the combined multimodal data for each diagnostic category graph theoretical statistics were calculated to determine network alterations associated with disease severity network measures clustering coefficient path length and small world coefficient were significantly altered across diagnostic groups with biphasic shape trajectory e increased small world coefficient in early mci intermediate values in late mci and decreased values in ad patients compared to controls in contrast no group differences were found for clustering coefficient and small world coefficient when estimating conditional dependency networks on single imaging modalities ggms provide useful methodology to analyze the conditional dependency networks of multimodal neuroimaging data\n",
            "fragility curves are commonly used in civil engineering to assess the vulnerability of structures to earthquakes the probability of failure associated with prescribed criterion g the maximal inter storey drift of building exceeding certain threshold is represented as function of the intensity of the earthquake ground motion g peak ground acceleration or spectral acceleration the classical approach relies on assuming lognormal shape of the fragility curves it is thus parametric in this paper we introduce two non parametric approaches to establish the fragility curves without employing the above assumption namely binned monte carlo simulation and kernel density estimation as an illustration we compute the fragility curves for three storey steel frame using large number of synthetic ground motions the curves obtained with the non parametric approaches are compared with respective curves based on the lognormal assumption similar comparison is presented for case when limited number of recorded ground motions is available it is found that the accuracy of the lognormal curves depends on the ground motion intensity measure the failure criterion and most importantly on the employed method for estimating the parameters of the lognormal shape\n",
            "we consider continuous time markov chains which display family of wells at the same depth we provide sufficient conditions which entail the convergence of the finite dimensional distributions of the order parameter to the ones of finite state markov chain we also show that the state of the process can be represented as time dependent convex combination of metastable states each of which is supported on one well\n",
            "we construct embedded minimal surfaces which are periodic in mathbb they are new for codimension ge we start with jordan curve of edges of the dimensional cube it bounds plateau minimal disk which schwarz reflection extends to complete minimal surface studying the group of schwarz reflections we can characterize those jordan curves for which the complete surface is embedded for example for exactly five such jordan curves generate embedded surfaces our results apply to surface classes other than minimal as well for instance polygonal surfaces\n",
            "we define family of quantum invariants of closed oriented manifolds using spherical multi fusion categories the state sum nature of this invariant leads directly to dimensional topological quantum field theories text tqft which generalize the turaev viro barrett westbury text tvbw text tqft from spherical fusion categories the invariant is given as state sum over labeled triangulations which is mostly parallel to but richer than the text tvbw approach in that here the labels live not only on simplices but also on simplices it is shown that multi fusion category in general cannot be spherical fusion category in the usual sense thus we introduce the concept of spherical multi fusion category by imposing weakened version of sphericity besides containing the text tvbw theory our construction also includes the recent higher gauge theory text tqft given by kapustin and thorngren which was not known to have categorical origin before\n",
            "we propose sparse neural network architectures that are based on random or structured bipartite graph topologies sparse architectures provide compression of the models learned and speed ups of computations they can also surpass their unstructured or fully connected counterparts as we show even more compact topologies of the so called snn sparse neural network can be achieved with the use of structured graphs of connections between consecutive layers of neurons in this paper we investigate how the accuracy and training speed of the models depend on the topology and sparsity of the neural network previous approaches using sparcity are all based on fully connected neural network models and create sparcity during training phase instead we explicitly define sparse architectures of connections before the training building compact neural network models is coherent with empirical observations showing that there is much redundancy in learned neural network models we show experimentally that the accuracy of the models learned with neural networks depends on expander like properties of the underlying topologies such as the spectral gap and algebraic connectivity rather than the density of the graphs of connections\n",
            "computer vision has made remarkable progress in recent years deep neural network dnn models optimized to identify objects in images exhibit unprecedented task trained accuracy and remarkably some generalization ability new visual problems can now be solved more easily based on previous learning biological vision learned in life and through evolution is also accurate and general purpose is it possible that these different learning regimes converge to similar problem dependent optimal computations we therefore asked whether the human system level computation of visual perception has dnn correlates and considered several anecdotal test cases we found that perceptual sensitivity to image changes has dnn mid computation correlates while sensitivity to segmentation crowding and shape has dnn end computation correlates our results quantify the applicability of using dnn computation to estimate perceptual loss and are consistent with the fascinating theoretical view that properties of human perception are consequence of architecture independent visual learning\n",
            "numerical analysis of heat conduction through the cover plate of heat pipe is carried out to determine the temperature of the working substance average temperature of heating and cooling surfaces heat spread in the transmitter and the heat bypass through the cover plate analysis has been extended for the estimation of heat transfer requirements at the outer surface of the con denser under different heat load conditions using genetic algorithm this paper also presents the estimation of an average heat transfer coefficient for the boiling and condensation of the working substance inside the microgrooves corresponding to known temperature of the heat source the equation of motion of the working fluid in the meniscus of an equilateral triangular groove has been presented from which new term called the minimum surface tension required for avoiding the dry out condition is defined quantitative results showing the effect of thickness of cover plate heat load angle of inclination and viscosity of the working fluid on the different aspects of the heat transfer minimum surface tension required to avoid dry out velocity distribution of the liquid and radius of liquid meniscus inside the micro grooves have been presented and discussed\n",
            "this paper provides short proofs of two fundamental theorems of finite semigroup theory whose previous proofs were significantly longer namely the two sided krohn rhodes decomposition theorem and henckell aperiodic pointlike theorem using new algebraic technique that we call the merge decomposition prototypical application of this technique decomposes semigroup into two sided semidirect product whose components are built from two subsemigroups which together generate and the subsemigroup generated by their setwise product t in this sense we decompose by merging the subsemigroups and more generally our technique merges semigroup homomorphisms from free semigroups\n",
            "nefarious actors on social media and other platforms often spread rumors and falsehoods through images whose metadata g captions have been modified to provide visual substantiation of the rumor falsehood this type of modification is referred to as image repurposing in which often an unmanipulated image is published along with incorrect or manipulated metadata to serve the actor ulterior motives we present the multimodal entity image repurposing meir dataset substantially challenging dataset over that which has been previously available to support research into image repurposing detection the new dataset includes location person and organization manipulations on real world data sourced from flickr we also present novel end to end deep multimodal learning model for assessing the integrity of an image by combining information extracted from the image with related information from knowledge base the proposed method is compared against state of the art techniques on existing datasets as well as meir where it outperforms existing methods across the board with auc improvement up to\n",
            "recent advances in adversarial deep learning dl have opened up largely unexplored surface for malicious attacks jeopardizing the integrity of autonomous dl systems with the wide spread usage of dl in critical and time sensitive applications including unmanned vehicles drones and video surveillance systems online detection of malicious inputs is of utmost importance we propose deepfense the first end to end automated framework that simultaneously enables efficient and safe execution of dl models deepfense formalizes the goal of thwarting adversarial attacks as an optimization problem that minimizes the rarely observed regions in the latent feature space spanned by dl network to solve the aforementioned minimization problem set of complementary but disjoint modular redundancies are trained to validate the legitimacy of the input samples in parallel with the victim dl model deepfense leverages hardware software algorithm co design and customized acceleration to achieve just in time performance in resource constrained settings the proposed countermeasure is unsupervised meaning that no adversarial sample is leveraged to train modular redundancies we further provide an accompanying api to reduce the non recurring engineering cost and ensure automated adaptation to various platforms extensive evaluations on fpgas and gpus demonstrate up to two orders of magnitude performance improvement while enabling online adversarial sample detection\n",
            "users form information trails as they browse the web checkin with geolocation rate items or consume media common problem is to predict what user might do next for the purposes of guidance recommendation or prefetching first order and higher order markov chains have been widely used methods to study such sequences of data first order markov chains are easy to estimate but lack accuracy when history matters higher order markov chains in contrast have too many parameters and suffer from overfitting the training data fitting these parameters with regularization and smoothing only offers mild improvements in this paper we propose the retrospective higher order markov process rhomp as low parameter model for such sequences this model is special case of higher order markov chain where the transitions depend retrospectively on single history state instead of an arbitrary combination of history states there are two immediate computational advantages the number of parameters is linear in the order of the markov chain and the model can be fit to large state spaces furthermore by providing specific structure to the higher order chain rhomps improve the model accuracy by efficiently utilizing history states without risks of overfitting the data we demonstrate how to estimate rhomp from data and we demonstrate the effectiveness of our method on various real application datasets spanning geolocation data review sequences and business locations the rhomp model uniformly outperforms higher order markov chains kneser ney regularization and tensor factorizations in terms of prediction accuracy\n",
            "we analyze two novel randomized variants of the frank wolfe fw or conditional gradient algorithm while classical fw algorithms require solving linear minimization problem over the domain at each iteration the proposed method only requires to solve linear minimization problem over small emph subset of the original domain the first algorithm that we propose is randomized variant of the original fw algorithm and achieves mathcal sublinear convergence rate as in the deterministic counterpart the second algorithm is randomized variant of the away step fw algorithm and again as its deterministic counterpart reaches linear e exponential convergence rate making it the first provably convergent randomized variant of away step fw in both cases while subsampling reduces the convergence rate by constant factor the linear minimization step can be fraction of the cost of that of the deterministic versions especially when the data is streamed we illustrate computational gains of the algorithms on regression problems involving both ell and latent group lasso penalties\n",
            "in this work we investigate the value of uncertainty modeling in super resolution with convolutional neural networks cnns deep learning has shown success in plethora of medical image transformation problems such as super resolution sr and image synthesis however the highly ill posed nature of such problems results in inevitable ambiguity in the learning of networks we propose to account for intrinsic uncertainty through per patch heteroscedastic noise model and for parameter uncertainty through approximate bayesian inference in the form of variational dropout we show that the combined benefits of both lead to the state of the art performance sr of diffusion mr brain images in terms of errors compared to ground truth we further show that the reduced error scores produce tangible benefits in downstream tractography in addition the probabilistic nature of the methods naturally confers mechanism to quantify uncertainty over the super resolved output we demonstrate through experiments on both healthy and pathological brains the potential utility of such an uncertainty measure in the risk assessment of the super resolved images for subsequent clinical use\n",
            "superconductor ferromagnet sf heterostructures are of interest due to numerous phenomena related to the spin dependent interaction of cooper pairs with the magnetization here we address the effects of magnetic insulator on the density of states of superconductor based on recently developed boundary condition for strongly spin dependent interfaces we show that the boundary to magnetic insulator has similar effect like the presence of magnetic impurities in particular we find that the impurity effects of strongly scattering localized spins leading to the formation of shiba bands can be mapped onto the boundary problem\n",
            "we present the first general purpose framework for marginal maximum posteriori estimation of probabilistic program variables by using series of code transformations the evidence of any probabilistic program and therefore of any graphical model can be optimized with respect to an arbitrary subset of its sampled variables to carry out this optimization we develop the first bayesian optimization package to directly exploit the source code of its target leading to innovations in problem independent hyperpriors unbounded optimization and implicit constraint satisfaction delivering significant performance improvements over prominent existing packages we present applications of our method to number of tasks including engineering design and parameter optimization\n",
            "long term load forecasting plays vital role for utilities and planners in terms of grid development and expansion planning an overestimate of long term electricity load will result in substantial wasted investment in the construction of excess power facilities while an underestimate of future load will result in insufficient generation and unmet demand this paper presents first of its kind approach to use multiplicative error model mem in forecasting load for long term horizon mem originates from the structure of autoregressive conditional heteroscedasticity arch model where conditional variance is dynamically parameterized and it multiplicatively interacts with an innovation term of time series historical load data accessed from u regional transmission operator and recession data for years is used in this study the superiority of considering volatility is proven by out of sample forecast results as well as directional accuracy during the great economic recession of to incorporate future volatility backtesting of mem model is performed two performance indicators used to assess the proposed model are mean absolute percentage error for both in sample model fit and out of sample forecasts and directional accuracy\n",
            "many empirical studies document power law behavior in size distributions of economic interest such as cities firms income and wealth one mechanism for generating such behavior combines independent and identically distributed gaussian additive shocks to log size with geometric age distribution we generalize this mechanism by allowing the shocks to be non gaussian but light tailed and dependent upon markov state variable our main results provide sharp bounds on tail probabilities and simple formulas for pareto exponents we present two applications we show that the tails of the wealth distribution in heterogeneous agent dynamic general equilibrium model with idiosyncratic endowment risk decay exponentially unlike models with investment risk where the tails may be paretian and ii we show that random growth model for the population dynamics of japanese prefectures is consistent with the observed pareto exponent but only after allowing for markovian dynamics\n",
            "in topological quantum computing information is encoded in knotted quantum states of topological phases of matter thus being locked into topology to prevent decay topological precision has been confirmed in quantum hall liquids by experiments to an accuracy of and harnessed to stabilize quantum memory in this survey we discuss the conceptual development of this interdisciplinary field at the juncture of mathematics physics and computer science our focus is on computing and physical motivations basic mathematical notions and results open problems and future directions related to and or inspired by topological quantum computing\n",
            "self supervised learning ssl is reliable learning mechanism in which robot enhances its perceptual capabilities typically in ssl trusted primary sensor cue provides supervised training data to secondary sensor cue in this article theoretical analysis is performed on the fusion of the primary and secondary cue in minimal model of ssl proof is provided that determines the specific conditions under which it is favorable to perform fusion in short it is favorable when the prior on the target value is strong or ii the secondary cue is sufficiently accurate the theoretical findings are validated with computational experiments subsequently real world case study is performed to investigate if fusion in ssl is also beneficial when assumptions of the minimal model are not met in particular flying robot learns to map pressure measurements to sonar height measurements and then fuses the two resulting in better height estimation fusion is also beneficial in the opposite case when pressure is the primary cue the analysis and results are encouraging to study ssl fusion also for other robots and sensors\n",
            "deep reinforcement learning on atari games maps pixel directly to actions internally the deep neural network bears the responsibility of both extracting useful information and making decisions based on it aiming at devoting entire deep networks to decision making alone we propose new method for learning policies and compact state representations separately but simultaneously for policy approximation in reinforcement learning state representations are generated by novel algorithm based on vector quantization and sparse coding trained online along with the network and capable of growing its dictionary size over time we also introduce new techniques allowing both the neural network and the evolution strategy to cope with varying dimensions this enables networks of only to neurons to learn to play selection of atari games with performance comparable and occasionally superior to state of the art techniques using evolution strategies on deep networks two orders of magnitude larger\n",
            "heating ventilation and cooling hvac systems are often the most significant contributor to the energy usage and the operational cost of large office buildings therefore to understand the various factors affecting the energy usage and to optimize the operational efficiency of building hvac systems energy analysts and architects often create simulations g energyplus or doe of buildings prior to construction or renovation to determine energy savings and quantify the return on investment roi while useful these simulations usually use static hvac control strategies such as lowering room temperature at night or reactive control based on simulated room occupancy recently advances have been made in hvac control algorithms that predict room occupancy however these algorithms depend on costly sensor installations and the tradeoffs between predictive accuracy energy savings comfort and expenses are not well understood current simulation frameworks do not support easy analysis of these tradeoffs our contribution is simulation framework that can be used to explore this design space by generating objective estimates of the energy savings and occupant comfort for different levels of hvac prediction and control performance we validate our framework on real world occupancy dataset spanning months for rooms in large university office building using the gold standard of energy use modeling and simulation revit and energy plus we compare the energy consumption and occupant comfort in independent simulations that explore our parameter space our results highlight number of potentially useful tradeoffs with respect to energy savings comfort and algorithmic performance among predictive reactive and static schedules for stakeholder of our building\n",
            "identification of patients at high risk for readmission could help reduce morbidity and mortality as well as healthcare costs most of the existing studies on readmission prediction did not compare the contribution of data categories in this study we analyzed relative contribution of variables across admission records corresponding to patients including patient demographics historical hospitalization information discharge disposition diagnoses procedures medications and laboratory test results we established an interpretable readmission prediction model based on logistic regression in scikit learn and added the available variables to the model one by one in order to analyze the influences of individual data categories on readmission prediction accuracy diagnosis related groups statistic increment of and discharge disposition statistic increment of were the strongest contributors to model accuracy additionally we also identified the top ten contributing variables in every data category\n",
            "tropical recurrent sequences are introduced satisfying given vector being tropical counterpart of classical linear recurrent sequences we consider the case when newton polygon of the vector has single bounded edge in this case there are periodic tropical recurrent sequences which are similar to classical linear recurrent sequences question is studied when there exists non periodic tropical recurrent sequence satisfying given vector and partial answers are provided to this question also an algorithm is designed which tests existence of non periodic tropical recurrent sequences satisfying given vector with integer coordinates finally we introduce tropical entropy of vector and provide some bounds on it\n",
            "an interesting approach to analyzing neural networks that has received renewed attention is to examine the equivalent kernel of the neural network this is based on the fact that fully connected feedforward network with one hidden layer certain weight distribution an activation function and an infinite number of neurons can be viewed as mapping into hilbert space we derive the equivalent kernels of mlps with relu or leaky relu activations for all rotationally invariant weight distributions generalizing previous result that required gaussian weight distributions additionally the central limit theorem is used to show that for certain activation functions kernels corresponding to layers with weight distributions having mean and finite absolute third moment are asymptotically universal and are well approximated by the kernel corresponding to layers with spherical gaussian weights in deep networks as depth increases the equivalent kernel approaches pathological fixed point which can be used to argue why training randomly initialized networks can be difficult our results also have implications for weight initialization\n",
            "kitaev quantum spin liquid is topological magnetic quantum state characterized by majorana fermions of fractionalized spin excitations which are identical to their own antiparticles here we demonstrate emergence of majorana fermions thermally fractionalized in the kitaev honeycomb spin lattice alpha rucl the specific heat data unveil the characteristic two stage release of magnetic entropy involving localized and itinerant majorana fermions the inelastic neutron scattering results further corroborate these two distinct fermions by exhibiting quasielastic excitations at low energies around the brillouin zone center and shaped magnetic continuum at high energies which are evident for the ferromagnetic kitaev model our results provide an opportunity to build unified conceptual framework of fractionalized excitations applicable also for the quantum hall states superconductors and frustrated magnets\n",
            "dependently typed languages such as coq are used to specify and verify the full functional correctness of source programs type preserving compilation can be used to preserve these specifications and proofs of correctness through compilation into the generated target language programs unfortunately type preserving compilation of dependent types is hard in essence the problem is that dependent type systems are designed around high level compositional abstractions to decide type checking but compilation interferes with the type system rules for reasoning about run time terms we develop type preserving closure conversion translation from the calculus of constructions cc with strong dependent pairs sigma types subset of the core language of coq to type safe dependently typed compiler intermediate language named cc cc the central challenge in this work is how to translate the source type system rules for reasoning about functions into target type system rules for reasoning about closures to justify these rules we prove soundness of cc cc by giving model in cc in addition to type preservation we prove correctness of separate compilation\n",
            "habitable exoplanet is world that can maintain stable liquid water on its surface techniques and approaches to characterizing such worlds are essential as performing census of earth like planets that may or may not have life will inform our understanding of how frequently life originates and is sustained on worlds other than our own observational techniques like high contrast imaging and transit spectroscopy can reveal key indicators of habitability for exoplanets both polarization measurements and specular reflectance from oceans also known as glint can provide direct evidence for surface liquid water while constraining surface pressure and temperature from moderate resolution spectra can indicate liquid water stability indirect evidence for habitability can come from variety of sources including observations of variability due to weather surface mapping studies and or measurements of water vapor or cloud profiles that indicate condensation near surface approaches to making the types of measurements that indicate habitability are diverse and have different considerations for the required wavelength range spectral resolution maximum noise levels stellar host temperature and observing geometry\n",
            "in this paper we evaluate the accuracy of deep learning approaches on geospatial vector geometry classification tasks the purpose of this evaluation is to investigate the ability of deep learning models to learn from geometry coordinates directly previous machine learning research applied to geospatial polygon data did not use geometries directly but derived properties thereof these are produced by way of extracting geometry properties such as fourier descriptors instead our introduced deep neural net architectures are able to learn on sequences of coordinates mapped directly from polygons in three classification tasks we show that the deep learning architectures are competitive with common learning algorithms that require extracted features\n",
            "one of the most basic skills robot should possess is predicting the effect of physical interactions with objects in the environment this enables optimal action selection to reach certain goal state traditionally dynamics are approximated by physics based analytical models these models rely on specific state representations that may be hard to obtain from raw sensory data especially if no knowledge of the object shape is assumed more recently we have seen learning approaches that can predict the effect of complex physical interactions directly from sensory input it is however an open question how far these models generalize beyond their training data in this work we investigate the advantages and limitations of neural network based learning approaches for predicting the effects of actions based on sensory input and show how analytical and learned models can be combined to leverage the best of both worlds as physical interaction task we use planar pushing for which there exists well known analytical model and large real world dataset we propose to use convolutional neural network to convert raw depth images or organized point clouds into suitable representation for the analytical model and compare this approach to using neural networks for both perception and prediction systematic evaluation of the proposed approach on very large real world dataset shows two main advantages of the hybrid architecture compared to pure neural network it significantly reduces required training data and ii improves generalization to novel physical interaction\n",
            "riemannian geometry is particular case of hamiltonian mechanics the orbits of the hamiltonian frac ij p are the geodesics given symplectic manifold gamma omega hamiltonian gamma to mathbb and lagrangian sub manifold subset gamma we find generalization of the notion of curvature the particular case frac ij left right left right phi of particle moving in gravitational electromagnetic and scalar fields is studied in more detail the integral of the generalized ricci tensor r the boltzmann weight reduces to the action principle int left frac ik jl kl ij ij partial phi partial phi right phi sqrt d q for the scalar vector and tensor fields\n",
            "we investigate how neural network can learn perception actions loops for navigation in unknown environments specifically we consider how to learn to navigate in environments populated with cul de sacs that represent convex local minima that the robot could fall into instead of finding set of feasible actions that take it to the goal traditional methods rely on maintaining global map to solve the problem of over coming long cul de sac however due to errors induced from local and global drift it is highly challenging to maintain such map for long periods of time one way to mitigate this problem is by using learning techniques that do not rely on hand engineered map representations and instead output appropriate control policies directly from their sensory input we first demonstrate that such problem cannot be solved directly by deep reinforcement learning due to the sparse reward structure of the environment further we demonstrate that deep supervised learning also cannot be used directly to solve this problem we then investigate network models that offer combination of reinforcement learning and supervised learning and highlight the significance of adding fully differentiable memory units to such networks we evaluate our networks on their ability to generalize to new environments and show that adding memory to such networks offers huge jumps in performance\n",
            "in this paper we present combinatorial approach to the opposite variable bi free partial transforms where the opposite multiplication is used on the right in addition extensions of this partial transforms to the conditional bi free and operator valued bi free settings are discussed\n",
            "new short orbit spectrometer sos has been constructed and installed within the experimental facility of the collaboration at mainz microtron mami with the goal to detect low energy pions it is equipped with browne buechner magnet and detector system consisting of two helium ethane based drift chambers and scintillator telescope made of five layers the detector system allows detection of pions in the momentum range of mev which corresponds to mev kinetic energy the spectrometer can be placed at distance range of cm from the target center two collimators are available for the measurements one having msr aperture and the other having msr aperture the short orbit spectrometer has been successfully calibrated and used in coincidence measurements together with the standard magnetic spectrometers of the collaboration\n",
            "capacitive deionization cdi is fast emerging water desalination technology in which small cell voltage of across porous carbon electrodes removes salt from feedwaters via electrosorption in flow through electrode fte cdi cell architecture feedwater is pumped through macropores or laser perforated channels in porous electrodes enabling highly compact cells with parallel flow and electric field as well as rapid salt removal we here present one dimensional model describing water desalination by fte cdi and comparison to data from custom built experimental cell the model employs simple cell boundary conditions derived via scaling arguments we show good model to data fits with reasonable values for fitting parameters such as the stern layer capacitance micropore volume and attraction energy thus we demonstrate that from an engineering modeling perspective an fte cdi cell may be described with simpler one dimensional models unlike more typical flow between electrodes architecture where models are required\n",
            "we present bilateral teleoperation system for task learning and robot motion generation our system includes bilateral teleoperation platform and deep learning software the deep learning software refers to human demonstration using the bilateral teleoperation platform to collect visual images and robotic encoder values it leverages the datasets of images and robotic encoder information to learn about the inter modal correspondence between visual images and robot motion in detail the deep learning software uses combination of deep convolutional auto encoders dcae over image regions and recurrent neural network with long short term memory units lstm rnn over robot motor angles to learn motion taught be human teleoperation the learnt models are used to predict new motion trajectories for similar tasks experimental results show that our system has the adaptivity to generate motion for similar scooping tasks detailed analysis is performed based on failure cases of the experimental results some insights about the cans and cannots of the system are summarized\n",
            "we propose two multimodal deep learning architectures that allow for cross modal dataflow xflow between the feature extractors thereby extracting more interpretable features and obtaining better representation than through unimodal learning for the same amount of training data these models can usefully exploit correlations between audio and visual data which have different dimensionality and are therefore nontrivially exchangeable our work improves on existing multimodal deep learning metholodogies in two essential ways it presents novel method for performing cross modality before features are learned from individual modalities and extends the previously proposed cross connections which only transfer information between streams that process compatible data both cross modal architectures outperformed their baselines by up to when evaluated on the avletters dataset\n",
            "educational research has shown that narratives are useful tools that can help young students make sense of scientific phenomena based on previous research argue that narratives can also become tools for high school students to make sense of concepts such as the electric field in this paper examine high school students visual and oral narratives in which they describe the interaction among electric charges as if they were characters of cartoon series the study investigates given the prompt to produce narratives for electrostatic phenomena during classroom activity prior to receiving formal instruction what ideas of electrostatics do students attend to in their narratives what role do students narratives play in their understanding of electrostatics the participants were group of high school students engaged in an open ended classroom activity prior to receiving formal instruction about electrostatics during the activity the group was asked to draw comic strips for electric charges in addition to individual work students shared their work within small groups as well as with the whole group post activity six students from small group were interviewed individually about their work in this paper present two cases in which students produced narratives to express their ideas about electrostatics in different ways in each case present student work for the comic strip activity visual narratives their oral descriptions of their work oral narratives during the interview and or to their peers during class and the their ideas of the electric interactions expressed through their narratives\n",
            "hospital acquired infections hai are infections acquired within the hospital from healthcare workers patients or from the environment but which have no connection to the initial reason for the patient hospital admission hai are serious world wide problem leading to an increase in mortality rates duration of hospitalisation as well as significant economic burden on hospitals although clear preventive guidelines exist studies show that compliance to them is frequently poor this paper details the software perspective for an innovative business process software based cyber physical system that will be implemented as part of european union funded research project the system is composed of network of sensors mounted in different sites around the hospital series of wearables used by the healthcare workers and server side workflow engine for better understanding we describe the system through the lens of single simple clinical workflow that is responsible for significant portion of all hospital infections the goal is that when completed the system will be configurable in the sense of facilitating the creation and automated monitoring of those clinical workflows that when combined account for over of hospital infections\n",
            "we advocate the use of curated comprehensive benchmark suites of machine learning datasets backed by standardized openml based interfaces and complementary software toolkits written in python java and major distinguishing features of openml benchmark suites are ease of use through standardized data formats apis and existing client libraries machine readable meta information regarding the contents of the suite and online sharing of results enabling large scale comparisons as first such suite we propose the openml machine learning benchmark suite of classification datasets carefully curated from the thousands of datasets available on openml org\n",
            "deconstruction of the theme of the fqxi essay contest is already an interesting exercise in its own right teleology is rarely useful in physics the only known mainstream physics example black hole event horizons has very mixed score card so the goals and aims and intentions alluded to in the theme of the fqxi essay contest are already somewhat pushing the limits furthermore aims and intentions certainly carries the implication of consciousness and opens up whole can of worms related to the mind body problem as for mindless mathematical laws that allusion is certainly in tension with at least some versions of the mathematical universe hypothesis finally wandering towards goal again carries the implication of consciousness with all its attendant problems in this essay will argue simply because we do not yet have any really good mathematical or physical theory of consciousness that the theme of this essay contest is premature and unlikely to lead to any resolution that would be widely accepted in the mathematics or physics communities\n",
            "the atacama large millimetre submillimetre array alma makes use of water vapour radiometers wvr which monitor the atmospheric water vapour line at ghz along the line of sight above each antenna to correct for phase delays introduced by the wet component of the troposphere the application of wvr derived phase corrections improve the image quality and facilitate successful observations in weather conditions that were classically marginal or poor we present work to indicate that scaling factor applied to the wvr solutions can act to further improve the phase stability and image quality of alma data we find reduced phase noise statistics for out of datasets from the long baseline science verification campaign after wvr scaling factor is applied the improvement of phase noise translates to an expected coherence improvement in datasets when imaging the bandpass source we find of the datasets show an improvement in the signal to noise ratio n between few to percent there are datasets where the n of the science image is improved by between and and above the higher frequencies studied band and band are those most improved specifically datasets with low precipitable water vapour pwv mm where the dominance of the wet component is reduced although these improvements are not profound phase stability improvements via the wvr scaling factor come into play for the higher frequency ghz and long baseline km observations these inherently have poorer phase stability and are taken in low pwv mm conditions for which we find the scaling to be most effective promising explanation for the scaling factor is the mixing of dry and wet air components although other origins are discussed we have produced python code to allow alma users to undertake wvr scaling tests and make improvements to their data\n",
            "luke lee is tan chin tuan centennial professor at the national university of singapore in this contribution he describes the power of optofluidics as research tool and reviews new insights within the areas of single cell analysis microphysiological analysis and integrated systems\n",
            "we study the scale and tidy subgroups of an endomorphism of totally disconnected locally compact group using geometric framework this leads to new interpretations of tidy subgroups and the scale function foremost we obtain geometric tidying procedure which applies to endomorphisms as well as geometric proof of the fact that tidiness is equivalent to being minimizing for given endomorphism our framework also yields an endomorphism version of the baumgartner willis tree representation theorem we conclude with construction of new endomorphisms of totally disconnected locally compact groups from old via hnn extensions\n",
            "we study the nonparametric maximum likelihood estimator npmle for estimating gaussian location mixture densities in dimensions from independent observations unlike usual likelihood based methods for fitting mixtures npmles are based on convex optimization we prove finite sample results on the hellinger accuracy of every npmle our results imply in particular that every npmle achieves near parametric risk up to logarithmic multiplicative factors when the true density is discrete gaussian mixture without any prior information on the number of mixture components npmles can naturally be used to yield empirical bayes estimates of the oracle bayes estimator in the gaussian denoising problem we prove bounds for the accuracy of the empirical bayes estimate as an approximation to the oracle bayes estimator here our results imply that the empirical bayes estimator performs at nearly the optimal level up to logarithmic multiplicative factors for denoising in clustering situations without any prior knowledge of the number of clusters\n",
            "in this short note we present novel method for computing exact lower and upper bounds of eigenvalues of symmetric tridiagonal interval matrix compared to the known methods our approach is fast simple to present and to implement and avoids any assumptions our construction explicitly yields those matrices for which particular lower and upper bounds are attained\n",
            "visualizing complex network is computationally intensive process and depends heavily on the number of components in the network one way to solve this problem is not to render the network in real time pre render content using tiles precut is process to convert any complex network into pre rendered network tiles are generated from pre rendered images at different zoom levels and navigating the network simply becomes delivering relevant tiles precut is exemplified by performing large scale compound target relationship analyses matched molecular pair mmp networks were created using compounds and the target class description found in the chembl database to visualize mmp networks the mmp network viewer has been implemented in combine and as web application hosted at this http url\n",
            "we study the two dimensional topology of the galactic distribution when projected onto two dimensional spherical shells using the latest horizon run simulation data we construct the genus of the two dimensional field and consider how this statistic is affected by late time nonlinear effects principally gravitational collapse and redshift space distortion rsd we also consider systematic and numerical artifacts such as shot noise galaxy bias and finite pixel effects we model the systematics using hermite polynomial expansion and perform comprehensive analysis of known effects on the two dimensional genus with view toward using the statistic for cosmological parameter estimation we find that the finite pixel effect is dominated by an amplitude drop and can be made less than by adopting pixels smaller than of the angular smoothing length nonlinear gravitational evolution introduces time dependent coefficients of the zeroth first and second hermite polynomials but the genus amplitude changes by less than between and for smoothing scales rm rm mpc non zero terms are measured up to third order in the hermite polynomial expansion when studying rsd differences in shapes of the genus curves in real and redshift space are small when we adopt thick redshift shells but the amplitude change remains significant sim cal effect the combined effects of galaxy biasing and shot noise produce systematic effects up to the second hermite polynomial it is shown that when sampling the use of galaxy mass cuts significantly reduces the effect of shot noise relative to random sampling\n",
            "the new index of the author popularity estimation is represented in the paper the index is calculated on the basis of wikipedia encyclopedia analysis wikipedia index wi unlike the conventional existed citation indices the suggested mark allows to evaluate not only the popularity of the author as it can be done by means of calculating the general citation number or by the hirsch index which is often used to measure the author research rate the index gives an opportunity to estimate the author popularity his her influence within the sought after area knowledge area in the internet in the wikipedia the suggested index is supposed to be calculated in frames of the subject domain and it on the one hand avoids the mistaken computation of the homonyms and on the other hand provides the entirety of the subject area there are proposed algorithms and the technique of the wikipedia index calculation through the network encyclopedia sounding the exemplified calculations of the index for the prominent researchers and also the methods of the information networks formation models of the subject domains by the automatic monitoring and networks information reference resources analysis the considered in the paper notion network corresponds the terms heads of the wikipedia articles\n",
            "our goal is to find classes of convolution semigroups on lie groups that give rise to interesting processes in symmetric spaces k the bi invariant convolution semigroups are well studied example an appealing direction for the next step is to generalise to right invariant convolution semigroups but recent work of liao has shown that these are in one to one correspondence with bi invariant convolution semigroups we investigate weaker notion of right invariance but show that this is in fact the same as the usual notion another possible approach is to use generalised notions of negative definite functions but this also leads to nothing new we finally find an interesting class of convolution semigroups that are obtained by making use of the cartan decomposition of semisimple lie group and the solution of certain stochastic differential equations examples suggest that these are well suited for generating random motion along geodesics in symmetric spaces\n",
            "we prove the lefschetz duality for intersection co homology in the framework of partial pesudomanifolds we work with general perversities and without restriction on the coefficient ring\n",
            "all possible removals of nodes from networks of size are performed in order to find the optimal set of nodes which fragments the original network into the smallest largest connected component the resulting attacks are ordered according to the size of the largest connected component and compared with the state of the art methods of network attacks we chose attacks of size on relative small networks of size because the number of all possible attacks choose approx is at the verge of the possible to compute with the available standard computers besides we applied the procedure in series of networks with controlled and varied modularity comparing the resulting statistics with the effect of removing the same amount of vertices according to the known most efficient disruption strategies e high betweenness adaptive attack hba collective index attack ci and modular based attack mba results show that modularity has an inverse relation with robustness with c approx being the critical value for modularities lower than c all heuristic method gives mostly the same results than with random attacks while for bigger networks are less robust and highly vulnerable to malicious attacks\n",
            "in this paper we study stochastic non convex optimization with non convex random functions recent studies on non convex optimization revolve around establishing second order convergence e converging to nearly second order optimal stationary points however existing results on stochastic non convex optimization are limited especially with high probability second order convergence we propose novel updating step named ncg by leveraging stochastic gradient and noisy negative curvature of stochastic hessian where the stochastic gradient and hessian are based on proper mini batch of random functions building on this step we develop two algorithms and establish their high probability second order convergence to the best of our knowledge the proposed stochastic algorithms are the first with second order convergence in it high probability and time complexity that is it almost linear in the problem dimensionality\n",
            "one advantage of decision tree based methods like random forests is their ability to natively handle categorical predictors without having to first transform them g by using feature engineering techniques however in this paper we show how this capability can lead to an inherent absent levels problem for decision tree based methods that has never been thoroughly discussed and whose consequences have never been carefully explored this problem occurs whenever there is an indeterminacy over how to handle an observation that has reached categorical split which was determined when the observation in question level was absent during training although these incidents may appear to be innocuous by using leo breiman and adele cutler random forests fortran code and the randomforest package liaw and wiener as motivating case studies we examine how overlooking the absent levels problem can systematically bias model furthermore by using three real data examples we illustrate how absent levels can dramatically alter model performance in practice and we empirically demonstrate how some simple heuristics can be used to help mitigate the effects of the absent levels problem until more robust theoretical solution is found\n",
            "for decades conventional computers based on the von neumann architecture have performed computation by repeatedly transferring data between their processing and their memory units which are physically separated as computation becomes increasingly data centric and as the scalability limits in terms of performance and power are being reached alternative computing paradigms are searched for in which computation and storage are collocated fascinating new approach is that of computational memory where the physics of nanoscale memory devices are used to perform certain computational tasks within the memory unit in non von neumann manner here we present large scale experimental demonstration using one million phase change memory devices organized to perform high level computational primitive by exploiting the crystallization dynamics also presented is an application of such computational memory to process real world data sets the results show that this co existence of computation and storage at the nanometer scale could be the enabler for new ultra dense low power and massively parallel computing systems\n",
            "during the ionization of atoms irradiated by linearly polarized intense laser fields we find for the first time that the transverse momentum distribution of photoelectrons can be well fitted by squared zeroth order bessel function because of the quantum interference effect of glory rescattering the characteristic of the bessel function is determined by the common angular momentum of bunch of semiclassical paths termed as glory trajectories which are launched with different nonzero initial transverse momenta distributed on specific circle in the momentum plane and finally deflected to the same asymptotic momentum which is along the polarization direction through post tunneling rescattering glory rescattering theory grt based on the semiclassical path integral formalism is developed to address this effect quantitatively our theory can resolve the long standing discrepancies between existing theories and experiments on the fringe location predict the sudden transition of the fringe structure in holographic patterns and shed light on the quantum interference aspects of low energy structures in strong field atomic ionization\n",
            "\n",
            "\n",
            "Persona 2:\n",
            "singular or hermann foliation on smooth manifold can be seen as subsheaf of the sheaf mathfrak of vector fields on we show that if this singular foliation admits resolution in the sense of sheaves consisting of sections of graded vector bundle of finite type then one can lift the lie bracket of vector fields to lie infty algebroid structure on this resolution that we call universal lie infty algebroid associated to the foliation the name is justified because it is isomorphic up to homotopy to any other lie infty algebroid structure built on any other resolution of the given singular foliation\n",
            "this work bridges the technical concepts underlying distributed computing and blockchain technologies with their profound socioeconomic and sociopolitical implications particularly on academic research and the healthcare industry several examples from academia industry and healthcare are explored throughout this paper the limiting factor in contemporary life sciences research is often funding for example to purchase expensive laboratory equipment and materials to hire skilled researchers and technicians and to acquire and disseminate data through established academic channels in the case of the s healthcare system hospitals generate massive amounts of data only small minority of which is utilized to inform current and future medical practice similarly corporations too expend large amounts of money to collect secure and transmit data from one centralized source to another in all three scenarios data moves under the traditional paradigm of centralization in which data is hosted and curated by individuals and organizations and of benefit to only small subset of people\n",
            "we report the discovery of three small transiting planets orbiting gj bright nearby late type dwarf star gj hosts pm rm oplus super earth on day period rm oplus super earth on day period and pm rm oplus super earth on day period the radii of the planets transiting gj span the transition between predominantly rocky and gaseous planets and gj and fall in or close to the known gap in the radius distribution of small planets between these populations at distance of parsecs gj is the closest exoplanet host discovered by to date making these planets well suited for atmospheric studies with the upcoming james webb space telescope the gj system provides valuable opportunity to characterize interior structure and atmospheric properties of coeval planets spanning the rocky to gaseous transition\n",
            "in this paper we prove mean value formula for bounded subharmonic hermitian matrix valued function on complete riemannian manifold with nonnegative ricci curvature as its application we obtain liouville type theorem for the complex monge ampère equation on product manifolds\n",
            "def vecc boldsymbol we design polynomial time algorithm that for any weighted undirected graph vecc and sufficiently large delta partitions into subsets ldots h for some geq such that bullet at most delta fraction of the weights are between clusters e e cup e i lesssim frac e delta bullet the effective resistance diameter of each of the induced subgraphs v is at most delta times the average weighted degree e max in i mathsf reff v lesssim delta cdot frac e quad text for all ldots in particular it is possible to remove one percent of weight of edges of any given graph such that each of the resulting connected components has effective resistance diameter at most the inverse of the average weighted degree our proof is based on new connection between effective resistance and low conductance sets we show that if the effective resistance between two vertices and is large then there must be low conductance cut separating from this implies that very mildly expanding graphs have constant effective resistance diameter we believe that this connection could be of independent interest in algorithm design\n",
            "we consider the problem of isotonic regression where the underlying signal is assumed to satisfy monotonicity constraint that is lies in the cone in mathbb leq dots leq n we study the isotonic projection operator projection to this cone and find necessary and sufficient condition characterizing all norms with respect to which this projection is contractive this enables simple and non asymptotic analysis of the convergence properties of isotonic regression yielding uniform confidence bands that adapt to the local lipschitz properties of the signal\n",
            "in this paper we consider the problem of identifying the type local minimizer maximizer or saddle point of given isolated real critical point which is degenerate of multivariate polynomial function to this end we introduce the definition of faithful radius of by means of the curve of tangency of we show that the type of can be determined by the global extrema of over the euclidean ball centered at with faithful radius we propose algorithms to compute faithful radius of and determine its type\n",
            "we explore whether useful temporal neural generative models can be learned from sequential data without back propagation through time we investigate the viability of more neurocognitively grounded approach in the context of unsupervised generative modeling of sequences specifically we build on the concept of predictive coding which has gained influence in cognitive science in neural framework to do so we develop novel architecture the temporal neural coding network and its learning algorithm discrepancy reduction the underlying directed generative model is fully recurrent meaning that it employs structural feedback connections and temporal feedback connections yielding information propagation cycles that create local learning signals this facilitates unified bottom up and top down approach for information transfer inside the architecture our proposed algorithm shows promise on the bouncing balls generative modeling problem further experiments could be conducted to explore the strengths and weaknesses of our approach\n",
            "identifying the mechanism by which high energy lyman continuum lyc photons escaped from early galaxies is one of the most pressing questions in cosmic evolution haro is the best known local lyc leaking galaxy providing an important opportunity to test our understanding of lyc escape the observed lyc emission in this galaxy presumably originates from one of the three bright photoionizing knots known as and it is known that knot has strong ly alpha emission and knot hosts an unusually bright ultraluminous ray source which may be low luminosity agn to clarify the lyc source we carry out ionization parameter mapping ipm by obtaining narrow band imaging from the hubble space telescope wfc and acs cameras to construct spatially resolved ratio maps of oiii oii emission from the galaxy ipm traces the ionization structure of the interstellar medium and allows us to identify optically thin regions to optimize the continuum subtraction we introduce new method for determining the best continuum scale factor derived from the mode of the continuum subtracted image flux distribution we find no conclusive evidence of lyc escape from knots or but instead we identify high ionization region extending over at least kpc from knot knot shows evidence of an extremely young age lesssim myr perhaps containing very massive stars odot it is weak in ly alpha so if it is confirmed as the lyc source our results imply that lyc emission may be independent of ly alpha emission\n",
            "any generic closed curve in the plane can be transformed into simple closed curve by finite sequence of local transformations called homotopy moves we prove that simplifying planar closed curve with self crossings requires theta homotopy moves in the worst case our algorithm improves the best previous upper bound n which is already implicit in the classical work of steinitz the matching lower bound follows from the construction of closed curves with large defect topological invariant of generic closed curves introduced by aicardi and arnold our lower bound also implies that omega facial electrical transformations are required to reduce any plane graph with treewidth omega sqrt to single vertex matching known upper bounds for rectangular and cylindrical grid graphs more generally we prove that transforming one immersion of circles with at most self crossings into another requires theta nk homotopy moves in the worst case finally we prove that transforming one noncontractible closed curve to another on any orientable surface requires omega homotopy moves in the worst case this lower bound is tight if the curve is homotopic to simple closed curve\n",
            "consider channel with given input distribution our aim is to degrade it to channel with at most output letters one such degradation method is the so called greedy merge algorithm we derive an upper bound on the reduction in mutual information between input and output for fixed input alphabet size and variable the upper bound is within constant factor of an algorithm independent lower bound thus we establish that greedy merge is optimal in the power law sense\n",
            "let and be two distinct rays emanating from the origin and let mathcal be the family of all functions holomorphic in the unit disk mathbb for which all zeros lie on while all points lie on it is shown that mathcal is normal in mathbb backslash the case where is the positive real axis and is the negative real axis is studied in more detail\n",
            "the distance standard deviation which arises in distance correlation analysis of multivariate data is studied as measure of spread new representations for the distance standard deviation are obtained in terms of gini mean difference and in terms of the moments of spacings of order statistics inequalities for the distance variance are derived proving that the distance standard deviation is bounded above by the classical standard deviation and by gini mean difference further it is shown that the distance standard deviation satisfies the axiomatic properties of measure of spread explicit closed form expressions for the distance variance are obtained for broad class of parametric distributions the asymptotic distribution of the sample distance variance is derived\n",
            "in this paper we give complete characterization of leavitt path algebras which are graded sigma rings that is rings over which direct sum of arbitrary copies of any graded simple module is graded injective specifically we show that leavitt path algebra over an arbitrary graph is graded sigma ring if and only if it is subdirect product of matrix rings of arbitrary size but with finitely many non zero entries over or x with appropriate matrix gradings we also obtain graphical characterization of such graded sigma ring when the graph is finite we show that is graded sigma ring longleftrightarrow is graded directly finite longleftrightarrow has bounded index of nilpotence longleftrightarrow is graded semi simple examples show that the equivalence of these properties in the preceding statement no longer holds when the graph is infinite following this we also characterize leavitt path algebras which are non graded sigma rings graded rings which are graded directly finite are explored and it is shown that if leavitt path algebra is graded sigma ring then is always graded directly finite examples show the subtle differences between graded and non graded directly finite rings leavitt path algebras which are graded directly finite are shown to be directed unions of graded semisimple rings using this we give an alternative proof of theorem of vaš cite on directly finite leavitt path algebras\n",
            "we derive the mean squared error convergence rates of kernel density based plug in estimators of mutual information measures between two multidimensional random variables mathbf and mathbf for two cases mathbf and mathbf are both continuous mathbf is continuous and mathbf is discrete using the derived rates we propose an ensemble estimator of these information measures for the second case by taking weighted sum of the plug in estimators with varied bandwidths the resulting ensemble estimator achieves the parametric convergence rate when the conditional densities of the continuous variables are sufficiently smooth to the best of our knowledge this is the first nonparametric mutual information estimator known to achieve the parametric convergence rate for this case which frequently arises in applications g variable selection in classification the estimator is simple to implement as it uses the solution to an offline convex optimization problem and simple plug in estimators central limit theorem is also derived for the ensemble estimator ensemble estimators that achieve the parametric rate are also derived for the first case mathbf and mathbf are both continuous and another case mathbf and mathbf may have any mixture of discrete and continuous components\n",
            "widespread use of social media has led to the generation of substantial amounts of information about individuals including health related information social media provides the opportunity to study health related information about selected population groups who may be of interest for particular study in this paper we explore the possibility of utilizing social media to perform targeted data collection and analysis from particular population group pregnant women we hypothesize that we can use social media to identify cohorts of pregnant women and follow them over time to analyze crucial health related information to identify potentially pregnant women we employ simple rule based searches that attempt to detect pregnancy announcements with moderate precision to further filter out false positives and noise we employ supervised classifier using small number of hand annotated data we then collect their posts over time to create longitudinal health timelines and attempt to divide the timelines into different pregnancy trimesters finally we assess the usefulness of the timelines by performing preliminary analysis to estimate drug intake patterns of our cohort at different trimesters our rule based cohort identification technique collected users over thirty months from twitter our pregnancy announcement classification technique achieved an measure of for the pregnancy class resulting in user timelines analysis of the timelines revealed that pertinent health related information such as drug intake and adverse reactions can be mined from the data our approach to using user timelines in this fashion has produced very encouraging results and can be employed for other important tasks where cohorts for which health related information may not be available from other sources are required to be followed over time to derive population based estimates\n",
            "the vortex method is common numerical and theoretical approach used to implement the motion of an ideal flow in which the vorticity is approximated by sum of point vortices so that the euler equations read as system of ordinary differential equations such method is well justified in the full plane thanks to the explicit representation formulas of biot and savart in an exterior domain we also replace the impermeable boundary by collection of point vortices generating the circulation around the obstacle the density of these point vortices is chosen in order that the flow remains tangent at midpoints between adjacent vortices in this work we provide rigorous justification for this method in exterior domains one of the main mathematical difficulties being that the biot savart kernel defines singular integral operator when restricted to curve for simplicity and clarity we only treat the case of the unit disk in the plane approximated by uniformly distributed mesh of point vortices the complete and general version of our work is available in arxiv\n",
            "let be an associative ring with unit and denote by rm mbox proj the homotopy category of complexes of projective left modules neeman proved the theorem that rm mbox proj is aleph compactly generated with the category rm mbox proj of left bounded complexes of finitely generated projective modules providing an essentially small class of such generators another proof of neeman theorem is explained using recent ideas of christensen and holm and emmanouil the strategy of the proof is to show that every complex in rm mbox proj vanishes in the bousfield localization rm mbox flat langle rm mbox proj rangle\n",
            "for an arbitrary finite family of semi algebraic definable functions we consider the corresponding inequality constraint set and we study qualification conditions for perturbations of this set in particular we prove that all positive diagonal perturbations save perhaps finite number of them ensure that any point within the feasible set satisfies mangasarian fromovitz constraint qualification using the milnor thom theorem we provide bound for the number of singular perturbations when the constraints are polynomial functions examples show that the order of magnitude of our exponential bound is relevant our perturbation approach provides simple protocol to build sequences of regular problems approximating an arbitrary semi algebraic definable problem applications to sequential quadratic programming methods and sum of squares relaxation are provided\n",
            "many giant exoplanets are found near their roche limit and in mildly eccentric orbits in this study we examine the fate of such planets through roche lobe overflow as function of the physical properties of the binary components including the eccentricity and the asynchronicity of the rotating planet we use direct three body integrator to compute the trajectories of the lost mass in the ballistic limit and investigate the possible outcomes we find three different outcomes for the mass transferred through the lagrangian point self accretion by the planet ii direct impact on the stellar surface iii disk formation around the star we explore the parameter space of the three different regimes and find that at low eccentricities lesssim mass overflow leads to disk formation for most systems while for higher eccentricities or retrograde orbits self accretion is the only possible outcome we conclude that the assumption often made in previous work that when planet overflows its roche lobe it is quickly disrupted and accreted by the star is not always valid\n",
            "in this article we study orbifold constructions associated with the leech lattice vertex operator algebra as an application we prove that the structure of strongly regular holomorphic vertex operator algebra of central charge is uniquely determined by its weight one lie algebra if the lie algebra has the type or by using the reverse orbifold construction our result also provides alternative constructions of these vertex operator algebras except for the case from the leech lattice vertex operator algebra\n",
            "in this paper we study the mu ordinary locus of shimura variety with parahoric level structure under the axioms in cite hr we show that mu ordinary locus is union of some maximal ekedahl kottwitz oort rapoport strata introduced in cite hr and we give criteria on the density of the mu ordinary locus\n",
            "charts are an excellent way to convey patterns and trends in data but they do not facilitate further modeling of the data or close inspection of individual data points we present fully automated system for extracting the numerical values of data points from images of scatter plots we use deep learning techniques to identify the key components of the chart and optical character recognition together with robust regression to map from pixels to the coordinate system of the chart we focus on scatter plots with linear scales which already have several interesting challenges previous work has done fully automatic extraction for other types of charts but to our knowledge this is the first approach that is fully automatic for scatter plots our method performs well achieving successful data extraction on of the plots in our test set\n",
            "we consider modification to the standard cosmological history consisting of introducing new species phi whose energy density red shifts with the scale factor like rho phi propto for such red shift is faster than radiation hence the new species dominates the energy budget of the universe at early times while it is completely negligible at late times if equality with the radiation energy density is achieved at low enough temperatures dark matter can be produced as thermal relic during the new cosmological phase dark matter freeze out then occurs at higher temperatures compared to the standard case implying that reproducing the observed abundance requires significantly larger annihilation rates here we point out completely new phenomenon which we refer to as textit relentless dark matter for large enough unlike the standard case where annihilation ends shortly after the departure from thermal equilibrium dark matter particles keep annihilating long after leaving chemical equilibrium with significant depletion of the final relic abundance relentless annihilation occurs for geq and geq for wave and wave annihilation respectively and it thus occurs in well motivated scenarios such as quintessence with kination phase we discuss few microscopic realizations for the new cosmological component and highlight the phenomenological consequences of our calculations for dark matter searches\n",
            "we describe the configuration space mathbf of polygons with prescribed edge slopes and study the perimeter mathcal as morse function on mathbf we characterize critical points of mathcal these are textit tangential polygons and compute their morse indices this setup is motivated by number of results about critical points and morse indices of the oriented area function defined on the configuration space of polygons with prescribed edge lengths flexible polygons as by product we present an independent computation of the morse index of the area function obtained earlier by panina and zhukova\n",
            "this paper discusses metropolis hastings algorithm developed by citea marsmanising the algorithm is derived from first principles and it is proven that the algorithm becomes more efficient with more data and meets the growing demands of large scale educational measurement\n",
            "topology has appeared in different physical contexts the most prominent application is topologically protected edge transport in condensed matter physics the chern number the topological invariant of gapped bloch hamiltonians is an important quantity in this field another example of topology in polarization physics are polarization singularities called lines and points by establishing connection between these two theories we develop novel technique to visualize and potentially measure the chern number it can be expressed either as the winding of the polarization azimuth along lines in reciprocal space or in terms of the handedness and the index of the points for mechanical systems this is directly connected to the visible motion patterns\n",
            "the coupled exciton vibrational dynamics of three site model of the fmo complex is investigated using the multi layer multi configuration time dependent hartree ml mctdh approach emphasis is put on the effect of the spectral density on the exciton state populations as well as on the vibrational and vibronic non equilibrium excitations models which use either single or site specific spectral densities are contrasted to spectral density adapted from experiment for the transfer efficiency the total integrated huang rhys factor is found to be more important than details of the spectral distributions however the latter are relevant for the obtained non equilibrium vibrational and vibronic distributions and thus influence the actual pattern of population relaxation\n",
            "in the first part of this work we show the convergence with respect to an asymptotic parameter epsilon of delayed heat equation it represents mathematical extension of works considered previously by the authors milisic et al milisic et al namely this is the first result involving delay operators approximating protein linkages coupled with spatial elliptic second order operator for the sake of simplicity we choose the laplace operator although more general results could be derived the main arguments are new energy estimates and ii stability result extended from the previous work to this more involved context they allow to prove convergence of the delay operator to friction term together with the laplace operator in the same asymptotic regime considered without the space dependence in milisic et al in second part we extend fixed point results for the fully non linear model introduced in milisic et al and prove global existence in time this shows that the blow up scenario observed previously does not occur since the latter result was interpreted as rupture of adhesion forces we discuss the possibility of bond breaking both from the analytic and numerical point of view\n",
            "parametric resonance is among the most efficient phenomena generating gravitational waves gws in the early universe the dynamics of parametric resonance and hence of the gws depend exclusively on the resonance parameter the latter is determined by the properties of each scenario the initial amplitude and potential curvature of the oscillating field and its coupling to other species previous works have only studied the gw production for fixed value of we present an analytical derivation of the gw amplitude dependence on valid for any scenario which we confront against numerical results by running lattice simulations in an expanding grid we study for wide range of values the production of gws in post inflationary preheating scenarios driven by parametric resonance we present simple fits for the final amplitude and position of the local maxima in the gw spectrum our parametrization allows to predict the location and amplitude of the gw background today for an arbitrary the gw signal can be rather large as omega rm gw p lesssim but it is always peaked at high frequencies p gtrsim hz we also discuss the case of spectator field scenarios where the oscillatory field can be g curvaton or the standard model higgs\n",
            "the rempi spectrum of sio in the nm range is recorded observed bands are assigned to the x vibrational bands and tentative assignment is given to the photon transition from to the sigma rydberg states at nm we estimate the ip of sio to be ev the sio cation has previously been identified as molecular candidate amenable to laser control our work allows us to identify an efficient method for loading cold sio from an ablated sample of sio into an ion trap via the x band at nm\n",
            "robots and automated systems are increasingly being introduced to unknown and dynamic environments where they are required to handle disturbances unmodeled dynamics and parametric uncertainties robust and adaptive control strategies are required to achieve high performance in these dynamic environments in this paper we propose novel adaptive model predictive controller that combines model predictive control mpc with an underlying mathcal adaptive controller to improve trajectory tracking of system subject to unknown and changing disturbances the mathcal adaptive controller forces the system to behave in predefined way as specified by reference model higher level model predictive controller then uses this reference model to calculate the optimal reference input based on cost function while taking into account input and state constraints we focus on the experimental validation of the proposed approach and demonstrate its effectiveness in experiments on quadrotor we show that the proposed approach has lower trajectory tracking error compared to non predictive adaptive approaches and predictive non adaptive approach even when external wind disturbances are applied\n",
            "with the use of ontologies in several domains such as semantic web information retrieval artificial intelligence the concept of similarity measuring has become very important domain of research therefore in the current paper we propose our method of similarity measuring which uses the dijkstra algorithm to define and compute the shortest path then we use this one to compute the semantic distance between two concepts defined in the same hierarchy of ontology afterward we base on this result to compute the semantic similarity finally we present an experimental comparison between our method and other methods of similarity measuring\n",
            "we prove that every triangle free graph with maximum degree delta has list chromatic number at most frac delta ln delta this matches the best known bound for graphs of girth at least we also provide new proof that for any geq every r free graph has list chromatic number at most frac delta ln ln delta ln delta\n",
            "we compute the genus belyi map for the sporadic janko group of degree and describe the applied method this yields explicit polynomials having as galois group over t q\n",
            "cmo council reports that of internet users in the s were influenced by coupons and discounts when making their purchase decisions it has also been shown that offering coupons to small fraction of users called seed users may affect the purchase decisions of many other users in social network this motivates us to study the optimal coupon allocation problem and our objective is to allocate coupons to set of users so as to maximize the expected cascade different from existing studies on influence maximizaton im our framework allows general utility function and more complex set of constraints in particular we formulate our problem as an approximate submodular maximization problem subject to matroid and knapsack constraints existing techniques relying on the submodularity of the utility function such as greedy algorithm can not work directly on non submodular function we use epsilon to measure the difference between our function and its closest submodular function and propose novel approximate algorithm with approximation ratio beta epsilon with lim epsilon rightarrow beta epsilon this is the best approximation guarantee for approximate submodular maximization subject to partition matroid and knapsack constraints our results apply to broad range of optimization problems that can be formulated as an approximate submodular maximization problem\n",
            "lower bounds on the smallest eigenvalue of symmetric positive definite matrices in mathbb times play an important role in condition number estimation and in iterative methods for singular value computation in particular the bounds based on rm tr and rm tr attract attention recently because they can be computed in m work when is tridiagonal in this paper we focus on these bounds and investigate their properties in detail first we consider the problem of finding the optimal bound that can be computed solely from rm tr and rm tr and show that so called laguerre lower bound is the optimal one in terms of sharpness next we study the gap between the laguerre bound and the smallest eigenvalue we characterize the situation in which the gap becomes largest in terms of the eigenvalue distribution of and show that the gap becomes smallest when rm tr rm tr approaches or frac these results will be useful for example in designing efficient shift strategies for singular value computation algorithms\n",
            "this paper describes the development of magnetic attitude control subsystem for u cubesat due to the presence of gravity gradient torques the satellite dynamics are open loop unstable near the desired pointing configuration nevertheless the linearized time varying system is completely controllable under easily verifiable conditions and the system disturbance rejection capabilities can be enhanced by adding air drag panels exemplifying beneficial interplay between hardware design and control in the paper conditions for the complete controllability for the case of magnetically controlled satellite with passive air drag panels are developed and simulation case studies with the lqr and mpc control designs applied in combination with nonlinear time varying input transformation are presented to demonstrate the ability of the closed loop system to satisfy mission objectives despite disturbance torques\n",
            "we generalise some well known graph parameters to operator systems by considering their underlying quantum channels in particular we introduce the quantum complexity as the dimension of the smallest co domain hilbert space quantum channel requires to realise given operator system as its non commutative confusability graph we describe quantum complexity as generalised minimum semidefinite rank and in the case of graph operator system as quantum intersection number the quantum complexity and closely related quantum version of orthogonal rank turn out to be upper bounds for the shannon zero error capacity of quantum channel and we construct examples for which these bounds beat the best previously known general upper bound for the capacity of quantum channels given by the quantum lovász theta number\n",
            "we are interested in extending operators defined on positive measures called here transfunctions to signed measures and vector measures our methods use somewhat nonstandard approach to measures and vector measures the necessary background including proofs of some auxiliary results is included\n",
            "\n",
            "\n"
          ]
        }
      ]
    },
    {
      "cell_type": "markdown",
      "source": [
        "Untuk mengakhiri kasus topik modelling ini, kita akan melakukan persona analysis. Persona pada dataset di atas adalah 2 karena topiknya ada 2. Persona analisis dilakukan dengan memeriksa topik-topik yang dominan dan hasil ini dapat digunakan untuk mengetahui lebih banyak tentang karakteristik mereka."
      ],
      "metadata": {
        "id": "vrMGSZrGWbLQ"
      }
    },
    {
      "cell_type": "markdown",
      "source": [
        "#### No 4 - Text Summarization"
      ],
      "metadata": {
        "id": "4syue60z0LCt"
      }
    },
    {
      "cell_type": "code",
      "source": [
        "import pandas as pd\n",
        "from nltk.corpus import stopwords\n",
        "from nltk.cluster.util import cosine_distance\n",
        "import numpy as np\n",
        "import networkx as nx"
      ],
      "metadata": {
        "id": "pg2HjxRL0drU"
      },
      "execution_count": 39,
      "outputs": []
    },
    {
      "cell_type": "code",
      "source": [
        "def read_article(file_name):\n",
        "    file = open(file_name, \"r\")\n",
        "    filedata = file.readlines()\n",
        "    #split the sentences based on dot (.) separator\n",
        "    article = filedata[0].split(\". \")\n",
        "    sentences = []\n",
        "    for sentence in article:\n",
        "        print(sentence)\n",
        "        #remove non alphabetic character\n",
        "        sentences.append(sentence.replace(\"[^a-zA-Z]\", \" \").split(\" \"))\n",
        "    sentences.pop()\n",
        "\n",
        "    return sentences"
      ],
      "metadata": {
        "id": "lddQXg8o0fLM"
      },
      "execution_count": 40,
      "outputs": []
    },
    {
      "cell_type": "markdown",
      "source": [
        "Function di atas adalah function untuk memproses file `.txt` dengan memisahkan teks menjadi kalimat dan juga langung melakukan tahap preprocessing yang simpel."
      ],
      "metadata": {
        "id": "6GDxa8IQXnyA"
      }
    },
    {
      "cell_type": "code",
      "source": [
        "def sentence_similarity(sent1, sent2, stopwords=None):\n",
        "    if stopwords is None:\n",
        "        stopwords = []\n",
        "\n",
        "    sent1 = [w.lower() for w in sent1]\n",
        "    sent2 = [w.lower() for w in sent2]\n",
        "\n",
        "    all_words = list(set(sent1 + sent2))\n",
        "\n",
        "    #build vector 0 with dimension following the len of all_words\n",
        "    vector1 = [0] * len(all_words)\n",
        "    vector2 = [0] * len(all_words)\n",
        "\n",
        "    # build the vector for the first sentence\n",
        "    for w in sent1:\n",
        "        if w in stopwords:\n",
        "            continue\n",
        "        vector1[all_words.index(w)] += 1\n",
        "\n",
        "    # build the vector for the second sentence\n",
        "    for w in sent2:\n",
        "        if w in stopwords:\n",
        "            continue\n",
        "        vector2[all_words.index(w)] += 1\n",
        "\n",
        "    return 1 - cosine_distance(vector1, vector2)"
      ],
      "metadata": {
        "id": "pcke3xjo0gbG"
      },
      "execution_count": 41,
      "outputs": []
    },
    {
      "cell_type": "code",
      "source": [
        "def build_similarity_matrix(sentences, stop_words):\n",
        "    # Create an empty similarity matrix\n",
        "    similarity_matrix = np.zeros((len(sentences), len(sentences)))\n",
        "\n",
        "    for idx1 in range(len(sentences)):\n",
        "        for idx2 in range(len(sentences)):\n",
        "            if idx1 == idx2: #ignore if both are same sentences\n",
        "                continue\n",
        "            similarity_matrix[idx1][idx2] = sentence_similarity(sentences[idx1], sentences[idx2], stop_words)\n",
        "\n",
        "    return similarity_matrix"
      ],
      "metadata": {
        "id": "H5sNzJA_0iPF"
      },
      "execution_count": 42,
      "outputs": []
    },
    {
      "cell_type": "markdown",
      "source": [
        "Function `sentence_similarity` adalah untuk menghitung kemiripan antar kalimat, dan function `build_similarity_matrix` adalah untuk membuat matrix kemiripan antar kalimat."
      ],
      "metadata": {
        "id": "MmXylV7fcVGs"
      }
    },
    {
      "cell_type": "code",
      "source": [
        "def generate_summary(file_name, top_n):\n",
        "    stop_words = stopwords.words('english')\n",
        "    summarize_text = []\n",
        "\n",
        "    # Step 1 - Read text anc split it\n",
        "    sentences =  read_article(file_name)\n",
        "\n",
        "    # Step 2 - Generate Similary Martix across sentences\n",
        "    sentence_similarity_martix = build_similarity_matrix(sentences, stop_words)\n",
        "\n",
        "    # Step 3 - Rank sentences in similarity martix\n",
        "    sentence_similarity_graph = nx.from_numpy_array(sentence_similarity_martix)\n",
        "    scores = nx.pagerank(sentence_similarity_graph)\n",
        "    print(scores)\n",
        "\n",
        "    # Step 4 - Sort the rank and pick top sentences\n",
        "    ranked_sentence = sorted(((scores[i],s) for i,s in enumerate(sentences)), reverse=True)\n",
        "    print(\"Indexes of top ranked_sentence order are \", ranked_sentence)\n",
        "\n",
        "    for i in range(top_n):\n",
        "      summarize_text.append(\" \".join(ranked_sentence[i][1]))\n",
        "\n",
        "    # Step 5 - Offcourse, output the summarize texr\n",
        "    print(\"\\n\\nSummarize Text: \\n\", \". \".join(summarize_text))\n",
        "    print(\"\\n\")"
      ],
      "metadata": {
        "id": "SNk2QUS50jhB"
      },
      "execution_count": 43,
      "outputs": []
    },
    {
      "cell_type": "markdown",
      "source": [
        "Function di atas adalah function yang nanti digunakan untuk menghasilkan summary dari teksnya, dengan membandingkan skor dari setiap kalimat, dan memilih 3 kalimat dengan skor tertinggi untuk menjadi summarynya (sesuai dengan soal)."
      ],
      "metadata": {
        "id": "_vc6rmC0dSQy"
      }
    },
    {
      "cell_type": "code",
      "source": [
        "import nltk\n",
        "nltk.download('stopwords')"
      ],
      "metadata": {
        "colab": {
          "base_uri": "https://localhost:8080/"
        },
        "id": "7yncoRPl0moQ",
        "outputId": "ff30a879-642b-4a14-cb59-427d637e2caf"
      },
      "execution_count": 44,
      "outputs": [
        {
          "output_type": "stream",
          "name": "stderr",
          "text": [
            "[nltk_data] Downloading package stopwords to /root/nltk_data...\n",
            "[nltk_data]   Package stopwords is already up-to-date!\n"
          ]
        },
        {
          "output_type": "execute_result",
          "data": {
            "text/plain": [
              "True"
            ]
          },
          "metadata": {},
          "execution_count": 44
        }
      ]
    },
    {
      "cell_type": "code",
      "source": [
        "generate_summary( \"data_4D.txt\", 3)"
      ],
      "metadata": {
        "colab": {
          "base_uri": "https://localhost:8080/"
        },
        "id": "rJMu_e2n0m-0",
        "outputId": "a2b294f7-0cbc-4375-f512-e2a535deb46a"
      },
      "execution_count": 45,
      "outputs": [
        {
          "output_type": "stream",
          "name": "stdout",
          "text": [
            "﻿This paper focuses on an event for the main actors in e-tourism, called Tourism@\n",
            "It is held on the French Riviera and is dedicated to new uses of Information and Communication Technology (ICT) in the tourism industry\n",
            "It is a major international trade fair in Europe for innovative start up companies, high tech small and medium sized enterprises (SMEs), large multinationals and academics related to the tourism industry\n",
            "Each edition of Tourism@ includes a competition aiming at awarding the best projects in terms of creativity and commitment to developing and implementing new technologies or new uses of ICT in the tourism industry\n",
            "As far as Tourism@ has several unique characteristics in relation to innovation in tourism, it is an interesting case deserving an in-depth analysis\n",
            "Innovation is playing an increasing role in services (Miles, 2001) and, unquestionably, is particularly important for the tourism industry (Hjalager, 2002)\n",
            "Tourism has been one of the main drivers of Internet use in the economy – from e-commerce to inter-firm relations or Web 2.0 applications (Marcussen, 2009, Werthner and Klein, 2005)\n",
            "Buhalis and Law (2008:610) indicate that “technological progress and tourism have been going hand in hand for years”\n",
            "These applications of ICT have led to changes in the organisation of firms and in the tourism industry (Buhalis and Licata, 2002, Buhalis and Zoge, 2007, Hall and Williams, 2008, Longhi, 2009)\n",
            "Change and innovation in tourism have induced a large body of research which was reviewed in two recent papers by Buhalis and Law (2008) and Hjalager (2010)\n",
            "Usually in this body of research, each account contributes only to one specific innovative use of ICT in tourism\n",
            "The present paper does not address directly this body of literature; it focuses instead on the dynamics of innovation in tourism over time to provide evidence on major trends\n",
            "The aim is to capture the evolution of innovative activity in the tourism industry through the empirical analysis of the Tourism@ event and the annual Tourism@ Awards for best projects\n",
            "This article exploits the database of the competing projects to analyse the dynamics of innovation in tourism\n",
            "Events such as Tourism@ can be considered empirical cases of temporary clusters (Maskell, Bathelt, & Malmberg, 2005), that reveal ongoing innovation\n",
            "These events have been argued as relevant hubs that help identify new technologies and solutions, facilitate collaboration with and among the firms implementing them, and foster new partnerships\n",
            "The identification and selection of new technologies are “tricky and costly processes” (Maskell et al., 2005:2) and especially when related to such a complex and heterogeneous activity as it is the case in the tourism industry\n",
            "Indeed, the tourism industry is comprised of activities that are scattered in nature, time and space, which need to be combined and assembled dynamically, and gather together actors located far apart in the physical, organisational, as well as cognitive senses\n",
            "Among the knowledge transfer mechanisms identified in the literature, learning via observation is particularly important for tourism firms given the difficulties of patenting intellectual capital and of concealing innovations in the “front of house” (Hall & Williams, 2008)\n",
            "Weidenfeld, Williams, and Butler (2010:5) describe that “services generally rely less on in-house research and development and more on buying in knowledge and innovations from suppliers”\n",
            "The role of fairs is thus very important since they represent a locus of diffusion of information on the nature of the ongoing innovation processes\n",
            "They can put forward the evolution of “frontiers” related to the different dimensions of innovation in tourism\n",
            "The analysis is structured as follows\n",
            "Section 2 introduces the case study and builds the analytical framework required for the empirical analysis\n",
            "Tourism is defined as a sectoral system of innovation and production, a concept introduced by Malerba, 2001, Malerba, 2004, which identifies the constraints related to innovation in this activity\n",
            "Section 3 presents the Tourism@ case study, the methodology and statistical analysis\n",
            "This case study benefits from an exhaustive database of the innovation projects presented at Tourism@, which provides information on knowledge bases, technologies, and the uses and markets targeted over time\n",
            "The analysis of the Tourism@ trade fair database in Section 4 reveals the important innovative activity that occurs in the tourism industry\n",
            "It highlights the capacity of this industry to rapidly exploit the advantages of the newest technological developments\n",
            "Section 5 concludes.\n",
            "{0: 0.02043991102987876, 1: 0.04338972941159108, 2: 0.035678228518778665, 3: 0.04944682072397546, 4: 0.03822620179920833, 5: 0.046593143212991586, 6: 0.024413394124403173, 7: 0.026205497830996318, 8: 0.03683466851248978, 9: 0.039407135755767424, 10: 0.034417285639524876, 11: 0.040487234361534494, 12: 0.06202248233822132, 13: 0.04703075049342941, 14: 0.028540041491896158, 15: 0.016930687444992244, 16: 0.04366362874916645, 17: 0.029407970885699852, 18: 0.029860761181353442, 19: 0.010491633784605704, 20: 0.023779515927556654, 21: 0.044227016946268335, 22: 0.017977893430345497, 23: 0.024885561076618268, 24: 0.04101810688059901, 25: 0.03234622370432349, 26: 0.033012422755995814, 27: 0.06335109813953334, 28: 0.015914953848255326}\n",
            "Indexes of top ranked_sentence order are  [(0.06335109813953334, ['The', 'analysis', 'of', 'the', 'Tourism@', 'trade', 'fair', 'database', 'in', 'Section', '4', 'reveals', 'the', 'important', 'innovative', 'activity', 'that', 'occurs', 'in', 'the', 'tourism', 'industry']), (0.06202248233822132, ['The', 'aim', 'is', 'to', 'capture', 'the', 'evolution', 'of', 'innovative', 'activity', 'in', 'the', 'tourism', 'industry', 'through', 'the', 'empirical', 'analysis', 'of', 'the', 'Tourism@', 'event', 'and', 'the', 'annual', 'Tourism@', 'Awards', 'for', 'best', 'projects']), (0.04944682072397546, ['Each', 'edition', 'of', 'Tourism@', 'includes', 'a', 'competition', 'aiming', 'at', 'awarding', 'the', 'best', 'projects', 'in', 'terms', 'of', 'creativity', 'and', 'commitment', 'to', 'developing', 'and', 'implementing', 'new', 'technologies', 'or', 'new', 'uses', 'of', 'ICT', 'in', 'the', 'tourism', 'industry']), (0.04703075049342941, ['This', 'article', 'exploits', 'the', 'database', 'of', 'the', 'competing', 'projects', 'to', 'analyse', 'the', 'dynamics', 'of', 'innovation', 'in', 'tourism']), (0.046593143212991586, ['Innovation', 'is', 'playing', 'an', 'increasing', 'role', 'in', 'services', '(Miles,', '2001)', 'and,', 'unquestionably,', 'is', 'particularly', 'important', 'for', 'the', 'tourism', 'industry', '(Hjalager,', '2002)']), (0.044227016946268335, ['They', 'can', 'put', 'forward', 'the', 'evolution', 'of', '“frontiers”', 'related', 'to', 'the', 'different', 'dimensions', 'of', 'innovation', 'in', 'tourism']), (0.04366362874916645, ['The', 'identification', 'and', 'selection', 'of', 'new', 'technologies', 'are', '“tricky', 'and', 'costly', 'processes”', '(Maskell', 'et', 'al.,', '2005:2)', 'and', 'especially', 'when', 'related', 'to', 'such', 'a', 'complex', 'and', 'heterogeneous', 'activity', 'as', 'it', 'is', 'the', 'case', 'in', 'the', 'tourism', 'industry']), (0.04338972941159108, ['It', 'is', 'held', 'on', 'the', 'French', 'Riviera', 'and', 'is', 'dedicated', 'to', 'new', 'uses', 'of', 'Information', 'and', 'Communication', 'Technology', '(ICT)', 'in', 'the', 'tourism', 'industry']), (0.04101810688059901, ['Tourism', 'is', 'defined', 'as', 'a', 'sectoral', 'system', 'of', 'innovation', 'and', 'production,', 'a', 'concept', 'introduced', 'by', 'Malerba,', '2001,', 'Malerba,', '2004,', 'which', 'identifies', 'the', 'constraints', 'related', 'to', 'innovation', 'in', 'this', 'activity']), (0.040487234361534494, ['The', 'present', 'paper', 'does', 'not', 'address', 'directly', 'this', 'body', 'of', 'literature;', 'it', 'focuses', 'instead', 'on', 'the', 'dynamics', 'of', 'innovation', 'in', 'tourism', 'over', 'time', 'to', 'provide', 'evidence', 'on', 'major', 'trends']), (0.039407135755767424, ['Change', 'and', 'innovation', 'in', 'tourism', 'have', 'induced', 'a', 'large', 'body', 'of', 'research', 'which', 'was', 'reviewed', 'in', 'two', 'recent', 'papers', 'by', 'Buhalis', 'and', 'Law', '(2008)', 'and', 'Hjalager', '(2010)']), (0.03822620179920833, ['As', 'far', 'as', 'Tourism@', 'has', 'several', 'unique', 'characteristics', 'in', 'relation', 'to', 'innovation', 'in', 'tourism,', 'it', 'is', 'an', 'interesting', 'case', 'deserving', 'an', 'in-depth', 'analysis']), (0.03683466851248978, ['These', 'applications', 'of', 'ICT', 'have', 'led', 'to', 'changes', 'in', 'the', 'organisation', 'of', 'firms', 'and', 'in', 'the', 'tourism', 'industry', '(Buhalis', 'and', 'Licata,', '2002,', 'Buhalis', 'and', 'Zoge,', '2007,', 'Hall', 'and', 'Williams,', '2008,', 'Longhi,', '2009)']), (0.035678228518778665, ['It', 'is', 'a', 'major', 'international', 'trade', 'fair', 'in', 'Europe', 'for', 'innovative', 'start', 'up', 'companies,', 'high', 'tech', 'small', 'and', 'medium', 'sized', 'enterprises', '(SMEs),', 'large', 'multinationals', 'and', 'academics', 'related', 'to', 'the', 'tourism', 'industry']), (0.034417285639524876, ['Usually', 'in', 'this', 'body', 'of', 'research,', 'each', 'account', 'contributes', 'only', 'to', 'one', 'specific', 'innovative', 'use', 'of', 'ICT', 'in', 'tourism']), (0.033012422755995814, ['This', 'case', 'study', 'benefits', 'from', 'an', 'exhaustive', 'database', 'of', 'the', 'innovation', 'projects', 'presented', 'at', 'Tourism@,', 'which', 'provides', 'information', 'on', 'knowledge', 'bases,', 'technologies,', 'and', 'the', 'uses', 'and', 'markets', 'targeted', 'over', 'time']), (0.03234622370432349, ['Section', '3', 'presents', 'the', 'Tourism@', 'case', 'study,', 'the', 'methodology', 'and', 'statistical', 'analysis']), (0.029860761181353442, ['Among', 'the', 'knowledge', 'transfer', 'mechanisms', 'identified', 'in', 'the', 'literature,', 'learning', 'via', 'observation', 'is', 'particularly', 'important', 'for', 'tourism', 'firms', 'given', 'the', 'difficulties', 'of', 'patenting', 'intellectual', 'capital', 'and', 'of', 'concealing', 'innovations', 'in', 'the', '“front', 'of', 'house”', '(Hall', '&', 'Williams,', '2008)']), (0.029407970885699852, ['Indeed,', 'the', 'tourism', 'industry', 'is', 'comprised', 'of', 'activities', 'that', 'are', 'scattered', 'in', 'nature,', 'time', 'and', 'space,', 'which', 'need', 'to', 'be', 'combined', 'and', 'assembled', 'dynamically,', 'and', 'gather', 'together', 'actors', 'located', 'far', 'apart', 'in', 'the', 'physical,', 'organisational,', 'as', 'well', 'as', 'cognitive', 'senses']), (0.028540041491896158, ['Events', 'such', 'as', 'Tourism@', 'can', 'be', 'considered', 'empirical', 'cases', 'of', 'temporary', 'clusters', '(Maskell,', 'Bathelt,', '&', 'Malmberg,', '2005),', 'that', 'reveal', 'ongoing', 'innovation']), (0.026205497830996318, ['Buhalis', 'and', 'Law', '(2008:610)', 'indicate', 'that', '“technological', 'progress', 'and', 'tourism', 'have', 'been', 'going', 'hand', 'in', 'hand', 'for', 'years”']), (0.024885561076618268, ['Section', '2', 'introduces', 'the', 'case', 'study', 'and', 'builds', 'the', 'analytical', 'framework', 'required', 'for', 'the', 'empirical', 'analysis']), (0.024413394124403173, ['Tourism', 'has', 'been', 'one', 'of', 'the', 'main', 'drivers', 'of', 'Internet', 'use', 'in', 'the', 'economy', '–', 'from', 'e-commerce', 'to', 'inter-firm', 'relations', 'or', 'Web', '2.0', 'applications', '(Marcussen,', '2009,', 'Werthner', 'and', 'Klein,', '2005)']), (0.023779515927556654, ['The', 'role', 'of', 'fairs', 'is', 'thus', 'very', 'important', 'since', 'they', 'represent', 'a', 'locus', 'of', 'diffusion', 'of', 'information', 'on', 'the', 'nature', 'of', 'the', 'ongoing', 'innovation', 'processes']), (0.02043991102987876, ['\\ufeffThis', 'paper', 'focuses', 'on', 'an', 'event', 'for', 'the', 'main', 'actors', 'in', 'e-tourism,', 'called', 'Tourism@']), (0.017977893430345497, ['The', 'analysis', 'is', 'structured', 'as', 'follows']), (0.016930687444992244, ['These', 'events', 'have', 'been', 'argued', 'as', 'relevant', 'hubs', 'that', 'help', 'identify', 'new', 'technologies', 'and', 'solutions,', 'facilitate', 'collaboration', 'with', 'and', 'among', 'the', 'firms', 'implementing', 'them,', 'and', 'foster', 'new', 'partnerships']), (0.015914953848255326, ['It', 'highlights', 'the', 'capacity', 'of', 'this', 'industry', 'to', 'rapidly', 'exploit', 'the', 'advantages', 'of', 'the', 'newest', 'technological', 'developments']), (0.010491633784605704, ['Weidenfeld,', 'Williams,', 'and', 'Butler', '(2010:5)', 'describe', 'that', '“services', 'generally', 'rely', 'less', 'on', 'in-house', 'research', 'and', 'development', 'and', 'more', 'on', 'buying', 'in', 'knowledge', 'and', 'innovations', 'from', 'suppliers”'])]\n",
            "\n",
            "\n",
            "Summarize Text: \n",
            " The analysis of the Tourism@ trade fair database in Section 4 reveals the important innovative activity that occurs in the tourism industry. The aim is to capture the evolution of innovative activity in the tourism industry through the empirical analysis of the Tourism@ event and the annual Tourism@ Awards for best projects. Each edition of Tourism@ includes a competition aiming at awarding the best projects in terms of creativity and commitment to developing and implementing new technologies or new uses of ICT in the tourism industry\n",
            "\n",
            "\n"
          ]
        }
      ]
    },
    {
      "cell_type": "markdown",
      "source": [
        "Jika digunakan langsung function `generate_summary`, maka hasil summarynya langsung keluar dengan 3 kalimat. Tapi kita akan coba untuk breakdown function `generate_summary`."
      ],
      "metadata": {
        "id": "25gEYppCdqo8"
      }
    },
    {
      "cell_type": "code",
      "source": [
        "sentences =  read_article(\"data_4D.txt\")"
      ],
      "metadata": {
        "colab": {
          "base_uri": "https://localhost:8080/"
        },
        "id": "0xN2TjEP0o9X",
        "outputId": "47794839-abac-4c6c-904a-25985ab57d06"
      },
      "execution_count": 46,
      "outputs": [
        {
          "output_type": "stream",
          "name": "stdout",
          "text": [
            "﻿This paper focuses on an event for the main actors in e-tourism, called Tourism@\n",
            "It is held on the French Riviera and is dedicated to new uses of Information and Communication Technology (ICT) in the tourism industry\n",
            "It is a major international trade fair in Europe for innovative start up companies, high tech small and medium sized enterprises (SMEs), large multinationals and academics related to the tourism industry\n",
            "Each edition of Tourism@ includes a competition aiming at awarding the best projects in terms of creativity and commitment to developing and implementing new technologies or new uses of ICT in the tourism industry\n",
            "As far as Tourism@ has several unique characteristics in relation to innovation in tourism, it is an interesting case deserving an in-depth analysis\n",
            "Innovation is playing an increasing role in services (Miles, 2001) and, unquestionably, is particularly important for the tourism industry (Hjalager, 2002)\n",
            "Tourism has been one of the main drivers of Internet use in the economy – from e-commerce to inter-firm relations or Web 2.0 applications (Marcussen, 2009, Werthner and Klein, 2005)\n",
            "Buhalis and Law (2008:610) indicate that “technological progress and tourism have been going hand in hand for years”\n",
            "These applications of ICT have led to changes in the organisation of firms and in the tourism industry (Buhalis and Licata, 2002, Buhalis and Zoge, 2007, Hall and Williams, 2008, Longhi, 2009)\n",
            "Change and innovation in tourism have induced a large body of research which was reviewed in two recent papers by Buhalis and Law (2008) and Hjalager (2010)\n",
            "Usually in this body of research, each account contributes only to one specific innovative use of ICT in tourism\n",
            "The present paper does not address directly this body of literature; it focuses instead on the dynamics of innovation in tourism over time to provide evidence on major trends\n",
            "The aim is to capture the evolution of innovative activity in the tourism industry through the empirical analysis of the Tourism@ event and the annual Tourism@ Awards for best projects\n",
            "This article exploits the database of the competing projects to analyse the dynamics of innovation in tourism\n",
            "Events such as Tourism@ can be considered empirical cases of temporary clusters (Maskell, Bathelt, & Malmberg, 2005), that reveal ongoing innovation\n",
            "These events have been argued as relevant hubs that help identify new technologies and solutions, facilitate collaboration with and among the firms implementing them, and foster new partnerships\n",
            "The identification and selection of new technologies are “tricky and costly processes” (Maskell et al., 2005:2) and especially when related to such a complex and heterogeneous activity as it is the case in the tourism industry\n",
            "Indeed, the tourism industry is comprised of activities that are scattered in nature, time and space, which need to be combined and assembled dynamically, and gather together actors located far apart in the physical, organisational, as well as cognitive senses\n",
            "Among the knowledge transfer mechanisms identified in the literature, learning via observation is particularly important for tourism firms given the difficulties of patenting intellectual capital and of concealing innovations in the “front of house” (Hall & Williams, 2008)\n",
            "Weidenfeld, Williams, and Butler (2010:5) describe that “services generally rely less on in-house research and development and more on buying in knowledge and innovations from suppliers”\n",
            "The role of fairs is thus very important since they represent a locus of diffusion of information on the nature of the ongoing innovation processes\n",
            "They can put forward the evolution of “frontiers” related to the different dimensions of innovation in tourism\n",
            "The analysis is structured as follows\n",
            "Section 2 introduces the case study and builds the analytical framework required for the empirical analysis\n",
            "Tourism is defined as a sectoral system of innovation and production, a concept introduced by Malerba, 2001, Malerba, 2004, which identifies the constraints related to innovation in this activity\n",
            "Section 3 presents the Tourism@ case study, the methodology and statistical analysis\n",
            "This case study benefits from an exhaustive database of the innovation projects presented at Tourism@, which provides information on knowledge bases, technologies, and the uses and markets targeted over time\n",
            "The analysis of the Tourism@ trade fair database in Section 4 reveals the important innovative activity that occurs in the tourism industry\n",
            "It highlights the capacity of this industry to rapidly exploit the advantages of the newest technological developments\n",
            "Section 5 concludes.\n"
          ]
        }
      ]
    },
    {
      "cell_type": "markdown",
      "source": [
        "Data diambil dari dataset dan langsung dibagi per kalimat sesuai function `read_article`."
      ],
      "metadata": {
        "id": "chx8Pk08d6Q8"
      }
    },
    {
      "cell_type": "code",
      "source": [
        "sentence_similarity_martix = build_similarity_matrix(sentences, stop_words=stopwords.words('english'))\n",
        "sentence_similarity_martix"
      ],
      "metadata": {
        "colab": {
          "base_uri": "https://localhost:8080/"
        },
        "id": "yghGj2Wr0qlF",
        "outputId": "423a1104-7607-43af-ee72-858e4c5ea0ef"
      },
      "execution_count": 47,
      "outputs": [
        {
          "output_type": "execute_result",
          "data": {
            "text/plain": [
              "array([[0.        , 0.        , 0.        , 0.07106691, 0.09245003,\n",
              "        0.        , 0.07647191, 0.        , 0.        , 0.        ,\n",
              "        0.        , 0.16666667, 0.23570226, 0.        , 0.0860663 ,\n",
              "        0.        , 0.        , 0.06804138, 0.        , 0.        ,\n",
              "        0.        , 0.        , 0.        , 0.        , 0.        ,\n",
              "        0.11111111, 0.        , 0.08908708, 0.        ],\n",
              "       [0.        , 0.        , 0.12598816, 0.30772873, 0.        ,\n",
              "        0.1490712 , 0.06622662, 0.08006408, 0.13245324, 0.07216878,\n",
              "        0.08703883, 0.07216878, 0.13608276, 0.09622504, 0.        ,\n",
              "        0.12909944, 0.19867985, 0.11785113, 0.05661385, 0.        ,\n",
              "        0.08006408, 0.09622504, 0.        , 0.        , 0.06299408,\n",
              "        0.        , 0.13608276, 0.15430335, 0.09622504],\n",
              "       [0.        , 0.12598816, 0.        , 0.09304842, 0.        ,\n",
              "        0.11268723, 0.05006262, 0.06052275, 0.10012523, 0.10910895,\n",
              "        0.13159034, 0.10910895, 0.15430335, 0.0727393 , 0.        ,\n",
              "        0.        , 0.15018785, 0.08908708, 0.04279605, 0.        ,\n",
              "        0.        , 0.14547859, 0.        , 0.        , 0.0952381 ,\n",
              "        0.        , 0.        , 0.29160592, 0.0727393 ],\n",
              "       [0.07106691, 0.30772873, 0.09304842, 0.        , 0.05913124,\n",
              "        0.11009638, 0.0489116 , 0.05913124, 0.1467348 , 0.05330018,\n",
              "        0.12856487, 0.05330018, 0.30151134, 0.14213381, 0.05504819,\n",
              "        0.28603878, 0.24455799, 0.08703883, 0.0418121 , 0.        ,\n",
              "        0.        , 0.07106691, 0.        , 0.        , 0.04652421,\n",
              "        0.07106691, 0.10050378, 0.17094086, 0.07106691],\n",
              "       [0.09245003, 0.        , 0.        , 0.05913124, 0.        ,\n",
              "        0.07161149, 0.        , 0.        , 0.        , 0.06933752,\n",
              "        0.        , 0.06933752, 0.19611614, 0.09245003, 0.14322297,\n",
              "        0.        , 0.06362848, 0.05661385, 0.        , 0.        ,\n",
              "        0.07692308, 0.09245003, 0.16012815, 0.1672484 , 0.12104551,\n",
              "        0.2773501 , 0.13074409, 0.14824986, 0.        ],\n",
              "       [0.        , 0.1490712 , 0.11268723, 0.11009638, 0.07161149,\n",
              "        0.        , 0.05923489, 0.07161149, 0.11846978, 0.12909944,\n",
              "        0.07784989, 0.12909944, 0.12171612, 0.17213259, 0.06666667,\n",
              "        0.        , 0.11846978, 0.10540926, 0.15191091, 0.        ,\n",
              "        0.21483446, 0.17213259, 0.        , 0.        , 0.16903085,\n",
              "        0.        , 0.06085806, 0.20701967, 0.0860663 ],\n",
              "       [0.07647191, 0.06622662, 0.05006262, 0.0489116 , 0.        ,\n",
              "        0.05923489, 0.        , 0.06362848, 0.10526316, 0.05735393,\n",
              "        0.20751434, 0.05735393, 0.05407381, 0.07647191, 0.        ,\n",
              "        0.        , 0.05263158, 0.04682929, 0.04499213, 0.        ,\n",
              "        0.        , 0.07647191, 0.        , 0.        , 0.05006262,\n",
              "        0.        , 0.        , 0.06131393, 0.        ],\n",
              "       [0.        , 0.08006408, 0.06052275, 0.05913124, 0.        ,\n",
              "        0.07161149, 0.06362848, 0.        , 0.12725695, 0.20801257,\n",
              "        0.0836242 , 0.06933752, 0.06537205, 0.09245003, 0.        ,\n",
              "        0.        , 0.06362848, 0.05661385, 0.05439283, 0.        ,\n",
              "        0.        , 0.09245003, 0.        , 0.        , 0.06052275,\n",
              "        0.        , 0.        , 0.07412493, 0.        ],\n",
              "       [0.        , 0.13245324, 0.10012523, 0.1467348 , 0.        ,\n",
              "        0.11846978, 0.10526316, 0.12725695, 0.        , 0.11470787,\n",
              "        0.13834289, 0.05735393, 0.10814761, 0.07647191, 0.        ,\n",
              "        0.05129892, 0.10526316, 0.09365858, 0.13497638, 0.05735393,\n",
              "        0.        , 0.07647191, 0.        , 0.        , 0.05006262,\n",
              "        0.        , 0.        , 0.12262787, 0.07647191],\n",
              "       [0.        , 0.07216878, 0.10910895, 0.05330018, 0.06933752,\n",
              "        0.12909944, 0.05735393, 0.20801257, 0.11470787, 0.        ,\n",
              "        0.15075567, 0.1875    , 0.05892557, 0.16666667, 0.06454972,\n",
              "        0.        , 0.05735393, 0.05103104, 0.04902903, 0.0625    ,\n",
              "        0.06933752, 0.16666667, 0.        , 0.        , 0.16366342,\n",
              "        0.        , 0.05892557, 0.06681531, 0.        ],\n",
              "       [0.        , 0.08703883, 0.13159034, 0.12856487, 0.        ,\n",
              "        0.07784989, 0.20751434, 0.0836242 , 0.13834289, 0.15075567,\n",
              "        0.        , 0.15075567, 0.14213381, 0.10050378, 0.        ,\n",
              "        0.        , 0.06917145, 0.06154575, 0.05913124, 0.        ,\n",
              "        0.        , 0.10050378, 0.        , 0.        , 0.06579517,\n",
              "        0.        , 0.        , 0.16116459, 0.        ],\n",
              "       [0.16666667, 0.07216878, 0.10910895, 0.05330018, 0.06933752,\n",
              "        0.12909944, 0.05735393, 0.06933752, 0.05735393, 0.1875    ,\n",
              "        0.15075567, 0.        , 0.05892557, 0.25      , 0.06454972,\n",
              "        0.        , 0.05735393, 0.10206207, 0.04902903, 0.        ,\n",
              "        0.06933752, 0.16666667, 0.        , 0.        , 0.16366342,\n",
              "        0.        , 0.11785113, 0.06681531, 0.        ],\n",
              "       [0.23570226, 0.13608276, 0.15430335, 0.30151134, 0.19611614,\n",
              "        0.12171612, 0.05407381, 0.06537205, 0.10814761, 0.05892557,\n",
              "        0.14213381, 0.05892557, 0.        , 0.15713484, 0.18257419,\n",
              "        0.        , 0.16222142, 0.09622504, 0.04622502, 0.        ,\n",
              "        0.        , 0.15713484, 0.13608276, 0.14213381, 0.1028689 ,\n",
              "        0.23570226, 0.05555556, 0.44095855, 0.07856742],\n",
              "       [0.        , 0.09622504, 0.0727393 , 0.14213381, 0.09245003,\n",
              "        0.17213259, 0.07647191, 0.09245003, 0.07647191, 0.16666667,\n",
              "        0.10050378, 0.25      , 0.15713484, 0.        , 0.0860663 ,\n",
              "        0.        , 0.07647191, 0.06804138, 0.06537205, 0.        ,\n",
              "        0.09245003, 0.22222222, 0.        , 0.        , 0.21821789,\n",
              "        0.        , 0.23570226, 0.17817416, 0.        ],\n",
              "       [0.0860663 , 0.        , 0.        , 0.05504819, 0.14322297,\n",
              "        0.06666667, 0.        , 0.        , 0.        , 0.06454972,\n",
              "        0.        , 0.06454972, 0.18257419, 0.0860663 , 0.        ,\n",
              "        0.05773503, 0.        , 0.        , 0.05063697, 0.        ,\n",
              "        0.14322297, 0.0860663 , 0.        , 0.07784989, 0.11268723,\n",
              "        0.0860663 , 0.06085806, 0.06900656, 0.        ],\n",
              "       [0.        , 0.12909944, 0.        , 0.28603878, 0.        ,\n",
              "        0.        , 0.        , 0.        , 0.05129892, 0.        ,\n",
              "        0.        , 0.        , 0.        , 0.        , 0.05773503,\n",
              "        0.        , 0.15389675, 0.        , 0.0877058 , 0.        ,\n",
              "        0.        , 0.        , 0.        , 0.        , 0.        ,\n",
              "        0.        , 0.        , 0.        , 0.        ],\n",
              "       [0.        , 0.19867985, 0.15018785, 0.24455799, 0.06362848,\n",
              "        0.11846978, 0.05263158, 0.06362848, 0.10526316, 0.05735393,\n",
              "        0.06917145, 0.05735393, 0.16222142, 0.07647191, 0.        ,\n",
              "        0.15389675, 0.        , 0.09365858, 0.04499213, 0.        ,\n",
              "        0.        , 0.15294382, 0.        , 0.06917145, 0.15018785,\n",
              "        0.07647191, 0.05407381, 0.1839418 , 0.07647191],\n",
              "       [0.06804138, 0.11785113, 0.08908708, 0.08703883, 0.05661385,\n",
              "        0.10540926, 0.04682929, 0.05661385, 0.09365858, 0.05103104,\n",
              "        0.06154575, 0.10206207, 0.09622504, 0.06804138, 0.        ,\n",
              "        0.        , 0.09365858, 0.        , 0.04003204, 0.        ,\n",
              "        0.        , 0.06804138, 0.        , 0.        , 0.04454354,\n",
              "        0.        , 0.04811252, 0.10910895, 0.06804138],\n",
              "       [0.        , 0.05661385, 0.04279605, 0.0418121 , 0.        ,\n",
              "        0.15191091, 0.04499213, 0.05439283, 0.13497638, 0.04902903,\n",
              "        0.05913124, 0.04902903, 0.04622502, 0.06537205, 0.05063697,\n",
              "        0.0877058 , 0.04499213, 0.04003204, 0.        , 0.1470871 ,\n",
              "        0.05439283, 0.06537205, 0.        , 0.        , 0.04279605,\n",
              "        0.        , 0.04622502, 0.10482848, 0.        ],\n",
              "       [0.        , 0.        , 0.        , 0.        , 0.        ,\n",
              "        0.        , 0.        , 0.        , 0.05735393, 0.0625    ,\n",
              "        0.        , 0.        , 0.        , 0.        , 0.        ,\n",
              "        0.        , 0.        , 0.        , 0.1470871 , 0.        ,\n",
              "        0.        , 0.        , 0.        , 0.        , 0.        ,\n",
              "        0.        , 0.05892557, 0.        , 0.        ],\n",
              "       [0.        , 0.08006408, 0.        , 0.        , 0.07692308,\n",
              "        0.21483446, 0.        , 0.        , 0.        , 0.06933752,\n",
              "        0.        , 0.06933752, 0.        , 0.09245003, 0.14322297,\n",
              "        0.        , 0.        , 0.        , 0.05439283, 0.        ,\n",
              "        0.        , 0.09245003, 0.        , 0.        , 0.12104551,\n",
              "        0.        , 0.13074409, 0.07412493, 0.        ],\n",
              "       [0.        , 0.09622504, 0.14547859, 0.07106691, 0.09245003,\n",
              "        0.17213259, 0.07647191, 0.09245003, 0.07647191, 0.16666667,\n",
              "        0.10050378, 0.16666667, 0.15713484, 0.22222222, 0.0860663 ,\n",
              "        0.        , 0.15294382, 0.06804138, 0.06537205, 0.        ,\n",
              "        0.09245003, 0.        , 0.        , 0.        , 0.29095719,\n",
              "        0.        , 0.07856742, 0.08908708, 0.        ],\n",
              "       [0.        , 0.        , 0.        , 0.        , 0.16012815,\n",
              "        0.        , 0.        , 0.        , 0.        , 0.        ,\n",
              "        0.        , 0.        , 0.13608276, 0.        , 0.        ,\n",
              "        0.        , 0.        , 0.        , 0.        , 0.        ,\n",
              "        0.        , 0.        , 0.        , 0.17407766, 0.        ,\n",
              "        0.19245009, 0.        , 0.15430335, 0.        ],\n",
              "       [0.        , 0.        , 0.        , 0.        , 0.1672484 ,\n",
              "        0.        , 0.        , 0.        , 0.        , 0.        ,\n",
              "        0.        , 0.        , 0.14213381, 0.        , 0.07784989,\n",
              "        0.        , 0.06917145, 0.        , 0.        , 0.        ,\n",
              "        0.        , 0.        , 0.17407766, 0.        , 0.        ,\n",
              "        0.30151134, 0.14213381, 0.16116459, 0.        ],\n",
              "       [0.        , 0.06299408, 0.0952381 , 0.04652421, 0.12104551,\n",
              "        0.16903085, 0.05006262, 0.06052275, 0.05006262, 0.16366342,\n",
              "        0.06579517, 0.16366342, 0.1028689 , 0.21821789, 0.11268723,\n",
              "        0.        , 0.15018785, 0.04454354, 0.04279605, 0.        ,\n",
              "        0.12104551, 0.29095719, 0.        , 0.        , 0.        ,\n",
              "        0.        , 0.1028689 , 0.11664237, 0.        ],\n",
              "       [0.11111111, 0.        , 0.        , 0.07106691, 0.2773501 ,\n",
              "        0.        , 0.        , 0.        , 0.        , 0.        ,\n",
              "        0.        , 0.        , 0.23570226, 0.        , 0.0860663 ,\n",
              "        0.        , 0.07647191, 0.        , 0.        , 0.        ,\n",
              "        0.        , 0.        , 0.19245009, 0.30151134, 0.        ,\n",
              "        0.        , 0.07856742, 0.26726124, 0.        ],\n",
              "       [0.        , 0.13608276, 0.        , 0.10050378, 0.13074409,\n",
              "        0.06085806, 0.        , 0.        , 0.        , 0.05892557,\n",
              "        0.        , 0.11785113, 0.05555556, 0.23570226, 0.06085806,\n",
              "        0.        , 0.05407381, 0.04811252, 0.04622502, 0.05892557,\n",
              "        0.13074409, 0.07856742, 0.        , 0.14213381, 0.1028689 ,\n",
              "        0.07856742, 0.        , 0.06299408, 0.        ],\n",
              "       [0.08908708, 0.15430335, 0.29160592, 0.17094086, 0.14824986,\n",
              "        0.20701967, 0.06131393, 0.07412493, 0.12262787, 0.06681531,\n",
              "        0.16116459, 0.06681531, 0.44095855, 0.17817416, 0.06900656,\n",
              "        0.        , 0.1839418 , 0.10910895, 0.10482848, 0.        ,\n",
              "        0.07412493, 0.08908708, 0.15430335, 0.16116459, 0.11664237,\n",
              "        0.26726124, 0.06299408, 0.        , 0.08908708],\n",
              "       [0.        , 0.09622504, 0.0727393 , 0.07106691, 0.        ,\n",
              "        0.0860663 , 0.        , 0.        , 0.07647191, 0.        ,\n",
              "        0.        , 0.        , 0.07856742, 0.        , 0.        ,\n",
              "        0.        , 0.07647191, 0.06804138, 0.        , 0.        ,\n",
              "        0.        , 0.        , 0.        , 0.        , 0.        ,\n",
              "        0.        , 0.        , 0.08908708, 0.        ]])"
            ]
          },
          "metadata": {},
          "execution_count": 47
        }
      ]
    },
    {
      "cell_type": "markdown",
      "source": [
        "Dari sentence tadi, akan dibuat matrix similary antar kalimat, dimana bentuknya adalah sebuah n x n matrix dengan n adalah jumlah kalimat."
      ],
      "metadata": {
        "id": "YQPq-8pXeE-B"
      }
    },
    {
      "cell_type": "code",
      "source": [
        "sentence_similarity_graph = nx.from_numpy_array(sentence_similarity_martix)"
      ],
      "metadata": {
        "id": "9rADp31O0sXU"
      },
      "execution_count": 48,
      "outputs": []
    },
    {
      "cell_type": "code",
      "source": [
        "scores = nx.pagerank(sentence_similarity_graph)\n",
        "scores"
      ],
      "metadata": {
        "colab": {
          "base_uri": "https://localhost:8080/"
        },
        "id": "g2wx09mQ0wWb",
        "outputId": "9dc6c889-63fb-4592-f774-7ccf3c6da90d"
      },
      "execution_count": 49,
      "outputs": [
        {
          "output_type": "execute_result",
          "data": {
            "text/plain": [
              "{0: 0.02043991102987876,\n",
              " 1: 0.04338972941159108,\n",
              " 2: 0.035678228518778665,\n",
              " 3: 0.04944682072397546,\n",
              " 4: 0.03822620179920833,\n",
              " 5: 0.046593143212991586,\n",
              " 6: 0.024413394124403173,\n",
              " 7: 0.026205497830996318,\n",
              " 8: 0.03683466851248978,\n",
              " 9: 0.039407135755767424,\n",
              " 10: 0.034417285639524876,\n",
              " 11: 0.040487234361534494,\n",
              " 12: 0.06202248233822132,\n",
              " 13: 0.04703075049342941,\n",
              " 14: 0.028540041491896158,\n",
              " 15: 0.016930687444992244,\n",
              " 16: 0.04366362874916645,\n",
              " 17: 0.029407970885699852,\n",
              " 18: 0.029860761181353442,\n",
              " 19: 0.010491633784605704,\n",
              " 20: 0.023779515927556654,\n",
              " 21: 0.044227016946268335,\n",
              " 22: 0.017977893430345497,\n",
              " 23: 0.024885561076618268,\n",
              " 24: 0.04101810688059901,\n",
              " 25: 0.03234622370432349,\n",
              " 26: 0.033012422755995814,\n",
              " 27: 0.06335109813953334,\n",
              " 28: 0.015914953848255326}"
            ]
          },
          "metadata": {},
          "execution_count": 49
        }
      ]
    },
    {
      "cell_type": "code",
      "source": [
        "ranked_sentence = sorted(((scores[i],s) for i,s in enumerate(sentences)), reverse=True)\n",
        "print(\"Indexes of top 1 ranked_sentence\", ranked_sentence[0])\n",
        "print(\"Indexes of top 2 ranked_sentence\", ranked_sentence[1])\n",
        "print(\"Indexes of top 3 ranked_sentence\", ranked_sentence[2])"
      ],
      "metadata": {
        "colab": {
          "base_uri": "https://localhost:8080/"
        },
        "id": "DVhoZjp61GGN",
        "outputId": "5f545569-1b6f-41b8-9f0e-5e605abab08b"
      },
      "execution_count": 50,
      "outputs": [
        {
          "output_type": "stream",
          "name": "stdout",
          "text": [
            "Indexes of top 1 ranked_sentence (0.06335109813953334, ['The', 'analysis', 'of', 'the', 'Tourism@', 'trade', 'fair', 'database', 'in', 'Section', '4', 'reveals', 'the', 'important', 'innovative', 'activity', 'that', 'occurs', 'in', 'the', 'tourism', 'industry'])\n",
            "Indexes of top 2 ranked_sentence (0.06202248233822132, ['The', 'aim', 'is', 'to', 'capture', 'the', 'evolution', 'of', 'innovative', 'activity', 'in', 'the', 'tourism', 'industry', 'through', 'the', 'empirical', 'analysis', 'of', 'the', 'Tourism@', 'event', 'and', 'the', 'annual', 'Tourism@', 'Awards', 'for', 'best', 'projects'])\n",
            "Indexes of top 3 ranked_sentence (0.04944682072397546, ['Each', 'edition', 'of', 'Tourism@', 'includes', 'a', 'competition', 'aiming', 'at', 'awarding', 'the', 'best', 'projects', 'in', 'terms', 'of', 'creativity', 'and', 'commitment', 'to', 'developing', 'and', 'implementing', 'new', 'technologies', 'or', 'new', 'uses', 'of', 'ICT', 'in', 'the', 'tourism', 'industry'])\n"
          ]
        }
      ]
    },
    {
      "cell_type": "markdown",
      "source": [
        "Kita dapat melihat skor dari tiap kalimat menggunakan function-function dari library `networkx`, dan juga akan melihat 3 kalimat dengan skor tertinggi. Ketiganya memiliki skor 0.0633, 0.062, dan 0.0494. Ketiga kalimat ini akan digabungkan menjadi 1 paragraf untuk hasil summarizationnya."
      ],
      "metadata": {
        "id": "5jQ3Ayvke1Yp"
      }
    },
    {
      "cell_type": "code",
      "source": [
        "summarize_text = []\n",
        "\n",
        "for i in range(3):\n",
        "      summarize_text.append(\" \".join(ranked_sentence[i][1]))\n",
        "\n",
        "print(\"Summarize Text: \\n\", \". \".join(summarize_text))"
      ],
      "metadata": {
        "colab": {
          "base_uri": "https://localhost:8080/"
        },
        "id": "mGXLK8zz1MSI",
        "outputId": "d80d6209-d8cb-4229-ceda-e49b1b8900c0"
      },
      "execution_count": 53,
      "outputs": [
        {
          "output_type": "stream",
          "name": "stdout",
          "text": [
            "Summarize Text: \n",
            " The analysis of the Tourism@ trade fair database in Section 4 reveals the important innovative activity that occurs in the tourism industry. The aim is to capture the evolution of innovative activity in the tourism industry through the empirical analysis of the Tourism@ event and the annual Tourism@ Awards for best projects. Each edition of Tourism@ includes a competition aiming at awarding the best projects in terms of creativity and commitment to developing and implementing new technologies or new uses of ICT in the tourism industry\n"
          ]
        }
      ]
    },
    {
      "cell_type": "markdown",
      "source": [
        "Hasil teks summarization dengan 3 kalimat adalah:<br><br>\n",
        " The analysis of the Tourism@ trade fair database in Section 4 reveals the important innovative activity that occurs in the tourism industry. The aim is to capture the evolution of innovative activity in the tourism industry through the empirical analysis of the Tourism@ event and the annual Tourism@ Awards for best projects. Each edition of Tourism@ includes a competition aiming at awarding the best projects in terms of creativity and commitment to developing and implementing new technologies or new uses of ICT in the tourism industry\n"
      ],
      "metadata": {
        "id": "bDAEMLiEfQpY"
      }
    }
  ]
}